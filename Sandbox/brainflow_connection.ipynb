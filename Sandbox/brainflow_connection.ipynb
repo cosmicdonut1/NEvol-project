{
 "cells": [
  {
   "cell_type": "code",
   "execution_count": 6,
   "metadata": {},
   "outputs": [],
   "source": [
    "import pandas as pd\n",
    "import numpy as np"
   ]
  },
  {
   "cell_type": "code",
   "execution_count": null,
   "metadata": {},
   "outputs": [],
   "source": []
  },
  {
   "cell_type": "code",
   "execution_count": 5,
   "metadata": {},
   "outputs": [
    {
     "ename": "BrainFlowError",
     "evalue": "INVALID_ARGUMENTS_ERROR:13 unable to determine number of elements in file",
     "output_type": "error",
     "traceback": [
      "\u001b[1;31m---------------------------------------------------------------------------\u001b[0m",
      "\u001b[1;31mBrainFlowError\u001b[0m                            Traceback (most recent call last)",
      "Cell \u001b[1;32mIn[5], line 1\u001b[0m\n\u001b[1;32m----> 1\u001b[0m restored_data \u001b[38;5;241m=\u001b[39m \u001b[43mDataFilter\u001b[49m\u001b[38;5;241;43m.\u001b[39;49m\u001b[43mread_file\u001b[49m\u001b[43m(\u001b[49m\u001b[38;5;124;43m'\u001b[39;49m\u001b[38;5;124;43mtest.csv\u001b[39;49m\u001b[38;5;124;43m'\u001b[39;49m\u001b[43m)\u001b[49m\n",
      "File \u001b[1;32mc:\\Users\\iamth\\Desktop\\Obsidian Sync\\Nevo Repo\\venv\\lib\\site-packages\\brainflow\\data_filter.py:1348\u001b[0m, in \u001b[0;36mDataFilter.read_file\u001b[1;34m(cls, file_name)\u001b[0m\n\u001b[0;32m   1346\u001b[0m res \u001b[38;5;241m=\u001b[39m DataHandlerDLL\u001b[38;5;241m.\u001b[39mget_instance()\u001b[38;5;241m.\u001b[39mget_num_elements_in_file(file, num_elements)\n\u001b[0;32m   1347\u001b[0m \u001b[38;5;28;01mif\u001b[39;00m res \u001b[38;5;241m!=\u001b[39m BrainFlowExitCodes\u001b[38;5;241m.\u001b[39mSTATUS_OK\u001b[38;5;241m.\u001b[39mvalue:\n\u001b[1;32m-> 1348\u001b[0m     \u001b[38;5;28;01mraise\u001b[39;00m BrainFlowError(\u001b[38;5;124m'\u001b[39m\u001b[38;5;124munable to determine number of elements in file\u001b[39m\u001b[38;5;124m'\u001b[39m, res)\n\u001b[0;32m   1350\u001b[0m data_arr \u001b[38;5;241m=\u001b[39m numpy\u001b[38;5;241m.\u001b[39mzeros(num_elements[\u001b[38;5;241m0\u001b[39m])\u001b[38;5;241m.\u001b[39mastype(numpy\u001b[38;5;241m.\u001b[39mfloat64)\n\u001b[0;32m   1351\u001b[0m num_rows \u001b[38;5;241m=\u001b[39m numpy\u001b[38;5;241m.\u001b[39mzeros(\u001b[38;5;241m1\u001b[39m)\u001b[38;5;241m.\u001b[39mastype(numpy\u001b[38;5;241m.\u001b[39mint32)\n",
      "\u001b[1;31mBrainFlowError\u001b[0m: INVALID_ARGUMENTS_ERROR:13 unable to determine number of elements in file"
     ]
    }
   ],
   "source": [
    "restored_data = DataFilter.read_file('test.csv')"
   ]
  },
  {
   "cell_type": "code",
   "execution_count": null,
   "metadata": {},
   "outputs": [],
   "source": []
  }
 ],
 "metadata": {
  "kernelspec": {
   "display_name": "venv",
   "language": "python",
   "name": "python3"
  },
  "language_info": {
   "codemirror_mode": {
    "name": "ipython",
    "version": 3
   },
   "file_extension": ".py",
   "mimetype": "text/x-python",
   "name": "python",
   "nbconvert_exporter": "python",
   "pygments_lexer": "ipython3",
   "version": "3.10.9"
  }
 },
 "nbformat": 4,
 "nbformat_minor": 2
}
