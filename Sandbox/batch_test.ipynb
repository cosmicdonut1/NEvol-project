{
 "cells": [
  {
   "cell_type": "code",
   "execution_count": 35,
   "metadata": {},
   "outputs": [
    {
     "name": "stdout",
     "output_type": "stream",
     "text": [
      "Current working directory: c:\\Users\\iamth\\Desktop\\Obsidian Sync\\Nevo Repo\n"
     ]
    }
   ],
   "source": [
    "import argparse\n",
    "import time\n",
    "import numpy as np\n",
    "import pandas as pd\n",
    "\n",
    "from brainflow.board_shim import BoardShim, BrainFlowInputParams, LogLevels, BoardIds\n",
    "from brainflow.data_filter import DataFilter\n",
    "\n",
    "import os\n",
    "import time\n",
    "\n",
    "current_directory = os.getcwd()\n",
    "print(\"Current working directory:\", current_directory)"
   ]
  },
  {
   "cell_type": "code",
   "execution_count": 2,
   "metadata": {},
   "outputs": [
    {
     "data": {
      "text/plain": [
       "{'accel_channels': [17, 18, 19],\n",
       " 'analog_channels': [27, 28, 29],\n",
       " 'ecg_channels': [1, 2, 3, 4, 5, 6, 7, 8, 9, 10, 11, 12, 13, 14, 15, 16],\n",
       " 'eeg_channels': [1, 2, 3, 4, 5, 6, 7, 8, 9, 10, 11, 12, 13, 14, 15, 16],\n",
       " 'eeg_names': 'Fp1,Fp2,C3,C4,P7,P8,O1,O2,F7,F8,F3,F4,T7,T8,P3,P4',\n",
       " 'emg_channels': [1, 2, 3, 4, 5, 6, 7, 8, 9, 10, 11, 12, 13, 14, 15, 16],\n",
       " 'eog_channels': [1, 2, 3, 4, 5, 6, 7, 8, 9, 10, 11, 12, 13, 14, 15, 16],\n",
       " 'marker_channel': 31,\n",
       " 'name': 'CytonDaisy',\n",
       " 'num_rows': 32,\n",
       " 'other_channels': [20, 21, 22, 23, 24, 25, 26],\n",
       " 'package_num_channel': 0,\n",
       " 'sampling_rate': 125,\n",
       " 'timestamp_channel': 30}"
      ]
     },
     "execution_count": 2,
     "metadata": {},
     "output_type": "execute_result"
    }
   ],
   "source": [
    "# Define the board configuration\n",
    "\n",
    "def create_brainflow_board():\n",
    "    # Initialize BrainFlow board\n",
    "    params = BrainFlowInputParams()\n",
    "    board = BoardShim(BoardIds.CYTON_DAISY_BOARD.value, params)\n",
    "    return board\n",
    "\n",
    "board = create_brainflow_board()\n",
    "board.get_board_descr(BoardIds.CYTON_DAISY_BOARD)"
   ]
  },
  {
   "cell_type": "code",
   "execution_count": 3,
   "metadata": {},
   "outputs": [],
   "source": [
    "# Read EEG data from CSV file using Pandas or other libraries\n",
    "def read_data_from_csv(csv_file):\n",
    "    data = pd.read_csv(csv_file)\n",
    "    return data\n",
    "\n",
    "# Read EEG data from TXT file as shown in Samples/test_raw.txt"
   ]
  },
  {
   "cell_type": "code",
   "execution_count": 4,
   "metadata": {},
   "outputs": [],
   "source": [
    "def read_data_from_txt(txt_file):\n",
    "    header = None\n",
    "    data_lines = []\n",
    "\n",
    "    with open(txt_file, 'r') as file:\n",
    "        lines = file.readlines()\n",
    "\n",
    "        # Find header and data lines\n",
    "        for line in lines:\n",
    "            if line.startswith('%OpenBCI Raw EXG Data'):\n",
    "                header = line.strip()\n",
    "            elif not line.startswith('%'):\n",
    "                data_lines.append(line.strip())\n",
    "\n",
    "    return header, data_lines"
   ]
  },
  {
   "cell_type": "code",
   "execution_count": 17,
   "metadata": {},
   "outputs": [],
   "source": [
    "def list_to_dataframe(data_list):\n",
    "    # Split each element of the list by comma and create a list of lists\n",
    "    split_data = [line.split(',') for line in data_list]\n",
    "    \n",
    "    # Use the first element of the split_data list as the header\n",
    "    header = split_data[0]\n",
    "\n",
    "    # Remove the header from the split_data list\n",
    "    data = split_data[1:]\n",
    "\n",
    "    # Convert the list of lists to a DataFrame with the specified header\n",
    "    df = pd.DataFrame(data, columns=header)\n",
    "\n",
    "    return df"
   ]
  },
  {
   "cell_type": "code",
   "execution_count": 1,
   "metadata": {},
   "outputs": [
    {
     "ename": "NameError",
     "evalue": "name 'read_data_from_txt' is not defined",
     "output_type": "error",
     "traceback": [
      "\u001b[1;31m---------------------------------------------------------------------------\u001b[0m",
      "\u001b[1;31mNameError\u001b[0m                                 Traceback (most recent call last)",
      "Cell \u001b[1;32mIn[1], line 8\u001b[0m\n\u001b[0;32m      5\u001b[0m file_path \u001b[38;5;241m=\u001b[39m \u001b[38;5;124m\"\u001b[39m\u001b[38;5;124mSamples/test_raw.txt\u001b[39m\u001b[38;5;124m\"\u001b[39m\n\u001b[0;32m      7\u001b[0m \u001b[38;5;28;01mif\u001b[39;00m mode \u001b[38;5;241m==\u001b[39m \u001b[38;5;124m\"\u001b[39m\u001b[38;5;124mtxt\u001b[39m\u001b[38;5;124m\"\u001b[39m:\n\u001b[1;32m----> 8\u001b[0m     txt_header, data_lines \u001b[38;5;241m=\u001b[39m \u001b[43mread_data_from_txt\u001b[49m(file_path)\n\u001b[0;32m      9\u001b[0m     df \u001b[38;5;241m=\u001b[39m list_to_dataframe(data_lines)\n\u001b[0;32m     11\u001b[0m     \u001b[38;5;66;03m# drop the last column \"Timstamp(Formatted)\"\u001b[39;00m\n",
      "\u001b[1;31mNameError\u001b[0m: name 'read_data_from_txt' is not defined"
     ]
    }
   ],
   "source": [
    "# mode = 'csv'\n",
    "# file_path = \"Samples/test_raw.csv\"\n",
    "\n",
    "mode = 'txt'\n",
    "file_path = \"Samples/test_raw.txt\"\n",
    "\n",
    "if mode == \"txt\":\n",
    "    txt_header, data_lines = read_data_from_txt(file_path)\n",
    "    df = list_to_dataframe(data_lines)\n",
    "\n",
    "    # drop the last column \"Timstamp(Formatted)\"\n",
    "    df.drop(df.columns[-1], axis=1, inplace=True)\n",
    "\n",
    "    # remove first two rows from df - as I see sample index is mentioned as 0 and 46.0 which is strange\n",
    "    # df = df.iloc[2:]\n",
    "\n",
    "elif mode == \"csv\":\n",
    "    data = read_data_from_csv(file_path)\n",
    "    header = data.columns\n",
    "    data_lines = data.values.tolist()\n",
    "    df = pd.DataFrame(data_lines)\n",
    "    \n",
    "    # Customized for Cyton Daisy, should be changed if device used is different\n",
    "    df.columns = ['Sample Index', ' EXG Channel 0', ' EXG Channel 1', ' EXG Channel 2',\n",
    "       ' EXG Channel 3', ' EXG Channel 4', ' EXG Channel 5', ' EXG Channel 6',\n",
    "       ' EXG Channel 7', ' EXG Channel 8', ' EXG Channel 9', ' EXG Channel 10',\n",
    "       ' EXG Channel 11', ' EXG Channel 12', ' EXG Channel 13',\n",
    "       ' EXG Channel 14', ' EXG Channel 15', ' Accel Channel 0',\n",
    "       ' Accel Channel 1', ' Accel Channel 2', ' Other', ' Other', ' Other',\n",
    "       ' Other', ' Other', ' Other', ' Other', ' Analog Channel 0',\n",
    "       ' Analog Channel 1', ' Analog Channel 2', ' Timestamp', ' Other']\n",
    "\n",
    "df.head()"
   ]
  },
  {
   "cell_type": "code",
   "execution_count": 38,
   "metadata": {},
   "outputs": [
    {
     "name": "stdout",
     "output_type": "stream",
     "text": [
      "Total number of rows in df:  1151\n",
      "Sampling Rate from the board:  125\n",
      "Total seconds of data from the df:  9.208\n"
     ]
    }
   ],
   "source": [
    "board = create_brainflow_board()\n",
    "sampling_rate = board.get_sampling_rate(BoardIds.CYTON_DAISY_BOARD)\n",
    "num_of_seconds = len(df) / sampling_rate\n",
    "\n",
    "print(\"Total number of rows in df: \", len(df))\n",
    "print(\"Sampling Rate from the board: \", sampling_rate)\n",
    "print(\"Total seconds of data from the df: \", num_of_seconds)"
   ]
  },
  {
   "cell_type": "code",
   "execution_count": 39,
   "metadata": {},
   "outputs": [
    {
     "name": "stdout",
     "output_type": "stream",
     "text": [
      "Rows from 0 to 124\n",
      "Rows from 125 to 249\n",
      "Rows from 250 to 374\n",
      "Rows from 375 to 499\n",
      "Rows from 500 to 624\n",
      "Rows from 625 to 749\n",
      "Rows from 750 to 874\n",
      "Rows from 875 to 999\n",
      "Rows from 1000 to 1124\n"
     ]
    }
   ],
   "source": [
    "def print_rows_in_intervals(df, sampling_rate):\n",
    "    num_of_seconds = len(df) // sampling_rate\n",
    "\n",
    "    for second in range(num_of_seconds):\n",
    "        start_index = second * sampling_rate\n",
    "        end_index = start_index + sampling_rate\n",
    "\n",
    "        print(\"Rows from\", start_index, \"to\", end_index - 1)\n",
    "        df.iloc[start_index:end_index].head()\n",
    "\n",
    "        time.sleep(1)  # Wait for 1 second before printing the next interval\n",
    "\n",
    "# Example usage:\n",
    "# Assume df and sampling_rate are already defined\n",
    "print_rows_in_intervals(df, sampling_rate)"
   ]
  }
 ],
 "metadata": {
  "kernelspec": {
   "display_name": "venv",
   "language": "python",
   "name": "python3"
  },
  "language_info": {
   "codemirror_mode": {
    "name": "ipython",
    "version": 3
   },
   "file_extension": ".py",
   "mimetype": "text/x-python",
   "name": "python",
   "nbconvert_exporter": "python",
   "pygments_lexer": "ipython3",
   "version": "3.10.9"
  }
 },
 "nbformat": 4,
 "nbformat_minor": 2
}
