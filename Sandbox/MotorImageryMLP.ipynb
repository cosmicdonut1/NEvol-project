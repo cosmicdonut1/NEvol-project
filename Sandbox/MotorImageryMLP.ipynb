{
 "cells": [
  {
   "cell_type": "code",
   "execution_count": 1,
   "id": "initial_id",
   "metadata": {
    "ExecuteTime": {
     "end_time": "2024-06-05T13:03:48.546622Z",
     "start_time": "2024-06-05T13:03:48.525610Z"
    }
   },
   "outputs": [],
   "source": [
    "import sys\n",
    "sys.path.append(\"..\")\n",
    "\n",
    "from utils import load_buffers,load_task_markers\n",
    "import pandas as pd\n",
    "import config\n",
    "import os\n",
    "import numpy as np\n",
    "\n",
    "import mne\n",
    "from mne import create_info\n",
    "from mne.epochs import EpochsArray\n",
    "from mne.decoding import Vectorizer\n",
    "\n",
    "from sklearn.ensemble import RandomForestClassifier\n",
    "from sklearn.pipeline import make_pipeline\n",
    "from sklearn.model_selection import train_test_split\n",
    "from matplotlib import pyplot as plt\n",
    "\n",
    "import torch\n",
    "import torch.nn as nn\n",
    "from torch.utils.data import Dataset, DataLoader\n",
    "from torch.optim import Adam\n",
    "\n",
    "import pickle\n",
    "%matplotlib qt\n",
    "# %matplotlib inline"
   ]
  },
  {
   "cell_type": "code",
   "execution_count": 2,
   "id": "1f86b0cd2a3766c7",
   "metadata": {
    "ExecuteTime": {
     "end_time": "2024-06-04T20:31:19.184587Z",
     "start_time": "2024-06-04T20:31:19.172982Z"
    }
   },
   "outputs": [],
   "source": [
    "# def collate_data(main_folder):\n",
    "#     all_task_data = []\n",
    "#     all_signal_data = []\n",
    "#     session_number = 1\n",
    "#     \n",
    "#     for sub_dir in os.listdir(main_folder):\n",
    "#         sub_dir_path = os.path.join(main_folder, sub_dir)\n",
    "#         if os.path.isdir(sub_dir_path):\n",
    "#             task_data_path = os.path.join(sub_dir_path, 'task_data', 'task_markers.npz')\n",
    "#             signal_data_folder = os.path.join(sub_dir_path, 'signal_data')\n",
    "#             \n",
    "#             if os.path.exists(task_data_path) and os.path.exists(signal_data_folder):\n",
    "#                 df_tasks = load_task_markers(task_data_path)\n",
    "#                 df_buffers = load_buffers(signal_data_folder)\n",
    "#                 \n",
    "#                 # Add session_number column\n",
    "#                 df_tasks['session_number'] = session_number\n",
    "#                 df_buffers['session_number'] = session_number\n",
    "#                 \n",
    "#                 all_task_data.append(df_tasks)\n",
    "#                 all_signal_data.append(df_buffers)\n",
    "#                 \n",
    "#                 session_number += 1\n",
    "#     \n",
    "#     if all_task_data:\n",
    "#         combined_tasks = pd.concat(all_task_data, ignore_index=True)\n",
    "#         combined_tasks = combined_tasks.sort_values('timestamps').reset_index(drop=True)\n",
    "#     else:\n",
    "#         combined_tasks = pd.DataFrame()\n",
    "#     \n",
    "#     if all_signal_data:\n",
    "#         combined_buffers = pd.concat(all_signal_data, ignore_index=True)\n",
    "#         combined_buffers = combined_buffers.sort_values('timestamps').reset_index(drop=True)\n",
    "#     else:\n",
    "#         combined_buffers = pd.DataFrame()\n",
    "#     \n",
    "#     return combined_tasks, combined_buffers"
   ]
  },
  {
   "cell_type": "code",
   "execution_count": 3,
   "id": "c267fd8158bdd7a2",
   "metadata": {
    "ExecuteTime": {
     "end_time": "2024-06-04T20:31:20.825664Z",
     "start_time": "2024-06-04T20:31:20.810077Z"
    }
   },
   "outputs": [],
   "source": [
    "# # Define the main folder path\n",
    "# main_folder_path = 'processed_data/motor_imagery/'\n",
    "# \n",
    "# # Collate the data\n",
    "# df_tasks, df_buffers = collate_data(main_folder_path)"
   ]
  },
  {
   "cell_type": "code",
   "execution_count": 4,
   "id": "e619d6fc8023276f",
   "metadata": {
    "ExecuteTime": {
     "end_time": "2024-06-04T09:34:42.442367Z",
     "start_time": "2024-06-04T09:34:42.426860Z"
    }
   },
   "outputs": [],
   "source": [
    "# df_buffers"
   ]
  },
  {
   "cell_type": "code",
   "execution_count": 4,
   "id": "e357ba0efaee48e8",
   "metadata": {
    "ExecuteTime": {
     "end_time": "2024-06-05T13:03:53.532196Z",
     "start_time": "2024-06-05T13:03:53.491485Z"
    }
   },
   "outputs": [
    {
     "name": "stdout",
     "output_type": "stream",
     "text": [
      "Reading signals and markers from signals from disk...\n"
     ]
    }
   ],
   "source": [
    "# load the task and signal files stored in the disk\n",
    "# Based on the task timestamps, subset the signals and annotate the events\n",
    "# create epoch data that includes the signal and events\n",
    "# use the epoch data to train a classifier\n",
    "# save the classifier model as a pickle file for prediction later\n",
    "\n",
    "# Load the .npz file for task\n",
    "file_path = '../processed_data/motor_imagery/2024-06-04_15-47-01/task_data/task_markers.npz'  # Replace with your file path\n",
    "df_tasks = load_task_markers(file_path)\n",
    "\n",
    "# Load the .npz file for buffer\n",
    "folder_path = '../processed_data/motor_imagery/signal_data/'\n",
    "df_buffers = load_buffers(folder_path)\n",
    "\n",
    "print(df_buffers)\n",
    "print(\"Reading signals and markers from signals from disk...\")\n",
    "\n",
    "df_buffers = df_buffers.sort_values('timestamps').reset_index(drop=True)\n",
    "df_tasks = df_tasks.sort_values('timestamps').reset_index(drop=True)"
   ]
  },
  {
   "cell_type": "code",
   "execution_count": 5,
   "id": "aaa77562ff89e29b",
   "metadata": {
    "ExecuteTime": {
     "end_time": "2024-06-05T13:03:55.846941Z",
     "start_time": "2024-06-05T13:03:55.834919Z"
    }
   },
   "outputs": [
    {
     "data": {
      "text/plain": [
       "(20000, 10)"
      ]
     },
     "execution_count": 5,
     "metadata": {},
     "output_type": "execute_result"
    }
   ],
   "source": [
    "df_buffers.shape"
   ]
  },
  {
   "cell_type": "code",
   "execution_count": 6,
   "id": "f1137cda0ce2f40d",
   "metadata": {
    "ExecuteTime": {
     "end_time": "2024-06-05T13:03:58.770208Z",
     "start_time": "2024-06-05T13:03:58.760471Z"
    }
   },
   "outputs": [],
   "source": [
    "df_buffers_raw = df_buffers.iloc[:,:config.device_details['relevant_channels_from_device']]\n",
    "df_buffers_raw = df_buffers_raw * 1e-6\n",
    "\n",
    "channel_names = config.device_details['channels']\n",
    "df_buffers_raw.columns = channel_names"
   ]
  },
  {
   "cell_type": "code",
   "execution_count": 7,
   "id": "a7f430aefb41f02d",
   "metadata": {
    "ExecuteTime": {
     "end_time": "2024-06-05T13:04:00.608929Z",
     "start_time": "2024-06-05T13:04:00.579912Z"
    }
   },
   "outputs": [
    {
     "data": {
      "text/html": [
       "<div>\n",
       "<style scoped>\n",
       "    .dataframe tbody tr th:only-of-type {\n",
       "        vertical-align: middle;\n",
       "    }\n",
       "\n",
       "    .dataframe tbody tr th {\n",
       "        vertical-align: top;\n",
       "    }\n",
       "\n",
       "    .dataframe thead th {\n",
       "        text-align: right;\n",
       "    }\n",
       "</style>\n",
       "<table border=\"1\" class=\"dataframe\">\n",
       "  <thead>\n",
       "    <tr style=\"text-align: right;\">\n",
       "      <th></th>\n",
       "      <th>Fz</th>\n",
       "      <th>C3</th>\n",
       "      <th>Cz</th>\n",
       "      <th>C4</th>\n",
       "      <th>Pz</th>\n",
       "      <th>PO7</th>\n",
       "      <th>Oz</th>\n",
       "      <th>PO8</th>\n",
       "    </tr>\n",
       "  </thead>\n",
       "  <tbody>\n",
       "    <tr>\n",
       "      <th>0</th>\n",
       "      <td>0.094346</td>\n",
       "      <td>0.091843</td>\n",
       "      <td>0.014162</td>\n",
       "      <td>0.015792</td>\n",
       "      <td>0.017804</td>\n",
       "      <td>0.016409</td>\n",
       "      <td>0.031363</td>\n",
       "      <td>0.028767</td>\n",
       "    </tr>\n",
       "    <tr>\n",
       "      <th>1</th>\n",
       "      <td>0.094320</td>\n",
       "      <td>0.091868</td>\n",
       "      <td>0.014199</td>\n",
       "      <td>0.015808</td>\n",
       "      <td>0.017853</td>\n",
       "      <td>0.016440</td>\n",
       "      <td>0.031323</td>\n",
       "      <td>0.028652</td>\n",
       "    </tr>\n",
       "    <tr>\n",
       "      <th>2</th>\n",
       "      <td>0.094310</td>\n",
       "      <td>0.091824</td>\n",
       "      <td>0.014208</td>\n",
       "      <td>0.015808</td>\n",
       "      <td>0.017915</td>\n",
       "      <td>0.016430</td>\n",
       "      <td>0.031530</td>\n",
       "      <td>0.028706</td>\n",
       "    </tr>\n",
       "    <tr>\n",
       "      <th>3</th>\n",
       "      <td>0.094348</td>\n",
       "      <td>0.091788</td>\n",
       "      <td>0.014211</td>\n",
       "      <td>0.015814</td>\n",
       "      <td>0.017976</td>\n",
       "      <td>0.016405</td>\n",
       "      <td>0.031820</td>\n",
       "      <td>0.028887</td>\n",
       "    </tr>\n",
       "    <tr>\n",
       "      <th>4</th>\n",
       "      <td>0.094417</td>\n",
       "      <td>0.091814</td>\n",
       "      <td>0.014178</td>\n",
       "      <td>0.015800</td>\n",
       "      <td>0.017919</td>\n",
       "      <td>0.016385</td>\n",
       "      <td>0.031815</td>\n",
       "      <td>0.028983</td>\n",
       "    </tr>\n",
       "    <tr>\n",
       "      <th>...</th>\n",
       "      <td>...</td>\n",
       "      <td>...</td>\n",
       "      <td>...</td>\n",
       "      <td>...</td>\n",
       "      <td>...</td>\n",
       "      <td>...</td>\n",
       "      <td>...</td>\n",
       "      <td>...</td>\n",
       "    </tr>\n",
       "    <tr>\n",
       "      <th>19995</th>\n",
       "      <td>0.103630</td>\n",
       "      <td>0.102661</td>\n",
       "      <td>0.015067</td>\n",
       "      <td>0.016691</td>\n",
       "      <td>0.019019</td>\n",
       "      <td>0.017393</td>\n",
       "      <td>0.032341</td>\n",
       "      <td>0.029408</td>\n",
       "    </tr>\n",
       "    <tr>\n",
       "      <th>19996</th>\n",
       "      <td>0.103633</td>\n",
       "      <td>0.102618</td>\n",
       "      <td>0.015068</td>\n",
       "      <td>0.016688</td>\n",
       "      <td>0.019084</td>\n",
       "      <td>0.017367</td>\n",
       "      <td>0.032600</td>\n",
       "      <td>0.029521</td>\n",
       "    </tr>\n",
       "    <tr>\n",
       "      <th>19997</th>\n",
       "      <td>0.103689</td>\n",
       "      <td>0.102591</td>\n",
       "      <td>0.015054</td>\n",
       "      <td>0.016688</td>\n",
       "      <td>0.019117</td>\n",
       "      <td>0.017330</td>\n",
       "      <td>0.032833</td>\n",
       "      <td>0.029711</td>\n",
       "    </tr>\n",
       "    <tr>\n",
       "      <th>19998</th>\n",
       "      <td>0.103694</td>\n",
       "      <td>0.102634</td>\n",
       "      <td>0.015014</td>\n",
       "      <td>0.016672</td>\n",
       "      <td>0.018976</td>\n",
       "      <td>0.017340</td>\n",
       "      <td>0.032513</td>\n",
       "      <td>0.029624</td>\n",
       "    </tr>\n",
       "    <tr>\n",
       "      <th>19999</th>\n",
       "      <td>0.103648</td>\n",
       "      <td>0.102682</td>\n",
       "      <td>0.015039</td>\n",
       "      <td>0.016691</td>\n",
       "      <td>0.018941</td>\n",
       "      <td>0.017384</td>\n",
       "      <td>0.032209</td>\n",
       "      <td>0.029433</td>\n",
       "    </tr>\n",
       "  </tbody>\n",
       "</table>\n",
       "<p>20000 rows × 8 columns</p>\n",
       "</div>"
      ],
      "text/plain": [
       "             Fz        C3        Cz        C4        Pz       PO7        Oz  \\\n",
       "0      0.094346  0.091843  0.014162  0.015792  0.017804  0.016409  0.031363   \n",
       "1      0.094320  0.091868  0.014199  0.015808  0.017853  0.016440  0.031323   \n",
       "2      0.094310  0.091824  0.014208  0.015808  0.017915  0.016430  0.031530   \n",
       "3      0.094348  0.091788  0.014211  0.015814  0.017976  0.016405  0.031820   \n",
       "4      0.094417  0.091814  0.014178  0.015800  0.017919  0.016385  0.031815   \n",
       "...         ...       ...       ...       ...       ...       ...       ...   \n",
       "19995  0.103630  0.102661  0.015067  0.016691  0.019019  0.017393  0.032341   \n",
       "19996  0.103633  0.102618  0.015068  0.016688  0.019084  0.017367  0.032600   \n",
       "19997  0.103689  0.102591  0.015054  0.016688  0.019117  0.017330  0.032833   \n",
       "19998  0.103694  0.102634  0.015014  0.016672  0.018976  0.017340  0.032513   \n",
       "19999  0.103648  0.102682  0.015039  0.016691  0.018941  0.017384  0.032209   \n",
       "\n",
       "            PO8  \n",
       "0      0.028767  \n",
       "1      0.028652  \n",
       "2      0.028706  \n",
       "3      0.028887  \n",
       "4      0.028983  \n",
       "...         ...  \n",
       "19995  0.029408  \n",
       "19996  0.029521  \n",
       "19997  0.029711  \n",
       "19998  0.029624  \n",
       "19999  0.029433  \n",
       "\n",
       "[20000 rows x 8 columns]"
      ]
     },
     "execution_count": 7,
     "metadata": {},
     "output_type": "execute_result"
    }
   ],
   "source": [
    "df_buffers_raw"
   ]
  },
  {
   "cell_type": "code",
   "execution_count": 8,
   "id": "d49f000c245897c7",
   "metadata": {
    "ExecuteTime": {
     "end_time": "2024-06-05T13:04:05.171153Z",
     "start_time": "2024-06-05T13:04:04.274824Z"
    }
   },
   "outputs": [
    {
     "name": "stdout",
     "output_type": "stream",
     "text": [
      "Creating RawArray with float64 data, n_channels=8, n_times=20000\n",
      "    Range : 0 ... 19999 =      0.000 ...    79.996 secs\n",
      "Ready.\n"
     ]
    },
    {
     "data": {
      "text/html": [
       "<details open>\n",
       "    <summary><strong>General</strong></summary>\n",
       "    <table class=\"table table-hover table-striped table-sm table-responsive small\">\n",
       "        <tr>\n",
       "            <th>Measurement date</th>\n",
       "            \n",
       "            <td>Unknown</td>\n",
       "            \n",
       "        </tr>\n",
       "        <tr>\n",
       "            <th>Experimenter</th>\n",
       "            \n",
       "            <td>Unknown</td>\n",
       "            \n",
       "        </tr>\n",
       "        <tr>\n",
       "            <th>Participant</th>\n",
       "            \n",
       "            <td>Unknown</td>\n",
       "            \n",
       "        </tr>\n",
       "    </table>\n",
       "    </details>\n",
       "    <details open>\n",
       "        <summary><strong>Channels</strong></summary>\n",
       "        <table class=\"table table-hover table-striped table-sm table-responsive small\">\n",
       "            <tr>\n",
       "                <th>Digitized points</th>\n",
       "                \n",
       "                <td>Not available</td>\n",
       "                \n",
       "            </tr>\n",
       "            <tr>\n",
       "                <th>Good channels</th>\n",
       "                <td>8 EEG</td>\n",
       "            </tr>\n",
       "            <tr>\n",
       "                <th>Bad channels</th>\n",
       "                <td>None</td>\n",
       "            </tr>\n",
       "            <tr>\n",
       "                <th>EOG channels</th>\n",
       "                <td>Not available</td>\n",
       "            </tr>\n",
       "            <tr>\n",
       "                <th>ECG channels</th>\n",
       "                <td>Not available</td>\n",
       "            </tr>\n",
       "        </table>\n",
       "        </details>\n",
       "        <details open>\n",
       "            <summary><strong>Data</strong></summary>\n",
       "            <table class=\"table table-hover table-striped table-sm table-responsive small\">\n",
       "                \n",
       "                <tr>\n",
       "                    <th>Sampling frequency</th>\n",
       "                    <td>250.00 Hz</td>\n",
       "                </tr>\n",
       "                \n",
       "                \n",
       "                <tr>\n",
       "                    <th>Highpass</th>\n",
       "                    <td>0.00 Hz</td>\n",
       "                </tr>\n",
       "                \n",
       "                \n",
       "                <tr>\n",
       "                    <th>Lowpass</th>\n",
       "                    <td>125.00 Hz</td>\n",
       "                </tr>\n",
       "                \n",
       "                \n",
       "                \n",
       "                \n",
       "            </table>\n",
       "            </details>"
      ],
      "text/plain": [
       "<Info | 7 non-empty values\n",
       " bads: []\n",
       " ch_names: Fz, C3, Cz, C4, Pz, PO7, Oz, PO8\n",
       " chs: 8 EEG\n",
       " custom_ref_applied: False\n",
       " highpass: 0.0 Hz\n",
       " lowpass: 125.0 Hz\n",
       " meas_date: unspecified\n",
       " nchan: 8\n",
       " projs: []\n",
       " sfreq: 250.0 Hz\n",
       ">"
      ]
     },
     "execution_count": 8,
     "metadata": {},
     "output_type": "execute_result"
    }
   ],
   "source": [
    "# df_buffers_raw\n",
    "info = mne.create_info(\n",
    "        ch_names=channel_names,\n",
    "        sfreq=config.device_details['sfreq'],  # Assuming the data is sampled at 1 Hz; adjust as necessary\n",
    "        # change this for different electrode configuration\n",
    "        ch_types=['eeg'] * len(channel_names))\n",
    "\n",
    "raw = mne.io.RawArray(df_buffers_raw[channel_names].values.T, info)\n",
    "raw.info"
   ]
  },
  {
   "cell_type": "code",
   "execution_count": 9,
   "id": "9724bf7bf8d8a42a",
   "metadata": {
    "ExecuteTime": {
     "end_time": "2024-06-03T21:57:24.546362Z",
     "start_time": "2024-06-03T21:57:24.518916Z"
    }
   },
   "outputs": [],
   "source": [
    "# raw.info[]"
   ]
  },
  {
   "cell_type": "code",
   "execution_count": 10,
   "id": "a77e9cfd6b8d963b",
   "metadata": {
    "ExecuteTime": {
     "end_time": "2024-06-05T13:04:09.900342Z",
     "start_time": "2024-06-05T13:04:09.875317Z"
    }
   },
   "outputs": [
    {
     "ename": "NameError",
     "evalue": "name 'df_tasks' is not defined",
     "output_type": "error",
     "traceback": [
      "\u001b[1;31m---------------------------------------------------------------------------\u001b[0m",
      "\u001b[1;31mNameError\u001b[0m                                 Traceback (most recent call last)",
      "Cell \u001b[1;32mIn[10], line 1\u001b[0m\n\u001b[1;32m----> 1\u001b[0m df_markers \u001b[38;5;241m=\u001b[39m \u001b[43mdf_tasks\u001b[49m[df_tasks[\u001b[38;5;124m'\u001b[39m\u001b[38;5;124mevent_ids\u001b[39m\u001b[38;5;124m'\u001b[39m]\u001b[38;5;241m.\u001b[39misin([\u001b[38;5;241m1\u001b[39m,\u001b[38;5;241m2\u001b[39m,\u001b[38;5;241m3\u001b[39m,\u001b[38;5;241m4\u001b[39m,\u001b[38;5;241m99\u001b[39m,\u001b[38;5;241m100\u001b[39m])]\n\u001b[0;32m      3\u001b[0m markers_map \u001b[38;5;241m=\u001b[39m {\n\u001b[0;32m      4\u001b[0m             \u001b[38;5;241m1\u001b[39m :\u001b[38;5;124m'\u001b[39m\u001b[38;5;124mleft_start\u001b[39m\u001b[38;5;124m'\u001b[39m,\n\u001b[0;32m      5\u001b[0m             \u001b[38;5;241m2\u001b[39m: \u001b[38;5;124m'\u001b[39m\u001b[38;5;124mleft_end\u001b[39m\u001b[38;5;124m'\u001b[39m,\n\u001b[1;32m   (...)\u001b[0m\n\u001b[0;32m      9\u001b[0m             \u001b[38;5;241m100\u001b[39m:\u001b[38;5;124m'\u001b[39m\u001b[38;5;124mrest_end\u001b[39m\u001b[38;5;124m'\u001b[39m\n\u001b[0;32m     10\u001b[0m }\n",
      "\u001b[1;31mNameError\u001b[0m: name 'df_tasks' is not defined"
     ]
    }
   ],
   "source": [
    "df_markers = df_tasks[df_tasks['event_ids'].isin([1,2,3,4,99,100])]\n",
    "\n",
    "markers_map = {\n",
    "            1 :'left_start',\n",
    "            2: 'left_end',\n",
    "            3:'right_start',\n",
    "            4:'right_end',\n",
    "            99:'rest_start',\n",
    "            100:'rest_end'\n",
    "}"
   ]
  },
  {
   "cell_type": "code",
   "execution_count": 11,
   "id": "dc56a03a4e5a024a",
   "metadata": {
    "ExecuteTime": {
     "end_time": "2024-06-05T13:04:12.342353Z",
     "start_time": "2024-06-05T13:04:12.322281Z"
    }
   },
   "outputs": [
    {
     "ename": "NameError",
     "evalue": "name 'df_markers' is not defined",
     "output_type": "error",
     "traceback": [
      "\u001b[1;31m---------------------------------------------------------------------------\u001b[0m",
      "\u001b[1;31mNameError\u001b[0m                                 Traceback (most recent call last)",
      "Cell \u001b[1;32mIn[11], line 10\u001b[0m\n\u001b[0;32m      7\u001b[0m start_times \u001b[38;5;241m=\u001b[39m {}\n\u001b[0;32m      9\u001b[0m \u001b[38;5;66;03m# Iterate over the DataFrame rows\u001b[39;00m\n\u001b[1;32m---> 10\u001b[0m \u001b[38;5;28;01mfor\u001b[39;00m index, row \u001b[38;5;129;01min\u001b[39;00m \u001b[43mdf_markers\u001b[49m\u001b[38;5;241m.\u001b[39miterrows():\n\u001b[0;32m     11\u001b[0m     event_id \u001b[38;5;241m=\u001b[39m row[\u001b[38;5;124m'\u001b[39m\u001b[38;5;124mevent_ids\u001b[39m\u001b[38;5;124m'\u001b[39m]\n\u001b[0;32m     12\u001b[0m     timestamp \u001b[38;5;241m=\u001b[39m row[\u001b[38;5;124m'\u001b[39m\u001b[38;5;124mtimestamps\u001b[39m\u001b[38;5;124m'\u001b[39m]\n",
      "\u001b[1;31mNameError\u001b[0m: name 'df_markers' is not defined"
     ]
    }
   ],
   "source": [
    "# Initialize lists for onsets, durations, and descriptions\n",
    "onsets = []\n",
    "durations = []\n",
    "descriptions = []\n",
    "\n",
    "# Create a dictionary to keep track of start times\n",
    "start_times = {}\n",
    "\n",
    "# Iterate over the DataFrame rows\n",
    "for index, row in df_markers.iterrows():\n",
    "    event_id = row['event_ids']\n",
    "    timestamp = row['timestamps']\n",
    "\n",
    "    if event_id in markers_map:\n",
    "        description = markers_map[event_id]\n",
    "\n",
    "        # Check if it is a start event\n",
    "        if 'start' in description:\n",
    "            # Store the start time\n",
    "            start_times[description.split('_')[0]] = timestamp\n",
    "        elif 'end' in description:\n",
    "            # Determine the corresponding start event type\n",
    "            event_type = description.split('_')[0]  # e.g., 'left', 'right', 'rest'\n",
    "            \n",
    "            if event_type in start_times:\n",
    "                start_time = start_times[event_type]\n",
    "                duration = timestamp - start_time\n",
    "                \n",
    "                # Append to lists\n",
    "                onsets.append(start_time)\n",
    "                durations.append(duration)\n",
    "                descriptions.append(event_type.upper())\n",
    "                # Remove the start time to avoid re-use\n",
    "                del start_times[event_type]\n",
    "\n",
    "# Print the results\n",
    "print(\"Onsets:\", onsets)\n",
    "print(\"Durations:\", durations)\n",
    "print(\"Descriptions:\", descriptions)"
   ]
  },
  {
   "cell_type": "code",
   "execution_count": 13,
   "id": "42586597040d0a99",
   "metadata": {
    "ExecuteTime": {
     "end_time": "2024-06-05T13:04:15.652118Z",
     "start_time": "2024-06-05T13:04:15.641616Z"
    }
   },
   "outputs": [],
   "source": [
    "onsets = onsets - df_buffers['timestamps'][0]"
   ]
  },
  {
   "cell_type": "code",
   "execution_count": 14,
   "id": "82c9abba09c4e5a2",
   "metadata": {
    "ExecuteTime": {
     "end_time": "2024-06-05T13:04:17.507870Z",
     "start_time": "2024-06-05T13:04:17.492817Z"
    }
   },
   "outputs": [
    {
     "data": {
      "text/plain": [
       "array([ 1.8122   ,  3.3287119,  4.3288533,  5.8453875,  6.8456489,\n",
       "        8.3621844,  9.3623158, 10.8791695, 11.879669 , 13.3958221,\n",
       "       14.3959516, 15.9125035])"
      ]
     },
     "execution_count": 14,
     "metadata": {},
     "output_type": "execute_result"
    }
   ],
   "source": [
    "onsets"
   ]
  },
  {
   "cell_type": "code",
   "execution_count": 15,
   "id": "83394cb2c0ca440f",
   "metadata": {
    "ExecuteTime": {
     "end_time": "2024-06-05T13:04:20.221895Z",
     "start_time": "2024-06-05T13:04:20.147141Z"
    }
   },
   "outputs": [
    {
     "name": "stdout",
     "output_type": "stream",
     "text": [
      "<Annotations | 12 segments: LEFT (3), REST (6), RIGHT (3)>\n"
     ]
    },
    {
     "name": "stderr",
     "output_type": "stream",
     "text": [
      "C:\\Users\\serio\\AppData\\Local\\Temp\\ipykernel_7684\\1906261831.py:3: RuntimeWarning: Limited 1 annotation(s) that were expanding outside the data range.\n",
      "  raw.set_annotations(raw_annot)\n"
     ]
    },
    {
     "data": {
      "text/html": [
       "<details open>\n",
       "    <summary><strong>General</strong></summary>\n",
       "    <table class=\"table table-hover table-striped table-sm table-responsive small\">\n",
       "        <tr>\n",
       "            <th>Measurement date</th>\n",
       "            \n",
       "            <td>Unknown</td>\n",
       "            \n",
       "        </tr>\n",
       "        <tr>\n",
       "            <th>Experimenter</th>\n",
       "            \n",
       "            <td>Unknown</td>\n",
       "            \n",
       "        </tr>\n",
       "        <tr>\n",
       "            <th>Participant</th>\n",
       "            \n",
       "            <td>Unknown</td>\n",
       "            \n",
       "        </tr>\n",
       "    </table>\n",
       "    </details>\n",
       "    <details open>\n",
       "        <summary><strong>Channels</strong></summary>\n",
       "        <table class=\"table table-hover table-striped table-sm table-responsive small\">\n",
       "            <tr>\n",
       "                <th>Digitized points</th>\n",
       "                \n",
       "                <td>11 points</td>\n",
       "                \n",
       "            </tr>\n",
       "            <tr>\n",
       "                <th>Good channels</th>\n",
       "                <td>8 EEG</td>\n",
       "            </tr>\n",
       "            <tr>\n",
       "                <th>Bad channels</th>\n",
       "                <td>None</td>\n",
       "            </tr>\n",
       "            <tr>\n",
       "                <th>EOG channels</th>\n",
       "                <td>Not available</td>\n",
       "            </tr>\n",
       "            <tr>\n",
       "                <th>ECG channels</th>\n",
       "                <td>Not available</td>\n",
       "            </tr>\n",
       "        </table>\n",
       "        </details>\n",
       "        <details open>\n",
       "            <summary><strong>Data</strong></summary>\n",
       "            <table class=\"table table-hover table-striped table-sm table-responsive small\">\n",
       "                \n",
       "                <tr>\n",
       "                    <th>Sampling frequency</th>\n",
       "                    <td>250.00 Hz</td>\n",
       "                </tr>\n",
       "                \n",
       "                \n",
       "                <tr>\n",
       "                    <th>Highpass</th>\n",
       "                    <td>0.00 Hz</td>\n",
       "                </tr>\n",
       "                \n",
       "                \n",
       "                <tr>\n",
       "                    <th>Lowpass</th>\n",
       "                    <td>125.00 Hz</td>\n",
       "                </tr>\n",
       "                \n",
       "                \n",
       "                \n",
       "                \n",
       "                <tr>\n",
       "                    <th>Duration</th>\n",
       "                    <td>00:00:16 (HH:MM:SS)</td>\n",
       "                </tr>\n",
       "                \n",
       "            </table>\n",
       "            </details>"
      ],
      "text/plain": [
       "<RawArray | 8 x 4000 (16.0 s), ~265 kB, data loaded>"
      ]
     },
     "execution_count": 15,
     "metadata": {},
     "output_type": "execute_result"
    }
   ],
   "source": [
    "raw_annot = mne.Annotations(onset=onsets, duration=durations, orig_time= None,description=descriptions)\n",
    "print(raw_annot)\n",
    "raw.set_annotations(raw_annot)\n",
    "\n",
    "raw.set_montage('easycap-M1')"
   ]
  },
  {
   "cell_type": "code",
   "execution_count": 16,
   "id": "eaaa99026d1077f5",
   "metadata": {
    "ExecuteTime": {
     "end_time": "2024-06-05T13:04:24.629638Z",
     "start_time": "2024-06-05T13:04:24.503099Z"
    }
   },
   "outputs": [
    {
     "name": "stdout",
     "output_type": "stream",
     "text": [
      "Used Annotations descriptions: ['LEFT', 'REST', 'RIGHT']\n"
     ]
    }
   ],
   "source": [
    "raw_events, raw_events_mapping = mne.events_from_annotations(raw)"
   ]
  },
  {
   "cell_type": "code",
   "execution_count": 17,
   "id": "bcb0fd99a4746868",
   "metadata": {
    "ExecuteTime": {
     "end_time": "2024-06-05T13:04:26.847635Z",
     "start_time": "2024-06-05T13:04:26.838087Z"
    }
   },
   "outputs": [],
   "source": [
    "# raw_events"
   ]
  },
  {
   "cell_type": "code",
   "execution_count": 18,
   "id": "6f19201874c8f580",
   "metadata": {
    "ExecuteTime": {
     "end_time": "2024-06-05T13:04:31.925057Z",
     "start_time": "2024-06-05T13:04:29.286742Z"
    }
   },
   "outputs": [],
   "source": [
    "fig = mne.viz.plot_events(\n",
    "    raw_events, sfreq=raw.info[\"sfreq\"], first_samp=raw.first_samp, event_id=raw_events_mapping\n",
    ")"
   ]
  },
  {
   "cell_type": "code",
   "execution_count": 19,
   "id": "738a9930f2fd66f0",
   "metadata": {
    "ExecuteTime": {
     "end_time": "2024-06-03T21:57:26.584795Z",
     "start_time": "2024-06-03T21:57:26.568250Z"
    }
   },
   "outputs": [],
   "source": [
    "# raw.get_data()"
   ]
  },
  {
   "cell_type": "code",
   "execution_count": 20,
   "id": "d404d7ec4fc1d275",
   "metadata": {
    "ExecuteTime": {
     "end_time": "2024-06-05T13:04:34.676915Z",
     "start_time": "2024-06-05T13:04:32.349910Z"
    }
   },
   "outputs": [
    {
     "name": "stdout",
     "output_type": "stream",
     "text": [
      "Effective window size : 8.192 (s)\n",
      "Plotting power spectral density (dB=True).\n"
     ]
    },
    {
     "data": {
      "image/png": "[encoded data removed]",
      "text/plain": [
       "<MNELineFigure size 1000x350 with 1 Axes>"
      ]
     },
     "execution_count": 20,
     "metadata": {},
     "output_type": "execute_result"
    }
   ],
   "source": [
    "spectrum = raw.compute_psd()\n",
    "spectrum.plot(average=True, picks=\"data\", exclude=\"bads\", amplitude=False)"
   ]
  },
  {
   "cell_type": "code",
   "execution_count": 21,
   "id": "121cabb543ac8060",
   "metadata": {
    "ExecuteTime": {
     "end_time": "2024-06-03T21:57:27.231239Z",
     "start_time": "2024-06-03T21:57:27.223234Z"
    }
   },
   "outputs": [],
   "source": [
    "# raw.plot(block=True)"
   ]
  },
  {
   "cell_type": "code",
   "execution_count": 22,
   "id": "2370fd9337d6b6fc",
   "metadata": {
    "ExecuteTime": {
     "end_time": "2024-06-03T21:57:27.247477Z",
     "start_time": "2024-06-03T21:57:27.233410Z"
    }
   },
   "outputs": [],
   "source": [
    "# midline = [\"EEG 002\", \"EEG 012\", \"EEG 030\", \"EEG 048\", \"EEG 058\", \"EEG 060\"]\n",
    "# spectrum.plot(picks=\"all\", exclude=\"bads\", amplitude=False)"
   ]
  },
  {
   "cell_type": "code",
   "execution_count": 23,
   "id": "368a52bab43da0bb",
   "metadata": {
    "ExecuteTime": {
     "end_time": "2024-06-04T20:32:17.506311Z",
     "start_time": "2024-06-04T20:32:16.422498Z"
    }
   },
   "outputs": [
    {
     "data": {
      "image/png": "[encoded data removed]",
      "text/plain": [
       "<Figure size 1000x150 with 10 Axes>"
      ]
     },
     "execution_count": 23,
     "metadata": {},
     "output_type": "execute_result"
    }
   ],
   "source": [
    "spectrum.plot_topomap()"
   ]
  },
  {
   "cell_type": "code",
   "execution_count": 24,
   "id": "a76080d3fdc71814",
   "metadata": {
    "ExecuteTime": {
     "end_time": "2024-06-03T21:57:29.047466Z",
     "start_time": "2024-06-03T21:57:29.031787Z"
    }
   },
   "outputs": [],
   "source": [
    "# spectrum.plot_topo()"
   ]
  },
  {
   "cell_type": "code",
   "execution_count": 25,
   "id": "b9cd30b277478390",
   "metadata": {
    "ExecuteTime": {
     "end_time": "2024-06-03T21:57:29.063723Z",
     "start_time": "2024-06-03T21:57:29.047466Z"
    }
   },
   "outputs": [],
   "source": [
    "# raw.plot_sensors(ch_type=\"eeg\")"
   ]
  },
  {
   "cell_type": "code",
   "execution_count": 26,
   "id": "48da5494474c9040",
   "metadata": {
    "ExecuteTime": {
     "end_time": "2024-06-03T21:57:29.078119Z",
     "start_time": "2024-06-03T21:57:29.063723Z"
    }
   },
   "outputs": [],
   "source": [
    "# raw.plot_projs_topomap(colorbar=True)"
   ]
  },
  {
   "cell_type": "code",
   "execution_count": 27,
   "id": "b302dfdf75c09a6f",
   "metadata": {
    "ExecuteTime": {
     "end_time": "2024-06-05T13:04:38.603472Z",
     "start_time": "2024-06-05T13:04:38.453153Z"
    }
   },
   "outputs": [
    {
     "name": "stdout",
     "output_type": "stream",
     "text": [
      "Not setting metadata\n",
      "12 matching events found\n",
      "Setting baseline interval to [-0.1, 0.0] s\n",
      "Applying baseline correction (mode: mean)\n",
      "0 projection items activated\n",
      "Using data from preloaded Raw for 12 events and 401 original time points ...\n",
      "1 bad epochs dropped\n"
     ]
    }
   ],
   "source": [
    "epochs = mne.Epochs(raw, raw_events, raw_events_mapping, tmin=-0.1, tmax=1.5,\n",
    "                    baseline=(None, 0), preload=True)"
   ]
  },
  {
   "cell_type": "code",
   "execution_count": 28,
   "id": "8decbfe7a10a17b5",
   "metadata": {
    "ExecuteTime": {
     "end_time": "2024-06-03T21:57:29.130133Z",
     "start_time": "2024-06-03T21:57:29.113774Z"
    }
   },
   "outputs": [],
   "source": [
    "# epochs['LEFT']"
   ]
  },
  {
   "cell_type": "code",
   "execution_count": 29,
   "id": "84f869053cd1f8af",
   "metadata": {
    "ExecuteTime": {
     "end_time": "2024-06-05T13:04:41.335922Z",
     "start_time": "2024-06-05T13:04:41.306126Z"
    }
   },
   "outputs": [],
   "source": [
    "ev_left = epochs['LEFT'].average()\n",
    "ev_right = epochs['RIGHT'].average()"
   ]
  },
  {
   "cell_type": "code",
   "execution_count": 30,
   "id": "a7cf40c4224914d0",
   "metadata": {
    "ExecuteTime": {
     "end_time": "2024-06-04T20:32:25.948614Z",
     "start_time": "2024-06-04T20:32:25.523238Z"
    }
   },
   "outputs": [],
   "source": [
    "f, axs = plt.subplots(1, 2, figsize=(10, 5))\n",
    "_ = f.suptitle('Left / Right Imagery', fontsize=20)\n",
    "_ = ev_left.plot(axes=axs[0], show=True, time_unit='s')\n",
    "_ = ev_right.plot(axes=axs[1], show=False, time_unit='s')\n",
    "\n",
    "plt.show()\n",
    "# plt.tight_layout()"
   ]
  },
  {
   "cell_type": "code",
   "execution_count": 31,
   "id": "8fca25746f688a94",
   "metadata": {
    "ExecuteTime": {
     "end_time": "2024-06-05T13:04:44.282779Z",
     "start_time": "2024-06-05T13:04:44.272260Z"
    }
   },
   "outputs": [],
   "source": [
    "X = epochs.get_data(copy=False)  # Shape: (n_epochs, n_channels, n_times)\n",
    "y = epochs.events[:, 2]  # Shape: (n_epochs,)"
   ]
  },
  {
   "cell_type": "code",
   "execution_count": 32,
   "id": "baf4d86f",
   "metadata": {},
   "outputs": [
    {
     "data": {
      "text/plain": [
       "(5, 8, 401)"
      ]
     },
     "execution_count": 32,
     "metadata": {},
     "output_type": "execute_result"
    }
   ],
   "source": [
    "X[:5].shape"
   ]
  },
  {
   "cell_type": "code",
   "execution_count": 33,
   "id": "ba3e300c66aba602",
   "metadata": {
    "ExecuteTime": {
     "end_time": "2024-06-05T13:04:54.591394Z",
     "start_time": "2024-06-05T13:04:54.571829Z"
    }
   },
   "outputs": [
    {
     "data": {
      "text/plain": [
       "(11, 8, 401)"
      ]
     },
     "execution_count": 33,
     "metadata": {},
     "output_type": "execute_result"
    }
   ],
   "source": [
    "X.shape"
   ]
  },
  {
   "cell_type": "code",
   "execution_count": 34,
   "id": "5f21ed055d929733",
   "metadata": {
    "ExecuteTime": {
     "end_time": "2024-06-05T13:05:03.874326Z",
     "start_time": "2024-06-05T13:05:03.861445Z"
    }
   },
   "outputs": [
    {
     "data": {
      "text/plain": [
       "(11,)"
      ]
     },
     "execution_count": 34,
     "metadata": {},
     "output_type": "execute_result"
    }
   ],
   "source": [
    "y.shape"
   ]
  },
  {
   "cell_type": "code",
   "execution_count": 35,
   "id": "869c835f",
   "metadata": {},
   "outputs": [
    {
     "data": {
      "text/plain": [
       "array([1, 2, 3, 2, 1, 2, 3, 2, 1, 2, 3])"
      ]
     },
     "execution_count": 35,
     "metadata": {},
     "output_type": "execute_result"
    }
   ],
   "source": [
    "y"
   ]
  },
  {
   "cell_type": "code",
   "execution_count": 36,
   "id": "d5f80c8208ddd44a",
   "metadata": {
    "ExecuteTime": {
     "end_time": "2024-06-04T09:37:30.157741Z",
     "start_time": "2024-06-04T09:37:30.142110Z"
    }
   },
   "outputs": [],
   "source": [
    "# epochs['LEFT'].plot_image()\n",
    "# epochs['RIGHT'].plot_image()"
   ]
  },
  {
   "cell_type": "code",
   "execution_count": 37,
   "id": "cf19f946784d7e56",
   "metadata": {
    "ExecuteTime": {
     "end_time": "2024-06-04T20:32:33.940061Z",
     "start_time": "2024-06-04T20:32:33.595455Z"
    }
   },
   "outputs": [
    {
     "name": "stdout",
     "output_type": "stream",
     "text": [
      "Not setting metadata\n",
      "3 matching events found\n",
      "No baseline correction applied\n",
      "0 projection items activated\n",
      "combining channels using GFP (eeg channels)\n",
      "Not setting metadata\n",
      "3 matching events found\n",
      "No baseline correction applied\n",
      "0 projection items activated\n",
      "combining channels using GFP (eeg channels)\n"
     ]
    },
    {
     "data": {
      "text/plain": [
       "[<Figure size 640x480 with 3 Axes>]"
      ]
     },
     "execution_count": 37,
     "metadata": {},
     "output_type": "execute_result"
    }
   ],
   "source": [
    "mne.viz.plot_epochs_image(epochs['LEFT'],title=\"Left Imagery\",colorbar=True)\n",
    "mne.viz.plot_epochs_image(epochs['RIGHT'],title=\"Right Imagery\",colorbar=True)"
   ]
  },
  {
   "cell_type": "code",
   "execution_count": 38,
   "id": "18702356",
   "metadata": {},
   "outputs": [],
   "source": [
    "class CustomDataset(Dataset):\n",
    "    def __init__(self, data, labels):\n",
    "        self.data = data\n",
    "        self.labels = labels\n",
    "\n",
    "    def __len__(self):\n",
    "        return len(self.data)\n",
    "    \n",
    "    def __getitem__(self, idx):\n",
    "        sample = self.data[idx]\n",
    "        label = self.labels[idx]\n",
    "\n",
    "        return sample, label"
   ]
  },
  {
   "cell_type": "code",
   "execution_count": 39,
   "id": "2e8a6782",
   "metadata": {},
   "outputs": [
    {
     "name": "stdout",
     "output_type": "stream",
     "text": [
      "X_reshaped.shape: (11, 3208)\n",
      "y.shape: (11,)\n"
     ]
    }
   ],
   "source": [
    "X_reshaped = X.reshape(len(X), -1)\n",
    "\n",
    "print(f\"X_reshaped.shape: {X_reshaped.shape}\")\n",
    "print(f\"y.shape: {y.shape}\")"
   ]
  },
  {
   "cell_type": "code",
   "execution_count": 76,
   "id": "1482d4bc",
   "metadata": {},
   "outputs": [],
   "source": [
    "y = y - 1"
   ]
  },
  {
   "cell_type": "code",
   "execution_count": 77,
   "id": "1a9e9c48",
   "metadata": {},
   "outputs": [
    {
     "data": {
      "text/plain": [
       "(8, 3208)"
      ]
     },
     "execution_count": 77,
     "metadata": {},
     "output_type": "execute_result"
    }
   ],
   "source": [
    "X_train, X_test, y_train, y_test = train_test_split(X_reshaped, y, test_size=0.2, shuffle=True, random_state=42)\n",
    "\n",
    "X_train.shape"
   ]
  },
  {
   "cell_type": "code",
   "execution_count": 78,
   "id": "af1b3286",
   "metadata": {},
   "outputs": [
    {
     "data": {
      "text/html": [
       "<div>\n",
       "<style scoped>\n",
       "    .dataframe tbody tr th:only-of-type {\n",
       "        vertical-align: middle;\n",
       "    }\n",
       "\n",
       "    .dataframe tbody tr th {\n",
       "        vertical-align: top;\n",
       "    }\n",
       "\n",
       "    .dataframe thead th {\n",
       "        text-align: right;\n",
       "    }\n",
       "</style>\n",
       "<table border=\"1\" class=\"dataframe\">\n",
       "  <thead>\n",
       "    <tr style=\"text-align: right;\">\n",
       "      <th></th>\n",
       "      <th>0</th>\n",
       "    </tr>\n",
       "  </thead>\n",
       "  <tbody>\n",
       "    <tr>\n",
       "      <th>0</th>\n",
       "      <td>-0.000086</td>\n",
       "    </tr>\n",
       "    <tr>\n",
       "      <th>1</th>\n",
       "      <td>-0.000023</td>\n",
       "    </tr>\n",
       "    <tr>\n",
       "      <th>2</th>\n",
       "      <td>0.000094</td>\n",
       "    </tr>\n",
       "    <tr>\n",
       "      <th>3</th>\n",
       "      <td>0.000099</td>\n",
       "    </tr>\n",
       "    <tr>\n",
       "      <th>4</th>\n",
       "      <td>-0.000033</td>\n",
       "    </tr>\n",
       "    <tr>\n",
       "      <th>...</th>\n",
       "      <td>...</td>\n",
       "    </tr>\n",
       "    <tr>\n",
       "      <th>3203</th>\n",
       "      <td>0.000038</td>\n",
       "    </tr>\n",
       "    <tr>\n",
       "      <th>3204</th>\n",
       "      <td>0.000067</td>\n",
       "    </tr>\n",
       "    <tr>\n",
       "      <th>3205</th>\n",
       "      <td>0.000085</td>\n",
       "    </tr>\n",
       "    <tr>\n",
       "      <th>3206</th>\n",
       "      <td>0.000023</td>\n",
       "    </tr>\n",
       "    <tr>\n",
       "      <th>3207</th>\n",
       "      <td>0.000004</td>\n",
       "    </tr>\n",
       "  </tbody>\n",
       "</table>\n",
       "<p>3208 rows × 1 columns</p>\n",
       "</div>"
      ],
      "text/plain": [
       "             0\n",
       "0    -0.000086\n",
       "1    -0.000023\n",
       "2     0.000094\n",
       "3     0.000099\n",
       "4    -0.000033\n",
       "...        ...\n",
       "3203  0.000038\n",
       "3204  0.000067\n",
       "3205  0.000085\n",
       "3206  0.000023\n",
       "3207  0.000004\n",
       "\n",
       "[3208 rows x 1 columns]"
      ]
     },
     "execution_count": 78,
     "metadata": {},
     "output_type": "execute_result"
    }
   ],
   "source": [
    "pd.DataFrame(X_train[0].T)"
   ]
  },
  {
   "cell_type": "code",
   "execution_count": 79,
   "id": "cfd158da",
   "metadata": {},
   "outputs": [],
   "source": [
    "train_loader = DataLoader(CustomDataset(X_train, y_train), batch_size=2, shuffle=True)\n",
    "test_loader = DataLoader(CustomDataset(X_test, y_test), batch_size=2, shuffle=True)"
   ]
  },
  {
   "cell_type": "code",
   "execution_count": 82,
   "id": "5fc5fcb8",
   "metadata": {},
   "outputs": [],
   "source": [
    "class MotorImageryMLP(nn.Module):\n",
    "    def __init__(self, input_shape):\n",
    "        super(MotorImageryMLP, self).__init__()\n",
    "        # print(input_shape)\n",
    "        self.net = nn.Sequential(\n",
    "            nn.Linear(input_shape, 512),\n",
    "            nn.ReLU(),\n",
    "            nn.Linear(512, 256),\n",
    "            nn.ReLU(),\n",
    "            nn.Linear(256, 128),\n",
    "            nn.ReLU(),\n",
    "            nn.Linear(128, 3),\n",
    "            # nn.Softmax(),\n",
    "        )\n",
    "\n",
    "    def forward(self, x):\n",
    "        x = x.view(x.size(0), -1)\n",
    "        return self.net(x)"
   ]
  },
  {
   "cell_type": "code",
   "execution_count": 104,
   "id": "fd8ebb82",
   "metadata": {},
   "outputs": [
    {
     "name": "stdout",
     "output_type": "stream",
     "text": [
      "Epoch [1/100], Step [1/4], Loss: 0.10991\n",
      "Epoch [2/100], Step [1/4], Loss: 0.10861\n",
      "Epoch [3/100], Step [1/4], Loss: 0.11118\n",
      "Epoch [4/100], Step [1/4], Loss: 0.11110\n",
      "Epoch [5/100], Step [1/4], Loss: 0.10719\n",
      "Epoch [6/100], Step [1/4], Loss: 0.10584\n",
      "Epoch [7/100], Step [1/4], Loss: 0.11174\n",
      "Epoch [8/100], Step [1/4], Loss: 0.11920\n",
      "Epoch [9/100], Step [1/4], Loss: 0.10513\n",
      "Epoch [10/100], Step [1/4], Loss: 0.10359\n",
      "Epoch [11/100], Step [1/4], Loss: 0.11381\n",
      "Epoch [12/100], Step [1/4], Loss: 0.10322\n",
      "Epoch [13/100], Step [1/4], Loss: 0.12603\n",
      "Epoch [14/100], Step [1/4], Loss: 0.10223\n",
      "Epoch [15/100], Step [1/4], Loss: 0.11488\n",
      "Epoch [16/100], Step [1/4], Loss: 0.11438\n",
      "Epoch [17/100], Step [1/4], Loss: 0.11473\n",
      "Epoch [18/100], Step [1/4], Loss: 0.11473\n",
      "Epoch [19/100], Step [1/4], Loss: 0.09555\n",
      "Epoch [20/100], Step [1/4], Loss: 0.11800\n",
      "Epoch [21/100], Step [1/4], Loss: 0.09810\n",
      "Epoch [22/100], Step [1/4], Loss: 0.11451\n",
      "Epoch [23/100], Step [1/4], Loss: 0.09022\n",
      "Epoch [24/100], Step [1/4], Loss: 0.11046\n",
      "Epoch [25/100], Step [1/4], Loss: 0.10850\n",
      "Epoch [26/100], Step [1/4], Loss: 0.10520\n",
      "Epoch [27/100], Step [1/4], Loss: 0.10089\n",
      "Epoch [28/100], Step [1/4], Loss: 0.08537\n",
      "Epoch [29/100], Step [1/4], Loss: 0.09313\n",
      "Epoch [30/100], Step [1/4], Loss: 0.07851\n",
      "Epoch [31/100], Step [1/4], Loss: 0.08539\n",
      "Epoch [32/100], Step [1/4], Loss: 0.08240\n",
      "Epoch [33/100], Step [1/4], Loss: 0.07091\n",
      "Epoch [34/100], Step [1/4], Loss: 0.08120\n",
      "Epoch [35/100], Step [1/4], Loss: 0.06903\n",
      "Epoch [36/100], Step [1/4], Loss: 0.09759\n",
      "Epoch [37/100], Step [1/4], Loss: 0.09575\n",
      "Epoch [38/100], Step [1/4], Loss: 0.06243\n",
      "Epoch [39/100], Step [1/4], Loss: 0.06170\n",
      "Epoch [40/100], Step [1/4], Loss: 0.08170\n",
      "Epoch [41/100], Step [1/4], Loss: 0.05313\n",
      "Epoch [42/100], Step [1/4], Loss: 0.05640\n",
      "Epoch [43/100], Step [1/4], Loss: 0.08102\n",
      "Epoch [44/100], Step [1/4], Loss: 0.03659\n",
      "Epoch [45/100], Step [1/4], Loss: 0.07664\n",
      "Epoch [46/100], Step [1/4], Loss: 0.08325\n",
      "Epoch [47/100], Step [1/4], Loss: 0.07601\n",
      "Epoch [48/100], Step [1/4], Loss: 0.04263\n",
      "Epoch [49/100], Step [1/4], Loss: 0.08994\n",
      "Epoch [50/100], Step [1/4], Loss: 0.04079\n",
      "Epoch [51/100], Step [1/4], Loss: 0.07416\n",
      "Epoch [52/100], Step [1/4], Loss: 0.03369\n",
      "Epoch [53/100], Step [1/4], Loss: 0.03674\n",
      "Epoch [54/100], Step [1/4], Loss: 0.12064\n",
      "Epoch [55/100], Step [1/4], Loss: 0.07433\n",
      "Epoch [56/100], Step [1/4], Loss: 0.06820\n",
      "Epoch [57/100], Step [1/4], Loss: 0.09483\n",
      "Epoch [58/100], Step [1/4], Loss: 0.02458\n",
      "Epoch [59/100], Step [1/4], Loss: 0.08642\n",
      "Epoch [60/100], Step [1/4], Loss: 0.04198\n",
      "Epoch [61/100], Step [1/4], Loss: 0.03553\n",
      "Epoch [62/100], Step [1/4], Loss: 0.03896\n",
      "Epoch [63/100], Step [1/4], Loss: 0.02199\n",
      "Epoch [64/100], Step [1/4], Loss: 0.04225\n",
      "Epoch [65/100], Step [1/4], Loss: 0.03785\n",
      "Epoch [66/100], Step [1/4], Loss: 0.07564\n",
      "Epoch [67/100], Step [1/4], Loss: 0.07432\n",
      "Epoch [68/100], Step [1/4], Loss: 0.07510\n",
      "Epoch [69/100], Step [1/4], Loss: 0.02100\n",
      "Epoch [70/100], Step [1/4], Loss: 0.03845\n",
      "Epoch [71/100], Step [1/4], Loss: 0.04192\n",
      "Epoch [72/100], Step [1/4], Loss: 0.03478\n",
      "Epoch [73/100], Step [1/4], Loss: 0.03606\n",
      "Epoch [74/100], Step [1/4], Loss: 0.09227\n",
      "Epoch [75/100], Step [1/4], Loss: 0.08748\n",
      "Epoch [76/100], Step [1/4], Loss: 0.03370\n",
      "Epoch [77/100], Step [1/4], Loss: 0.04002\n",
      "Epoch [78/100], Step [1/4], Loss: 0.02031\n",
      "Epoch [79/100], Step [1/4], Loss: 0.07314\n",
      "Epoch [80/100], Step [1/4], Loss: 0.02664\n",
      "Epoch [81/100], Step [1/4], Loss: 0.08421\n",
      "Epoch [82/100], Step [1/4], Loss: 0.07258\n",
      "Epoch [83/100], Step [1/4], Loss: 0.07371\n",
      "Epoch [84/100], Step [1/4], Loss: 0.03887\n",
      "Epoch [85/100], Step [1/4], Loss: 0.03015\n",
      "Epoch [86/100], Step [1/4], Loss: 0.05621\n",
      "Epoch [87/100], Step [1/4], Loss: 0.02264\n",
      "Epoch [88/100], Step [1/4], Loss: 0.07501\n",
      "Epoch [89/100], Step [1/4], Loss: 0.03806\n",
      "Epoch [90/100], Step [1/4], Loss: 0.03510\n",
      "Epoch [91/100], Step [1/4], Loss: 0.07526\n",
      "Epoch [92/100], Step [1/4], Loss: 0.07469\n",
      "Epoch [93/100], Step [1/4], Loss: 0.07291\n",
      "Epoch [94/100], Step [1/4], Loss: 0.01903\n",
      "Epoch [95/100], Step [1/4], Loss: 0.01753\n",
      "Epoch [96/100], Step [1/4], Loss: 0.09123\n",
      "Epoch [97/100], Step [1/4], Loss: 0.03750\n",
      "Epoch [98/100], Step [1/4], Loss: 0.01512\n",
      "Epoch [99/100], Step [1/4], Loss: 0.06385\n",
      "Epoch [100/100], Step [1/4], Loss: 0.09361\n"
     ]
    }
   ],
   "source": [
    "# TRAIN!\n",
    "\n",
    "device = torch.device(\"cuda\" if torch.cuda.is_available else \"cpu\")\n",
    "\n",
    "model = MotorImageryMLP(X_train.shape[1]).to(device)\n",
    "\n",
    "optim = Adam(model.parameters(), lr=0.001)\n",
    "loss_fn = nn.CrossEntropyLoss()\n",
    "num_epochs = 100\n",
    "losses = []\n",
    "\n",
    "for epoch in range(num_epochs):\n",
    "    running_loss = 0.0\n",
    "    for i, (inputs, labels) in enumerate(train_loader):\n",
    "        inputs = inputs.float().to(device)\n",
    "        labels = labels.long().to(device)\n",
    "        optim.zero_grad()\n",
    "\n",
    "        outputs = model(inputs)\n",
    "        loss = loss_fn(outputs, labels)\n",
    "\n",
    "        loss.backward()\n",
    "        optim.step()\n",
    "\n",
    "        running_loss += loss.item()\n",
    "\n",
    "        if i % 10 == 0:\n",
    "            print(f'Epoch [{epoch + 1}/{num_epochs}], Step [{i + 1}/{len(train_loader)}], Loss: {running_loss / 10:.5f}')\n",
    "            losses.append(running_loss)\n",
    "            running_loss = 0.0"
   ]
  },
  {
   "cell_type": "code",
   "execution_count": 105,
   "id": "cec698e7",
   "metadata": {},
   "outputs": [
    {
     "data": {
      "text/plain": [
       "[<matplotlib.lines.Line2D at 0x20001743860>]"
      ]
     },
     "execution_count": 105,
     "metadata": {},
     "output_type": "execute_result"
    }
   ],
   "source": [
    "plt.plot(np.arange(num_epochs), losses)\n",
    "plt.show()"
   ]
  },
  {
   "cell_type": "code",
   "execution_count": null,
   "id": "d0d4ab3b99359fb7",
   "metadata": {
    "ExecuteTime": {
     "end_time": "2024-06-04T20:32:43.086394Z",
     "start_time": "2024-06-04T20:32:42.943502Z"
    }
   },
   "outputs": [
    {
     "data": {
      "text/html": [
       "<style>#sk-container-id-1 {\n",
       "  /* Definition of color scheme common for light and dark mode */\n",
       "  --sklearn-color-text: black;\n",
       "  --sklearn-color-line: gray;\n",
       "  /* Definition of color scheme for unfitted estimators */\n",
       "  --sklearn-color-unfitted-level-0: #fff5e6;\n",
       "  --sklearn-color-unfitted-level-1: #f6e4d2;\n",
       "  --sklearn-color-unfitted-level-2: #ffe0b3;\n",
       "  --sklearn-color-unfitted-level-3: chocolate;\n",
       "  /* Definition of color scheme for fitted estimators */\n",
       "  --sklearn-color-fitted-level-0: #f0f8ff;\n",
       "  --sklearn-color-fitted-level-1: #d4ebff;\n",
       "  --sklearn-color-fitted-level-2: #b3dbfd;\n",
       "  --sklearn-color-fitted-level-3: cornflowerblue;\n",
       "\n",
       "  /* Specific color for light theme */\n",
       "  --sklearn-color-text-on-default-background: var(--sg-text-color, var(--theme-code-foreground, var(--jp-content-font-color1, black)));\n",
       "  --sklearn-color-background: var(--sg-background-color, var(--theme-background, var(--jp-layout-color0, white)));\n",
       "  --sklearn-color-border-box: var(--sg-text-color, var(--theme-code-foreground, var(--jp-content-font-color1, black)));\n",
       "  --sklearn-color-icon: #696969;\n",
       "\n",
       "  @media (prefers-color-scheme: dark) {\n",
       "    /* Redefinition of color scheme for dark theme */\n",
       "    --sklearn-color-text-on-default-background: var(--sg-text-color, var(--theme-code-foreground, var(--jp-content-font-color1, white)));\n",
       "    --sklearn-color-background: var(--sg-background-color, var(--theme-background, var(--jp-layout-color0, #111)));\n",
       "    --sklearn-color-border-box: var(--sg-text-color, var(--theme-code-foreground, var(--jp-content-font-color1, white)));\n",
       "    --sklearn-color-icon: #878787;\n",
       "  }\n",
       "}\n",
       "\n",
       "#sk-container-id-1 {\n",
       "  color: var(--sklearn-color-text);\n",
       "}\n",
       "\n",
       "#sk-container-id-1 pre {\n",
       "  padding: 0;\n",
       "}\n",
       "\n",
       "#sk-container-id-1 input.sk-hidden--visually {\n",
       "  border: 0;\n",
       "  clip: rect(1px 1px 1px 1px);\n",
       "  clip: rect(1px, 1px, 1px, 1px);\n",
       "  height: 1px;\n",
       "  margin: -1px;\n",
       "  overflow: hidden;\n",
       "  padding: 0;\n",
       "  position: absolute;\n",
       "  width: 1px;\n",
       "}\n",
       "\n",
       "#sk-container-id-1 div.sk-dashed-wrapped {\n",
       "  border: 1px dashed var(--sklearn-color-line);\n",
       "  margin: 0 0.4em 0.5em 0.4em;\n",
       "  box-sizing: border-box;\n",
       "  padding-bottom: 0.4em;\n",
       "  background-color: var(--sklearn-color-background);\n",
       "}\n",
       "\n",
       "#sk-container-id-1 div.sk-container {\n",
       "  /* jupyter's `normalize.less` sets `[hidden] { display: none; }`\n",
       "     but bootstrap.min.css set `[hidden] { display: none !important; }`\n",
       "     so we also need the `!important` here to be able to override the\n",
       "     default hidden behavior on the sphinx rendered scikit-learn.org.\n",
       "     See: https://github.com/scikit-learn/scikit-learn/issues/21755 */\n",
       "  display: inline-block !important;\n",
       "  position: relative;\n",
       "}\n",
       "\n",
       "#sk-container-id-1 div.sk-text-repr-fallback {\n",
       "  display: none;\n",
       "}\n",
       "\n",
       "div.sk-parallel-item,\n",
       "div.sk-serial,\n",
       "div.sk-item {\n",
       "  /* draw centered vertical line to link estimators */\n",
       "  background-image: linear-gradient(var(--sklearn-color-text-on-default-background), var(--sklearn-color-text-on-default-background));\n",
       "  background-size: 2px 100%;\n",
       "  background-repeat: no-repeat;\n",
       "  background-position: center center;\n",
       "}\n",
       "\n",
       "/* Parallel-specific style estimator block */\n",
       "\n",
       "#sk-container-id-1 div.sk-parallel-item::after {\n",
       "  content: \"\";\n",
       "  width: 100%;\n",
       "  border-bottom: 2px solid var(--sklearn-color-text-on-default-background);\n",
       "  flex-grow: 1;\n",
       "}\n",
       "\n",
       "#sk-container-id-1 div.sk-parallel {\n",
       "  display: flex;\n",
       "  align-items: stretch;\n",
       "  justify-content: center;\n",
       "  background-color: var(--sklearn-color-background);\n",
       "  position: relative;\n",
       "}\n",
       "\n",
       "#sk-container-id-1 div.sk-parallel-item {\n",
       "  display: flex;\n",
       "  flex-direction: column;\n",
       "}\n",
       "\n",
       "#sk-container-id-1 div.sk-parallel-item:first-child::after {\n",
       "  align-self: flex-end;\n",
       "  width: 50%;\n",
       "}\n",
       "\n",
       "#sk-container-id-1 div.sk-parallel-item:last-child::after {\n",
       "  align-self: flex-start;\n",
       "  width: 50%;\n",
       "}\n",
       "\n",
       "#sk-container-id-1 div.sk-parallel-item:only-child::after {\n",
       "  width: 0;\n",
       "}\n",
       "\n",
       "/* Serial-specific style estimator block */\n",
       "\n",
       "#sk-container-id-1 div.sk-serial {\n",
       "  display: flex;\n",
       "  flex-direction: column;\n",
       "  align-items: center;\n",
       "  background-color: var(--sklearn-color-background);\n",
       "  padding-right: 1em;\n",
       "  padding-left: 1em;\n",
       "}\n",
       "\n",
       "\n",
       "/* Toggleable style: style used for estimator/Pipeline/ColumnTransformer box that is\n",
       "clickable and can be expanded/collapsed.\n",
       "- Pipeline and ColumnTransformer use this feature and define the default style\n",
       "- Estimators will overwrite some part of the style using the `sk-estimator` class\n",
       "*/\n",
       "\n",
       "/* Pipeline and ColumnTransformer style (default) */\n",
       "\n",
       "#sk-container-id-1 div.sk-toggleable {\n",
       "  /* Default theme specific background. It is overwritten whether we have a\n",
       "  specific estimator or a Pipeline/ColumnTransformer */\n",
       "  background-color: var(--sklearn-color-background);\n",
       "}\n",
       "\n",
       "/* Toggleable label */\n",
       "#sk-container-id-1 label.sk-toggleable__label {\n",
       "  cursor: pointer;\n",
       "  display: block;\n",
       "  width: 100%;\n",
       "  margin-bottom: 0;\n",
       "  padding: 0.5em;\n",
       "  box-sizing: border-box;\n",
       "  text-align: center;\n",
       "}\n",
       "\n",
       "#sk-container-id-1 label.sk-toggleable__label-arrow:before {\n",
       "  /* Arrow on the left of the label */\n",
       "  content: \"▸\";\n",
       "  float: left;\n",
       "  margin-right: 0.25em;\n",
       "  color: var(--sklearn-color-icon);\n",
       "}\n",
       "\n",
       "#sk-container-id-1 label.sk-toggleable__label-arrow:hover:before {\n",
       "  color: var(--sklearn-color-text);\n",
       "}\n",
       "\n",
       "/* Toggleable content - dropdown */\n",
       "\n",
       "#sk-container-id-1 div.sk-toggleable__content {\n",
       "  max-height: 0;\n",
       "  max-width: 0;\n",
       "  overflow: hidden;\n",
       "  text-align: left;\n",
       "  /* unfitted */\n",
       "  background-color: var(--sklearn-color-unfitted-level-0);\n",
       "}\n",
       "\n",
       "#sk-container-id-1 div.sk-toggleable__content.fitted {\n",
       "  /* fitted */\n",
       "  background-color: var(--sklearn-color-fitted-level-0);\n",
       "}\n",
       "\n",
       "#sk-container-id-1 div.sk-toggleable__content pre {\n",
       "  margin: 0.2em;\n",
       "  border-radius: 0.25em;\n",
       "  color: var(--sklearn-color-text);\n",
       "  /* unfitted */\n",
       "  background-color: var(--sklearn-color-unfitted-level-0);\n",
       "}\n",
       "\n",
       "#sk-container-id-1 div.sk-toggleable__content.fitted pre {\n",
       "  /* unfitted */\n",
       "  background-color: var(--sklearn-color-fitted-level-0);\n",
       "}\n",
       "\n",
       "#sk-container-id-1 input.sk-toggleable__control:checked~div.sk-toggleable__content {\n",
       "  /* Expand drop-down */\n",
       "  max-height: 200px;\n",
       "  max-width: 100%;\n",
       "  overflow: auto;\n",
       "}\n",
       "\n",
       "#sk-container-id-1 input.sk-toggleable__control:checked~label.sk-toggleable__label-arrow:before {\n",
       "  content: \"▾\";\n",
       "}\n",
       "\n",
       "/* Pipeline/ColumnTransformer-specific style */\n",
       "\n",
       "#sk-container-id-1 div.sk-label input.sk-toggleable__control:checked~label.sk-toggleable__label {\n",
       "  color: var(--sklearn-color-text);\n",
       "  background-color: var(--sklearn-color-unfitted-level-2);\n",
       "}\n",
       "\n",
       "#sk-container-id-1 div.sk-label.fitted input.sk-toggleable__control:checked~label.sk-toggleable__label {\n",
       "  background-color: var(--sklearn-color-fitted-level-2);\n",
       "}\n",
       "\n",
       "/* Estimator-specific style */\n",
       "\n",
       "/* Colorize estimator box */\n",
       "#sk-container-id-1 div.sk-estimator input.sk-toggleable__control:checked~label.sk-toggleable__label {\n",
       "  /* unfitted */\n",
       "  background-color: var(--sklearn-color-unfitted-level-2);\n",
       "}\n",
       "\n",
       "#sk-container-id-1 div.sk-estimator.fitted input.sk-toggleable__control:checked~label.sk-toggleable__label {\n",
       "  /* fitted */\n",
       "  background-color: var(--sklearn-color-fitted-level-2);\n",
       "}\n",
       "\n",
       "#sk-container-id-1 div.sk-label label.sk-toggleable__label,\n",
       "#sk-container-id-1 div.sk-label label {\n",
       "  /* The background is the default theme color */\n",
       "  color: var(--sklearn-color-text-on-default-background);\n",
       "}\n",
       "\n",
       "/* On hover, darken the color of the background */\n",
       "#sk-container-id-1 div.sk-label:hover label.sk-toggleable__label {\n",
       "  color: var(--sklearn-color-text);\n",
       "  background-color: var(--sklearn-color-unfitted-level-2);\n",
       "}\n",
       "\n",
       "/* Label box, darken color on hover, fitted */\n",
       "#sk-container-id-1 div.sk-label.fitted:hover label.sk-toggleable__label.fitted {\n",
       "  color: var(--sklearn-color-text);\n",
       "  background-color: var(--sklearn-color-fitted-level-2);\n",
       "}\n",
       "\n",
       "/* Estimator label */\n",
       "\n",
       "#sk-container-id-1 div.sk-label label {\n",
       "  font-family: monospace;\n",
       "  font-weight: bold;\n",
       "  display: inline-block;\n",
       "  line-height: 1.2em;\n",
       "}\n",
       "\n",
       "#sk-container-id-1 div.sk-label-container {\n",
       "  text-align: center;\n",
       "}\n",
       "\n",
       "/* Estimator-specific */\n",
       "#sk-container-id-1 div.sk-estimator {\n",
       "  font-family: monospace;\n",
       "  border: 1px dotted var(--sklearn-color-border-box);\n",
       "  border-radius: 0.25em;\n",
       "  box-sizing: border-box;\n",
       "  margin-bottom: 0.5em;\n",
       "  /* unfitted */\n",
       "  background-color: var(--sklearn-color-unfitted-level-0);\n",
       "}\n",
       "\n",
       "#sk-container-id-1 div.sk-estimator.fitted {\n",
       "  /* fitted */\n",
       "  background-color: var(--sklearn-color-fitted-level-0);\n",
       "}\n",
       "\n",
       "/* on hover */\n",
       "#sk-container-id-1 div.sk-estimator:hover {\n",
       "  /* unfitted */\n",
       "  background-color: var(--sklearn-color-unfitted-level-2);\n",
       "}\n",
       "\n",
       "#sk-container-id-1 div.sk-estimator.fitted:hover {\n",
       "  /* fitted */\n",
       "  background-color: var(--sklearn-color-fitted-level-2);\n",
       "}\n",
       "\n",
       "/* Specification for estimator info (e.g. \"i\" and \"?\") */\n",
       "\n",
       "/* Common style for \"i\" and \"?\" */\n",
       "\n",
       ".sk-estimator-doc-link,\n",
       "a:link.sk-estimator-doc-link,\n",
       "a:visited.sk-estimator-doc-link {\n",
       "  float: right;\n",
       "  font-size: smaller;\n",
       "  line-height: 1em;\n",
       "  font-family: monospace;\n",
       "  background-color: var(--sklearn-color-background);\n",
       "  border-radius: 1em;\n",
       "  height: 1em;\n",
       "  width: 1em;\n",
       "  text-decoration: none !important;\n",
       "  margin-left: 1ex;\n",
       "  /* unfitted */\n",
       "  border: var(--sklearn-color-unfitted-level-1) 1pt solid;\n",
       "  color: var(--sklearn-color-unfitted-level-1);\n",
       "}\n",
       "\n",
       ".sk-estimator-doc-link.fitted,\n",
       "a:link.sk-estimator-doc-link.fitted,\n",
       "a:visited.sk-estimator-doc-link.fitted {\n",
       "  /* fitted */\n",
       "  border: var(--sklearn-color-fitted-level-1) 1pt solid;\n",
       "  color: var(--sklearn-color-fitted-level-1);\n",
       "}\n",
       "\n",
       "/* On hover */\n",
       "div.sk-estimator:hover .sk-estimator-doc-link:hover,\n",
       ".sk-estimator-doc-link:hover,\n",
       "div.sk-label-container:hover .sk-estimator-doc-link:hover,\n",
       ".sk-estimator-doc-link:hover {\n",
       "  /* unfitted */\n",
       "  background-color: var(--sklearn-color-unfitted-level-3);\n",
       "  color: var(--sklearn-color-background);\n",
       "  text-decoration: none;\n",
       "}\n",
       "\n",
       "div.sk-estimator.fitted:hover .sk-estimator-doc-link.fitted:hover,\n",
       ".sk-estimator-doc-link.fitted:hover,\n",
       "div.sk-label-container:hover .sk-estimator-doc-link.fitted:hover,\n",
       ".sk-estimator-doc-link.fitted:hover {\n",
       "  /* fitted */\n",
       "  background-color: var(--sklearn-color-fitted-level-3);\n",
       "  color: var(--sklearn-color-background);\n",
       "  text-decoration: none;\n",
       "}\n",
       "\n",
       "/* Span, style for the box shown on hovering the info icon */\n",
       ".sk-estimator-doc-link span {\n",
       "  display: none;\n",
       "  z-index: 9999;\n",
       "  position: relative;\n",
       "  font-weight: normal;\n",
       "  right: .2ex;\n",
       "  padding: .5ex;\n",
       "  margin: .5ex;\n",
       "  width: min-content;\n",
       "  min-width: 20ex;\n",
       "  max-width: 50ex;\n",
       "  color: var(--sklearn-color-text);\n",
       "  box-shadow: 2pt 2pt 4pt #999;\n",
       "  /* unfitted */\n",
       "  background: var(--sklearn-color-unfitted-level-0);\n",
       "  border: .5pt solid var(--sklearn-color-unfitted-level-3);\n",
       "}\n",
       "\n",
       ".sk-estimator-doc-link.fitted span {\n",
       "  /* fitted */\n",
       "  background: var(--sklearn-color-fitted-level-0);\n",
       "  border: var(--sklearn-color-fitted-level-3);\n",
       "}\n",
       "\n",
       ".sk-estimator-doc-link:hover span {\n",
       "  display: block;\n",
       "}\n",
       "\n",
       "/* \"?\"-specific style due to the `<a>` HTML tag */\n",
       "\n",
       "#sk-container-id-1 a.estimator_doc_link {\n",
       "  float: right;\n",
       "  font-size: 1rem;\n",
       "  line-height: 1em;\n",
       "  font-family: monospace;\n",
       "  background-color: var(--sklearn-color-background);\n",
       "  border-radius: 1rem;\n",
       "  height: 1rem;\n",
       "  width: 1rem;\n",
       "  text-decoration: none;\n",
       "  /* unfitted */\n",
       "  color: var(--sklearn-color-unfitted-level-1);\n",
       "  border: var(--sklearn-color-unfitted-level-1) 1pt solid;\n",
       "}\n",
       "\n",
       "#sk-container-id-1 a.estimator_doc_link.fitted {\n",
       "  /* fitted */\n",
       "  border: var(--sklearn-color-fitted-level-1) 1pt solid;\n",
       "  color: var(--sklearn-color-fitted-level-1);\n",
       "}\n",
       "\n",
       "/* On hover */\n",
       "#sk-container-id-1 a.estimator_doc_link:hover {\n",
       "  /* unfitted */\n",
       "  background-color: var(--sklearn-color-unfitted-level-3);\n",
       "  color: var(--sklearn-color-background);\n",
       "  text-decoration: none;\n",
       "}\n",
       "\n",
       "#sk-container-id-1 a.estimator_doc_link.fitted:hover {\n",
       "  /* fitted */\n",
       "  background-color: var(--sklearn-color-fitted-level-3);\n",
       "}\n",
       "</style><div id=\"sk-container-id-1\" class=\"sk-top-container\"><div class=\"sk-text-repr-fallback\"><pre>Pipeline(steps=[(&#x27;vectorizer&#x27;,\n",
       "                 &lt;mne.decoding.transformer.Vectorizer object at 0x00000159055D3260&gt;),\n",
       "                (&#x27;randomforestclassifier&#x27;, RandomForestClassifier())])</pre><b>In a Jupyter environment, please rerun this cell to show the HTML representation or trust the notebook. <br />On GitHub, the HTML representation is unable to render, please try loading this page with nbviewer.org.</b></div><div class=\"sk-container\" hidden><div class=\"sk-item sk-dashed-wrapped\"><div class=\"sk-label-container\"><div class=\"sk-label fitted sk-toggleable\"><input class=\"sk-toggleable__control sk-hidden--visually\" id=\"sk-estimator-id-1\" type=\"checkbox\" ><label for=\"sk-estimator-id-1\" class=\"sk-toggleable__label fitted sk-toggleable__label-arrow fitted\">&nbsp;&nbsp;Pipeline<a class=\"sk-estimator-doc-link fitted\" rel=\"noreferrer\" target=\"_blank\" href=\"https://scikit-learn.org/1.4/modules/generated/sklearn.pipeline.Pipeline.html\">?<span>Documentation for Pipeline</span></a><span class=\"sk-estimator-doc-link fitted\">i<span>Fitted</span></span></label><div class=\"sk-toggleable__content fitted\"><pre>Pipeline(steps=[(&#x27;vectorizer&#x27;,\n",
       "                 &lt;mne.decoding.transformer.Vectorizer object at 0x00000159055D3260&gt;),\n",
       "                (&#x27;randomforestclassifier&#x27;, RandomForestClassifier())])</pre></div> </div></div><div class=\"sk-serial\"><div class=\"sk-item\"><div class=\"sk-estimator fitted sk-toggleable\"><input class=\"sk-toggleable__control sk-hidden--visually\" id=\"sk-estimator-id-2\" type=\"checkbox\" ><label for=\"sk-estimator-id-2\" class=\"sk-toggleable__label fitted sk-toggleable__label-arrow fitted\">Vectorizer</label><div class=\"sk-toggleable__content fitted\"><pre>&lt;mne.decoding.transformer.Vectorizer object at 0x00000159055D3260&gt;</pre></div> </div></div><div class=\"sk-item\"><div class=\"sk-estimator fitted sk-toggleable\"><input class=\"sk-toggleable__control sk-hidden--visually\" id=\"sk-estimator-id-3\" type=\"checkbox\" ><label for=\"sk-estimator-id-3\" class=\"sk-toggleable__label fitted sk-toggleable__label-arrow fitted\">&nbsp;RandomForestClassifier<a class=\"sk-estimator-doc-link fitted\" rel=\"noreferrer\" target=\"_blank\" href=\"https://scikit-learn.org/1.4/modules/generated/sklearn.ensemble.RandomForestClassifier.html\">?<span>Documentation for RandomForestClassifier</span></a></label><div class=\"sk-toggleable__content fitted\"><pre>RandomForestClassifier()</pre></div> </div></div></div></div></div></div>"
      ],
      "text/plain": [
       "Pipeline(steps=[('vectorizer',\n",
       "                 <mne.decoding.transformer.Vectorizer object at 0x00000159055D3260>),\n",
       "                ('randomforestclassifier', RandomForestClassifier())])"
      ]
     },
     "execution_count": 73,
     "metadata": {},
     "output_type": "execute_result"
    }
   ],
   "source": [
    "# Reshape the data to (n_samples, n_features)\n",
    "X = X.reshape(len(X), -1)\n",
    "\n",
    "# Create and train a classifier\n",
    "clf = make_pipeline(Vectorizer(), RandomForestClassifier(n_estimators=100))\n",
    "clf.fit(X, y)"
   ]
  },
  {
   "cell_type": "code",
   "execution_count": null,
   "id": "d103546f",
   "metadata": {},
   "outputs": [
    {
     "data": {
      "text/plain": [
       "(11, 8, 401)"
      ]
     },
     "execution_count": 35,
     "metadata": {},
     "output_type": "execute_result"
    }
   ],
   "source": [
    "X.shape"
   ]
  },
  {
   "cell_type": "code",
   "execution_count": null,
   "id": "416c64cad30d70c8",
   "metadata": {
    "ExecuteTime": {
     "end_time": "2024-06-04T20:32:44.952842Z",
     "start_time": "2024-06-04T20:32:44.921622Z"
    }
   },
   "outputs": [
    {
     "name": "stdout",
     "output_type": "stream",
     "text": [
      "Predicted label: 1, Actual label: 1\n"
     ]
    }
   ],
   "source": [
    "test_index = 0  # Use the first training data point for prediction\n",
    "test_sample = X[test_index].reshape(1, -1)  # Reshape to (1, n_features)\n",
    "predicted_label = clf.predict(test_sample)\n",
    "actual_label = y[test_index]\n",
    "print(f\"Predicted label: {predicted_label[0]}, Actual label: {actual_label}\")"
   ]
  },
  {
   "cell_type": "code",
   "execution_count": null,
   "id": "858816cde7e13577",
   "metadata": {
    "ExecuteTime": {
     "end_time": "2024-06-04T20:32:46.201296Z",
     "start_time": "2024-06-04T20:32:46.185672Z"
    }
   },
   "outputs": [],
   "source": [
    "# Save the model as a pickle file\n",
    "with open('classifier_model.pkl', 'wb') as f:\n",
    "    pickle.dump(clf, f)"
   ]
  },
  {
   "cell_type": "code",
   "execution_count": null,
   "id": "527ea8fc69842458",
   "metadata": {
    "ExecuteTime": {
     "end_time": "2024-06-03T18:22:23.569233Z",
     "start_time": "2024-06-03T18:22:23.553605Z"
    }
   },
   "outputs": [],
   "source": [
    "# -----------------------Evoked-----------------------------------------------------------------------------------------"
   ]
  },
  {
   "cell_type": "code",
   "execution_count": null,
   "id": "e984b3b2c4bc0d60",
   "metadata": {
    "ExecuteTime": {
     "end_time": "2024-06-03T21:45:44.331970Z",
     "start_time": "2024-06-03T21:45:44.324104Z"
    }
   },
   "outputs": [],
   "source": [
    "# root = mne.datasets.sample.data_path() / \"MEG\" / \"sample\"\n",
    "# evoked_file = root / \"sample_audvis-ave.fif\"\n",
    "# evokeds_list = mne.read_evokeds(\n",
    "#     evoked_file, baseline=(None, 0), proj=True, verbose=False\n",
    "# )\n",
    "# \n",
    "# # Show condition names and baseline intervals\n",
    "# for e in evokeds_list:\n",
    "#     print(f\"Condition: {e.comment}, baseline: {e.baseline}\")\n",
    "#     \n",
    "# conds = (\"aud/left\", \"aud/right\", \"vis/left\", \"vis/right\")\n",
    "# evks = dict(zip(conds, evokeds_list))"
   ]
  },
  {
   "cell_type": "code",
   "execution_count": null,
   "id": "7a5573559c2cf97d",
   "metadata": {
    "ExecuteTime": {
     "end_time": "2024-06-03T21:45:48.117607Z",
     "start_time": "2024-06-03T21:45:48.095701Z"
    }
   },
   "outputs": [],
   "source": [
    "# evoked_file"
   ]
  },
  {
   "cell_type": "code",
   "execution_count": null,
   "id": "be9819653d97952e",
   "metadata": {
    "ExecuteTime": {
     "end_time": "2024-06-03T21:45:46.772237Z",
     "start_time": "2024-06-03T21:45:46.760236Z"
    }
   },
   "outputs": [],
   "source": [
    "# evks"
   ]
  },
  {
   "cell_type": "code",
   "execution_count": null,
   "id": "952e46ae66efcf0f",
   "metadata": {
    "ExecuteTime": {
     "end_time": "2024-06-03T21:46:02.126131Z",
     "start_time": "2024-06-03T21:46:02.115737Z"
    }
   },
   "outputs": [],
   "source": [
    "# ------------------------------------------ Old code for creating epochs directly"
   ]
  },
  {
   "cell_type": "code",
   "execution_count": null,
   "id": "61e0cadde559c024",
   "metadata": {
    "ExecuteTime": {
     "end_time": "2024-06-03T21:46:06.197648Z",
     "start_time": "2024-06-03T21:46:06.137378Z"
    }
   },
   "outputs": [],
   "source": [
    "# # Perform an as of merge to find the closest earlier and later event_id\n",
    "# df_buffers['prev_event_id'] = pd.merge_asof(df_buffers, df_tasks,\n",
    "#                                             left_on='timestamps', right_on='timestamps',\n",
    "#                                             direction='backward')['event_ids']\n",
    "# \n",
    "# df_buffers['next_event_id'] = pd.merge_asof(df_buffers, df_tasks,\n",
    "#                                             left_on='timestamps', right_on='timestamps',\n",
    "#                                             direction='forward')['event_ids']\n",
    "# \n",
    "# markers = {\n",
    "#     'left_start': [1],\n",
    "#     'left_end': [2],\n",
    "#     'right_start': [3],\n",
    "#     'right_end': [4],\n",
    "#     'rest_start': [99],\n",
    "#     'rest_end': [100],\n",
    "#     'task_start': [-1],\n",
    "#     'task_end': [-2]\n",
    "# }\n",
    "# \n",
    "# def determine_phase(row):\n",
    "#     if row['prev_event_id'] in markers['left_start'] and row['next_event_id'] in markers['left_end']:\n",
    "#         return 'left'\n",
    "#     elif row['prev_event_id'] in markers['right_start'] and row['next_event_id'] in markers['right_end']:\n",
    "#         return 'right'\n",
    "#     elif row['prev_event_id'] in markers['rest_start'] and row['next_event_id'] in markers['rest_end']:\n",
    "#         return 'rest'\n",
    "#     else:\n",
    "#         return 'unknown'\n",
    "# \n",
    "# df_buffers['phase'] = df_buffers.apply(determine_phase, axis=1)\n",
    "# \n",
    "# grouped = df_buffers.groupby(['part_number', 'phase']).size().reset_index(name='count')\n",
    "# \n",
    "# sfreq = config.device_details['sfreq']\n",
    "# buffer_duration = config.epoch_information['duration']\n",
    "# \n",
    "# valid_phases = ['left', 'right', 'rest']\n"
   ]
  },
  {
   "cell_type": "code",
   "execution_count": null,
   "id": "7ad92a6c20eba889",
   "metadata": {
    "ExecuteTime": {
     "end_time": "2024-06-03T21:46:11.224261Z",
     "start_time": "2024-06-03T21:46:11.213322Z"
    }
   },
   "outputs": [],
   "source": [
    "# df_buffers_filt = df_buffers[df_buffers['phase'].apply(lambda x: any(item in x for item in valid_phases))]"
   ]
  },
  {
   "cell_type": "code",
   "execution_count": null,
   "id": "77d9a5d85f7ac7f9",
   "metadata": {
    "ExecuteTime": {
     "end_time": "2024-06-03T21:46:13.103591Z",
     "start_time": "2024-06-03T21:46:13.088595Z"
    }
   },
   "outputs": [],
   "source": [
    "# df_buffers_filt.loc[:,'phase_group'] = (df_buffers_filt['phase'] != df_buffers_filt['phase'].shift()).cumsum()"
   ]
  },
  {
   "cell_type": "code",
   "execution_count": null,
   "id": "166d7c6d36dafea8",
   "metadata": {
    "ExecuteTime": {
     "end_time": "2024-06-03T21:46:15.149191Z",
     "start_time": "2024-06-03T21:46:15.131193Z"
    }
   },
   "outputs": [],
   "source": [
    "# df_phase_map = df_buffers_filt[['phase_group', 'phase']].drop_duplicates()"
   ]
  },
  {
   "cell_type": "code",
   "execution_count": null,
   "id": "9c04167e5307a13e",
   "metadata": {
    "ExecuteTime": {
     "end_time": "2024-06-03T21:46:17.171830Z",
     "start_time": "2024-06-03T21:46:17.150836Z"
    }
   },
   "outputs": [],
   "source": [
    "# df_buffers_filt"
   ]
  },
  {
   "cell_type": "code",
   "execution_count": null,
   "id": "4d3c46c506e84e1",
   "metadata": {
    "ExecuteTime": {
     "end_time": "2024-06-03T21:46:19.533406Z",
     "start_time": "2024-06-03T21:46:19.525391Z"
    }
   },
   "outputs": [],
   "source": [
    "# def get_phase_name(phase_group_number):\n",
    "#     # Look up the phase group number in the DataFrame\n",
    "#     phase_name = df_phase_map.loc[df_phase_map['phase_group'] == phase_group_number, 'phase']\n",
    "#     \n",
    "#     # Check if the phase group number exists in the DataFrame\n",
    "#     if not phase_name.empty:\n",
    "#         return phase_name.values[0]\n",
    "#     else:\n",
    "#         return \"Invalid phase group number\""
   ]
  },
  {
   "cell_type": "code",
   "execution_count": null,
   "id": "7d07f809f42bf4bd",
   "metadata": {
    "ExecuteTime": {
     "end_time": "2024-06-03T21:46:22.704815Z",
     "start_time": "2024-06-03T21:46:22.697838Z"
    }
   },
   "outputs": [],
   "source": [
    "# val_sel_columns = config.device_details['relevant_channels_from_device']\n",
    "# columns_to_select = df_buffers.columns[:val_sel_columns].tolist() + ['part_number', 'timestamps', 'phase', 'phase_group']\n",
    "# df_buffers_filt = df_buffers_filt[columns_to_select]"
   ]
  },
  {
   "cell_type": "code",
   "execution_count": null,
   "id": "f5f14f1ffbeb7ed6",
   "metadata": {
    "ExecuteTime": {
     "end_time": "2024-06-03T21:46:35.395254Z",
     "start_time": "2024-06-03T21:46:35.383251Z"
    }
   },
   "outputs": [],
   "source": [
    "# rename_dict = {old_name: new_name for old_name, new_name in zip(df_buffers_filt.columns[:val_sel_columns], channel_names)}\n",
    "# df_buffers_renamed = df_buffers_filt.rename(columns=rename_dict)"
   ]
  },
  {
   "cell_type": "code",
   "execution_count": null,
   "id": "5beb3f7eb0d3f32",
   "metadata": {
    "ExecuteTime": {
     "end_time": "2024-06-03T21:46:37.752372Z",
     "start_time": "2024-06-03T21:46:37.739371Z"
    }
   },
   "outputs": [],
   "source": [
    "# df_buffers_renamed[channel_names] = df_buffers_renamed[channel_names].values * 1e-6"
   ]
  },
  {
   "cell_type": "code",
   "execution_count": null,
   "id": "3f61d57b591d389f",
   "metadata": {
    "ExecuteTime": {
     "end_time": "2024-06-03T21:46:44.335725Z",
     "start_time": "2024-06-03T21:46:44.320724Z"
    }
   },
   "outputs": [],
   "source": [
    "# df_tasks"
   ]
  },
  {
   "cell_type": "code",
   "execution_count": null,
   "id": "14957b92fbfcb0ff",
   "metadata": {
    "ExecuteTime": {
     "end_time": "2024-06-03T21:46:52.390471Z",
     "start_time": "2024-06-03T21:46:52.374185Z"
    }
   },
   "outputs": [],
   "source": [
    "# df_buffers_renamed"
   ]
  },
  {
   "cell_type": "code",
   "execution_count": null,
   "id": "248c744831d1460e",
   "metadata": {},
   "outputs": [],
   "source": [
    "# # Creating epochs data\n",
    "# epochs_data = []\n",
    "# events = []\n",
    "# \n",
    "# event_id = {'left': 1, 'right': 2, 'rest': 3}\n",
    "# phases = ['left', 'right', 'rest']"
   ]
  },
  {
   "cell_type": "code",
   "execution_count": null,
   "id": "ea7e7501d7f28b3c",
   "metadata": {},
   "outputs": [],
   "source": [
    "max_shape = 0  # Initialize maximum shape\n",
    "\n",
    "for i, df_phase_group in df_buffers_renamed.groupby('phase_group'):\n",
    "    if get_phase_name(i) not in phases:\n",
    "        continue\n",
    "    data_array = df_phase_group[channel_names].values.T\n",
    "    max_shape = max(max_shape, data_array.shape[1])\n",
    "    epochs_data.append(data_array)\n",
    "    \n",
    "    phase_group = df_phase_group['phase_group'].iloc[0]\n",
    "    phase = df_phase_map[df_phase_map['phase_group'] == phase_group]['phase'].iloc[0]\n",
    "    event = event_id[phase]\n",
    "    \n",
    "    events.append([len(epochs_data) - 1, 0, event])"
   ]
  },
  {
   "cell_type": "code",
   "execution_count": null,
   "id": "3205388cfcf8f3ad",
   "metadata": {},
   "outputs": [],
   "source": [
    "events = np.array(events)"
   ]
  },
  {
   "cell_type": "code",
   "execution_count": null,
   "id": "87168f8986cb2512",
   "metadata": {},
   "outputs": [],
   "source": [
    "events"
   ]
  },
  {
   "cell_type": "code",
   "execution_count": null,
   "id": "de127a36a7979ab4",
   "metadata": {
    "ExecuteTime": {
     "end_time": "2024-06-03T21:47:15.274474Z",
     "start_time": "2024-06-03T21:47:15.253707Z"
    }
   },
   "outputs": [],
   "source": [
    "# # Pad or truncate each epoch's data to match the maximum shape\n",
    "# for i, data_array in enumerate(epochs_data):\n",
    "#     current_shape = data_array.shape[1]\n",
    "#     if current_shape < max_shape:\n",
    "#         padding = ((0, 0), (0, max_shape - current_shape))\n",
    "#         epochs_data[i] = np.pad(data_array, padding, mode='constant')\n",
    "#     elif current_shape > max_shape:\n",
    "#         epochs_data[i] = data_array[:, :max_shape]\n",
    "# \n",
    "# # Convert epoch_data to numpy array\n",
    "# epochs_data = np.array(epochs_data)\n",
    "# \n",
    "# # Print the shape of epoch_data\n",
    "# print(\"Shape of epoch_data:\", epochs_data.shape)"
   ]
  },
  {
   "cell_type": "code",
   "execution_count": null,
   "id": "727120b7196332ac",
   "metadata": {
    "ExecuteTime": {
     "end_time": "2024-06-03T21:47:16.773570Z",
     "start_time": "2024-06-03T21:47:16.769150Z"
    }
   },
   "outputs": [],
   "source": [
    "# # Create MNE info structure\n",
    "# info = create_info(ch_names=channel_names, sfreq=config.device_details['sfreq'], ch_types='eeg')\n",
    "# \n",
    "# # Create MNE Epochs object\n",
    "# epochs = EpochsArray(epochs_data, info, events, event_id=event_id, tmin=0)"
   ]
  },
  {
   "cell_type": "code",
   "execution_count": null,
   "id": "d074967184be3a7e",
   "metadata": {},
   "outputs": [],
   "source": []
  },
  {
   "cell_type": "code",
   "execution_count": null,
   "id": "173a0ed6e6f6936b",
   "metadata": {},
   "outputs": [],
   "source": [
    "# X\n",
    "# y\n",
    "\n"
   ]
  }
 ],
 "metadata": {
  "kernelspec": {
   "display_name": "Python 3 (ipykernel)",
   "language": "python",
   "name": "python3"
  },
  "language_info": {
   "codemirror_mode": {
    "name": "ipython",
    "version": 3
   },
   "file_extension": ".py",
   "mimetype": "text/x-python",
   "name": "python",
   "nbconvert_exporter": "python",
   "pygments_lexer": "ipython3",
   "version": "3.12.0"
  }
 },
 "nbformat": 4,
 "nbformat_minor": 5
}
