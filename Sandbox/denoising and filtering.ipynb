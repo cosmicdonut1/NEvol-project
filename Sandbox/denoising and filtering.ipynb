{
 "cells": [
  {
   "cell_type": "markdown",
   "metadata": {
    "id": "Q76Enb2j2bRo"
   },
   "source": [
    "# Denoising experiments"
   ]
  },
  {
   "cell_type": "markdown",
   "metadata": {
    "id": "nJh9qbz92eEp"
   },
   "source": [
    "## Import libraries"
   ]
  },
  {
   "metadata": {},
   "cell_type": "code",
   "execution_count": null,
   "source": "",
   "outputs": []
  },
  {
   "metadata": {
    "ExecuteTime": {
     "end_time": "2024-05-27T17:09:46.992762Z",
     "start_time": "2024-05-27T17:09:46.725697Z"
    }
   },
   "cell_type": "code",
   "source": [
    "# Import necessary libraries\n",
    "import mne\n",
    "import pandas as pd\n",
    "import matplotlib.pyplot as plt\n",
    "\n",
    "# Step 1: Load the data\n",
    "file_path = r\"Raw Data - 02052024\\OpenBCISession_2024-02-09_11-10-01\\OpenBCI-RAW-2024-02-09_11-31-53.txt\"\n",
    "df = pd.read_csv(file_path, comment='%')\n",
    "df = df.rename(columns=lambda x: x.strip())\n",
    "df = df[5:]  # Remove unnecessary header rows\n",
    "df = df.reset_index(drop=True)  # Reset indices\n",
    "\n",
    "# Display the first few rows to inspect\n",
    "print(df.head())"
   ],
   "execution_count": 6,
   "outputs": []
  },
  {
   "cell_type": "code",
   "metadata": {
    "ExecuteTime": {
     "end_time": "2024-05-27T17:05:56.200361Z",
     "start_time": "2024-05-27T17:05:52.824004Z"
    }
   },
   "source": [
    "\n",
    "\n",
    "# Step 2: Create RawArray for signal processing\n",
    "# Selecting EEG data columns and setting sampling frequency\n",
    "data_ica_df = df.iloc[:, 1:9]  # Assuming EEG data is in the first 8 columns after the index\n",
    "sfreq = 125  # Sampling frequency in Hz\n",
    "info = mne.create_info(ch_names=data_ica_df.columns.tolist(), sfreq=sfreq, ch_types='eeg')\n",
    "\n",
    "# Create RawArray for EEG data\n",
    "raw_eeg = mne.io.RawArray(data_ica_df.T.values * 1e-6, info)  # Convert µV to V\n",
    "\n",
    "# Create EOG channel\n",
    "eog_channel = data_ica_df.iloc[:, 0].values * 1e-6  # Convert µV to V\n",
    "eog_info = mne.create_info(['EOG'], sfreq=sfreq, ch_types=['eog'])\n",
    "eog_raw = mne.io.RawArray(eog_channel[None, :], eog_info)\n",
    "\n",
    "# Merge EEG and EOG data before filtering\n",
    "raw_combined = raw_eeg.add_channels([eog_raw])\n",
    "\n",
    "# Apply bandpass filter to the combined data\n",
    "raw_combined.filter(l_freq=1.0, h_freq=40.0, fir_design='firwin')\n",
    "\n",
    "# Step 3: Create EOG epochs to detect blinks\n",
    "eog_epochs = mne.preprocessing.create_eog_epochs(raw_combined, ch_name='EOG')  # Specify the new EOG channel\n",
    "eog_events = eog_epochs.events\n",
    "\n",
    "# Print and create DataFrame for events\n",
    "print(eog_events)\n",
    "eog_events_df = pd.DataFrame(eog_events, columns=['sample', 'prev_event_id', 'event_id'])\n",
    "\n",
    "# Step 4: Visualize raw and filtered data with detected blinks\n",
    "fig, axs = plt.subplots(len(data_ica_df.columns), 2, figsize=(15, 3 * len(data_ica_df.columns)))\n",
    "\n",
    "for i, channel in enumerate(data_ica_df.columns):\n",
    "    # Raw signal display\n",
    "    axs[i, 0].plot(df.index / sfreq, df[channel], label='Raw Data')\n",
    "    axs[i, 0].set_title(f'Raw Data (Channel {i})')\n",
    "    axs[i, 0].set_ylabel('Amplitude (µV)')\n",
    "    if i == len(data_ica_df.columns) - 1:\n",
    "        axs[i, 0].set_xlabel('Time (s)')\n",
    "\n",
    "    # Filtered signal display\n",
    "    axs[i, 1].plot(raw_combined.times, raw_combined.get_data(picks=[i])[0] * 1e6, label='Filtered Data')  # Convert back to µV\n",
    "    \n",
    "    # Mark detected blinks on the filtered data\n",
    "    blink_samples = eog_events_df['sample'].values\n",
    "    blink_times = blink_samples / sfreq\n",
    "    for blink_time in blink_times:\n",
    "        axs[i, 1].axvline(x=blink_time, color='r', linestyle='--', label='Detected Blink' if blink_time == blink_times[0] else \"\")\n",
    "    \n",
    "    axs[i, 1].set_title(f'Filtered Data (Channel {i})')\n",
    "    axs[i, 1].set_ylabel('Amplitude (µV)')\n",
    "    if i == len(data_ica_df.columns) - 1:\n",
    "        axs[i, 1].set_xlabel('Time (s)')\n",
    "    axs[i, 1].legend()\n",
    "\n",
    "# Adjust the spacing between subplots\n",
    "plt.subplots_adjust(hspace=0.5)\n",
    "\n",
    "# Display the plot with detected events\n",
    "plt.show()\n",
    "\n",
    "print(eog_events_df)"
   ],
   "execution_count": 1,
   "outputs": []
  },
  {
   "cell_type": "code",
   "execution_count": null,
   "metadata": {},
   "source": [],
   "outputs": []
  },
  {
   "cell_type": "code",
   "execution_count": null,
   "metadata": {},
   "source": [],
   "outputs": []
  },
  {
   "cell_type": "code",
   "execution_count": 1,
   "metadata": {
    "id": "BG_NwPU-zvia"
   },
   "source": [
    "import numpy as np\n",
    "import matplotlib.pyplot as plt\n",
    "import pandas as pd\n",
    "\n",
    "import torch\n",
    "import torch.nn as nn"
   ],
   "outputs": []
  },
  {
   "cell_type": "markdown",
   "metadata": {
    "id": "Y7Sonk672hFA"
   },
   "source": [
    "## Step 1: Data Analysis"
   ]
  },
  {
   "cell_type": "code",
   "execution_count": 2,
   "metadata": {
    "colab": {
     "base_uri": "https://localhost:8080/",
     "height": 377
    },
    "id": "NzsnW27H5Opq",
    "outputId": "5841346d-ed92-4c2e-df60-5749c41344c0"
   },
   "source": [
    "df = pd.read_csv(r\"D:\\Code\\NEvol_git\\Sandbox\\Raw Data - 02052024\\OpenBCISession_2024-02-09_11-10-01\\OpenBCI-RAW-2024-02-09_11-31-53.txt\", comment='%')\n",
    "df = df.rename(columns=lambda x: x.strip())\n",
    "df = df[5:]\n",
    "df.head()"
   ],
   "outputs": []
  },
  {
   "cell_type": "code",
   "execution_count": 3,
   "metadata": {
    "colab": {
     "base_uri": "https://localhost:8080/"
    },
    "id": "7lkerJ_p6bGK",
    "outputId": "0b32c0f1-55a1-45ed-b047-9e7307e9ab5d"
   },
   "source": [
    "df.columns"
   ],
   "outputs": []
  },
  {
   "cell_type": "code",
   "execution_count": 4,
   "metadata": {
    "id": "rnQy14YMculZ"
   },
   "source": [
    "def plot_eeg(data, figsize=(20, 15), title=None):\n",
    "    if isinstance(data, torch.Tensor):\n",
    "        data = data.detach().numpy()\n",
    "\n",
    "    num_plots = data.shape[1]\n",
    "\n",
    "    fig, ax = plt.subplots(num_plots, 1, figsize=figsize)\n",
    "    x = range(len(data))\n",
    "\n",
    "    if data.ndim == 1:\n",
    "        data = data[:, None]\n",
    "\n",
    "    if num_plots == 1:\n",
    "        ax = [ax]\n",
    "        # data = data.reshape(1, -1)\n",
    "\n",
    "    for i in range(num_plots):\n",
    "        ax[i].plot(x, data[:, i], linewidth=0.5)\n",
    "        ax[i].set_xlabel(\"Iter\")\n",
    "        ax[i].set_ylabel(\"Voltage ($\\mu V$)\")\n",
    "        if title:\n",
    "            ax[i].set_title(title)\n",
    "        else:\n",
    "            ax[i].set_title(df.columns[start_idx+i])\n",
    "\n",
    "    plt.tight_layout()\n",
    "    plt.show()"
   ],
   "outputs": []
  },
  {
   "cell_type": "code",
   "execution_count": 5,
   "metadata": {
    "colab": {
     "base_uri": "https://localhost:8080/",
     "height": 1000
    },
    "id": "-j-J0UAhSEBg",
    "outputId": "62354678-e7c1-4d90-df69-a940a2bad593"
   },
   "source": [
    "start_idx = 1\n",
    "end_idx = start_idx + 8\n",
    "raw_data = df.iloc[:, start_idx:end_idx].to_numpy()\n",
    "plot_eeg(raw_data)"
   ],
   "outputs": []
  },
  {
   "cell_type": "markdown",
   "metadata": {
    "id": "y9AV9AWbNjW9"
   },
   "source": [
    "## 1. 1D Convolutions"
   ]
  },
  {
   "cell_type": "code",
   "execution_count": 6,
   "metadata": {
    "colab": {
     "base_uri": "https://localhost:8080/"
    },
    "id": "CUaDgFkVLDfU",
    "outputId": "12b660d6-4105-41b4-a29a-fb0eedb5b3cb"
   },
   "source": [
    "data_conv_df = df.iloc[:, 1]\n",
    "data_conv_df.head()"
   ],
   "outputs": []
  },
  {
   "cell_type": "code",
   "execution_count": 7,
   "metadata": {
    "id": "FKSOT3xVU3HV"
   },
   "source": [
    "data_conv = torch.tensor(data_conv_df.to_numpy(), dtype=torch.float32).view(1, 1, -1)"
   ],
   "outputs": []
  },
  {
   "cell_type": "code",
   "execution_count": 8,
   "metadata": {
    "id": "yr2Vj7rQQDkj"
   },
   "source": [
    "class ConvolutionNoiseReductor(nn.Module):\n",
    "    def __init__(self, kernel_size, stride=None, padding=0):\n",
    "        super(ConvolutionNoiseReductor, self).__init__()\n",
    "        self.conv = nn.Conv1d(1, 1, kernel_size=kernel_size, stride=stride, padding=padding)\n",
    "\n",
    "    def forward(self, x):\n",
    "        x = self.conv(x)\n",
    "        return x"
   ],
   "outputs": []
  },
  {
   "cell_type": "code",
   "execution_count": 9,
   "metadata": {
    "id": "Zz7WNTJjR0Vu"
   },
   "source": [
    "model = ConvolutionNoiseReductor(kernel_size=256, stride=16)\n",
    "\n",
    "result = model(data_conv)"
   ],
   "outputs": []
  },
  {
   "cell_type": "code",
   "execution_count": 10,
   "metadata": {
    "colab": {
     "base_uri": "https://localhost:8080/",
     "height": 597
    },
    "id": "F7Ab6YIaUr0O",
    "outputId": "dcec0216-4188-48f8-c79c-93d6a4ede500"
   },
   "source": [
    "plot_eeg(df[\"EXG Channel 0\"].to_numpy()[..., np.newaxis], figsize=(15, 3), title=\"Original\")\n",
    "plot_eeg(result[0, :, :].T, figsize=(15, 3), title=\"Denoinsed\")"
   ],
   "outputs": []
  },
  {
   "cell_type": "markdown",
   "metadata": {
    "id": "vt5SHDQi2T1N"
   },
   "source": [
    "**Convolutions ❌** \\\\\n",
    "One major flaw of using convolutions for EEG signal denoising is that the values have a very large shift after applying the convolution."
   ]
  },
  {
   "cell_type": "markdown",
   "metadata": {
    "id": "KG4vJ2AG_Vll"
   },
   "source": [
    "## 2. ICA"
   ]
  },
  {
   "cell_type": "code",
   "execution_count": 11,
   "metadata": {
    "id": "NL0kosXP9zeA"
   },
   "source": [
    "!pip install -q mne"
   ],
   "outputs": []
  },
  {
   "cell_type": "code",
   "execution_count": 12,
   "metadata": {
    "id": "01aln7ZHkbvs"
   },
   "source": [
    "import mne\n",
    "from mne.preprocessing import ICA"
   ],
   "outputs": []
  },
  {
   "cell_type": "code",
   "execution_count": 13,
   "metadata": {
    "colab": {
     "base_uri": "https://localhost:8080/",
     "height": 206
    },
    "id": "PhYl9pvr_MA4",
    "outputId": "ca230d43-84dd-454f-997a-961829b2a53a"
   },
   "source": [
    "data_ica_df = df.iloc[:, 1:9]\n",
    "data_ica_df.head()"
   ],
   "outputs": []
  },
  {
   "cell_type": "code",
   "execution_count": 14,
   "metadata": {
    "colab": {
     "base_uri": "https://localhost:8080/",
     "height": 533
    },
    "id": "V_DM3lJ89xdr",
    "outputId": "0e096133-cc94-47b3-8485-fa6901b2f1f7"
   },
   "source": [
    "sfreq = 125\n",
    "info = mne.create_info(ch_names=data_ica_df.columns.tolist(), sfreq=sfreq, ch_types='eeg')\n",
    "\n",
    "raw = mne.io.RawArray(data_ica_df.T.values, info)\n",
    "\n",
    "#ica = ICA(n_components=None, random_state=42, max_iter=800)\n",
    "ica = ICA(n_components=0.95, random_state=42, max_iter=800)\n",
    "\n",
    "#raw.filter(l_freq=1.0, h_freq=None)\n",
    "raw.filter(l_freq=1.0, h_freq=40)\n",
    "ica.fit(raw)"
   ],
   "outputs": []
  },
  {
   "cell_type": "code",
   "execution_count": 15,
   "metadata": {
    "colab": {
     "base_uri": "https://localhost:8080/",
     "height": 276
    },
    "id": "WSey_LHo-p8B",
    "outputId": "3d4c7f46-ae76-405c-8372-9b5c380a2c08"
   },
   "source": [
    "ica.apply(raw)\n",
    "denoised_df = pd.DataFrame(raw.get_data().T, columns=data_ica_df.columns.tolist())\n",
    "denoised_df.head()"
   ],
   "outputs": []
  },
  {
   "cell_type": "code",
   "execution_count": 16,
   "metadata": {
    "colab": {
     "base_uri": "https://localhost:8080/",
     "height": 1000
    },
    "id": "k8LSO6gmCJI4",
    "outputId": "565cf6df-33c2-4eb0-873e-2cba039454b2"
   },
   "source": [
    "plot_eeg(df[\"EXG Channel 0\"].to_numpy()[..., np.newaxis], figsize=(15, 3), title=\"Original\")\n",
    "plot_eeg(denoised_df.to_numpy(), title=\"Denoinsed\")"
   ],
   "outputs": []
  },
  {
   "cell_type": "code",
   "execution_count": 17,
   "metadata": {},
   "source": [
    "#filtering experiment from below"
   ],
   "outputs": []
  },
  {
   "cell_type": "code",
   "execution_count": 18,
   "metadata": {
    "id": "H-4TMg43Coh0"
   },
   "source": [
    "denoised_df"
   ],
   "outputs": []
  },
  {
   "cell_type": "code",
   "execution_count": 25,
   "metadata": {},
   "source": [
    "import numpy as np\n",
    "import pandas as pd\n",
    "from scipy import signal\n",
    "from mne import create_info, EpochsArray\n",
    "import matplotlib.pyplot as plt\n",
    "import warnings\n",
    "\n",
    "warnings.filterwarnings(\"ignore\", category=FutureWarning)\n",
    "\n",
    "# Sampling rate\n",
    "sampling_rate = 125\n",
    "\n",
    "# Bandpass filter\n",
    "low_cut = 0.5  # Low cutoff frequency (Hz)\n",
    "high_cut = 30  # High cutoff frequency (Hz)\n",
    "nyquist = sampling_rate / 2\n",
    "low = low_cut / nyquist\n",
    "high = high_cut / nyquist\n",
    "order = 4  # Filter order\n",
    "normalized_cutoff = [low, high]\n",
    "filter_coefficients = signal.butter(order, normalized_cutoff, btype='band', output='ba')\n",
    "\n",
    "# Notch filter\n",
    "notch_freq = 50  # Notch frequency (Hz) to remove power line noise\n",
    "notch_quality_factor = 30  # Quality factor for the notch filter\n",
    "notch_filter = signal.iirnotch(notch_freq, notch_quality_factor, sampling_rate)\n",
    "\n",
    "# Apply filters and save filtered data to a new DataFrame\n",
    "filtered_df = denoised_df.copy()\n",
    "for col in filtered_df.columns:\n",
    "    filtered_df[col] = signal.filtfilt(*filter_coefficients, filtered_df[col])\n",
    "    filtered_df[col] = signal.filtfilt(*notch_filter, filtered_df[col])\n",
    "\n",
    "# Re-reference to average\n",
    "filtered_df = filtered_df.sub(filtered_df.mean(axis=1), axis=0)\n",
    "\n",
    "# Baseline correction\n",
    "baseline_start = 0  # Start time (in seconds) for baseline\n",
    "baseline_end = 1  # End time (in seconds) for baseline\n",
    "baseline_samples = slice(int(baseline_start * sampling_rate), int(baseline_end * sampling_rate))\n",
    "baseline_mean = filtered_df.iloc[baseline_samples].mean()\n",
    "filtered_df = filtered_df.sub(baseline_mean, axis=1)\n",
    "\n",
    "# Imagined speech epoch extraction\n",
    "epoch_duration = 1  # Duration of each epoch in seconds\n",
    "epoch_start_time = 3  # Start time of epoch extraction in seconds\n",
    "epoch_end_time = 10  # End time of epoch extraction in seconds\n",
    "epoch_samples_per_epoch = int(epoch_duration * sampling_rate)\n",
    "\n",
    "epochs_data_filtered = []\n",
    "epochs_data_denoised = []\n",
    "\n",
    "for i in range(len(filtered_df) // epoch_samples_per_epoch):\n",
    "    epoch_data_filtered = filtered_df.iloc[i * epoch_samples_per_epoch : (i + 1) * epoch_samples_per_epoch].values.T\n",
    "    epochs_data_filtered.append(epoch_data_filtered)\n",
    "\n",
    "    # Assuming denoised_data is available with the same shape as filtered_data\n",
    "    epoch_data_denoised = denoised_df.iloc[i * epoch_samples_per_epoch : (i + 1) * epoch_samples_per_epoch].values.T\n",
    "    epochs_data_denoised.append(epoch_data_denoised)\n",
    "\n",
    "# Create MNE info object\n",
    "n_channels = len(filtered_df.columns)\n",
    "ch_names = filtered_df.columns.tolist()\n",
    "ch_types = ['eeg'] * n_channels\n",
    "info = create_info(ch_names=ch_names, ch_types=ch_types, sfreq=sampling_rate)\n",
    "\n",
    "# Create MNE EpochsArray for filtered data\n",
    "epochs_filtered = EpochsArray(epochs_data_filtered, info)\n",
    "\n",
    "# Create MNE EpochsArray for denoised data\n",
    "epochs_denoised = EpochsArray(epochs_data_denoised, info)\n",
    "\n",
    "# Plotting all channels\n",
    "num_channels = len(epochs_filtered.ch_names)\n",
    "fig, axs = plt.subplots(num_channels, 2, figsize=(10, 6*num_channels), sharex=True)\n",
    "\n",
    "for i in range(num_channels):\n",
    "    axs[i, 0].plot(epochs_filtered.times, epochs_filtered.get_data()[:, i, :].mean(axis=0))\n",
    "    axs[i, 0].set_title(f'Filtered Data (Channel {i})')\n",
    "    axs[i, 0].set_ylabel('Amplitude (μV)')\n",
    "\n",
    "    axs[i, 1].plot(epochs_denoised.times, epochs_denoised.get_data()[:, i, :].mean(axis=0))\n",
    "    axs[i, 1].set_title(f'Denoised Data (Channel {i})')\n",
    "    axs[i, 1].set_ylabel('Amplitude (μV)')\n",
    "\n",
    "# Set x-axis label only for the last subplot\n",
    "axs[-1, 0].set_xlabel('Time (s)')\n",
    "axs[-1, 1].set_xlabel('Time (s)')\n",
    "\n",
    "# Adjust the spacing between subplots\n",
    "plt.subplots_adjust(hspace=0.5)\n",
    "\n",
    "# Display the plot\n",
    "plt.show()\n"
   ],
   "outputs": []
  },
  {
   "cell_type": "code",
   "execution_count": 26,
   "metadata": {},
   "source": [
    "# Calculate mean of filtered EEG data for each channel\n",
    "mean_data = filtered_df.mean()\n",
    "\n",
    "# Create a new DataFrame to store the mean data\n",
    "mean_df = pd.DataFrame(mean_data, columns=['Mean Amplitude (μV)'])\n",
    "\n",
    "# Display the new DataFrame\n",
    "print(mean_df)\n"
   ],
   "outputs": []
  },
  {
   "cell_type": "code",
   "execution_count": 27,
   "metadata": {},
   "source": [
    "filtered_df.to_csv(\"filtered_data.csv\", index=False)\n"
   ],
   "outputs": []
  },
  {
   "cell_type": "code",
   "execution_count": 28,
   "metadata": {},
   "source": [
    "denoised_df"
   ],
   "outputs": []
  },
  {
   "cell_type": "code",
   "execution_count": 29,
   "metadata": {},
   "source": [
    "filtered_df"
   ],
   "outputs": []
  },
  {
   "cell_type": "code",
   "execution_count": 37,
   "metadata": {},
   "source": [
    "# Загрузка и создание объекта `raw`\n",
    "data_ica_df = df.iloc[:, 1:9]\n",
    "sfreq = 125\n",
    "info = mne.create_info(ch_names=data_ica_df.columns.tolist(), sfreq=sfreq, ch_types='eeg')\n",
    "raw = mne.io.RawArray(data_ica_df.T.values, info)\n",
    "\n",
    "# Теперь raw_df содержит исходные данные\n",
    "raw_df = pd.DataFrame(data=raw.get_data().T, columns=data_ica_df.columns.tolist())\n",
    "\n",
    "# Количество каналов\n",
    "n_channels = len(raw_df.columns)\n",
    "fig, axs = plt.subplots(n_channels, 2, figsize=(15, 3 * n_channels))\n",
    "\n",
    "for i, channel in enumerate(raw_df.columns):\n",
    "    # Исходный сигнал (raw)\n",
    "    axs[i, 0].plot(raw_df.index / sampling_rate, raw_df[channel])\n",
    "    axs[i, 0].set_title(f'Raw Data (Channel {i})')\n",
    "    axs[i, 0].set_ylabel('Amplitude (µV)')\n",
    "    if i == n_channels - 1:\n",
    "        axs[i, 0].set_xlabel('Time (s)')\n",
    "\n",
    "    # Фильтрованный сигнал (filtered)\n",
    "    axs[i, 1].plot(filtered_df.index / sampling_rate, filtered_df[channel])\n",
    "    axs[i, 1].set_title(f'Filtered Data (Channel {i})')\n",
    "    axs[i, 1].set_ylabel('Amplitude (µV)')\n",
    "    if i == n_channels - 1:\n",
    "        axs[i, 1].set_xlabel('Time (s)')\n",
    "\n",
    "# Adjust the spacing between subplots\n",
    "plt.subplots_adjust(hspace=0.5)\n",
    "\n",
    "# Отображаем график\n",
    "plt.show()"
   ],
   "outputs": []
  },
  {
   "cell_type": "code",
   "execution_count": 39,
   "metadata": {},
   "source": [
    "import mne\n",
    "import numpy as np\n",
    "import matplotlib.pyplot as plt\n",
    "\n",
    "# Предполагаем, что отфильтрованные данные загружены в объект RawArray\n",
    "filtered_data = filtered_df.T.values * 1e-6  # конвертация в вольты, если данные в микровольтах\n",
    "info = mne.create_info(ch_names=filtered_df.columns.tolist(), sfreq=sampling_rate, ch_types=['eeg']*n_channels)\n",
    "raw_filtered = mne.io.RawArray(filtered_data, info)\n",
    "\n",
    "# Создание EOG каналов из одного из уже существующих каналов (например, первый канал)\n",
    "raw_filtered.set_channel_types({channel: 'eog' for channel in filtered_df.columns[0:1]})\n",
    "\n",
    "# Создание EOG epochs для обнаружения морганий\n",
    "eog_epochs = mne.preprocessing.create_eog_epochs(raw_filtered, ch_name=filtered_df.columns[0])\n",
    "eog_events = eog_epochs.events\n",
    "\n",
    "# Печать и создание DataFrame для событий\n",
    "print(eog_events)\n",
    "eog_events_df = pd.DataFrame(eog_events, columns=['sample', 'prev_event_id', 'event_id'])\n",
    "\n",
    "# Графики сигналов и отмеченных EOG событий\n",
    "fig, axs = plt.subplots(n_channels, 2, figsize=(15, 3 * n_channels))\n",
    "\n",
    "for i, channel in enumerate(filtered_df.columns):\n",
    "    # Исходный сигнал (raw)\n",
    "    axs[i, 0].plot(raw_df.index / sampling_rate, raw_df[channel], label='Raw Data')\n",
    "    axs[i, 0].set_title(f'Raw Data (Channel {i})')\n",
    "    axs[i, 0].set_ylabel('Amplitude (µV)')\n",
    "    if i == n_channels - 1:\n",
    "        axs[i, 0].set_xlabel('Time (s)')\n",
    "\n",
    "    # Фильтрованный сигнал (filtered)\n",
    "    axs[i, 1].plot(filtered_df.index / sampling_rate, filtered_df[channel], label='Filtered Data')\n",
    "    \n",
    "    # Отметим события на графиках\n",
    "    blink_samples = eog_events_df['sample'].values\n",
    "    blink_times = blink_samples / sampling_rate\n",
    "    for blink_time in blink_times:\n",
    "        axs[i, 1].axvline(x=blink_time, color='r', linestyle='--', label='Detected Blink' if blink_time == blink_times[0] else \"\")\n",
    "    \n",
    "    axs[i, 1].set_title(f'Filtered Data (Channel {i})')\n",
    "    axs[i, 1].set_ylabel('Amplitude (µV)')\n",
    "    if i == n_channels - 1:\n",
    "        axs[i, 1].set_xlabel('Time (s)')\n",
    "    axs[i, 1].legend()\n",
    "\n",
    "# Adjust the spacing between subplots\n",
    "plt.subplots_adjust(hspace=0.5)\n",
    "\n",
    "# Отображаем график с отмеченными событиями\n",
    "plt.show()\n",
    "\n",
    "print(eog_events_df)"
   ],
   "outputs": []
  },
  {
   "cell_type": "code",
   "execution_count": null,
   "metadata": {},
   "source": [],
   "outputs": []
  }
 ],
 "metadata": {
  "colab": {
   "provenance": []
  },
  "kernelspec": {
   "display_name": "Python 3 (ipykernel)",
   "language": "python",
   "name": "python3"
  },
  "language_info": {
   "codemirror_mode": {
    "name": "ipython",
    "version": 3
   },
   "file_extension": ".py",
   "mimetype": "text/x-python",
   "name": "python",
   "nbconvert_exporter": "python",
   "pygments_lexer": "ipython3",
   "version": "3.11.5"
  }
 },
 "nbformat": 4,
 "nbformat_minor": 4
}
