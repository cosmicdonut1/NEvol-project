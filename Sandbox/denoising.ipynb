{
 "nbformat": 4,
 "nbformat_minor": 0,
 "metadata": {
  "colab": {
   "provenance": []
  },
  "kernelspec": {
   "name": "python3",
   "display_name": "Python 3 (ipykernel)",
   "language": "python"
  },
  "language_info": {
   "name": "python"
  }
 },
 "cells": [
  {
   "cell_type": "markdown",
   "source": [
    "# Denoising experiments"
   ],
   "metadata": {
    "id": "Q76Enb2j2bRo"
   }
  },
  {
   "cell_type": "markdown",
   "source": [
    "## Import libraries"
   ],
   "metadata": {
    "id": "nJh9qbz92eEp"
   }
  },
  {
   "cell_type": "code",
   "execution_count": null,
   "metadata": {
    "id": "BG_NwPU-zvia"
   },
   "source": [
    "import numpy as np\n",
    "import matplotlib.pyplot as plt\n",
    "import pandas as pd\n",
    "\n",
    "import torch\n",
    "import torch.nn as nn"
   ],
   "outputs": []
  },
  {
   "cell_type": "markdown",
   "source": [
    "## Step 1: Data Analysis"
   ],
   "metadata": {
    "id": "Y7Sonk672hFA"
   }
  },
  {
   "cell_type": "code",
   "source": [
    "df = pd.read_csv(\"OpenBCI-RAW.txt\", comment='%')\n",
    "df = df.rename(columns=lambda x: x.strip())\n",
    "df = df[5:]\n",
    "df.head()"
   ],
   "metadata": {
    "colab": {
     "base_uri": "https://localhost:8080/",
     "height": 377
    },
    "id": "NzsnW27H5Opq",
    "outputId": "5841346d-ed92-4c2e-df60-5749c41344c0"
   },
   "execution_count": null,
   "outputs": []
  },
  {
   "metadata": {
    "ExecuteTime": {
     "end_time": "2024-05-31T14:55:29.858474Z",
     "start_time": "2024-05-31T14:55:28.349573Z"
    }
   },
   "cell_type": "code",
   "source": [
    "import matplotlib.pyplot as plt\n",
    "\n",
    "# Define the applications and their coordinates on the impact and frequency axes\n",
    "applications = {\n",
    "    \"Medical\": (8, 6),\n",
    "    \"Gaming and Entertainment\": (5, 5),\n",
    "    \"Mental Health\": (7, 4),\n",
    "    \"Education and Training\": (5, 3),\n",
    "    \"Research\": (9, 2),\n",
    "    \"Security\": (7, 2),\n",
    "    \"Communication\": (8, 2)\n",
    "}\n",
    "\n",
    "# Create lists for impact and frequency\n",
    "impact = [applications[app][0] for app in applications]\n",
    "frequency = [applications[app][1] for app in applications]\n",
    "labels = list(applications.keys())\n",
    "\n",
    "# Create the plot\n",
    "plt.figure(figsize=(10, 6))\n",
    "plt.scatter(frequency, impact, color='b')\n",
    "\n",
    "# Annotate the points\n",
    "for i, label in enumerate(labels):\n",
    "    plt.text(frequency[i], impact[i], label, fontsize=9, ha='right')\n",
    "\n",
    "# Set chart title and labels\n",
    "plt.title('BCI Applications: Impact vs. Frequency')\n",
    "plt.xlabel('Frequency')\n",
    "plt.ylabel('Impact')\n",
    "plt.grid(True)\n",
    "plt.show()"
   ],
   "execution_count": 1,
   "outputs": []
  },
  {
   "cell_type": "code",
   "source": [
    "df.columns"
   ],
   "metadata": {
    "id": "7lkerJ_p6bGK",
    "colab": {
     "base_uri": "https://localhost:8080/"
    },
    "outputId": "0b32c0f1-55a1-45ed-b047-9e7307e9ab5d"
   },
   "execution_count": null,
   "outputs": []
  },
  {
   "cell_type": "code",
   "source": [
    "def plot_eeg(data, figsize=(20, 15), title=None):\n",
    "    if isinstance(data, torch.Tensor):\n",
    "        data = data.detach().numpy()\n",
    "\n",
    "    num_plots = data.shape[1]\n",
    "\n",
    "    fig, ax = plt.subplots(num_plots, 1, figsize=figsize)\n",
    "    x = range(len(data))\n",
    "\n",
    "    if data.ndim == 1:\n",
    "        data = data[:, None]\n",
    "\n",
    "    if num_plots == 1:\n",
    "        ax = [ax]\n",
    "        # data = data.reshape(1, -1)\n",
    "\n",
    "    for i in range(num_plots):\n",
    "        ax[i].plot(x, data[:, i], linewidth=0.5)\n",
    "        ax[i].set_xlabel(\"Iter\")\n",
    "        ax[i].set_ylabel(\"Voltage ($\\mu V$)\")\n",
    "        if title:\n",
    "            ax[i].set_title(title)\n",
    "        else:\n",
    "            ax[i].set_title(df.columns[start_idx+i])\n",
    "\n",
    "    plt.tight_layout()\n",
    "    plt.show()"
   ],
   "metadata": {
    "id": "rnQy14YMculZ"
   },
   "execution_count": null,
   "outputs": []
  },
  {
   "cell_type": "code",
   "source": [
    "start_idx = 1\n",
    "end_idx = start_idx + 8\n",
    "raw_data = df.iloc[:, start_idx:end_idx].to_numpy()\n",
    "plot_eeg(raw_data)"
   ],
   "metadata": {
    "colab": {
     "base_uri": "https://localhost:8080/",
     "height": 1000
    },
    "id": "-j-J0UAhSEBg",
    "outputId": "62354678-e7c1-4d90-df69-a940a2bad593"
   },
   "execution_count": null,
   "outputs": []
  },
  {
   "cell_type": "markdown",
   "source": [
    "## 1. 1D Convolutions"
   ],
   "metadata": {
    "id": "y9AV9AWbNjW9"
   }
  },
  {
   "cell_type": "code",
   "source": [
    "data_conv_df = df.iloc[:, 1]\n",
    "data_conv_df.head()"
   ],
   "metadata": {
    "colab": {
     "base_uri": "https://localhost:8080/"
    },
    "id": "CUaDgFkVLDfU",
    "outputId": "12b660d6-4105-41b4-a29a-fb0eedb5b3cb"
   },
   "execution_count": null,
   "outputs": []
  },
  {
   "cell_type": "code",
   "source": [
    "data_conv = torch.tensor(data_conv_df.to_numpy(), dtype=torch.float32).view(1, 1, -1)"
   ],
   "metadata": {
    "id": "FKSOT3xVU3HV"
   },
   "execution_count": null,
   "outputs": []
  },
  {
   "cell_type": "code",
   "source": [
    "class ConvolutionNoiseReductor(nn.Module):\n",
    "    def __init__(self, kernel_size, stride=None, padding=0):\n",
    "        super(ConvolutionNoiseReductor, self).__init__()\n",
    "        self.conv = nn.Conv1d(1, 1, kernel_size=kernel_size, stride=stride, padding=padding)\n",
    "\n",
    "    def forward(self, x):\n",
    "        x = self.conv(x)\n",
    "        return x"
   ],
   "metadata": {
    "id": "yr2Vj7rQQDkj"
   },
   "execution_count": null,
   "outputs": []
  },
  {
   "cell_type": "code",
   "source": [
    "model = ConvolutionNoiseReductor(kernel_size=256, stride=16)\n",
    "\n",
    "result = model(data_conv)"
   ],
   "metadata": {
    "id": "Zz7WNTJjR0Vu"
   },
   "execution_count": null,
   "outputs": []
  },
  {
   "cell_type": "code",
   "source": [
    "plot_eeg(df[\"EXG Channel 0\"].to_numpy()[..., np.newaxis], figsize=(15, 3), title=\"Original\")\n",
    "plot_eeg(result[0, :, :].T, figsize=(15, 3), title=\"Denoinsed\")"
   ],
   "metadata": {
    "colab": {
     "base_uri": "https://localhost:8080/",
     "height": 597
    },
    "id": "F7Ab6YIaUr0O",
    "outputId": "dcec0216-4188-48f8-c79c-93d6a4ede500"
   },
   "execution_count": null,
   "outputs": []
  },
  {
   "cell_type": "markdown",
   "source": [
    "**Convolutions ❌** \\\\\n",
    "One major flaw of using convolutions for EEG signal denoising is that the values have a very large shift after applying the convolution."
   ],
   "metadata": {
    "id": "vt5SHDQi2T1N"
   }
  },
  {
   "cell_type": "markdown",
   "source": [
    "## 2. ICA"
   ],
   "metadata": {
    "id": "KG4vJ2AG_Vll"
   }
  },
  {
   "cell_type": "code",
   "source": [
    "!pip install -q mne"
   ],
   "metadata": {
    "id": "NL0kosXP9zeA"
   },
   "execution_count": null,
   "outputs": []
  },
  {
   "cell_type": "code",
   "source": [
    "import mne\n",
    "from mne.preprocessing import ICA"
   ],
   "metadata": {
    "id": "01aln7ZHkbvs"
   },
   "execution_count": null,
   "outputs": []
  },
  {
   "cell_type": "code",
   "source": [
    "data_ica_df = df.iloc[:, 1:10]\n",
    "data_ica_df.head()"
   ],
   "metadata": {
    "colab": {
     "base_uri": "https://localhost:8080/",
     "height": 206
    },
    "id": "PhYl9pvr_MA4",
    "outputId": "ca230d43-84dd-454f-997a-961829b2a53a"
   },
   "execution_count": null,
   "outputs": []
  },
  {
   "cell_type": "code",
   "source": [
    "sfreq = 100\n",
    "info = mne.create_info(ch_names=data_ica_df.columns.tolist(), sfreq=sfreq, ch_types='eeg')\n",
    "\n",
    "raw = mne.io.RawArray(data_ica_df.T.values, info)\n",
    "\n",
    "ica = ICA(n_components=None, random_state=42, max_iter=800)\n",
    "raw.filter(l_freq=1.0, h_freq=None)\n",
    "ica.fit(raw)"
   ],
   "metadata": {
    "colab": {
     "base_uri": "https://localhost:8080/",
     "height": 533
    },
    "id": "V_DM3lJ89xdr",
    "outputId": "0e096133-cc94-47b3-8485-fa6901b2f1f7"
   },
   "execution_count": null,
   "outputs": []
  },
  {
   "cell_type": "code",
   "source": [
    "ica.apply(raw)\n",
    "denoised_df = pd.DataFrame(raw.get_data().T, columns=data_ica_df.columns.tolist())\n",
    "denoised_df.head()"
   ],
   "metadata": {
    "colab": {
     "base_uri": "https://localhost:8080/",
     "height": 276
    },
    "id": "WSey_LHo-p8B",
    "outputId": "3d4c7f46-ae76-405c-8372-9b5c380a2c08"
   },
   "execution_count": null,
   "outputs": []
  },
  {
   "cell_type": "code",
   "source": [
    "plot_eeg(df[\"EXG Channel 0\"].to_numpy()[..., np.newaxis], figsize=(15, 3), title=\"Original\")\n",
    "plot_eeg(denoised_df.to_numpy(), title=\"Denoinsed\")"
   ],
   "metadata": {
    "colab": {
     "base_uri": "https://localhost:8080/",
     "height": 1000
    },
    "id": "k8LSO6gmCJI4",
    "outputId": "565cf6df-33c2-4eb0-873e-2cba039454b2"
   },
   "execution_count": null,
   "outputs": []
  },
  {
   "cell_type": "code",
   "source": [],
   "metadata": {
    "id": "H-4TMg43Coh0"
   },
   "execution_count": null,
   "outputs": []
  }
 ]
}
