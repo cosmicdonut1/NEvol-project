{
 "cells": [
  {
   "cell_type": "code",
   "execution_count": 2,
   "metadata": {},
   "outputs": [],
   "source": [
    "import pandas as pd\n",
    "import matplotlib.pyplot as plt\n",
    "import numpy as np\n",
    "from scipy import signal"
   ]
  },
  {
   "cell_type": "code",
   "execution_count": 1,
   "metadata": {},
   "outputs": [
    {
     "data": {
      "application/vnd.jupyter.widget-view+json": {
       "model_id": "1bbaba77e38442fbbe8b11c27ae52899",
       "version_major": 2,
       "version_minor": 0
      },
      "text/plain": [
       "interactive(children=(FloatSlider(value=8.0, description='x:', max=12.0, min=5.0), FloatSlider(value=0.5, desc…"
      ]
     },
     "metadata": {},
     "output_type": "display_data"
    }
   ],
   "source": [
    "#Visualize the effect of inputs into hemodynamic response function\n",
    "\n",
    "import numpy as np\n",
    "import matplotlib.pyplot as plt\n",
    "from ipywidgets import interact, FloatSlider\n",
    "\n",
    "def hrf(t, x, y):\n",
    "    \"\"\"A hemodynamic response function\"\"\"\n",
    "    return t ** x * np.exp(-t / y)\n",
    "\n",
    "def visualize_hrf(x=8, y=0.5):\n",
    "    t = np.linspace(0, 20, 1000)  # Adjust the range of t as needed\n",
    "    response = hrf(t, x, y)\n",
    "    plt.plot(t, response)\n",
    "    plt.title('Hemodynamic Response Function')\n",
    "    plt.xlabel('Time')\n",
    "    plt.ylabel('Response')\n",
    "    plt.grid(True)\n",
    "    plt.show()\n",
    "\n",
    "# Define sliders\n",
    "x_slider = FloatSlider(value=8, min=5, max=12, step=0.1, description='x:')\n",
    "y_slider = FloatSlider(value=0.5, min=0, max=1, step=0.05, description='y:')\n",
    "\n",
    "# Create interactive plot\n",
    "interact(visualize_hrf, x=x_slider, y=y_slider);\n"
   ]
  }
 ],
 "metadata": {
  "kernelspec": {
   "display_name": "venv",
   "language": "python",
   "name": "python3"
  },
  "language_info": {
   "codemirror_mode": {
    "name": "ipython",
    "version": 3
   },
   "file_extension": ".py",
   "mimetype": "text/x-python",
   "name": "python",
   "nbconvert_exporter": "python",
   "pygments_lexer": "ipython3",
   "version": "3.9.13"
  }
 },
 "nbformat": 4,
 "nbformat_minor": 2
}
