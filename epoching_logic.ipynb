{
 "cells": [
  {
   "cell_type": "code",
   "id": "initial_id",
   "metadata": {
    "ExecuteTime": {
     "end_time": "2024-06-03T20:50:34.013946Z",
     "start_time": "2024-06-03T20:50:33.834331Z"
    }
   },
   "source": [
    "from utils import load_buffers,load_task_markers\n",
    "import pandas as pd\n",
    "import config\n",
    "import os\n",
    "import numpy as np\n",
    "\n",
    "import mne\n",
    "from mne import create_info\n",
    "from mne.epochs import EpochsArray\n",
    "from mne.decoding import Vectorizer\n",
    "\n",
    "from sklearn.ensemble import RandomForestClassifier\n",
    "from sklearn.pipeline import make_pipeline\n",
    "from matplotlib import pyplot as plt\n",
    "%matplotlib qt"
   ],
   "outputs": [],
   "execution_count": 130
  },
  {
   "cell_type": "code",
   "id": "e357ba0efaee48e8",
   "metadata": {
    "ExecuteTime": {
     "end_time": "2024-06-03T20:58:57.765566Z",
     "start_time": "2024-06-03T20:58:57.686738Z"
    }
   },
   "source": [
    "# load the task and signal files stored in the disk\n",
    "# Based on the task timestamps, subset the signals and annotate the events\n",
    "# create epoch data that includes the signal and events\n",
    "# use the epoch data to train a classifier\n",
    "# save the classifier model as a pickle file for prediction later\n",
    "\n",
    "# Load the .npz file for task\n",
    "file_path = 'processed_data/motor_imagery/2024-06-03_22-57-05/task_data/task_markers.npz'  # Replace with your file path\n",
    "df_tasks = load_task_markers(file_path)\n",
    "\n",
    "# Load the .npz file for buffer\n",
    "folder_path = 'processed_data/motor_imagery/2024-06-03_22-57-05/signal_data/'\n",
    "df_buffers = load_buffers(folder_path)\n",
    "\n",
    "# print(df_buffers)\n",
    "print(\"Reading signals and markers from signals from disk...\")\n",
    "\n",
    "df_buffers = df_buffers.sort_values('timestamps').reset_index(drop=True)\n",
    "df_tasks = df_tasks.sort_values('timestamps').reset_index(drop=True)"
   ],
   "outputs": [
    {
     "name": "stdout",
     "output_type": "stream",
     "text": [
      "Array names in the .npz file: ['event_ids', 'timestamps']\n",
      "Reading signals and markers from signals from disk...\n"
     ]
    }
   ],
   "execution_count": 152
  },
  {
   "cell_type": "code",
   "id": "aaa77562ff89e29b",
   "metadata": {
    "ExecuteTime": {
     "end_time": "2024-06-03T20:59:01.574056Z",
     "start_time": "2024-06-03T20:59:01.526770Z"
    }
   },
   "source": "df_buffers",
   "outputs": [
    {
     "data": {
      "text/plain": [
       "       buffer_col_0   buffer_col_1   buffer_col_2   buffer_col_3  \\\n",
       "0     186386.921875  167550.734375  171446.656250  187459.265625   \n",
       "1     186383.343750  167548.234375  171446.031250  187463.109375   \n",
       "2     186387.265625  167556.640625  171451.484375  187467.312500   \n",
       "3     186389.781250  167564.234375  171454.781250  187468.656250   \n",
       "4     186386.375000  167556.187500  171453.000000  187466.765625   \n",
       "...             ...            ...            ...            ...   \n",
       "4495  186467.015625  167622.890625  171525.156250  187449.875000   \n",
       "4496  186463.984375  167621.468750  171523.984375  187451.031250   \n",
       "4497  186461.218750  167628.171875  171521.578125  187446.750000   \n",
       "4498  186461.390625  167628.796875  171518.093750  187440.937500   \n",
       "4499  186464.968750  167616.546875  171518.625000  187438.609375   \n",
       "\n",
       "       buffer_col_4   buffer_col_5   buffer_col_6   buffer_col_7  \\\n",
       "0     183097.453125  164166.781250  166521.046875  161325.781250   \n",
       "1     183104.343750  164171.421875  166529.718750  161340.531250   \n",
       "2     183116.312500  164178.125000  166528.906250  161351.343750   \n",
       "3     183114.796875  164181.078125  166536.062500  161349.734375   \n",
       "4     183108.000000  164179.921875  166538.203125  161340.078125   \n",
       "...             ...            ...            ...            ...   \n",
       "4495  183119.531250  164223.546875  166572.625000  161398.203125   \n",
       "4496  183118.468750  164225.062500  166576.562500  161409.109375   \n",
       "4497  183118.640625  164218.281250  166552.156250  161394.625000   \n",
       "4498  183106.390625  164208.796875  166538.562500  161362.343750   \n",
       "4499  183111.218750  164210.765625  166534.906250  161369.953125   \n",
       "\n",
       "      buffer_col_8  buffer_col_9  buffer_col_10  buffer_col_11  buffer_col_12  \\\n",
       "0         0.055908      1.008545      -0.028564      -2.014160       0.335693   \n",
       "1         0.056885      1.008301      -0.027588      -2.044677       0.274658   \n",
       "2         0.057861      1.008545      -0.027588      -2.075195       0.091553   \n",
       "3         0.058838      1.008057      -0.030762      -1.953125       0.061035   \n",
       "4         0.057129      1.011230      -0.028564      -2.166748       0.061035   \n",
       "...            ...           ...            ...            ...            ...   \n",
       "4495      0.050293      1.006348      -0.084717      -2.075195      -0.183105   \n",
       "4496      0.049805      1.004883      -0.085938      -2.166748      -0.183105   \n",
       "4497      0.049561      1.005371      -0.086914      -2.105713      -0.305176   \n",
       "4498      0.047852      1.005615      -0.088135      -2.044677      -0.274658   \n",
       "4499      0.049316      1.007812      -0.085693      -2.044677      -0.366211   \n",
       "\n",
       "      buffer_col_13  buffer_col_14  buffer_col_15  buffer_col_16  \\\n",
       "0          0.671387      73.333336       737439.0            1.0   \n",
       "1          0.762939      73.333336       737440.0            1.0   \n",
       "2          0.854492      73.333336       737441.0            1.0   \n",
       "3          0.915527      73.333336       737442.0            1.0   \n",
       "4          0.854492      73.333336       737443.0            1.0   \n",
       "...             ...            ...            ...            ...   \n",
       "4495       0.701904      73.333336       741934.0            1.0   \n",
       "4496       0.762939      73.333336       741935.0            1.0   \n",
       "4497       0.793457      73.333336       741936.0            1.0   \n",
       "4498       0.946045      73.333336       741937.0            1.0   \n",
       "4499       0.885010      73.333336       741938.0            1.0   \n",
       "\n",
       "         timestamps  part_number  \n",
       "0     798165.063115            1  \n",
       "1     798165.067223            1  \n",
       "2     798165.067238            1  \n",
       "3     798165.067245            1  \n",
       "4     798165.067251            1  \n",
       "...             ...          ...  \n",
       "4495  798182.988627            9  \n",
       "4496  798182.990561            9  \n",
       "4497  798182.992969            9  \n",
       "4498  798182.996678            9  \n",
       "4499  798183.005550            9  \n",
       "\n",
       "[4500 rows x 19 columns]"
      ],
      "text/html": [
       "<div>\n",
       "<style scoped>\n",
       "    .dataframe tbody tr th:only-of-type {\n",
       "        vertical-align: middle;\n",
       "    }\n",
       "\n",
       "    .dataframe tbody tr th {\n",
       "        vertical-align: top;\n",
       "    }\n",
       "\n",
       "    .dataframe thead th {\n",
       "        text-align: right;\n",
       "    }\n",
       "</style>\n",
       "<table border=\"1\" class=\"dataframe\">\n",
       "  <thead>\n",
       "    <tr style=\"text-align: right;\">\n",
       "      <th></th>\n",
       "      <th>buffer_col_0</th>\n",
       "      <th>buffer_col_1</th>\n",
       "      <th>buffer_col_2</th>\n",
       "      <th>buffer_col_3</th>\n",
       "      <th>buffer_col_4</th>\n",
       "      <th>buffer_col_5</th>\n",
       "      <th>buffer_col_6</th>\n",
       "      <th>buffer_col_7</th>\n",
       "      <th>buffer_col_8</th>\n",
       "      <th>buffer_col_9</th>\n",
       "      <th>buffer_col_10</th>\n",
       "      <th>buffer_col_11</th>\n",
       "      <th>buffer_col_12</th>\n",
       "      <th>buffer_col_13</th>\n",
       "      <th>buffer_col_14</th>\n",
       "      <th>buffer_col_15</th>\n",
       "      <th>buffer_col_16</th>\n",
       "      <th>timestamps</th>\n",
       "      <th>part_number</th>\n",
       "    </tr>\n",
       "  </thead>\n",
       "  <tbody>\n",
       "    <tr>\n",
       "      <th>0</th>\n",
       "      <td>186386.921875</td>\n",
       "      <td>167550.734375</td>\n",
       "      <td>171446.656250</td>\n",
       "      <td>187459.265625</td>\n",
       "      <td>183097.453125</td>\n",
       "      <td>164166.781250</td>\n",
       "      <td>166521.046875</td>\n",
       "      <td>161325.781250</td>\n",
       "      <td>0.055908</td>\n",
       "      <td>1.008545</td>\n",
       "      <td>-0.028564</td>\n",
       "      <td>-2.014160</td>\n",
       "      <td>0.335693</td>\n",
       "      <td>0.671387</td>\n",
       "      <td>73.333336</td>\n",
       "      <td>737439.0</td>\n",
       "      <td>1.0</td>\n",
       "      <td>798165.063115</td>\n",
       "      <td>1</td>\n",
       "    </tr>\n",
       "    <tr>\n",
       "      <th>1</th>\n",
       "      <td>186383.343750</td>\n",
       "      <td>167548.234375</td>\n",
       "      <td>171446.031250</td>\n",
       "      <td>187463.109375</td>\n",
       "      <td>183104.343750</td>\n",
       "      <td>164171.421875</td>\n",
       "      <td>166529.718750</td>\n",
       "      <td>161340.531250</td>\n",
       "      <td>0.056885</td>\n",
       "      <td>1.008301</td>\n",
       "      <td>-0.027588</td>\n",
       "      <td>-2.044677</td>\n",
       "      <td>0.274658</td>\n",
       "      <td>0.762939</td>\n",
       "      <td>73.333336</td>\n",
       "      <td>737440.0</td>\n",
       "      <td>1.0</td>\n",
       "      <td>798165.067223</td>\n",
       "      <td>1</td>\n",
       "    </tr>\n",
       "    <tr>\n",
       "      <th>2</th>\n",
       "      <td>186387.265625</td>\n",
       "      <td>167556.640625</td>\n",
       "      <td>171451.484375</td>\n",
       "      <td>187467.312500</td>\n",
       "      <td>183116.312500</td>\n",
       "      <td>164178.125000</td>\n",
       "      <td>166528.906250</td>\n",
       "      <td>161351.343750</td>\n",
       "      <td>0.057861</td>\n",
       "      <td>1.008545</td>\n",
       "      <td>-0.027588</td>\n",
       "      <td>-2.075195</td>\n",
       "      <td>0.091553</td>\n",
       "      <td>0.854492</td>\n",
       "      <td>73.333336</td>\n",
       "      <td>737441.0</td>\n",
       "      <td>1.0</td>\n",
       "      <td>798165.067238</td>\n",
       "      <td>1</td>\n",
       "    </tr>\n",
       "    <tr>\n",
       "      <th>3</th>\n",
       "      <td>186389.781250</td>\n",
       "      <td>167564.234375</td>\n",
       "      <td>171454.781250</td>\n",
       "      <td>187468.656250</td>\n",
       "      <td>183114.796875</td>\n",
       "      <td>164181.078125</td>\n",
       "      <td>166536.062500</td>\n",
       "      <td>161349.734375</td>\n",
       "      <td>0.058838</td>\n",
       "      <td>1.008057</td>\n",
       "      <td>-0.030762</td>\n",
       "      <td>-1.953125</td>\n",
       "      <td>0.061035</td>\n",
       "      <td>0.915527</td>\n",
       "      <td>73.333336</td>\n",
       "      <td>737442.0</td>\n",
       "      <td>1.0</td>\n",
       "      <td>798165.067245</td>\n",
       "      <td>1</td>\n",
       "    </tr>\n",
       "    <tr>\n",
       "      <th>4</th>\n",
       "      <td>186386.375000</td>\n",
       "      <td>167556.187500</td>\n",
       "      <td>171453.000000</td>\n",
       "      <td>187466.765625</td>\n",
       "      <td>183108.000000</td>\n",
       "      <td>164179.921875</td>\n",
       "      <td>166538.203125</td>\n",
       "      <td>161340.078125</td>\n",
       "      <td>0.057129</td>\n",
       "      <td>1.011230</td>\n",
       "      <td>-0.028564</td>\n",
       "      <td>-2.166748</td>\n",
       "      <td>0.061035</td>\n",
       "      <td>0.854492</td>\n",
       "      <td>73.333336</td>\n",
       "      <td>737443.0</td>\n",
       "      <td>1.0</td>\n",
       "      <td>798165.067251</td>\n",
       "      <td>1</td>\n",
       "    </tr>\n",
       "    <tr>\n",
       "      <th>...</th>\n",
       "      <td>...</td>\n",
       "      <td>...</td>\n",
       "      <td>...</td>\n",
       "      <td>...</td>\n",
       "      <td>...</td>\n",
       "      <td>...</td>\n",
       "      <td>...</td>\n",
       "      <td>...</td>\n",
       "      <td>...</td>\n",
       "      <td>...</td>\n",
       "      <td>...</td>\n",
       "      <td>...</td>\n",
       "      <td>...</td>\n",
       "      <td>...</td>\n",
       "      <td>...</td>\n",
       "      <td>...</td>\n",
       "      <td>...</td>\n",
       "      <td>...</td>\n",
       "      <td>...</td>\n",
       "    </tr>\n",
       "    <tr>\n",
       "      <th>4495</th>\n",
       "      <td>186467.015625</td>\n",
       "      <td>167622.890625</td>\n",
       "      <td>171525.156250</td>\n",
       "      <td>187449.875000</td>\n",
       "      <td>183119.531250</td>\n",
       "      <td>164223.546875</td>\n",
       "      <td>166572.625000</td>\n",
       "      <td>161398.203125</td>\n",
       "      <td>0.050293</td>\n",
       "      <td>1.006348</td>\n",
       "      <td>-0.084717</td>\n",
       "      <td>-2.075195</td>\n",
       "      <td>-0.183105</td>\n",
       "      <td>0.701904</td>\n",
       "      <td>73.333336</td>\n",
       "      <td>741934.0</td>\n",
       "      <td>1.0</td>\n",
       "      <td>798182.988627</td>\n",
       "      <td>9</td>\n",
       "    </tr>\n",
       "    <tr>\n",
       "      <th>4496</th>\n",
       "      <td>186463.984375</td>\n",
       "      <td>167621.468750</td>\n",
       "      <td>171523.984375</td>\n",
       "      <td>187451.031250</td>\n",
       "      <td>183118.468750</td>\n",
       "      <td>164225.062500</td>\n",
       "      <td>166576.562500</td>\n",
       "      <td>161409.109375</td>\n",
       "      <td>0.049805</td>\n",
       "      <td>1.004883</td>\n",
       "      <td>-0.085938</td>\n",
       "      <td>-2.166748</td>\n",
       "      <td>-0.183105</td>\n",
       "      <td>0.762939</td>\n",
       "      <td>73.333336</td>\n",
       "      <td>741935.0</td>\n",
       "      <td>1.0</td>\n",
       "      <td>798182.990561</td>\n",
       "      <td>9</td>\n",
       "    </tr>\n",
       "    <tr>\n",
       "      <th>4497</th>\n",
       "      <td>186461.218750</td>\n",
       "      <td>167628.171875</td>\n",
       "      <td>171521.578125</td>\n",
       "      <td>187446.750000</td>\n",
       "      <td>183118.640625</td>\n",
       "      <td>164218.281250</td>\n",
       "      <td>166552.156250</td>\n",
       "      <td>161394.625000</td>\n",
       "      <td>0.049561</td>\n",
       "      <td>1.005371</td>\n",
       "      <td>-0.086914</td>\n",
       "      <td>-2.105713</td>\n",
       "      <td>-0.305176</td>\n",
       "      <td>0.793457</td>\n",
       "      <td>73.333336</td>\n",
       "      <td>741936.0</td>\n",
       "      <td>1.0</td>\n",
       "      <td>798182.992969</td>\n",
       "      <td>9</td>\n",
       "    </tr>\n",
       "    <tr>\n",
       "      <th>4498</th>\n",
       "      <td>186461.390625</td>\n",
       "      <td>167628.796875</td>\n",
       "      <td>171518.093750</td>\n",
       "      <td>187440.937500</td>\n",
       "      <td>183106.390625</td>\n",
       "      <td>164208.796875</td>\n",
       "      <td>166538.562500</td>\n",
       "      <td>161362.343750</td>\n",
       "      <td>0.047852</td>\n",
       "      <td>1.005615</td>\n",
       "      <td>-0.088135</td>\n",
       "      <td>-2.044677</td>\n",
       "      <td>-0.274658</td>\n",
       "      <td>0.946045</td>\n",
       "      <td>73.333336</td>\n",
       "      <td>741937.0</td>\n",
       "      <td>1.0</td>\n",
       "      <td>798182.996678</td>\n",
       "      <td>9</td>\n",
       "    </tr>\n",
       "    <tr>\n",
       "      <th>4499</th>\n",
       "      <td>186464.968750</td>\n",
       "      <td>167616.546875</td>\n",
       "      <td>171518.625000</td>\n",
       "      <td>187438.609375</td>\n",
       "      <td>183111.218750</td>\n",
       "      <td>164210.765625</td>\n",
       "      <td>166534.906250</td>\n",
       "      <td>161369.953125</td>\n",
       "      <td>0.049316</td>\n",
       "      <td>1.007812</td>\n",
       "      <td>-0.085693</td>\n",
       "      <td>-2.044677</td>\n",
       "      <td>-0.366211</td>\n",
       "      <td>0.885010</td>\n",
       "      <td>73.333336</td>\n",
       "      <td>741938.0</td>\n",
       "      <td>1.0</td>\n",
       "      <td>798183.005550</td>\n",
       "      <td>9</td>\n",
       "    </tr>\n",
       "  </tbody>\n",
       "</table>\n",
       "<p>4500 rows × 19 columns</p>\n",
       "</div>"
      ]
     },
     "execution_count": 153,
     "metadata": {},
     "output_type": "execute_result"
    }
   ],
   "execution_count": 153
  },
  {
   "cell_type": "code",
   "id": "f1137cda0ce2f40d",
   "metadata": {
    "ExecuteTime": {
     "end_time": "2024-06-03T20:59:04.100626Z",
     "start_time": "2024-06-03T20:59:04.084484Z"
    }
   },
   "source": [
    "df_buffers_raw = df_buffers.iloc[:,:config.device_details['relevant_channels_from_device']] \n",
    "df_buffers_raw = df_buffers_raw * 1e-6\n",
    "\n",
    "channel_names = config.device_details['channels']\n",
    "df_buffers_raw.columns = channel_names"
   ],
   "outputs": [],
   "execution_count": 154
  },
  {
   "metadata": {
    "ExecuteTime": {
     "end_time": "2024-06-02T18:56:22.363848Z",
     "start_time": "2024-06-02T18:56:22.332996Z"
    }
   },
   "cell_type": "code",
   "source": "# df_buffers_raw",
   "id": "a7f430aefb41f02d",
   "outputs": [],
   "execution_count": 29
  },
  {
   "cell_type": "code",
   "id": "d49f000c245897c7",
   "metadata": {
    "ExecuteTime": {
     "end_time": "2024-06-03T20:59:05.768236Z",
     "start_time": "2024-06-03T20:59:05.736992Z"
    }
   },
   "source": [
    "# df_buffers_raw\n",
    "info = mne.create_info(\n",
    "        ch_names=channel_names,\n",
    "        sfreq=config.device_details['sfreq'],  # Assuming the data is sampled at 1 Hz; adjust as necessary\n",
    "        # change this for different electrode configuration\n",
    "        ch_types=['eeg'] * len(channel_names))\n",
    "\n",
    "raw = mne.io.RawArray(df_buffers_raw[channel_names].values.T, info)\n",
    "raw.info"
   ],
   "outputs": [
    {
     "name": "stdout",
     "output_type": "stream",
     "text": [
      "Creating RawArray with float64 data, n_channels=8, n_times=4500\n",
      "    Range : 0 ... 4499 =      0.000 ...    17.996 secs\n",
      "Ready.\n"
     ]
    },
    {
     "data": {
      "text/plain": [
       "<Info | 7 non-empty values\n",
       " bads: []\n",
       " ch_names: Fz, C3, Cz, C4, Pz, PO7, Oz, PO8\n",
       " chs: 8 EEG\n",
       " custom_ref_applied: False\n",
       " highpass: 0.0 Hz\n",
       " lowpass: 125.0 Hz\n",
       " meas_date: unspecified\n",
       " nchan: 8\n",
       " projs: []\n",
       " sfreq: 250.0 Hz\n",
       ">"
      ],
      "text/html": [
       "<details open>\n",
       "    <summary><strong>General</strong></summary>\n",
       "    <table class=\"table table-hover table-striped table-sm table-responsive small\">\n",
       "        <tr>\n",
       "            <th>Measurement date</th>\n",
       "            \n",
       "            <td>Unknown</td>\n",
       "            \n",
       "        </tr>\n",
       "        <tr>\n",
       "            <th>Experimenter</th>\n",
       "            \n",
       "            <td>Unknown</td>\n",
       "            \n",
       "        </tr>\n",
       "        <tr>\n",
       "            <th>Participant</th>\n",
       "            \n",
       "            <td>Unknown</td>\n",
       "            \n",
       "        </tr>\n",
       "    </table>\n",
       "    </details>\n",
       "    <details open>\n",
       "        <summary><strong>Channels</strong></summary>\n",
       "        <table class=\"table table-hover table-striped table-sm table-responsive small\">\n",
       "            <tr>\n",
       "                <th>Digitized points</th>\n",
       "                \n",
       "                <td>Not available</td>\n",
       "                \n",
       "            </tr>\n",
       "            <tr>\n",
       "                <th>Good channels</th>\n",
       "                <td>8 EEG</td>\n",
       "            </tr>\n",
       "            <tr>\n",
       "                <th>Bad channels</th>\n",
       "                <td>None</td>\n",
       "            </tr>\n",
       "            <tr>\n",
       "                <th>EOG channels</th>\n",
       "                <td>Not available</td>\n",
       "            </tr>\n",
       "            <tr>\n",
       "                <th>ECG channels</th>\n",
       "                <td>Not available</td>\n",
       "            </tr>\n",
       "        </table>\n",
       "        </details>\n",
       "        <details open>\n",
       "            <summary><strong>Data</strong></summary>\n",
       "            <table class=\"table table-hover table-striped table-sm table-responsive small\">\n",
       "                \n",
       "                <tr>\n",
       "                    <th>Sampling frequency</th>\n",
       "                    <td>250.00 Hz</td>\n",
       "                </tr>\n",
       "                \n",
       "                \n",
       "                <tr>\n",
       "                    <th>Highpass</th>\n",
       "                    <td>0.00 Hz</td>\n",
       "                </tr>\n",
       "                \n",
       "                \n",
       "                <tr>\n",
       "                    <th>Lowpass</th>\n",
       "                    <td>125.00 Hz</td>\n",
       "                </tr>\n",
       "                \n",
       "                \n",
       "                \n",
       "                \n",
       "            </table>\n",
       "            </details>"
      ]
     },
     "execution_count": 155,
     "metadata": {},
     "output_type": "execute_result"
    }
   ],
   "execution_count": 155
  },
  {
   "metadata": {
    "ExecuteTime": {
     "end_time": "2024-06-03T17:56:56.600838Z",
     "start_time": "2024-06-03T17:56:56.595386Z"
    }
   },
   "cell_type": "code",
   "source": "# raw.info[]",
   "id": "9724bf7bf8d8a42a",
   "outputs": [],
   "execution_count": 13
  },
  {
   "cell_type": "code",
   "id": "a77e9cfd6b8d963b",
   "metadata": {
    "ExecuteTime": {
     "end_time": "2024-06-03T20:59:09.287164Z",
     "start_time": "2024-06-03T20:59:09.256310Z"
    }
   },
   "source": [
    "df_markers = df_tasks[df_tasks['event_ids'].isin([1,2,3,4,99,100])]\n",
    "\n",
    "markers_map = {\n",
    "            1 :'left_start',\n",
    "            2: 'left_end',\n",
    "            3:'right_start',\n",
    "            4:'right_end',\n",
    "            99:'rest_start',\n",
    "            100:'rest_end'\n",
    "}"
   ],
   "outputs": [],
   "execution_count": 156
  },
  {
   "cell_type": "code",
   "id": "dc56a03a4e5a024a",
   "metadata": {
    "ExecuteTime": {
     "end_time": "2024-06-03T20:59:10.806153Z",
     "start_time": "2024-06-03T20:59:10.776321Z"
    }
   },
   "source": [
    "# Initialize lists for onsets, durations, and descriptions\n",
    "onsets = []\n",
    "durations = []\n",
    "descriptions = []\n",
    "\n",
    "# Create a dictionary to keep track of start times\n",
    "start_times = {}\n",
    "\n",
    "# Iterate over the DataFrame rows\n",
    "for index, row in df_markers.iterrows():\n",
    "    event_id = row['event_ids']\n",
    "    timestamp = row['timestamps']\n",
    "\n",
    "    if event_id in markers_map:\n",
    "        description = markers_map[event_id]\n",
    "\n",
    "        # Check if it is a start event\n",
    "        if 'start' in description:\n",
    "            # Store the start time\n",
    "            start_times[description.split('_')[0]] = timestamp\n",
    "        elif 'end' in description:\n",
    "            # Determine the corresponding start event type\n",
    "            event_type = description.split('_')[0]  # e.g., 'left', 'right', 'rest'\n",
    "            \n",
    "            if event_type in start_times:\n",
    "                start_time = start_times[event_type]\n",
    "                duration = timestamp - start_time\n",
    "                \n",
    "                # Append to lists\n",
    "                onsets.append(start_time)\n",
    "                durations.append(duration)\n",
    "                descriptions.append(event_type.upper())\n",
    "                # Remove the start time to avoid re-use\n",
    "                del start_times[event_type]\n",
    "\n",
    "# Print the results\n",
    "print(\"Onsets:\", onsets)\n",
    "print(\"Durations:\", durations)\n",
    "print(\"Descriptions:\", descriptions)"
   ],
   "outputs": [
    {
     "name": "stdout",
     "output_type": "stream",
     "text": [
      "Onsets: [798168.7690262, 798170.2754086, 798171.2756192, 798172.7945852, 798173.7952113, 798175.3107597, 798176.3109736, 798177.82574, 798178.8259519, 798180.3407995, 798181.3412106, 798182.8587114]\n",
      "Durations: [1.5063133999938145, 1.0001286000479013, 1.518840300035663, 1.0005700999172404, 1.5154383999761194, 1.0001812999835238, 1.5146890999749303, 1.0001923999516293, 1.5147637999616563, 1.0003265000414103, 1.517432100023143, 1.0005506000015885]\n",
      "Descriptions: ['LEFT', 'REST', 'RIGHT', 'REST', 'LEFT', 'REST', 'RIGHT', 'REST', 'LEFT', 'REST', 'RIGHT', 'REST']\n"
     ]
    }
   ],
   "execution_count": 157
  },
  {
   "metadata": {
    "ExecuteTime": {
     "end_time": "2024-06-03T20:59:14.484054Z",
     "start_time": "2024-06-03T20:59:14.452821Z"
    }
   },
   "cell_type": "code",
   "source": "onsets = onsets - df_buffers['timestamps'][0]",
   "id": "42586597040d0a99",
   "outputs": [],
   "execution_count": 158
  },
  {
   "metadata": {
    "ExecuteTime": {
     "end_time": "2024-06-03T20:59:15.860077Z",
     "start_time": "2024-06-03T20:59:15.844324Z"
    }
   },
   "cell_type": "code",
   "source": "onsets",
   "id": "82c9abba09c4e5a2",
   "outputs": [
    {
     "data": {
      "text/plain": [
       "array([ 3.7059113,  5.2122937,  6.2125043,  7.7314703,  8.7320964,\n",
       "       10.2476448, 11.2478587, 12.7626251, 13.762837 , 15.2776846,\n",
       "       16.2780957, 17.7955965])"
      ]
     },
     "execution_count": 159,
     "metadata": {},
     "output_type": "execute_result"
    }
   ],
   "execution_count": 159
  },
  {
   "cell_type": "code",
   "id": "83394cb2c0ca440f",
   "metadata": {
    "ExecuteTime": {
     "end_time": "2024-06-03T20:59:17.905677Z",
     "start_time": "2024-06-03T20:59:17.863160Z"
    }
   },
   "source": [
    "raw_annot = mne.Annotations(onset=onsets, duration=durations, orig_time= None,description=descriptions)\n",
    "print(raw_annot)\n",
    "raw.set_annotations(raw_annot)\n",
    "\n",
    "raw.set_montage('easycap-M1')"
   ],
   "outputs": [
    {
     "name": "stdout",
     "output_type": "stream",
     "text": [
      "<Annotations | 12 segments: LEFT (3), REST (6), RIGHT (3)>\n"
     ]
    },
    {
     "name": "stderr",
     "output_type": "stream",
     "text": [
      "C:\\Users\\iamth\\AppData\\Local\\Temp\\ipykernel_11316\\3743205479.py:3: RuntimeWarning: Limited 1 annotation(s) that were expanding outside the data range.\n",
      "  raw.set_annotations(raw_annot)\n"
     ]
    },
    {
     "data": {
      "text/plain": [
       "<RawArray | 8 x 4500 (18.0 s), ~299 kB, data loaded>"
      ],
      "text/html": [
       "<details open>\n",
       "    <summary><strong>General</strong></summary>\n",
       "    <table class=\"table table-hover table-striped table-sm table-responsive small\">\n",
       "        <tr>\n",
       "            <th>Measurement date</th>\n",
       "            \n",
       "            <td>Unknown</td>\n",
       "            \n",
       "        </tr>\n",
       "        <tr>\n",
       "            <th>Experimenter</th>\n",
       "            \n",
       "            <td>Unknown</td>\n",
       "            \n",
       "        </tr>\n",
       "        <tr>\n",
       "            <th>Participant</th>\n",
       "            \n",
       "            <td>Unknown</td>\n",
       "            \n",
       "        </tr>\n",
       "    </table>\n",
       "    </details>\n",
       "    <details open>\n",
       "        <summary><strong>Channels</strong></summary>\n",
       "        <table class=\"table table-hover table-striped table-sm table-responsive small\">\n",
       "            <tr>\n",
       "                <th>Digitized points</th>\n",
       "                \n",
       "                <td>11 points</td>\n",
       "                \n",
       "            </tr>\n",
       "            <tr>\n",
       "                <th>Good channels</th>\n",
       "                <td>8 EEG</td>\n",
       "            </tr>\n",
       "            <tr>\n",
       "                <th>Bad channels</th>\n",
       "                <td>None</td>\n",
       "            </tr>\n",
       "            <tr>\n",
       "                <th>EOG channels</th>\n",
       "                <td>Not available</td>\n",
       "            </tr>\n",
       "            <tr>\n",
       "                <th>ECG channels</th>\n",
       "                <td>Not available</td>\n",
       "            </tr>\n",
       "        </table>\n",
       "        </details>\n",
       "        <details open>\n",
       "            <summary><strong>Data</strong></summary>\n",
       "            <table class=\"table table-hover table-striped table-sm table-responsive small\">\n",
       "                \n",
       "                <tr>\n",
       "                    <th>Sampling frequency</th>\n",
       "                    <td>250.00 Hz</td>\n",
       "                </tr>\n",
       "                \n",
       "                \n",
       "                <tr>\n",
       "                    <th>Highpass</th>\n",
       "                    <td>0.00 Hz</td>\n",
       "                </tr>\n",
       "                \n",
       "                \n",
       "                <tr>\n",
       "                    <th>Lowpass</th>\n",
       "                    <td>125.00 Hz</td>\n",
       "                </tr>\n",
       "                \n",
       "                \n",
       "                \n",
       "                \n",
       "                <tr>\n",
       "                    <th>Duration</th>\n",
       "                    <td>00:00:18 (HH:MM:SS)</td>\n",
       "                </tr>\n",
       "                \n",
       "            </table>\n",
       "            </details>"
      ]
     },
     "execution_count": 160,
     "metadata": {},
     "output_type": "execute_result"
    }
   ],
   "execution_count": 160
  },
  {
   "metadata": {
    "ExecuteTime": {
     "end_time": "2024-06-03T20:59:23.972929Z",
     "start_time": "2024-06-03T20:59:23.957150Z"
    }
   },
   "cell_type": "code",
   "source": "raw_events, raw_events_mapping = mne.events_from_annotations(raw)",
   "id": "eaaa99026d1077f5",
   "outputs": [
    {
     "name": "stdout",
     "output_type": "stream",
     "text": [
      "Used Annotations descriptions: ['LEFT', 'REST', 'RIGHT']\n"
     ]
    }
   ],
   "execution_count": 161
  },
  {
   "metadata": {
    "ExecuteTime": {
     "end_time": "2024-06-03T20:59:25.241157Z",
     "start_time": "2024-06-03T20:59:25.209126Z"
    }
   },
   "cell_type": "code",
   "source": "# raw_events",
   "id": "bcb0fd99a4746868",
   "outputs": [],
   "execution_count": 162
  },
  {
   "metadata": {
    "ExecuteTime": {
     "end_time": "2024-06-03T20:59:29.484682Z",
     "start_time": "2024-06-03T20:59:29.226540Z"
    }
   },
   "cell_type": "code",
   "source": [
    "fig = mne.viz.plot_events(\n",
    "    raw_events, sfreq=raw.info[\"sfreq\"], first_samp=raw.first_samp, event_id=raw_events_mapping\n",
    ")"
   ],
   "id": "6f19201874c8f580",
   "outputs": [],
   "execution_count": 163
  },
  {
   "metadata": {
    "ExecuteTime": {
     "end_time": "2024-06-02T18:55:58.657220Z",
     "start_time": "2024-06-02T18:55:58.641432Z"
    }
   },
   "cell_type": "code",
   "source": "# raw.get_data()",
   "id": "738a9930f2fd66f0",
   "outputs": [],
   "execution_count": 24
  },
  {
   "metadata": {
    "ExecuteTime": {
     "end_time": "2024-06-03T20:59:32.164166Z",
     "start_time": "2024-06-03T20:59:31.767848Z"
    }
   },
   "cell_type": "code",
   "source": [
    "spectrum = raw.compute_psd()\n",
    "spectrum.plot(average=True, picks=\"data\", exclude=\"bads\", amplitude=False)"
   ],
   "id": "d404d7ec4fc1d275",
   "outputs": [
    {
     "name": "stdout",
     "output_type": "stream",
     "text": [
      "Effective window size : 8.192 (s)\n",
      "Plotting power spectral density (dB=True).\n"
     ]
    },
    {
     "data": {
      "text/plain": [
       "<MNELineFigure size 1250x437.5 with 1 Axes>"
      ],
      "image/png": "[encoded data removed]"
     },
     "execution_count": 164,
     "metadata": {},
     "output_type": "execute_result"
    }
   ],
   "execution_count": 164
  },
  {
   "cell_type": "code",
   "id": "121cabb543ac8060",
   "metadata": {
    "ExecuteTime": {
     "end_time": "2024-06-03T20:11:15.845527Z",
     "start_time": "2024-06-03T20:11:15.814265Z"
    }
   },
   "source": "# raw.plot(block=True)",
   "outputs": [],
   "execution_count": 95
  },
  {
   "cell_type": "code",
   "id": "2370fd9337d6b6fc",
   "metadata": {
    "ExecuteTime": {
     "end_time": "2024-06-02T21:04:56.149181Z",
     "start_time": "2024-06-02T21:04:56.120286Z"
    }
   },
   "source": [
    "# midline = [\"EEG 002\", \"EEG 012\", \"EEG 030\", \"EEG 048\", \"EEG 058\", \"EEG 060\"]\n",
    "# spectrum.plot(picks=\"all\", exclude=\"bads\", amplitude=False)"
   ],
   "outputs": [],
   "execution_count": 47
  },
  {
   "metadata": {
    "ExecuteTime": {
     "end_time": "2024-06-03T20:59:41.335400Z",
     "start_time": "2024-06-03T20:59:38.177072Z"
    }
   },
   "cell_type": "code",
   "source": "spectrum.plot_topomap()",
   "id": "368a52bab43da0bb",
   "outputs": [
    {
     "data": {
      "text/plain": [
       "<Figure size 1250x187.5 with 10 Axes>"
      ],
      "image/png": "[encoded data removed]"
     },
     "execution_count": 165,
     "metadata": {},
     "output_type": "execute_result"
    }
   ],
   "execution_count": 165
  },
  {
   "metadata": {
    "ExecuteTime": {
     "end_time": "2024-06-03T20:11:29.869979Z",
     "start_time": "2024-06-03T20:11:29.856469Z"
    }
   },
   "cell_type": "code",
   "source": "# spectrum.plot_topo()",
   "id": "a76080d3fdc71814",
   "outputs": [],
   "execution_count": 97
  },
  {
   "metadata": {
    "ExecuteTime": {
     "end_time": "2024-06-03T20:11:34.831404Z",
     "start_time": "2024-06-03T20:11:34.799921Z"
    }
   },
   "cell_type": "code",
   "source": "# raw.plot_sensors(ch_type=\"eeg\")",
   "id": "b9cd30b277478390",
   "outputs": [],
   "execution_count": 98
  },
  {
   "metadata": {
    "ExecuteTime": {
     "end_time": "2024-06-03T18:15:47.383776Z",
     "start_time": "2024-06-03T18:15:47.347656Z"
    }
   },
   "cell_type": "code",
   "source": "# raw.plot_projs_topomap(colorbar=True)",
   "id": "48da5494474c9040",
   "outputs": [],
   "execution_count": 39
  },
  {
   "metadata": {
    "ExecuteTime": {
     "end_time": "2024-06-03T20:59:46.508835Z",
     "start_time": "2024-06-03T20:59:46.463851Z"
    }
   },
   "cell_type": "code",
   "source": [
    "epochs = mne.Epochs(raw, raw_events, raw_events_mapping, tmin=-0.1, tmax=1,\n",
    "                    baseline=(None, 0), preload=True)"
   ],
   "id": "b302dfdf75c09a6f",
   "outputs": [
    {
     "name": "stdout",
     "output_type": "stream",
     "text": [
      "Not setting metadata\n",
      "12 matching events found\n",
      "Setting baseline interval to [-0.1, 0.0] s\n",
      "Applying baseline correction (mode: mean)\n",
      "0 projection items activated\n",
      "Using data from preloaded Raw for 12 events and 276 original time points ...\n",
      "1 bad epochs dropped\n"
     ]
    }
   ],
   "execution_count": 166
  },
  {
   "metadata": {
    "ExecuteTime": {
     "end_time": "2024-06-03T20:18:24.504428Z",
     "start_time": "2024-06-03T20:18:24.471386Z"
    }
   },
   "cell_type": "code",
   "source": "# epochs['LEFT']",
   "id": "8decbfe7a10a17b5",
   "outputs": [],
   "execution_count": 129
  },
  {
   "metadata": {
    "ExecuteTime": {
     "end_time": "2024-06-03T20:59:48.733746Z",
     "start_time": "2024-06-03T20:59:48.702512Z"
    }
   },
   "cell_type": "code",
   "source": [
    "ev_left = epochs['LEFT'].average()\n",
    "ev_right = epochs['RIGHT'].average()"
   ],
   "id": "84f869053cd1f8af",
   "outputs": [],
   "execution_count": 167
  },
  {
   "metadata": {
    "ExecuteTime": {
     "end_time": "2024-06-03T20:59:50.889869Z",
     "start_time": "2024-06-03T20:59:50.385770Z"
    }
   },
   "cell_type": "code",
   "source": [
    "f, axs = plt.subplots(1, 2, figsize=(10, 5))\n",
    "_ = f.suptitle('Left / Right Imagery', fontsize=20)\n",
    "_ = ev_left.plot(axes=axs[0], show=True, time_unit='s')\n",
    "_ = ev_right.plot(axes=axs[1], show=False, time_unit='s')\n",
    "\n",
    "plt.show()\n",
    "# plt.tight_layout()"
   ],
   "id": "a7cf40c4224914d0",
   "outputs": [],
   "execution_count": 168
  },
  {
   "metadata": {
    "ExecuteTime": {
     "end_time": "2024-06-03T20:59:57.443433Z",
     "start_time": "2024-06-03T20:59:57.427809Z"
    }
   },
   "cell_type": "code",
   "source": [
    "X = epochs.get_data(copy=False)  # Shape: (n_epochs, n_channels, n_times)\n",
    "y = epochs.events[:, 2]  # Shape: (n_epochs,)"
   ],
   "id": "8fca25746f688a94",
   "outputs": [],
   "execution_count": 169
  },
  {
   "metadata": {
    "ExecuteTime": {
     "end_time": "2024-06-03T21:00:20.191980Z",
     "start_time": "2024-06-03T21:00:19.780518Z"
    }
   },
   "cell_type": "code",
   "source": [
    "epochs['LEFT'].plot_image(cmap='interactive')\n",
    "epochs['RIGHT'].plot_image(cmap='interactive')"
   ],
   "id": "d5f80c8208ddd44a",
   "outputs": [
    {
     "name": "stdout",
     "output_type": "stream",
     "text": [
      "Not setting metadata\n",
      "3 matching events found\n",
      "No baseline correction applied\n",
      "0 projection items activated\n",
      "combining channels using GFP (eeg channels)\n",
      "Not setting metadata\n",
      "3 matching events found\n",
      "No baseline correction applied\n",
      "0 projection items activated\n",
      "combining channels using GFP (eeg channels)\n"
     ]
    },
    {
     "data": {
      "text/plain": [
       "[<Figure size 800x600 with 3 Axes>]"
      ]
     },
     "execution_count": 172,
     "metadata": {},
     "output_type": "execute_result"
    }
   ],
   "execution_count": 172
  },
  {
   "metadata": {
    "ExecuteTime": {
     "end_time": "2024-06-03T21:00:42.453741Z",
     "start_time": "2024-06-03T21:00:42.182711Z"
    }
   },
   "cell_type": "code",
   "source": [
    "# Reshape the data to (n_samples, n_features)\n",
    "X = X.reshape(len(X), -1)\n",
    "\n",
    "# Create and train a classifier\n",
    "clf = make_pipeline(Vectorizer(), RandomForestClassifier(n_estimators=100))\n",
    "clf.fit(X, y)"
   ],
   "id": "d0d4ab3b99359fb7",
   "outputs": [
    {
     "data": {
      "text/plain": [
       "Pipeline(steps=[('vectorizer',\n",
       "                 <mne.decoding.transformer.Vectorizer object at 0x000002BA420959F0>),\n",
       "                ('randomforestclassifier', RandomForestClassifier())])"
      ],
      "text/html": [
       "<style>#sk-container-id-9 {\n",
       "  /* Definition of color scheme common for light and dark mode */\n",
       "  --sklearn-color-text: black;\n",
       "  --sklearn-color-line: gray;\n",
       "  /* Definition of color scheme for unfitted estimators */\n",
       "  --sklearn-color-unfitted-level-0: #fff5e6;\n",
       "  --sklearn-color-unfitted-level-1: #f6e4d2;\n",
       "  --sklearn-color-unfitted-level-2: #ffe0b3;\n",
       "  --sklearn-color-unfitted-level-3: chocolate;\n",
       "  /* Definition of color scheme for fitted estimators */\n",
       "  --sklearn-color-fitted-level-0: #f0f8ff;\n",
       "  --sklearn-color-fitted-level-1: #d4ebff;\n",
       "  --sklearn-color-fitted-level-2: #b3dbfd;\n",
       "  --sklearn-color-fitted-level-3: cornflowerblue;\n",
       "\n",
       "  /* Specific color for light theme */\n",
       "  --sklearn-color-text-on-default-background: var(--sg-text-color, var(--theme-code-foreground, var(--jp-content-font-color1, black)));\n",
       "  --sklearn-color-background: var(--sg-background-color, var(--theme-background, var(--jp-layout-color0, white)));\n",
       "  --sklearn-color-border-box: var(--sg-text-color, var(--theme-code-foreground, var(--jp-content-font-color1, black)));\n",
       "  --sklearn-color-icon: #696969;\n",
       "\n",
       "  @media (prefers-color-scheme: dark) {\n",
       "    /* Redefinition of color scheme for dark theme */\n",
       "    --sklearn-color-text-on-default-background: var(--sg-text-color, var(--theme-code-foreground, var(--jp-content-font-color1, white)));\n",
       "    --sklearn-color-background: var(--sg-background-color, var(--theme-background, var(--jp-layout-color0, #111)));\n",
       "    --sklearn-color-border-box: var(--sg-text-color, var(--theme-code-foreground, var(--jp-content-font-color1, white)));\n",
       "    --sklearn-color-icon: #878787;\n",
       "  }\n",
       "}\n",
       "\n",
       "#sk-container-id-9 {\n",
       "  color: var(--sklearn-color-text);\n",
       "}\n",
       "\n",
       "#sk-container-id-9 pre {\n",
       "  padding: 0;\n",
       "}\n",
       "\n",
       "#sk-container-id-9 input.sk-hidden--visually {\n",
       "  border: 0;\n",
       "  clip: rect(1px 1px 1px 1px);\n",
       "  clip: rect(1px, 1px, 1px, 1px);\n",
       "  height: 1px;\n",
       "  margin: -1px;\n",
       "  overflow: hidden;\n",
       "  padding: 0;\n",
       "  position: absolute;\n",
       "  width: 1px;\n",
       "}\n",
       "\n",
       "#sk-container-id-9 div.sk-dashed-wrapped {\n",
       "  border: 1px dashed var(--sklearn-color-line);\n",
       "  margin: 0 0.4em 0.5em 0.4em;\n",
       "  box-sizing: border-box;\n",
       "  padding-bottom: 0.4em;\n",
       "  background-color: var(--sklearn-color-background);\n",
       "}\n",
       "\n",
       "#sk-container-id-9 div.sk-container {\n",
       "  /* jupyter's `normalize.less` sets `[hidden] { display: none; }`\n",
       "     but bootstrap.min.css set `[hidden] { display: none !important; }`\n",
       "     so we also need the `!important` here to be able to override the\n",
       "     default hidden behavior on the sphinx rendered scikit-learn.org.\n",
       "     See: https://github.com/scikit-learn/scikit-learn/issues/21755 */\n",
       "  display: inline-block !important;\n",
       "  position: relative;\n",
       "}\n",
       "\n",
       "#sk-container-id-9 div.sk-text-repr-fallback {\n",
       "  display: none;\n",
       "}\n",
       "\n",
       "div.sk-parallel-item,\n",
       "div.sk-serial,\n",
       "div.sk-item {\n",
       "  /* draw centered vertical line to link estimators */\n",
       "  background-image: linear-gradient(var(--sklearn-color-text-on-default-background), var(--sklearn-color-text-on-default-background));\n",
       "  background-size: 2px 100%;\n",
       "  background-repeat: no-repeat;\n",
       "  background-position: center center;\n",
       "}\n",
       "\n",
       "/* Parallel-specific style estimator block */\n",
       "\n",
       "#sk-container-id-9 div.sk-parallel-item::after {\n",
       "  content: \"\";\n",
       "  width: 100%;\n",
       "  border-bottom: 2px solid var(--sklearn-color-text-on-default-background);\n",
       "  flex-grow: 1;\n",
       "}\n",
       "\n",
       "#sk-container-id-9 div.sk-parallel {\n",
       "  display: flex;\n",
       "  align-items: stretch;\n",
       "  justify-content: center;\n",
       "  background-color: var(--sklearn-color-background);\n",
       "  position: relative;\n",
       "}\n",
       "\n",
       "#sk-container-id-9 div.sk-parallel-item {\n",
       "  display: flex;\n",
       "  flex-direction: column;\n",
       "}\n",
       "\n",
       "#sk-container-id-9 div.sk-parallel-item:first-child::after {\n",
       "  align-self: flex-end;\n",
       "  width: 50%;\n",
       "}\n",
       "\n",
       "#sk-container-id-9 div.sk-parallel-item:last-child::after {\n",
       "  align-self: flex-start;\n",
       "  width: 50%;\n",
       "}\n",
       "\n",
       "#sk-container-id-9 div.sk-parallel-item:only-child::after {\n",
       "  width: 0;\n",
       "}\n",
       "\n",
       "/* Serial-specific style estimator block */\n",
       "\n",
       "#sk-container-id-9 div.sk-serial {\n",
       "  display: flex;\n",
       "  flex-direction: column;\n",
       "  align-items: center;\n",
       "  background-color: var(--sklearn-color-background);\n",
       "  padding-right: 1em;\n",
       "  padding-left: 1em;\n",
       "}\n",
       "\n",
       "\n",
       "/* Toggleable style: style used for estimator/Pipeline/ColumnTransformer box that is\n",
       "clickable and can be expanded/collapsed.\n",
       "- Pipeline and ColumnTransformer use this feature and define the default style\n",
       "- Estimators will overwrite some part of the style using the `sk-estimator` class\n",
       "*/\n",
       "\n",
       "/* Pipeline and ColumnTransformer style (default) */\n",
       "\n",
       "#sk-container-id-9 div.sk-toggleable {\n",
       "  /* Default theme specific background. It is overwritten whether we have a\n",
       "  specific estimator or a Pipeline/ColumnTransformer */\n",
       "  background-color: var(--sklearn-color-background);\n",
       "}\n",
       "\n",
       "/* Toggleable label */\n",
       "#sk-container-id-9 label.sk-toggleable__label {\n",
       "  cursor: pointer;\n",
       "  display: block;\n",
       "  width: 100%;\n",
       "  margin-bottom: 0;\n",
       "  padding: 0.5em;\n",
       "  box-sizing: border-box;\n",
       "  text-align: center;\n",
       "}\n",
       "\n",
       "#sk-container-id-9 label.sk-toggleable__label-arrow:before {\n",
       "  /* Arrow on the left of the label */\n",
       "  content: \"▸\";\n",
       "  float: left;\n",
       "  margin-right: 0.25em;\n",
       "  color: var(--sklearn-color-icon);\n",
       "}\n",
       "\n",
       "#sk-container-id-9 label.sk-toggleable__label-arrow:hover:before {\n",
       "  color: var(--sklearn-color-text);\n",
       "}\n",
       "\n",
       "/* Toggleable content - dropdown */\n",
       "\n",
       "#sk-container-id-9 div.sk-toggleable__content {\n",
       "  max-height: 0;\n",
       "  max-width: 0;\n",
       "  overflow: hidden;\n",
       "  text-align: left;\n",
       "  /* unfitted */\n",
       "  background-color: var(--sklearn-color-unfitted-level-0);\n",
       "}\n",
       "\n",
       "#sk-container-id-9 div.sk-toggleable__content.fitted {\n",
       "  /* fitted */\n",
       "  background-color: var(--sklearn-color-fitted-level-0);\n",
       "}\n",
       "\n",
       "#sk-container-id-9 div.sk-toggleable__content pre {\n",
       "  margin: 0.2em;\n",
       "  border-radius: 0.25em;\n",
       "  color: var(--sklearn-color-text);\n",
       "  /* unfitted */\n",
       "  background-color: var(--sklearn-color-unfitted-level-0);\n",
       "}\n",
       "\n",
       "#sk-container-id-9 div.sk-toggleable__content.fitted pre {\n",
       "  /* unfitted */\n",
       "  background-color: var(--sklearn-color-fitted-level-0);\n",
       "}\n",
       "\n",
       "#sk-container-id-9 input.sk-toggleable__control:checked~div.sk-toggleable__content {\n",
       "  /* Expand drop-down */\n",
       "  max-height: 200px;\n",
       "  max-width: 100%;\n",
       "  overflow: auto;\n",
       "}\n",
       "\n",
       "#sk-container-id-9 input.sk-toggleable__control:checked~label.sk-toggleable__label-arrow:before {\n",
       "  content: \"▾\";\n",
       "}\n",
       "\n",
       "/* Pipeline/ColumnTransformer-specific style */\n",
       "\n",
       "#sk-container-id-9 div.sk-label input.sk-toggleable__control:checked~label.sk-toggleable__label {\n",
       "  color: var(--sklearn-color-text);\n",
       "  background-color: var(--sklearn-color-unfitted-level-2);\n",
       "}\n",
       "\n",
       "#sk-container-id-9 div.sk-label.fitted input.sk-toggleable__control:checked~label.sk-toggleable__label {\n",
       "  background-color: var(--sklearn-color-fitted-level-2);\n",
       "}\n",
       "\n",
       "/* Estimator-specific style */\n",
       "\n",
       "/* Colorize estimator box */\n",
       "#sk-container-id-9 div.sk-estimator input.sk-toggleable__control:checked~label.sk-toggleable__label {\n",
       "  /* unfitted */\n",
       "  background-color: var(--sklearn-color-unfitted-level-2);\n",
       "}\n",
       "\n",
       "#sk-container-id-9 div.sk-estimator.fitted input.sk-toggleable__control:checked~label.sk-toggleable__label {\n",
       "  /* fitted */\n",
       "  background-color: var(--sklearn-color-fitted-level-2);\n",
       "}\n",
       "\n",
       "#sk-container-id-9 div.sk-label label.sk-toggleable__label,\n",
       "#sk-container-id-9 div.sk-label label {\n",
       "  /* The background is the default theme color */\n",
       "  color: var(--sklearn-color-text-on-default-background);\n",
       "}\n",
       "\n",
       "/* On hover, darken the color of the background */\n",
       "#sk-container-id-9 div.sk-label:hover label.sk-toggleable__label {\n",
       "  color: var(--sklearn-color-text);\n",
       "  background-color: var(--sklearn-color-unfitted-level-2);\n",
       "}\n",
       "\n",
       "/* Label box, darken color on hover, fitted */\n",
       "#sk-container-id-9 div.sk-label.fitted:hover label.sk-toggleable__label.fitted {\n",
       "  color: var(--sklearn-color-text);\n",
       "  background-color: var(--sklearn-color-fitted-level-2);\n",
       "}\n",
       "\n",
       "/* Estimator label */\n",
       "\n",
       "#sk-container-id-9 div.sk-label label {\n",
       "  font-family: monospace;\n",
       "  font-weight: bold;\n",
       "  display: inline-block;\n",
       "  line-height: 1.2em;\n",
       "}\n",
       "\n",
       "#sk-container-id-9 div.sk-label-container {\n",
       "  text-align: center;\n",
       "}\n",
       "\n",
       "/* Estimator-specific */\n",
       "#sk-container-id-9 div.sk-estimator {\n",
       "  font-family: monospace;\n",
       "  border: 1px dotted var(--sklearn-color-border-box);\n",
       "  border-radius: 0.25em;\n",
       "  box-sizing: border-box;\n",
       "  margin-bottom: 0.5em;\n",
       "  /* unfitted */\n",
       "  background-color: var(--sklearn-color-unfitted-level-0);\n",
       "}\n",
       "\n",
       "#sk-container-id-9 div.sk-estimator.fitted {\n",
       "  /* fitted */\n",
       "  background-color: var(--sklearn-color-fitted-level-0);\n",
       "}\n",
       "\n",
       "/* on hover */\n",
       "#sk-container-id-9 div.sk-estimator:hover {\n",
       "  /* unfitted */\n",
       "  background-color: var(--sklearn-color-unfitted-level-2);\n",
       "}\n",
       "\n",
       "#sk-container-id-9 div.sk-estimator.fitted:hover {\n",
       "  /* fitted */\n",
       "  background-color: var(--sklearn-color-fitted-level-2);\n",
       "}\n",
       "\n",
       "/* Specification for estimator info (e.g. \"i\" and \"?\") */\n",
       "\n",
       "/* Common style for \"i\" and \"?\" */\n",
       "\n",
       ".sk-estimator-doc-link,\n",
       "a:link.sk-estimator-doc-link,\n",
       "a:visited.sk-estimator-doc-link {\n",
       "  float: right;\n",
       "  font-size: smaller;\n",
       "  line-height: 1em;\n",
       "  font-family: monospace;\n",
       "  background-color: var(--sklearn-color-background);\n",
       "  border-radius: 1em;\n",
       "  height: 1em;\n",
       "  width: 1em;\n",
       "  text-decoration: none !important;\n",
       "  margin-left: 1ex;\n",
       "  /* unfitted */\n",
       "  border: var(--sklearn-color-unfitted-level-1) 1pt solid;\n",
       "  color: var(--sklearn-color-unfitted-level-1);\n",
       "}\n",
       "\n",
       ".sk-estimator-doc-link.fitted,\n",
       "a:link.sk-estimator-doc-link.fitted,\n",
       "a:visited.sk-estimator-doc-link.fitted {\n",
       "  /* fitted */\n",
       "  border: var(--sklearn-color-fitted-level-1) 1pt solid;\n",
       "  color: var(--sklearn-color-fitted-level-1);\n",
       "}\n",
       "\n",
       "/* On hover */\n",
       "div.sk-estimator:hover .sk-estimator-doc-link:hover,\n",
       ".sk-estimator-doc-link:hover,\n",
       "div.sk-label-container:hover .sk-estimator-doc-link:hover,\n",
       ".sk-estimator-doc-link:hover {\n",
       "  /* unfitted */\n",
       "  background-color: var(--sklearn-color-unfitted-level-3);\n",
       "  color: var(--sklearn-color-background);\n",
       "  text-decoration: none;\n",
       "}\n",
       "\n",
       "div.sk-estimator.fitted:hover .sk-estimator-doc-link.fitted:hover,\n",
       ".sk-estimator-doc-link.fitted:hover,\n",
       "div.sk-label-container:hover .sk-estimator-doc-link.fitted:hover,\n",
       ".sk-estimator-doc-link.fitted:hover {\n",
       "  /* fitted */\n",
       "  background-color: var(--sklearn-color-fitted-level-3);\n",
       "  color: var(--sklearn-color-background);\n",
       "  text-decoration: none;\n",
       "}\n",
       "\n",
       "/* Span, style for the box shown on hovering the info icon */\n",
       ".sk-estimator-doc-link span {\n",
       "  display: none;\n",
       "  z-index: 9999;\n",
       "  position: relative;\n",
       "  font-weight: normal;\n",
       "  right: .2ex;\n",
       "  padding: .5ex;\n",
       "  margin: .5ex;\n",
       "  width: min-content;\n",
       "  min-width: 20ex;\n",
       "  max-width: 50ex;\n",
       "  color: var(--sklearn-color-text);\n",
       "  box-shadow: 2pt 2pt 4pt #999;\n",
       "  /* unfitted */\n",
       "  background: var(--sklearn-color-unfitted-level-0);\n",
       "  border: .5pt solid var(--sklearn-color-unfitted-level-3);\n",
       "}\n",
       "\n",
       ".sk-estimator-doc-link.fitted span {\n",
       "  /* fitted */\n",
       "  background: var(--sklearn-color-fitted-level-0);\n",
       "  border: var(--sklearn-color-fitted-level-3);\n",
       "}\n",
       "\n",
       ".sk-estimator-doc-link:hover span {\n",
       "  display: block;\n",
       "}\n",
       "\n",
       "/* \"?\"-specific style due to the `<a>` HTML tag */\n",
       "\n",
       "#sk-container-id-9 a.estimator_doc_link {\n",
       "  float: right;\n",
       "  font-size: 1rem;\n",
       "  line-height: 1em;\n",
       "  font-family: monospace;\n",
       "  background-color: var(--sklearn-color-background);\n",
       "  border-radius: 1rem;\n",
       "  height: 1rem;\n",
       "  width: 1rem;\n",
       "  text-decoration: none;\n",
       "  /* unfitted */\n",
       "  color: var(--sklearn-color-unfitted-level-1);\n",
       "  border: var(--sklearn-color-unfitted-level-1) 1pt solid;\n",
       "}\n",
       "\n",
       "#sk-container-id-9 a.estimator_doc_link.fitted {\n",
       "  /* fitted */\n",
       "  border: var(--sklearn-color-fitted-level-1) 1pt solid;\n",
       "  color: var(--sklearn-color-fitted-level-1);\n",
       "}\n",
       "\n",
       "/* On hover */\n",
       "#sk-container-id-9 a.estimator_doc_link:hover {\n",
       "  /* unfitted */\n",
       "  background-color: var(--sklearn-color-unfitted-level-3);\n",
       "  color: var(--sklearn-color-background);\n",
       "  text-decoration: none;\n",
       "}\n",
       "\n",
       "#sk-container-id-9 a.estimator_doc_link.fitted:hover {\n",
       "  /* fitted */\n",
       "  background-color: var(--sklearn-color-fitted-level-3);\n",
       "}\n",
       "</style><div id=\"sk-container-id-9\" class=\"sk-top-container\"><div class=\"sk-text-repr-fallback\"><pre>Pipeline(steps=[(&#x27;vectorizer&#x27;,\n",
       "                 &lt;mne.decoding.transformer.Vectorizer object at 0x000002BA420959F0&gt;),\n",
       "                (&#x27;randomforestclassifier&#x27;, RandomForestClassifier())])</pre><b>In a Jupyter environment, please rerun this cell to show the HTML representation or trust the notebook. <br />On GitHub, the HTML representation is unable to render, please try loading this page with nbviewer.org.</b></div><div class=\"sk-container\" hidden><div class=\"sk-item sk-dashed-wrapped\"><div class=\"sk-label-container\"><div class=\"sk-label fitted sk-toggleable\"><input class=\"sk-toggleable__control sk-hidden--visually\" id=\"sk-estimator-id-25\" type=\"checkbox\" ><label for=\"sk-estimator-id-25\" class=\"sk-toggleable__label fitted sk-toggleable__label-arrow fitted\">&nbsp;&nbsp;Pipeline<a class=\"sk-estimator-doc-link fitted\" rel=\"noreferrer\" target=\"_blank\" href=\"https://scikit-learn.org/1.5/modules/generated/sklearn.pipeline.Pipeline.html\">?<span>Documentation for Pipeline</span></a><span class=\"sk-estimator-doc-link fitted\">i<span>Fitted</span></span></label><div class=\"sk-toggleable__content fitted\"><pre>Pipeline(steps=[(&#x27;vectorizer&#x27;,\n",
       "                 &lt;mne.decoding.transformer.Vectorizer object at 0x000002BA420959F0&gt;),\n",
       "                (&#x27;randomforestclassifier&#x27;, RandomForestClassifier())])</pre></div> </div></div><div class=\"sk-serial\"><div class=\"sk-item\"><div class=\"sk-estimator fitted sk-toggleable\"><input class=\"sk-toggleable__control sk-hidden--visually\" id=\"sk-estimator-id-26\" type=\"checkbox\" ><label for=\"sk-estimator-id-26\" class=\"sk-toggleable__label fitted sk-toggleable__label-arrow fitted\">Vectorizer</label><div class=\"sk-toggleable__content fitted\"><pre>&lt;mne.decoding.transformer.Vectorizer object at 0x000002BA420959F0&gt;</pre></div> </div></div><div class=\"sk-item\"><div class=\"sk-estimator fitted sk-toggleable\"><input class=\"sk-toggleable__control sk-hidden--visually\" id=\"sk-estimator-id-27\" type=\"checkbox\" ><label for=\"sk-estimator-id-27\" class=\"sk-toggleable__label fitted sk-toggleable__label-arrow fitted\">&nbsp;RandomForestClassifier<a class=\"sk-estimator-doc-link fitted\" rel=\"noreferrer\" target=\"_blank\" href=\"https://scikit-learn.org/1.5/modules/generated/sklearn.ensemble.RandomForestClassifier.html\">?<span>Documentation for RandomForestClassifier</span></a></label><div class=\"sk-toggleable__content fitted\"><pre>RandomForestClassifier()</pre></div> </div></div></div></div></div></div>"
      ]
     },
     "execution_count": 173,
     "metadata": {},
     "output_type": "execute_result"
    }
   ],
   "execution_count": 173
  },
  {
   "metadata": {
    "ExecuteTime": {
     "end_time": "2024-06-03T21:00:44.372588Z",
     "start_time": "2024-06-03T21:00:44.341200Z"
    }
   },
   "cell_type": "code",
   "source": [
    "test_index = 0  # Use the first training data point for prediction\n",
    "test_sample = X[test_index].reshape(1, -1)  # Reshape to (1, n_features)\n",
    "predicted_label = clf.predict(test_sample)\n",
    "actual_label = y[test_index]\n",
    "print(f\"Predicted label: {predicted_label[0]}, Actual label: {actual_label}\")"
   ],
   "id": "416c64cad30d70c8",
   "outputs": [
    {
     "name": "stdout",
     "output_type": "stream",
     "text": [
      "Predicted label: 1, Actual label: 1\n"
     ]
    }
   ],
   "execution_count": 174
  },
  {
   "metadata": {
    "ExecuteTime": {
     "end_time": "2024-06-03T19:57:58.267302Z",
     "start_time": "2024-06-03T19:57:58.261793Z"
    }
   },
   "cell_type": "code",
   "source": "",
   "id": "858816cde7e13577",
   "outputs": [],
   "execution_count": 78
  },
  {
   "metadata": {
    "ExecuteTime": {
     "end_time": "2024-06-03T18:22:23.569233Z",
     "start_time": "2024-06-03T18:22:23.553605Z"
    }
   },
   "cell_type": "code",
   "source": "# -----------------------Evoked-----------------------------------------------------------------------------------------",
   "id": "527ea8fc69842458",
   "outputs": [],
   "execution_count": 57
  },
  {
   "metadata": {
    "ExecuteTime": {
     "end_time": "2024-06-03T18:10:28.122023Z",
     "start_time": "2024-06-03T18:10:27.220449Z"
    }
   },
   "cell_type": "code",
   "source": [
    "root = mne.datasets.sample.data_path() / \"MEG\" / \"sample\"\n",
    "evoked_file = root / \"sample_audvis-ave.fif\"\n",
    "evokeds_list = mne.read_evokeds(\n",
    "    evoked_file, baseline=(None, 0), proj=True, verbose=False\n",
    ")\n",
    "\n",
    "# Show condition names and baseline intervals\n",
    "for e in evokeds_list:\n",
    "    print(f\"Condition: {e.comment}, baseline: {e.baseline}\")\n",
    "    \n",
    "conds = (\"aud/left\", \"aud/right\", \"vis/left\", \"vis/right\")\n",
    "evks = dict(zip(conds, evokeds_list))"
   ],
   "id": "e984b3b2c4bc0d60",
   "outputs": [
    {
     "name": "stdout",
     "output_type": "stream",
     "text": [
      "Condition: Left Auditory, baseline: (-0.19979521315838786, 0.0)\n",
      "Condition: Right Auditory, baseline: (-0.19979521315838786, 0.0)\n",
      "Condition: Left visual, baseline: (-0.19979521315838786, 0.0)\n",
      "Condition: Right visual, baseline: (-0.19979521315838786, 0.0)\n"
     ]
    }
   ],
   "execution_count": 30
  },
  {
   "metadata": {
    "ExecuteTime": {
     "end_time": "2024-06-02T21:15:49.699769Z",
     "start_time": "2024-06-02T21:15:49.668432Z"
    }
   },
   "cell_type": "code",
   "source": "evoked_file",
   "id": "7a5573559c2cf97d",
   "outputs": [
    {
     "data": {
      "text/plain": [
       "WindowsPath('C:/Users/iamth/mne_data/MNE-sample-data/MEG/sample/sample_audvis-ave.fif')"
      ]
     },
     "execution_count": 63,
     "metadata": {},
     "output_type": "execute_result"
    }
   ],
   "execution_count": 63
  },
  {
   "metadata": {
    "ExecuteTime": {
     "end_time": "2024-06-02T21:15:32.521789Z",
     "start_time": "2024-06-02T21:15:32.461507Z"
    }
   },
   "cell_type": "code",
   "source": "evks",
   "id": "be9819653d97952e",
   "outputs": [
    {
     "data": {
      "text/plain": [
       "{'aud/left': <Evoked | 'Left Auditory' (average, N=55), -0.1998 – 0.49949 s, baseline -0.199795 – 0 s, 376 ch, ~4.5 MB>,\n",
       " 'aud/right': <Evoked | 'Right Auditory' (average, N=61), -0.1998 – 0.49949 s, baseline -0.199795 – 0 s, 376 ch, ~4.5 MB>,\n",
       " 'vis/left': <Evoked | 'Left visual' (average, N=67), -0.1998 – 0.49949 s, baseline -0.199795 – 0 s, 376 ch, ~4.5 MB>,\n",
       " 'vis/right': <Evoked | 'Right visual' (average, N=58), -0.1998 – 0.49949 s, baseline -0.199795 – 0 s, 376 ch, ~4.5 MB>}"
      ]
     },
     "execution_count": 62,
     "metadata": {},
     "output_type": "execute_result"
    }
   ],
   "execution_count": 62
  },
  {
   "cell_type": "code",
   "execution_count": null,
   "id": "952e46ae66efcf0f",
   "metadata": {},
   "outputs": [],
   "source": [
    "# ------------------------------------------ Old code"
   ]
  },
  {
   "cell_type": "code",
   "execution_count": 11,
   "id": "61e0cadde559c024",
   "metadata": {
    "ExecuteTime": {
     "end_time": "2024-06-02T17:27:22.814600Z",
     "start_time": "2024-06-02T17:27:22.422872Z"
    }
   },
   "outputs": [],
   "source": [
    "# Perform an as of merge to find the closest earlier and later event_id\n",
    "df_buffers['prev_event_id'] = pd.merge_asof(df_buffers, df_tasks,\n",
    "                                            left_on='timestamps', right_on='timestamps',\n",
    "                                            direction='backward')['event_ids']\n",
    "\n",
    "df_buffers['next_event_id'] = pd.merge_asof(df_buffers, df_tasks,\n",
    "                                            left_on='timestamps', right_on='timestamps',\n",
    "                                            direction='forward')['event_ids']\n",
    "\n",
    "markers = {\n",
    "    'left_start': [1],\n",
    "    'left_end': [2],\n",
    "    'right_start': [3],\n",
    "    'right_end': [4],\n",
    "    'rest_start': [99],\n",
    "    'rest_end': [100],\n",
    "    'task_start': [-1],\n",
    "    'task_end': [-2]\n",
    "}\n",
    "\n",
    "def determine_phase(row):\n",
    "    if row['prev_event_id'] in markers['left_start'] and row['next_event_id'] in markers['left_end']:\n",
    "        return 'left'\n",
    "    elif row['prev_event_id'] in markers['right_start'] and row['next_event_id'] in markers['right_end']:\n",
    "        return 'right'\n",
    "    elif row['prev_event_id'] in markers['rest_start'] and row['next_event_id'] in markers['rest_end']:\n",
    "        return 'rest'\n",
    "    else:\n",
    "        return 'unknown'\n",
    "\n",
    "df_buffers['phase'] = df_buffers.apply(determine_phase, axis=1)\n",
    "\n",
    "grouped = df_buffers.groupby(['part_number', 'phase']).size().reset_index(name='count')\n",
    "\n",
    "sfreq = config.device_details['sfreq']\n",
    "buffer_duration = config.epoch_information['duration']\n",
    "\n",
    "valid_phases = ['left', 'right', 'rest']\n"
   ]
  },
  {
   "cell_type": "code",
   "execution_count": 12,
   "id": "7ad92a6c20eba889",
   "metadata": {
    "ExecuteTime": {
     "end_time": "2024-06-02T17:27:28.255931Z",
     "start_time": "2024-06-02T17:27:28.220202Z"
    }
   },
   "outputs": [],
   "source": [
    "df_buffers_filt = df_buffers[df_buffers['phase'].apply(lambda x: any(item in x for item in valid_phases))]"
   ]
  },
  {
   "cell_type": "code",
   "execution_count": 13,
   "id": "77d9a5d85f7ac7f9",
   "metadata": {
    "ExecuteTime": {
     "end_time": "2024-06-02T17:27:30.083642Z",
     "start_time": "2024-06-02T17:27:30.073199Z"
    }
   },
   "outputs": [
    {
     "name": "stderr",
     "output_type": "stream",
     "text": [
      "C:\\Users\\iamth\\AppData\\Local\\Temp\\ipykernel_16328\\25960297.py:1: SettingWithCopyWarning: \n",
      "A value is trying to be set on a copy of a slice from a DataFrame.\n",
      "Try using .loc[row_indexer,col_indexer] = value instead\n",
      "\n",
      "See the caveats in the documentation: https://pandas.pydata.org/pandas-docs/stable/user_guide/indexing.html#returning-a-view-versus-a-copy\n",
      "  df_buffers_filt.loc[:,'phase_group'] = (df_buffers_filt['phase'] != df_buffers_filt['phase'].shift()).cumsum()\n"
     ]
    }
   ],
   "source": [
    "df_buffers_filt.loc[:,'phase_group'] = (df_buffers_filt['phase'] != df_buffers_filt['phase'].shift()).cumsum()"
   ]
  },
  {
   "cell_type": "code",
   "execution_count": 14,
   "id": "166d7c6d36dafea8",
   "metadata": {
    "ExecuteTime": {
     "end_time": "2024-06-02T17:27:33.239019Z",
     "start_time": "2024-06-02T17:27:33.230020Z"
    }
   },
   "outputs": [],
   "source": [
    "df_phase_map = df_buffers_filt[['phase_group', 'phase']].drop_duplicates()"
   ]
  },
  {
   "cell_type": "code",
   "execution_count": 15,
   "id": "9c04167e5307a13e",
   "metadata": {
    "ExecuteTime": {
     "end_time": "2024-06-02T17:27:39.622546Z",
     "start_time": "2024-06-02T17:27:39.592941Z"
    }
   },
   "outputs": [
    {
     "data": {
      "text/html": [
       "<div>\n",
       "<style scoped>\n",
       "    .dataframe tbody tr th:only-of-type {\n",
       "        vertical-align: middle;\n",
       "    }\n",
       "\n",
       "    .dataframe tbody tr th {\n",
       "        vertical-align: top;\n",
       "    }\n",
       "\n",
       "    .dataframe thead th {\n",
       "        text-align: right;\n",
       "    }\n",
       "</style>\n",
       "<table border=\"1\" class=\"dataframe\">\n",
       "  <thead>\n",
       "    <tr style=\"text-align: right;\">\n",
       "      <th></th>\n",
       "      <th>buffer_col_0</th>\n",
       "      <th>buffer_col_1</th>\n",
       "      <th>buffer_col_2</th>\n",
       "      <th>buffer_col_3</th>\n",
       "      <th>buffer_col_4</th>\n",
       "      <th>buffer_col_5</th>\n",
       "      <th>buffer_col_6</th>\n",
       "      <th>buffer_col_7</th>\n",
       "      <th>buffer_col_8</th>\n",
       "      <th>buffer_col_9</th>\n",
       "      <th>...</th>\n",
       "      <th>buffer_col_13</th>\n",
       "      <th>buffer_col_14</th>\n",
       "      <th>buffer_col_15</th>\n",
       "      <th>buffer_col_16</th>\n",
       "      <th>timestamps</th>\n",
       "      <th>part_number</th>\n",
       "      <th>prev_event_id</th>\n",
       "      <th>next_event_id</th>\n",
       "      <th>phase</th>\n",
       "      <th>phase_group</th>\n",
       "    </tr>\n",
       "  </thead>\n",
       "  <tbody>\n",
       "    <tr>\n",
       "      <th>250</th>\n",
       "      <td>710610.1875</td>\n",
       "      <td>710551.8750</td>\n",
       "      <td>711185.8750</td>\n",
       "      <td>711149.5000</td>\n",
       "      <td>710992.7500</td>\n",
       "      <td>711349.9375</td>\n",
       "      <td>711281.1875</td>\n",
       "      <td>711513.6250</td>\n",
       "      <td>-0.053223</td>\n",
       "      <td>1.001709</td>\n",
       "      <td>...</td>\n",
       "      <td>1.251221</td>\n",
       "      <td>80.0</td>\n",
       "      <td>12909.0</td>\n",
       "      <td>1.0</td>\n",
       "      <td>690721.262570</td>\n",
       "      <td>3</td>\n",
       "      <td>1.0</td>\n",
       "      <td>2.0</td>\n",
       "      <td>left</td>\n",
       "      <td>1</td>\n",
       "    </tr>\n",
       "    <tr>\n",
       "      <th>251</th>\n",
       "      <td>710591.0625</td>\n",
       "      <td>710532.1875</td>\n",
       "      <td>711166.1250</td>\n",
       "      <td>711129.6250</td>\n",
       "      <td>710973.6250</td>\n",
       "      <td>711330.4375</td>\n",
       "      <td>711261.0000</td>\n",
       "      <td>711493.9375</td>\n",
       "      <td>-0.052734</td>\n",
       "      <td>0.999023</td>\n",
       "      <td>...</td>\n",
       "      <td>1.007080</td>\n",
       "      <td>80.0</td>\n",
       "      <td>12910.0</td>\n",
       "      <td>1.0</td>\n",
       "      <td>690721.277094</td>\n",
       "      <td>3</td>\n",
       "      <td>1.0</td>\n",
       "      <td>2.0</td>\n",
       "      <td>left</td>\n",
       "      <td>1</td>\n",
       "    </tr>\n",
       "    <tr>\n",
       "      <th>252</th>\n",
       "      <td>710589.3750</td>\n",
       "      <td>710530.6250</td>\n",
       "      <td>711165.3750</td>\n",
       "      <td>711128.8125</td>\n",
       "      <td>710972.4375</td>\n",
       "      <td>711328.7500</td>\n",
       "      <td>711260.2500</td>\n",
       "      <td>711493.2500</td>\n",
       "      <td>-0.052002</td>\n",
       "      <td>1.000488</td>\n",
       "      <td>...</td>\n",
       "      <td>0.793457</td>\n",
       "      <td>80.0</td>\n",
       "      <td>12911.0</td>\n",
       "      <td>1.0</td>\n",
       "      <td>690721.277129</td>\n",
       "      <td>3</td>\n",
       "      <td>1.0</td>\n",
       "      <td>2.0</td>\n",
       "      <td>left</td>\n",
       "      <td>1</td>\n",
       "    </tr>\n",
       "    <tr>\n",
       "      <th>253</th>\n",
       "      <td>710597.3125</td>\n",
       "      <td>710539.1250</td>\n",
       "      <td>711178.2500</td>\n",
       "      <td>711141.5000</td>\n",
       "      <td>710980.7500</td>\n",
       "      <td>711337.2500</td>\n",
       "      <td>711272.6875</td>\n",
       "      <td>711505.3125</td>\n",
       "      <td>-0.052246</td>\n",
       "      <td>1.001465</td>\n",
       "      <td>...</td>\n",
       "      <td>0.610352</td>\n",
       "      <td>80.0</td>\n",
       "      <td>12912.0</td>\n",
       "      <td>1.0</td>\n",
       "      <td>690721.279426</td>\n",
       "      <td>3</td>\n",
       "      <td>1.0</td>\n",
       "      <td>2.0</td>\n",
       "      <td>left</td>\n",
       "      <td>1</td>\n",
       "    </tr>\n",
       "    <tr>\n",
       "      <th>254</th>\n",
       "      <td>710607.4375</td>\n",
       "      <td>710548.9375</td>\n",
       "      <td>711187.1875</td>\n",
       "      <td>711150.5625</td>\n",
       "      <td>710990.5000</td>\n",
       "      <td>711347.3125</td>\n",
       "      <td>711282.0000</td>\n",
       "      <td>711514.6875</td>\n",
       "      <td>-0.054199</td>\n",
       "      <td>1.002441</td>\n",
       "      <td>...</td>\n",
       "      <td>0.366211</td>\n",
       "      <td>80.0</td>\n",
       "      <td>12913.0</td>\n",
       "      <td>1.0</td>\n",
       "      <td>690721.279453</td>\n",
       "      <td>3</td>\n",
       "      <td>1.0</td>\n",
       "      <td>2.0</td>\n",
       "      <td>left</td>\n",
       "      <td>1</td>\n",
       "    </tr>\n",
       "    <tr>\n",
       "      <th>...</th>\n",
       "      <td>...</td>\n",
       "      <td>...</td>\n",
       "      <td>...</td>\n",
       "      <td>...</td>\n",
       "      <td>...</td>\n",
       "      <td>...</td>\n",
       "      <td>...</td>\n",
       "      <td>...</td>\n",
       "      <td>...</td>\n",
       "      <td>...</td>\n",
       "      <td>...</td>\n",
       "      <td>...</td>\n",
       "      <td>...</td>\n",
       "      <td>...</td>\n",
       "      <td>...</td>\n",
       "      <td>...</td>\n",
       "      <td>...</td>\n",
       "      <td>...</td>\n",
       "      <td>...</td>\n",
       "      <td>...</td>\n",
       "      <td>...</td>\n",
       "    </tr>\n",
       "    <tr>\n",
       "      <th>2526</th>\n",
       "      <td>710615.1250</td>\n",
       "      <td>710556.6875</td>\n",
       "      <td>711191.3125</td>\n",
       "      <td>711154.9375</td>\n",
       "      <td>710997.3125</td>\n",
       "      <td>711354.8750</td>\n",
       "      <td>711286.5625</td>\n",
       "      <td>711519.4375</td>\n",
       "      <td>-0.060059</td>\n",
       "      <td>1.001465</td>\n",
       "      <td>...</td>\n",
       "      <td>0.671387</td>\n",
       "      <td>80.0</td>\n",
       "      <td>17310.0</td>\n",
       "      <td>1.0</td>\n",
       "      <td>690738.839527</td>\n",
       "      <td>21</td>\n",
       "      <td>99.0</td>\n",
       "      <td>100.0</td>\n",
       "      <td>rest</td>\n",
       "      <td>10</td>\n",
       "    </tr>\n",
       "    <tr>\n",
       "      <th>2527</th>\n",
       "      <td>710602.1250</td>\n",
       "      <td>710543.6875</td>\n",
       "      <td>711178.4375</td>\n",
       "      <td>711142.0625</td>\n",
       "      <td>710984.8750</td>\n",
       "      <td>711342.2500</td>\n",
       "      <td>711273.3125</td>\n",
       "      <td>711506.3125</td>\n",
       "      <td>-0.060547</td>\n",
       "      <td>1.003662</td>\n",
       "      <td>...</td>\n",
       "      <td>0.579834</td>\n",
       "      <td>80.0</td>\n",
       "      <td>17311.0</td>\n",
       "      <td>1.0</td>\n",
       "      <td>690738.847772</td>\n",
       "      <td>21</td>\n",
       "      <td>99.0</td>\n",
       "      <td>100.0</td>\n",
       "      <td>rest</td>\n",
       "      <td>10</td>\n",
       "    </tr>\n",
       "    <tr>\n",
       "      <th>2528</th>\n",
       "      <td>710594.0625</td>\n",
       "      <td>710535.5000</td>\n",
       "      <td>711170.7500</td>\n",
       "      <td>711134.4375</td>\n",
       "      <td>710977.0000</td>\n",
       "      <td>711334.0000</td>\n",
       "      <td>711265.8125</td>\n",
       "      <td>711498.6250</td>\n",
       "      <td>-0.061523</td>\n",
       "      <td>1.003906</td>\n",
       "      <td>...</td>\n",
       "      <td>0.579834</td>\n",
       "      <td>80.0</td>\n",
       "      <td>17312.0</td>\n",
       "      <td>1.0</td>\n",
       "      <td>690738.852044</td>\n",
       "      <td>21</td>\n",
       "      <td>99.0</td>\n",
       "      <td>100.0</td>\n",
       "      <td>rest</td>\n",
       "      <td>10</td>\n",
       "    </tr>\n",
       "    <tr>\n",
       "      <th>2529</th>\n",
       "      <td>710603.0000</td>\n",
       "      <td>710544.6250</td>\n",
       "      <td>711178.0625</td>\n",
       "      <td>711141.6250</td>\n",
       "      <td>710985.5000</td>\n",
       "      <td>711343.1250</td>\n",
       "      <td>711273.3125</td>\n",
       "      <td>711505.9375</td>\n",
       "      <td>-0.059326</td>\n",
       "      <td>1.002197</td>\n",
       "      <td>...</td>\n",
       "      <td>0.640869</td>\n",
       "      <td>80.0</td>\n",
       "      <td>17313.0</td>\n",
       "      <td>1.0</td>\n",
       "      <td>690738.852054</td>\n",
       "      <td>21</td>\n",
       "      <td>99.0</td>\n",
       "      <td>100.0</td>\n",
       "      <td>rest</td>\n",
       "      <td>10</td>\n",
       "    </tr>\n",
       "    <tr>\n",
       "      <th>2530</th>\n",
       "      <td>710608.3125</td>\n",
       "      <td>710550.0000</td>\n",
       "      <td>711183.7500</td>\n",
       "      <td>711147.1875</td>\n",
       "      <td>710991.0625</td>\n",
       "      <td>711348.5625</td>\n",
       "      <td>711279.1250</td>\n",
       "      <td>711511.6875</td>\n",
       "      <td>-0.061035</td>\n",
       "      <td>1.001709</td>\n",
       "      <td>...</td>\n",
       "      <td>0.549316</td>\n",
       "      <td>80.0</td>\n",
       "      <td>17314.0</td>\n",
       "      <td>1.0</td>\n",
       "      <td>690738.855242</td>\n",
       "      <td>21</td>\n",
       "      <td>99.0</td>\n",
       "      <td>100.0</td>\n",
       "      <td>rest</td>\n",
       "      <td>10</td>\n",
       "    </tr>\n",
       "  </tbody>\n",
       "</table>\n",
       "<p>2281 rows × 23 columns</p>\n",
       "</div>"
      ],
      "text/plain": [
       "      buffer_col_0  buffer_col_1  buffer_col_2  buffer_col_3  buffer_col_4  \\\n",
       "250    710610.1875   710551.8750   711185.8750   711149.5000   710992.7500   \n",
       "251    710591.0625   710532.1875   711166.1250   711129.6250   710973.6250   \n",
       "252    710589.3750   710530.6250   711165.3750   711128.8125   710972.4375   \n",
       "253    710597.3125   710539.1250   711178.2500   711141.5000   710980.7500   \n",
       "254    710607.4375   710548.9375   711187.1875   711150.5625   710990.5000   \n",
       "...            ...           ...           ...           ...           ...   \n",
       "2526   710615.1250   710556.6875   711191.3125   711154.9375   710997.3125   \n",
       "2527   710602.1250   710543.6875   711178.4375   711142.0625   710984.8750   \n",
       "2528   710594.0625   710535.5000   711170.7500   711134.4375   710977.0000   \n",
       "2529   710603.0000   710544.6250   711178.0625   711141.6250   710985.5000   \n",
       "2530   710608.3125   710550.0000   711183.7500   711147.1875   710991.0625   \n",
       "\n",
       "      buffer_col_5  buffer_col_6  buffer_col_7  buffer_col_8  buffer_col_9  \\\n",
       "250    711349.9375   711281.1875   711513.6250     -0.053223      1.001709   \n",
       "251    711330.4375   711261.0000   711493.9375     -0.052734      0.999023   \n",
       "252    711328.7500   711260.2500   711493.2500     -0.052002      1.000488   \n",
       "253    711337.2500   711272.6875   711505.3125     -0.052246      1.001465   \n",
       "254    711347.3125   711282.0000   711514.6875     -0.054199      1.002441   \n",
       "...            ...           ...           ...           ...           ...   \n",
       "2526   711354.8750   711286.5625   711519.4375     -0.060059      1.001465   \n",
       "2527   711342.2500   711273.3125   711506.3125     -0.060547      1.003662   \n",
       "2528   711334.0000   711265.8125   711498.6250     -0.061523      1.003906   \n",
       "2529   711343.1250   711273.3125   711505.9375     -0.059326      1.002197   \n",
       "2530   711348.5625   711279.1250   711511.6875     -0.061035      1.001709   \n",
       "\n",
       "      ...  buffer_col_13  buffer_col_14  buffer_col_15  buffer_col_16  \\\n",
       "250   ...       1.251221           80.0        12909.0            1.0   \n",
       "251   ...       1.007080           80.0        12910.0            1.0   \n",
       "252   ...       0.793457           80.0        12911.0            1.0   \n",
       "253   ...       0.610352           80.0        12912.0            1.0   \n",
       "254   ...       0.366211           80.0        12913.0            1.0   \n",
       "...   ...            ...            ...            ...            ...   \n",
       "2526  ...       0.671387           80.0        17310.0            1.0   \n",
       "2527  ...       0.579834           80.0        17311.0            1.0   \n",
       "2528  ...       0.579834           80.0        17312.0            1.0   \n",
       "2529  ...       0.640869           80.0        17313.0            1.0   \n",
       "2530  ...       0.549316           80.0        17314.0            1.0   \n",
       "\n",
       "         timestamps  part_number  prev_event_id  next_event_id  phase  \\\n",
       "250   690721.262570            3            1.0            2.0   left   \n",
       "251   690721.277094            3            1.0            2.0   left   \n",
       "252   690721.277129            3            1.0            2.0   left   \n",
       "253   690721.279426            3            1.0            2.0   left   \n",
       "254   690721.279453            3            1.0            2.0   left   \n",
       "...             ...          ...            ...            ...    ...   \n",
       "2526  690738.839527           21           99.0          100.0   rest   \n",
       "2527  690738.847772           21           99.0          100.0   rest   \n",
       "2528  690738.852044           21           99.0          100.0   rest   \n",
       "2529  690738.852054           21           99.0          100.0   rest   \n",
       "2530  690738.855242           21           99.0          100.0   rest   \n",
       "\n",
       "      phase_group  \n",
       "250             1  \n",
       "251             1  \n",
       "252             1  \n",
       "253             1  \n",
       "254             1  \n",
       "...           ...  \n",
       "2526           10  \n",
       "2527           10  \n",
       "2528           10  \n",
       "2529           10  \n",
       "2530           10  \n",
       "\n",
       "[2281 rows x 23 columns]"
      ]
     },
     "execution_count": 15,
     "metadata": {},
     "output_type": "execute_result"
    }
   ],
   "source": [
    "df_buffers_filt"
   ]
  },
  {
   "cell_type": "code",
   "execution_count": 28,
   "id": "4d3c46c506e84e1",
   "metadata": {
    "ExecuteTime": {
     "end_time": "2024-06-02T17:07:08.440073Z",
     "start_time": "2024-06-02T17:07:08.420355Z"
    }
   },
   "outputs": [],
   "source": [
    "def get_phase_name(phase_group_number):\n",
    "    # Look up the phase group number in the DataFrame\n",
    "    phase_name = df_phase_map.loc[df_phase_map['phase_group'] == phase_group_number, 'phase']\n",
    "    \n",
    "    # Check if the phase group number exists in the DataFrame\n",
    "    if not phase_name.empty:\n",
    "        return phase_name.values[0]\n",
    "    else:\n",
    "        return \"Invalid phase group number\""
   ]
  },
  {
   "cell_type": "code",
   "execution_count": 29,
   "id": "7d07f809f42bf4bd",
   "metadata": {
    "ExecuteTime": {
     "end_time": "2024-06-02T17:07:11.281658Z",
     "start_time": "2024-06-02T17:07:11.271659Z"
    }
   },
   "outputs": [],
   "source": [
    "val_sel_columns = config.device_details['relevant_channels_from_device']\n",
    "columns_to_select = df_buffers.columns[:val_sel_columns].tolist() + ['part_number', 'timestamps', 'phase', 'phase_group']\n",
    "df_buffers_filt = df_buffers_filt[columns_to_select]"
   ]
  },
  {
   "cell_type": "code",
   "execution_count": 30,
   "id": "f5f14f1ffbeb7ed6",
   "metadata": {
    "ExecuteTime": {
     "end_time": "2024-06-02T17:07:14.099853Z",
     "start_time": "2024-06-02T17:07:14.086856Z"
    }
   },
   "outputs": [],
   "source": [
    "\n",
    "rename_dict = {old_name: new_name for old_name, new_name in zip(df_buffers_filt.columns[:val_sel_columns], channel_names)}\n",
    "df_buffers_renamed = df_buffers_filt.rename(columns=rename_dict)"
   ]
  },
  {
   "cell_type": "code",
   "execution_count": 31,
   "id": "5beb3f7eb0d3f32",
   "metadata": {
    "ExecuteTime": {
     "end_time": "2024-06-02T17:07:15.601400Z",
     "start_time": "2024-06-02T17:07:15.584967Z"
    }
   },
   "outputs": [],
   "source": [
    "df_buffers_renamed[channel_names] = df_buffers_renamed[channel_names].values * 1e-6"
   ]
  },
  {
   "cell_type": "code",
   "execution_count": 39,
   "id": "ae268f468b501dd7",
   "metadata": {
    "ExecuteTime": {
     "end_time": "2024-06-02T17:16:08.903567Z",
     "start_time": "2024-06-02T17:16:08.886372Z"
    }
   },
   "outputs": [],
   "source": []
  },
  {
   "cell_type": "code",
   "execution_count": 40,
   "id": "4edb5f83a363f040",
   "metadata": {
    "ExecuteTime": {
     "end_time": "2024-06-02T17:16:10.911736Z",
     "start_time": "2024-06-02T17:16:10.900374Z"
    }
   },
   "outputs": [],
   "source": []
  },
  {
   "cell_type": "code",
   "execution_count": 6,
   "id": "3f61d57b591d389f",
   "metadata": {
    "ExecuteTime": {
     "end_time": "2024-06-02T17:38:55.860673Z",
     "start_time": "2024-06-02T17:38:55.844113Z"
    }
   },
   "outputs": [
    {
     "data": {
      "text/html": [
       "<div>\n",
       "<style scoped>\n",
       "    .dataframe tbody tr th:only-of-type {\n",
       "        vertical-align: middle;\n",
       "    }\n",
       "\n",
       "    .dataframe tbody tr th {\n",
       "        vertical-align: top;\n",
       "    }\n",
       "\n",
       "    .dataframe thead th {\n",
       "        text-align: right;\n",
       "    }\n",
       "</style>\n",
       "<table border=\"1\" class=\"dataframe\">\n",
       "  <thead>\n",
       "    <tr style=\"text-align: right;\">\n",
       "      <th></th>\n",
       "      <th>event_ids</th>\n",
       "      <th>timestamps</th>\n",
       "    </tr>\n",
       "  </thead>\n",
       "  <tbody>\n",
       "    <tr>\n",
       "      <th>0</th>\n",
       "      <td>-1</td>\n",
       "      <td>690721.257991</td>\n",
       "    </tr>\n",
       "    <tr>\n",
       "      <th>1</th>\n",
       "      <td>1</td>\n",
       "      <td>690721.258034</td>\n",
       "    </tr>\n",
       "    <tr>\n",
       "      <th>2</th>\n",
       "      <td>2</td>\n",
       "      <td>690723.789639</td>\n",
       "    </tr>\n",
       "    <tr>\n",
       "      <th>3</th>\n",
       "      <td>99</td>\n",
       "      <td>690723.789780</td>\n",
       "    </tr>\n",
       "    <tr>\n",
       "      <th>4</th>\n",
       "      <td>100</td>\n",
       "      <td>690724.790197</td>\n",
       "    </tr>\n",
       "    <tr>\n",
       "      <th>5</th>\n",
       "      <td>3</td>\n",
       "      <td>690724.790282</td>\n",
       "    </tr>\n",
       "    <tr>\n",
       "      <th>6</th>\n",
       "      <td>4</td>\n",
       "      <td>690727.310579</td>\n",
       "    </tr>\n",
       "    <tr>\n",
       "      <th>7</th>\n",
       "      <td>99</td>\n",
       "      <td>690727.310641</td>\n",
       "    </tr>\n",
       "    <tr>\n",
       "      <th>8</th>\n",
       "      <td>100</td>\n",
       "      <td>690728.310771</td>\n",
       "    </tr>\n",
       "    <tr>\n",
       "      <th>9</th>\n",
       "      <td>1</td>\n",
       "      <td>690728.310793</td>\n",
       "    </tr>\n",
       "    <tr>\n",
       "      <th>10</th>\n",
       "      <td>2</td>\n",
       "      <td>690730.827370</td>\n",
       "    </tr>\n",
       "    <tr>\n",
       "      <th>11</th>\n",
       "      <td>99</td>\n",
       "      <td>690730.827459</td>\n",
       "    </tr>\n",
       "    <tr>\n",
       "      <th>12</th>\n",
       "      <td>100</td>\n",
       "      <td>690731.827947</td>\n",
       "    </tr>\n",
       "    <tr>\n",
       "      <th>13</th>\n",
       "      <td>3</td>\n",
       "      <td>690731.827982</td>\n",
       "    </tr>\n",
       "    <tr>\n",
       "      <th>14</th>\n",
       "      <td>4</td>\n",
       "      <td>690734.341790</td>\n",
       "    </tr>\n",
       "    <tr>\n",
       "      <th>15</th>\n",
       "      <td>99</td>\n",
       "      <td>690734.341900</td>\n",
       "    </tr>\n",
       "    <tr>\n",
       "      <th>16</th>\n",
       "      <td>100</td>\n",
       "      <td>690735.342093</td>\n",
       "    </tr>\n",
       "    <tr>\n",
       "      <th>17</th>\n",
       "      <td>1</td>\n",
       "      <td>690735.342114</td>\n",
       "    </tr>\n",
       "    <tr>\n",
       "      <th>18</th>\n",
       "      <td>2</td>\n",
       "      <td>690737.858377</td>\n",
       "    </tr>\n",
       "    <tr>\n",
       "      <th>19</th>\n",
       "      <td>99</td>\n",
       "      <td>690737.858442</td>\n",
       "    </tr>\n",
       "    <tr>\n",
       "      <th>20</th>\n",
       "      <td>100</td>\n",
       "      <td>690738.858993</td>\n",
       "    </tr>\n",
       "    <tr>\n",
       "      <th>21</th>\n",
       "      <td>-2</td>\n",
       "      <td>690738.859007</td>\n",
       "    </tr>\n",
       "  </tbody>\n",
       "</table>\n",
       "</div>"
      ],
      "text/plain": [
       "    event_ids     timestamps\n",
       "0          -1  690721.257991\n",
       "1           1  690721.258034\n",
       "2           2  690723.789639\n",
       "3          99  690723.789780\n",
       "4         100  690724.790197\n",
       "5           3  690724.790282\n",
       "6           4  690727.310579\n",
       "7          99  690727.310641\n",
       "8         100  690728.310771\n",
       "9           1  690728.310793\n",
       "10          2  690730.827370\n",
       "11         99  690730.827459\n",
       "12        100  690731.827947\n",
       "13          3  690731.827982\n",
       "14          4  690734.341790\n",
       "15         99  690734.341900\n",
       "16        100  690735.342093\n",
       "17          1  690735.342114\n",
       "18          2  690737.858377\n",
       "19         99  690737.858442\n",
       "20        100  690738.858993\n",
       "21         -2  690738.859007"
      ]
     },
     "execution_count": 6,
     "metadata": {},
     "output_type": "execute_result"
    }
   ],
   "source": [
    "df_tasks"
   ]
  },
  {
   "cell_type": "code",
   "execution_count": 41,
   "id": "c28a2f835767f4b0",
   "metadata": {
    "ExecuteTime": {
     "end_time": "2024-06-02T17:16:15.200717Z",
     "start_time": "2024-06-02T17:16:15.177911Z"
    }
   },
   "outputs": [
    {
     "name": "stdout",
     "output_type": "stream",
     "text": [
      "Onsets: [690721.2580341, 690723.7897802, 690724.7902818, 690727.3106413, 690728.3107932, 690730.8274592, 690731.8279824, 690734.3419004, 690735.3421138, 690737.8584416]\n",
      "Durations: [2.5316049999091774, 1.0004165000282228, 2.5202967000659555, 1.000129499938339, 2.5165763999102637, 1.0004875999875367, 2.513808000017889, 1.0001930999569595, 2.5162627999670804, 1.00055140000768]\n",
      "Descriptions: ['LEFT', 'REST', 'RIGHT', 'REST', 'LEFT', 'REST', 'RIGHT', 'REST', 'LEFT', 'REST']\n"
     ]
    }
   ],
   "source": []
  },
  {
   "cell_type": "code",
   "execution_count": 42,
   "id": "14957b92fbfcb0ff",
   "metadata": {
    "ExecuteTime": {
     "end_time": "2024-06-02T17:16:36.194836Z",
     "start_time": "2024-06-02T17:16:36.171994Z"
    }
   },
   "outputs": [
    {
     "data": {
      "text/html": [
       "<div>\n",
       "<style scoped>\n",
       "    .dataframe tbody tr th:only-of-type {\n",
       "        vertical-align: middle;\n",
       "    }\n",
       "\n",
       "    .dataframe tbody tr th {\n",
       "        vertical-align: top;\n",
       "    }\n",
       "\n",
       "    .dataframe thead th {\n",
       "        text-align: right;\n",
       "    }\n",
       "</style>\n",
       "<table border=\"1\" class=\"dataframe\">\n",
       "  <thead>\n",
       "    <tr style=\"text-align: right;\">\n",
       "      <th></th>\n",
       "      <th>Fz</th>\n",
       "      <th>C3</th>\n",
       "      <th>Cz</th>\n",
       "      <th>C4</th>\n",
       "      <th>Pz</th>\n",
       "      <th>PO7</th>\n",
       "      <th>Oz</th>\n",
       "      <th>PO8</th>\n",
       "      <th>epoch_number</th>\n",
       "      <th>timestamps</th>\n",
       "      <th>phase</th>\n",
       "      <th>phase_group</th>\n",
       "    </tr>\n",
       "  </thead>\n",
       "  <tbody>\n",
       "    <tr>\n",
       "      <th>250</th>\n",
       "      <td>0.710610</td>\n",
       "      <td>0.710552</td>\n",
       "      <td>0.711186</td>\n",
       "      <td>0.711149</td>\n",
       "      <td>0.710993</td>\n",
       "      <td>0.711350</td>\n",
       "      <td>0.711281</td>\n",
       "      <td>0.711514</td>\n",
       "      <td>3</td>\n",
       "      <td>690721.262570</td>\n",
       "      <td>left</td>\n",
       "      <td>1</td>\n",
       "    </tr>\n",
       "    <tr>\n",
       "      <th>251</th>\n",
       "      <td>0.710591</td>\n",
       "      <td>0.710532</td>\n",
       "      <td>0.711166</td>\n",
       "      <td>0.711130</td>\n",
       "      <td>0.710974</td>\n",
       "      <td>0.711330</td>\n",
       "      <td>0.711261</td>\n",
       "      <td>0.711494</td>\n",
       "      <td>3</td>\n",
       "      <td>690721.277094</td>\n",
       "      <td>left</td>\n",
       "      <td>1</td>\n",
       "    </tr>\n",
       "    <tr>\n",
       "      <th>252</th>\n",
       "      <td>0.710589</td>\n",
       "      <td>0.710531</td>\n",
       "      <td>0.711165</td>\n",
       "      <td>0.711129</td>\n",
       "      <td>0.710972</td>\n",
       "      <td>0.711329</td>\n",
       "      <td>0.711260</td>\n",
       "      <td>0.711493</td>\n",
       "      <td>3</td>\n",
       "      <td>690721.277129</td>\n",
       "      <td>left</td>\n",
       "      <td>1</td>\n",
       "    </tr>\n",
       "    <tr>\n",
       "      <th>253</th>\n",
       "      <td>0.710597</td>\n",
       "      <td>0.710539</td>\n",
       "      <td>0.711178</td>\n",
       "      <td>0.711141</td>\n",
       "      <td>0.710981</td>\n",
       "      <td>0.711337</td>\n",
       "      <td>0.711273</td>\n",
       "      <td>0.711505</td>\n",
       "      <td>3</td>\n",
       "      <td>690721.279426</td>\n",
       "      <td>left</td>\n",
       "      <td>1</td>\n",
       "    </tr>\n",
       "    <tr>\n",
       "      <th>254</th>\n",
       "      <td>0.710607</td>\n",
       "      <td>0.710549</td>\n",
       "      <td>0.711187</td>\n",
       "      <td>0.711151</td>\n",
       "      <td>0.710990</td>\n",
       "      <td>0.711347</td>\n",
       "      <td>0.711282</td>\n",
       "      <td>0.711515</td>\n",
       "      <td>3</td>\n",
       "      <td>690721.279453</td>\n",
       "      <td>left</td>\n",
       "      <td>1</td>\n",
       "    </tr>\n",
       "    <tr>\n",
       "      <th>...</th>\n",
       "      <td>...</td>\n",
       "      <td>...</td>\n",
       "      <td>...</td>\n",
       "      <td>...</td>\n",
       "      <td>...</td>\n",
       "      <td>...</td>\n",
       "      <td>...</td>\n",
       "      <td>...</td>\n",
       "      <td>...</td>\n",
       "      <td>...</td>\n",
       "      <td>...</td>\n",
       "      <td>...</td>\n",
       "    </tr>\n",
       "    <tr>\n",
       "      <th>2526</th>\n",
       "      <td>0.710615</td>\n",
       "      <td>0.710557</td>\n",
       "      <td>0.711191</td>\n",
       "      <td>0.711155</td>\n",
       "      <td>0.710997</td>\n",
       "      <td>0.711355</td>\n",
       "      <td>0.711287</td>\n",
       "      <td>0.711519</td>\n",
       "      <td>21</td>\n",
       "      <td>690738.839527</td>\n",
       "      <td>rest</td>\n",
       "      <td>10</td>\n",
       "    </tr>\n",
       "    <tr>\n",
       "      <th>2527</th>\n",
       "      <td>0.710602</td>\n",
       "      <td>0.710544</td>\n",
       "      <td>0.711178</td>\n",
       "      <td>0.711142</td>\n",
       "      <td>0.710985</td>\n",
       "      <td>0.711342</td>\n",
       "      <td>0.711273</td>\n",
       "      <td>0.711506</td>\n",
       "      <td>21</td>\n",
       "      <td>690738.847772</td>\n",
       "      <td>rest</td>\n",
       "      <td>10</td>\n",
       "    </tr>\n",
       "    <tr>\n",
       "      <th>2528</th>\n",
       "      <td>0.710594</td>\n",
       "      <td>0.710535</td>\n",
       "      <td>0.711171</td>\n",
       "      <td>0.711134</td>\n",
       "      <td>0.710977</td>\n",
       "      <td>0.711334</td>\n",
       "      <td>0.711266</td>\n",
       "      <td>0.711499</td>\n",
       "      <td>21</td>\n",
       "      <td>690738.852044</td>\n",
       "      <td>rest</td>\n",
       "      <td>10</td>\n",
       "    </tr>\n",
       "    <tr>\n",
       "      <th>2529</th>\n",
       "      <td>0.710603</td>\n",
       "      <td>0.710545</td>\n",
       "      <td>0.711178</td>\n",
       "      <td>0.711142</td>\n",
       "      <td>0.710985</td>\n",
       "      <td>0.711343</td>\n",
       "      <td>0.711273</td>\n",
       "      <td>0.711506</td>\n",
       "      <td>21</td>\n",
       "      <td>690738.852054</td>\n",
       "      <td>rest</td>\n",
       "      <td>10</td>\n",
       "    </tr>\n",
       "    <tr>\n",
       "      <th>2530</th>\n",
       "      <td>0.710608</td>\n",
       "      <td>0.710550</td>\n",
       "      <td>0.711184</td>\n",
       "      <td>0.711147</td>\n",
       "      <td>0.710991</td>\n",
       "      <td>0.711349</td>\n",
       "      <td>0.711279</td>\n",
       "      <td>0.711512</td>\n",
       "      <td>21</td>\n",
       "      <td>690738.855242</td>\n",
       "      <td>rest</td>\n",
       "      <td>10</td>\n",
       "    </tr>\n",
       "  </tbody>\n",
       "</table>\n",
       "<p>2281 rows × 12 columns</p>\n",
       "</div>"
      ],
      "text/plain": [
       "            Fz        C3        Cz        C4        Pz       PO7        Oz  \\\n",
       "250   0.710610  0.710552  0.711186  0.711149  0.710993  0.711350  0.711281   \n",
       "251   0.710591  0.710532  0.711166  0.711130  0.710974  0.711330  0.711261   \n",
       "252   0.710589  0.710531  0.711165  0.711129  0.710972  0.711329  0.711260   \n",
       "253   0.710597  0.710539  0.711178  0.711141  0.710981  0.711337  0.711273   \n",
       "254   0.710607  0.710549  0.711187  0.711151  0.710990  0.711347  0.711282   \n",
       "...        ...       ...       ...       ...       ...       ...       ...   \n",
       "2526  0.710615  0.710557  0.711191  0.711155  0.710997  0.711355  0.711287   \n",
       "2527  0.710602  0.710544  0.711178  0.711142  0.710985  0.711342  0.711273   \n",
       "2528  0.710594  0.710535  0.711171  0.711134  0.710977  0.711334  0.711266   \n",
       "2529  0.710603  0.710545  0.711178  0.711142  0.710985  0.711343  0.711273   \n",
       "2530  0.710608  0.710550  0.711184  0.711147  0.710991  0.711349  0.711279   \n",
       "\n",
       "           PO8  epoch_number     timestamps phase  phase_group  \n",
       "250   0.711514             3  690721.262570  left            1  \n",
       "251   0.711494             3  690721.277094  left            1  \n",
       "252   0.711493             3  690721.277129  left            1  \n",
       "253   0.711505             3  690721.279426  left            1  \n",
       "254   0.711515             3  690721.279453  left            1  \n",
       "...        ...           ...            ...   ...          ...  \n",
       "2526  0.711519            21  690738.839527  rest           10  \n",
       "2527  0.711506            21  690738.847772  rest           10  \n",
       "2528  0.711499            21  690738.852044  rest           10  \n",
       "2529  0.711506            21  690738.852054  rest           10  \n",
       "2530  0.711512            21  690738.855242  rest           10  \n",
       "\n",
       "[2281 rows x 12 columns]"
      ]
     },
     "execution_count": 42,
     "metadata": {},
     "output_type": "execute_result"
    }
   ],
   "source": [
    "df_buffers_renamed"
   ]
  },
  {
   "cell_type": "code",
   "execution_count": 37,
   "id": "305f94a471d4eeed",
   "metadata": {
    "ExecuteTime": {
     "end_time": "2024-06-02T17:13:14.982357Z",
     "start_time": "2024-06-02T17:13:14.950907Z"
    }
   },
   "outputs": [
    {
     "name": "stdout",
     "output_type": "stream",
     "text": [
      "<Annotations | 11 segments: LEFT (3), REST (5), RIGHT (2), TASK (1)>\n"
     ]
    }
   ],
   "source": []
  },
  {
   "cell_type": "code",
   "execution_count": null,
   "id": "1b604cac21d794d4",
   "metadata": {},
   "outputs": [],
   "source": []
  },
  {
   "cell_type": "code",
   "execution_count": null,
   "id": "c2787ce40a50b9bc",
   "metadata": {},
   "outputs": [],
   "source": []
  },
  {
   "cell_type": "code",
   "execution_count": null,
   "id": "b1fe449f6b5f652e",
   "metadata": {},
   "outputs": [],
   "source": [
    "df_buffers_renamed"
   ]
  },
  {
   "cell_type": "code",
   "execution_count": null,
   "id": "737f56920fccc113",
   "metadata": {},
   "outputs": [],
   "source": []
  },
  {
   "cell_type": "code",
   "execution_count": null,
   "id": "248c744831d1460e",
   "metadata": {},
   "outputs": [],
   "source": [
    "# Creating epochs data\n",
    "epochs_data = []\n",
    "events = []\n",
    "\n",
    "event_id = {'left': 1, 'right': 2, 'rest': 3}\n",
    "phases = ['left', 'right', 'rest']"
   ]
  },
  {
   "cell_type": "code",
   "execution_count": null,
   "id": "ea7e7501d7f28b3c",
   "metadata": {},
   "outputs": [],
   "source": [
    "max_shape = 0  # Initialize maximum shape\n",
    "\n",
    "for i, df_phase_group in df_buffers_renamed.groupby('phase_group'):\n",
    "    if get_phase_name(i) not in phases:\n",
    "        continue\n",
    "    data_array = df_phase_group[channel_names].values.T\n",
    "    max_shape = max(max_shape, data_array.shape[1])\n",
    "    epochs_data.append(data_array)\n",
    "    \n",
    "    phase_group = df_phase_group['phase_group'].iloc[0]\n",
    "    phase = df_phase_map[df_phase_map['phase_group'] == phase_group]['phase'].iloc[0]\n",
    "    event = event_id[phase]\n",
    "    \n",
    "    events.append([len(epochs_data) - 1, 0, event])"
   ]
  },
  {
   "cell_type": "code",
   "execution_count": null,
   "id": "3205388cfcf8f3ad",
   "metadata": {},
   "outputs": [],
   "source": [
    "events = np.array(events)"
   ]
  },
  {
   "cell_type": "code",
   "execution_count": null,
   "id": "87168f8986cb2512",
   "metadata": {},
   "outputs": [],
   "source": [
    "events"
   ]
  },
  {
   "cell_type": "code",
   "execution_count": null,
   "id": "de127a36a7979ab4",
   "metadata": {},
   "outputs": [],
   "source": [
    "# Pad or truncate each epoch's data to match the maximum shape\n",
    "for i, data_array in enumerate(epochs_data):\n",
    "    current_shape = data_array.shape[1]\n",
    "    if current_shape < max_shape:\n",
    "        padding = ((0, 0), (0, max_shape - current_shape))\n",
    "        epochs_data[i] = np.pad(data_array, padding, mode='constant')\n",
    "    elif current_shape > max_shape:\n",
    "        epochs_data[i] = data_array[:, :max_shape]\n",
    "\n",
    "# Convert epoch_data to numpy array\n",
    "epochs_data = np.array(epochs_data)\n",
    "\n",
    "# Print the shape of epoch_data\n",
    "print(\"Shape of epoch_data:\", epochs_data.shape)"
   ]
  },
  {
   "cell_type": "code",
   "execution_count": null,
   "id": "727120b7196332ac",
   "metadata": {},
   "outputs": [],
   "source": [
    "# Create MNE info structure\n",
    "info = create_info(ch_names=channel_names, sfreq=config.device_details['sfreq'], ch_types='eeg')\n",
    "\n",
    "# Create MNE Epochs object\n",
    "epochs = EpochsArray(epochs_data, info, events, event_id=event_id, tmin=0)\n",
    "\n",
    "\n"
   ]
  },
  {
   "cell_type": "code",
   "execution_count": null,
   "id": "173a0ed6e6f6936b",
   "metadata": {},
   "outputs": [],
   "source": [
    "# X\n",
    "# y\n",
    "\n"
   ]
  },
  {
   "cell_type": "code",
   "execution_count": null,
   "id": "9e2fb0dbd71bce1b",
   "metadata": {},
   "outputs": [],
   "source": [
    "# epochs.get_data()[8]\n",
    "# epochs[2].plot(n_channels=8, picks=['eeg'])\n",
    "\n",
    "\n",
    "# epochs.plot_topo_image()"
   ]
  },
  {
   "cell_type": "code",
   "execution_count": null,
   "id": "f86f6e8a51755d24",
   "metadata": {},
   "outputs": [],
   "source": [
    "y"
   ]
  },
  {
   "cell_type": "code",
   "execution_count": null,
   "id": "c6c368d1fcf47c58",
   "metadata": {},
   "outputs": [],
   "source": [
    "# X"
   ]
  },
  {
   "cell_type": "code",
   "execution_count": null,
   "id": "ab20c083cebb3906",
   "metadata": {},
   "outputs": [],
   "source": ""
  },
  {
   "cell_type": "code",
   "execution_count": null,
   "id": "fb20959f4f966e28",
   "metadata": {},
   "outputs": [],
   "source": []
  }
 ],
 "metadata": {
  "kernelspec": {
   "display_name": "Python 3 (ipykernel)",
   "language": "python",
   "name": "python3"
  },
  "language_info": {
   "codemirror_mode": {
    "name": "ipython",
    "version": 3
   },
   "file_extension": ".py",
   "mimetype": "text/x-python",
   "name": "python",
   "nbconvert_exporter": "python",
   "pygments_lexer": "ipython3",
   "version": "3.10.9"
  }
 },
 "nbformat": 4,
 "nbformat_minor": 5
}
