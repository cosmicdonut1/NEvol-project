{
 "cells": [
  {
   "cell_type": "code",
   "execution_count": 71,
   "id": "initial_id",
   "metadata": {
    "ExecuteTime": {
     "end_time": "2024-06-15T14:16:45.011033Z",
     "start_time": "2024-06-15T14:16:44.862663Z"
    }
   },
   "outputs": [],
   "source": [
    "from utils import load_buffers,load_task_markers\n",
    "import pandas as pd\n",
    "import config\n",
    "import os\n",
    "import numpy as np\n",
    "\n",
    "import mne\n",
    "from mne import create_info\n",
    "from mne.epochs import EpochsArray\n",
    "from mne.decoding import Vectorizer\n",
    "\n",
    "from sklearn.ensemble import RandomForestClassifier\n",
    "from sklearn.pipeline import make_pipeline\n",
    "from matplotlib import pyplot as plt\n",
    "\n",
    "import pickle\n",
    "%matplotlib qt"
   ]
  },
  {
   "cell_type": "code",
   "execution_count": 72,
   "id": "1f86b0cd2a3766c7",
   "metadata": {
    "ExecuteTime": {
     "end_time": "2024-06-15T12:45:33.960407Z",
     "start_time": "2024-06-15T12:45:33.949018Z"
    }
   },
   "outputs": [],
   "source": [
    "# def collate_data(main_folder):\n",
    "#     all_task_data = []\n",
    "#     all_signal_data = []\n",
    "#     session_number = 1\n",
    "#     \n",
    "#     for sub_dir in os.listdir(main_folder):\n",
    "#         sub_dir_path = os.path.join(main_folder, sub_dir)\n",
    "#         if os.path.isdir(sub_dir_path):\n",
    "#             task_data_path = os.path.join(sub_dir_path, 'task_data', 'task_markers.npz')\n",
    "#             signal_data_folder = os.path.join(sub_dir_path, 'signal_data')\n",
    "#             \n",
    "#             if os.path.exists(task_data_path) and os.path.exists(signal_data_folder):\n",
    "#                 df_tasks = load_task_markers(task_data_path)\n",
    "#                 df_buffers = load_buffers(signal_data_folder)\n",
    "#                 \n",
    "#                 # Add session_number column\n",
    "#                 df_tasks['session_number'] = session_number\n",
    "#                 df_buffers['session_number'] = session_number\n",
    "#                 \n",
    "#                 all_task_data.append(df_tasks)\n",
    "#                 all_signal_data.append(df_buffers)\n",
    "#                 \n",
    "#                 session_number += 1\n",
    "#     \n",
    "#     if all_task_data:\n",
    "#         combined_tasks = pd.concat(all_task_data, ignore_index=True)\n",
    "#         combined_tasks = combined_tasks.sort_values('timestamps').reset_index(drop=True)\n",
    "#     else:\n",
    "#         combined_tasks = pd.DataFrame()\n",
    "#     \n",
    "#     if all_signal_data:\n",
    "#         combined_buffers = pd.concat(all_signal_data, ignore_index=True)\n",
    "#         combined_buffers = combined_buffers.sort_values('timestamps').reset_index(drop=True)\n",
    "#     else:\n",
    "#         combined_buffers = pd.DataFrame()\n",
    "#     \n",
    "#     return combined_tasks, combined_buffers"
   ]
  },
  {
   "cell_type": "code",
   "execution_count": 73,
   "id": "c267fd8158bdd7a2",
   "metadata": {
    "ExecuteTime": {
     "end_time": "2024-06-15T12:45:33.975698Z",
     "start_time": "2024-06-15T12:45:33.961561Z"
    }
   },
   "outputs": [],
   "source": [
    "# # Define the main folder path\n",
    "# main_folder_path = 'processed_data/motor_imagery/'\n",
    "# \n",
    "# # Collate the data\n",
    "# df_tasks, df_buffers = collate_data(main_folder_path)"
   ]
  },
  {
   "cell_type": "code",
   "execution_count": 74,
   "id": "e619d6fc8023276f",
   "metadata": {
    "ExecuteTime": {
     "end_time": "2024-06-15T12:45:33.991030Z",
     "start_time": "2024-06-15T12:45:33.978678Z"
    }
   },
   "outputs": [],
   "source": [
    "# df_buffers"
   ]
  },
  {
   "cell_type": "code",
   "execution_count": 75,
   "id": "e357ba0efaee48e8",
   "metadata": {
    "ExecuteTime": {
     "end_time": "2024-06-15T14:16:47.725246Z",
     "start_time": "2024-06-15T14:16:47.647161Z"
    }
   },
   "outputs": [
    {
     "name": "stdout",
     "output_type": "stream",
     "text": [
      "Array names in the .npz file: ['event_ids', 'timestamps']\n",
      "Reading signals and markers from signals from disk...\n"
     ]
    }
   ],
   "source": [
    "# load the task and signal files stored in the disk\n",
    "# Based on the task timestamps, subset the signals and annotate the events\n",
    "# create epoch data that includes the signal and events\n",
    "# use the epoch data to train a classifier\n",
    "# save the classifier model as a pickle file for prediction later\n",
    "\n",
    "# Load the .npz file for task\n",
    "file_path = 'processed_data/motor_imagery/2024-08-09_15-45-24/task_data/task_markers.npz'  # Replace with your file path\n",
    "df_tasks = load_task_markers(file_path)\n",
    "\n",
    "# Load the .npz file for buffer\n",
    "folder_path = 'processed_data/motor_imagery/2024-08-09_15-45-24/signal_data/'\n",
    "df_buffers = load_buffers(folder_path)\n",
    "\n",
    "# print(df_buffers)\n",
    "print(\"Reading signals and markers from signals from disk...\")\n",
    "\n",
    "df_buffers = df_buffers.sort_values('timestamps').reset_index(drop=True)\n",
    "df_tasks = df_tasks.sort_values('timestamps').reset_index(drop=True)"
   ]
  },
  {
   "cell_type": "code",
   "execution_count": 76,
   "id": "aaa77562ff89e29b",
   "metadata": {
    "ExecuteTime": {
     "end_time": "2024-06-15T12:45:34.037024Z",
     "start_time": "2024-06-15T12:45:34.024199Z"
    }
   },
   "outputs": [],
   "source": [
    "# df_buffers.describe()"
   ]
  },
  {
   "cell_type": "code",
   "execution_count": 77,
   "id": "f1137cda0ce2f40d",
   "metadata": {
    "ExecuteTime": {
     "end_time": "2024-06-15T14:16:50.260139Z",
     "start_time": "2024-06-15T14:16:50.250758Z"
    }
   },
   "outputs": [],
   "source": [
    "df_buffers_raw = df_buffers.iloc[:,:config.device_details['relevant_channels_from_device']] \n",
    "# df_buffers_raw = df_buffers_raw * 1e-6\n",
    "\n",
    "channel_names = config.device_details['channels']\n",
    "df_buffers_raw.columns = channel_names"
   ]
  },
  {
   "cell_type": "code",
   "execution_count": 78,
   "id": "a7f430aefb41f02d",
   "metadata": {
    "ExecuteTime": {
     "end_time": "2024-06-15T14:16:52.319431Z",
     "start_time": "2024-06-15T14:16:52.288181Z"
    }
   },
   "outputs": [
    {
     "data": {
      "text/html": [
       "<div>\n",
       "<style scoped>\n",
       "    .dataframe tbody tr th:only-of-type {\n",
       "        vertical-align: middle;\n",
       "    }\n",
       "\n",
       "    .dataframe tbody tr th {\n",
       "        vertical-align: top;\n",
       "    }\n",
       "\n",
       "    .dataframe thead th {\n",
       "        text-align: right;\n",
       "    }\n",
       "</style>\n",
       "<table border=\"1\" class=\"dataframe\">\n",
       "  <thead>\n",
       "    <tr style=\"text-align: right;\">\n",
       "      <th></th>\n",
       "      <th>Fz</th>\n",
       "      <th>C3</th>\n",
       "      <th>Cz</th>\n",
       "      <th>C4</th>\n",
       "      <th>Pz</th>\n",
       "      <th>PO7</th>\n",
       "      <th>Oz</th>\n",
       "      <th>PO8</th>\n",
       "    </tr>\n",
       "  </thead>\n",
       "  <tbody>\n",
       "    <tr>\n",
       "      <th>0</th>\n",
       "      <td>-7297.218750</td>\n",
       "      <td>-8195.602539</td>\n",
       "      <td>-7662.423828</td>\n",
       "      <td>-7800.289551</td>\n",
       "      <td>-22595.378906</td>\n",
       "      <td>-157120.890625</td>\n",
       "      <td>-29720.130859</td>\n",
       "      <td>-165338.671875</td>\n",
       "    </tr>\n",
       "    <tr>\n",
       "      <th>1</th>\n",
       "      <td>-7247.128418</td>\n",
       "      <td>-8191.847168</td>\n",
       "      <td>-7655.338379</td>\n",
       "      <td>-7815.980469</td>\n",
       "      <td>-22551.054688</td>\n",
       "      <td>-157064.390625</td>\n",
       "      <td>-29744.404297</td>\n",
       "      <td>-165349.484375</td>\n",
       "    </tr>\n",
       "    <tr>\n",
       "      <th>2</th>\n",
       "      <td>-7704.690918</td>\n",
       "      <td>-8042.045898</td>\n",
       "      <td>-7645.682617</td>\n",
       "      <td>-7656.567871</td>\n",
       "      <td>-22629.375000</td>\n",
       "      <td>-157037.609375</td>\n",
       "      <td>-29815.126953</td>\n",
       "      <td>-165252.843750</td>\n",
       "    </tr>\n",
       "    <tr>\n",
       "      <th>3</th>\n",
       "      <td>-8090.213867</td>\n",
       "      <td>-8091.085449</td>\n",
       "      <td>-7630.483398</td>\n",
       "      <td>-7557.951660</td>\n",
       "      <td>-22731.992188</td>\n",
       "      <td>-157105.984375</td>\n",
       "      <td>-29797.445312</td>\n",
       "      <td>-165174.156250</td>\n",
       "    </tr>\n",
       "    <tr>\n",
       "      <th>4</th>\n",
       "      <td>-7859.320312</td>\n",
       "      <td>-8157.447754</td>\n",
       "      <td>-7649.080078</td>\n",
       "      <td>-7635.199219</td>\n",
       "      <td>-22721.755859</td>\n",
       "      <td>-157159.187500</td>\n",
       "      <td>-29751.558594</td>\n",
       "      <td>-165223.843750</td>\n",
       "    </tr>\n",
       "    <tr>\n",
       "      <th>...</th>\n",
       "      <td>...</td>\n",
       "      <td>...</td>\n",
       "      <td>...</td>\n",
       "      <td>...</td>\n",
       "      <td>...</td>\n",
       "      <td>...</td>\n",
       "      <td>...</td>\n",
       "      <td>...</td>\n",
       "    </tr>\n",
       "    <tr>\n",
       "      <th>5995</th>\n",
       "      <td>-7271.178711</td>\n",
       "      <td>-8000.203613</td>\n",
       "      <td>-7567.473633</td>\n",
       "      <td>-7716.157227</td>\n",
       "      <td>-22458.027344</td>\n",
       "      <td>-155246.750000</td>\n",
       "      <td>-29668.677734</td>\n",
       "      <td>-163607.937500</td>\n",
       "    </tr>\n",
       "    <tr>\n",
       "      <th>5996</th>\n",
       "      <td>-7844.612793</td>\n",
       "      <td>-7912.808105</td>\n",
       "      <td>-7556.565918</td>\n",
       "      <td>-7530.034668</td>\n",
       "      <td>-22572.937500</td>\n",
       "      <td>-155258.718750</td>\n",
       "      <td>-29725.607422</td>\n",
       "      <td>-163483.390625</td>\n",
       "    </tr>\n",
       "    <tr>\n",
       "      <th>5997</th>\n",
       "      <td>-8067.392578</td>\n",
       "      <td>-7950.090820</td>\n",
       "      <td>-7562.020020</td>\n",
       "      <td>-7474.468262</td>\n",
       "      <td>-22656.107422</td>\n",
       "      <td>-155335.546875</td>\n",
       "      <td>-29708.955078</td>\n",
       "      <td>-163440.062500</td>\n",
       "    </tr>\n",
       "    <tr>\n",
       "      <th>5998</th>\n",
       "      <td>-7639.580566</td>\n",
       "      <td>-8019.604980</td>\n",
       "      <td>-7584.215332</td>\n",
       "      <td>-7613.115723</td>\n",
       "      <td>-22597.121094</td>\n",
       "      <td>-155365.500000</td>\n",
       "      <td>-29655.982422</td>\n",
       "      <td>-163534.546875</td>\n",
       "    </tr>\n",
       "    <tr>\n",
       "      <th>5999</th>\n",
       "      <td>-7124.417480</td>\n",
       "      <td>-8085.586914</td>\n",
       "      <td>-7580.013184</td>\n",
       "      <td>-7778.630371</td>\n",
       "      <td>-22462.474609</td>\n",
       "      <td>-155306.484375</td>\n",
       "      <td>-29619.615234</td>\n",
       "      <td>-163643.843750</td>\n",
       "    </tr>\n",
       "  </tbody>\n",
       "</table>\n",
       "<p>6000 rows × 8 columns</p>\n",
       "</div>"
      ],
      "text/plain": [
       "               Fz           C3           Cz           C4            Pz  \\\n",
       "0    -7297.218750 -8195.602539 -7662.423828 -7800.289551 -22595.378906   \n",
       "1    -7247.128418 -8191.847168 -7655.338379 -7815.980469 -22551.054688   \n",
       "2    -7704.690918 -8042.045898 -7645.682617 -7656.567871 -22629.375000   \n",
       "3    -8090.213867 -8091.085449 -7630.483398 -7557.951660 -22731.992188   \n",
       "4    -7859.320312 -8157.447754 -7649.080078 -7635.199219 -22721.755859   \n",
       "...           ...          ...          ...          ...           ...   \n",
       "5995 -7271.178711 -8000.203613 -7567.473633 -7716.157227 -22458.027344   \n",
       "5996 -7844.612793 -7912.808105 -7556.565918 -7530.034668 -22572.937500   \n",
       "5997 -8067.392578 -7950.090820 -7562.020020 -7474.468262 -22656.107422   \n",
       "5998 -7639.580566 -8019.604980 -7584.215332 -7613.115723 -22597.121094   \n",
       "5999 -7124.417480 -8085.586914 -7580.013184 -7778.630371 -22462.474609   \n",
       "\n",
       "                PO7            Oz            PO8  \n",
       "0    -157120.890625 -29720.130859 -165338.671875  \n",
       "1    -157064.390625 -29744.404297 -165349.484375  \n",
       "2    -157037.609375 -29815.126953 -165252.843750  \n",
       "3    -157105.984375 -29797.445312 -165174.156250  \n",
       "4    -157159.187500 -29751.558594 -165223.843750  \n",
       "...             ...           ...            ...  \n",
       "5995 -155246.750000 -29668.677734 -163607.937500  \n",
       "5996 -155258.718750 -29725.607422 -163483.390625  \n",
       "5997 -155335.546875 -29708.955078 -163440.062500  \n",
       "5998 -155365.500000 -29655.982422 -163534.546875  \n",
       "5999 -155306.484375 -29619.615234 -163643.843750  \n",
       "\n",
       "[6000 rows x 8 columns]"
      ]
     },
     "execution_count": 78,
     "metadata": {},
     "output_type": "execute_result"
    }
   ],
   "source": [
    "df_buffers_raw"
   ]
  },
  {
   "cell_type": "code",
   "execution_count": 79,
   "id": "d49f000c245897c7",
   "metadata": {
    "ExecuteTime": {
     "end_time": "2024-06-15T14:16:57.630297Z",
     "start_time": "2024-06-15T14:16:57.567786Z"
    }
   },
   "outputs": [
    {
     "name": "stdout",
     "output_type": "stream",
     "text": [
      "Creating RawArray with float64 data, n_channels=8, n_times=6000\n",
      "    Range : 0 ... 5999 =      0.000 ...    23.996 secs\n",
      "Ready.\n"
     ]
    },
    {
     "data": {
      "text/html": [
       "<details open>\n",
       "    <summary><strong>General</strong></summary>\n",
       "    <table class=\"table table-hover table-striped table-sm table-responsive small\">\n",
       "        <tr>\n",
       "            <th>Measurement date</th>\n",
       "            \n",
       "            <td>Unknown</td>\n",
       "            \n",
       "        </tr>\n",
       "        <tr>\n",
       "            <th>Experimenter</th>\n",
       "            \n",
       "            <td>Unknown</td>\n",
       "            \n",
       "        </tr>\n",
       "        <tr>\n",
       "            <th>Participant</th>\n",
       "            \n",
       "            <td>Unknown</td>\n",
       "            \n",
       "        </tr>\n",
       "    </table>\n",
       "    </details>\n",
       "    <details open>\n",
       "        <summary><strong>Channels</strong></summary>\n",
       "        <table class=\"table table-hover table-striped table-sm table-responsive small\">\n",
       "            <tr>\n",
       "                <th>Digitized points</th>\n",
       "                \n",
       "                <td>Not available</td>\n",
       "                \n",
       "            </tr>\n",
       "            <tr>\n",
       "                <th>Good channels</th>\n",
       "                <td>8 EEG</td>\n",
       "            </tr>\n",
       "            <tr>\n",
       "                <th>Bad channels</th>\n",
       "                <td>None</td>\n",
       "            </tr>\n",
       "            <tr>\n",
       "                <th>EOG channels</th>\n",
       "                <td>Not available</td>\n",
       "            </tr>\n",
       "            <tr>\n",
       "                <th>ECG channels</th>\n",
       "                <td>Not available</td>\n",
       "            </tr>\n",
       "        </table>\n",
       "        </details>\n",
       "        <details open>\n",
       "            <summary><strong>Data</strong></summary>\n",
       "            <table class=\"table table-hover table-striped table-sm table-responsive small\">\n",
       "                \n",
       "                <tr>\n",
       "                    <th>Sampling frequency</th>\n",
       "                    <td>250.00 Hz</td>\n",
       "                </tr>\n",
       "                \n",
       "                \n",
       "                <tr>\n",
       "                    <th>Highpass</th>\n",
       "                    <td>0.00 Hz</td>\n",
       "                </tr>\n",
       "                \n",
       "                \n",
       "                <tr>\n",
       "                    <th>Lowpass</th>\n",
       "                    <td>125.00 Hz</td>\n",
       "                </tr>\n",
       "                \n",
       "                \n",
       "                \n",
       "                \n",
       "            </table>\n",
       "            </details>"
      ],
      "text/plain": [
       "<Info | 7 non-empty values\n",
       " bads: []\n",
       " ch_names: Fz, C3, Cz, C4, Pz, PO7, Oz, PO8\n",
       " chs: 8 EEG\n",
       " custom_ref_applied: False\n",
       " highpass: 0.0 Hz\n",
       " lowpass: 125.0 Hz\n",
       " meas_date: unspecified\n",
       " nchan: 8\n",
       " projs: []\n",
       " sfreq: 250.0 Hz\n",
       ">"
      ]
     },
     "execution_count": 79,
     "metadata": {},
     "output_type": "execute_result"
    }
   ],
   "source": [
    "# df_buffers_raw\n",
    "info = mne.create_info(\n",
    "        ch_names=channel_names,\n",
    "        sfreq=config.device_details['sfreq'],  # Assuming the data is sampled at 1 Hz; adjust as necessary\n",
    "        # change this for different electrode configuration\n",
    "        ch_types=['eeg'] * len(channel_names))\n",
    "\n",
    "raw = mne.io.RawArray(df_buffers_raw[channel_names].values.T, info)\n",
    "raw.info"
   ]
  },
  {
   "cell_type": "code",
   "execution_count": 80,
   "id": "846115b86243dee5",
   "metadata": {
    "ExecuteTime": {
     "end_time": "2024-06-15T14:17:00.591405Z",
     "start_time": "2024-06-15T14:17:00.513189Z"
    }
   },
   "outputs": [],
   "source": [
    "df = pd.DataFrame(raw.get_data().T)\n",
    "df.to_csv(\"unicorn_sample\", index=False)"
   ]
  },
  {
   "cell_type": "code",
   "execution_count": 81,
   "id": "9724bf7bf8d8a42a",
   "metadata": {
    "ExecuteTime": {
     "end_time": "2024-06-15T12:45:34.193400Z",
     "start_time": "2024-06-15T12:45:34.179668Z"
    }
   },
   "outputs": [],
   "source": [
    "# raw.info[]"
   ]
  },
  {
   "cell_type": "code",
   "execution_count": 82,
   "id": "a77e9cfd6b8d963b",
   "metadata": {
    "ExecuteTime": {
     "end_time": "2024-06-15T14:17:02.508728Z",
     "start_time": "2024-06-15T14:17:02.493002Z"
    }
   },
   "outputs": [],
   "source": [
    "df_markers = df_tasks[df_tasks['event_ids'].isin([1,2,3,4,99,100])]\n",
    "\n",
    "markers_map = {\n",
    "            1 :'left_start',\n",
    "            2: 'left_end',\n",
    "            3:'right_start',\n",
    "            4:'right_end',\n",
    "            99:'rest_start',\n",
    "            100:'rest_end'\n",
    "}"
   ]
  },
  {
   "cell_type": "code",
   "execution_count": 83,
   "id": "dc56a03a4e5a024a",
   "metadata": {
    "ExecuteTime": {
     "end_time": "2024-06-15T14:17:04.502306Z",
     "start_time": "2024-06-15T14:17:04.478559Z"
    }
   },
   "outputs": [
    {
     "name": "stdout",
     "output_type": "stream",
     "text": [
      "Onsets: [10670.3454982, 10673.3688909, 10674.4021525, 10677.4356615, 10678.4690037, 10681.5026688, 10682.5360356, 10685.5693891, 10686.6027078, 10689.6360513, 10690.6694182, 10693.7026346]\n",
      "Durations: [3.00658569999905, 1.0176486000000295, 3.017821299999923, 1.0183054999997694, 3.017746499999703, 1.0178317000008974, 3.0178326000004745, 1.0178321000003052, 3.01777519999996, 1.0180765999994037, 3.017953300000954, 1.0177731000003405]\n",
      "Descriptions: ['LEFT', 'REST', 'RIGHT', 'REST', 'LEFT', 'REST', 'RIGHT', 'REST', 'LEFT', 'REST', 'RIGHT', 'REST']\n"
     ]
    }
   ],
   "source": [
    "# Initialize lists for onsets, durations, and descriptions\n",
    "onsets = []\n",
    "durations = []\n",
    "descriptions = []\n",
    "\n",
    "# Create a dictionary to keep track of start times\n",
    "start_times = {}\n",
    "\n",
    "# Iterate over the DataFrame rows\n",
    "for index, row in df_markers.iterrows():\n",
    "    event_id = row['event_ids']\n",
    "    timestamp = row['timestamps']\n",
    "\n",
    "    if event_id in markers_map:\n",
    "        description = markers_map[event_id]\n",
    "\n",
    "        # Check if it is a start event\n",
    "        if 'start' in description:\n",
    "            # Store the start time\n",
    "            start_times[description.split('_')[0]] = timestamp\n",
    "        elif 'end' in description:\n",
    "            # Determine the corresponding start event type\n",
    "            event_type = description.split('_')[0]  # e.g., 'left', 'right', 'rest'\n",
    "            \n",
    "            if event_type in start_times:\n",
    "                start_time = start_times[event_type]\n",
    "                duration = timestamp - start_time\n",
    "                \n",
    "                # Append to lists\n",
    "                onsets.append(start_time)\n",
    "                durations.append(duration)\n",
    "                descriptions.append(event_type.upper())\n",
    "                # Remove the start time to avoid re-use\n",
    "                del start_times[event_type]\n",
    "\n",
    "# Print the results\n",
    "print(\"Onsets:\", onsets)\n",
    "print(\"Durations:\", durations)\n",
    "print(\"Descriptions:\", descriptions)"
   ]
  },
  {
   "cell_type": "code",
   "execution_count": 84,
   "id": "42586597040d0a99",
   "metadata": {
    "ExecuteTime": {
     "end_time": "2024-06-15T14:17:07.671503Z",
     "start_time": "2024-06-15T14:17:07.664171Z"
    }
   },
   "outputs": [],
   "source": [
    "onsets = onsets - df_buffers['timestamps'][0]"
   ]
  },
  {
   "cell_type": "code",
   "execution_count": 85,
   "id": "82c9abba09c4e5a2",
   "metadata": {
    "ExecuteTime": {
     "end_time": "2024-06-15T14:17:12.371728Z",
     "start_time": "2024-06-15T14:17:12.356098Z"
    }
   },
   "outputs": [
    {
     "data": {
      "text/plain": [
       "array([ 0.5566285,  3.5800212,  4.6132828,  7.6467918,  8.680134 ,\n",
       "       11.7137991, 12.7471659, 15.7805194, 16.8138381, 19.8471816,\n",
       "       20.8805485, 23.9137649])"
      ]
     },
     "execution_count": 85,
     "metadata": {},
     "output_type": "execute_result"
    }
   ],
   "source": [
    "onsets"
   ]
  },
  {
   "cell_type": "code",
   "execution_count": 86,
   "id": "83394cb2c0ca440f",
   "metadata": {
    "ExecuteTime": {
     "end_time": "2024-06-15T14:17:14.736831Z",
     "start_time": "2024-06-15T14:17:14.677712Z"
    }
   },
   "outputs": [
    {
     "name": "stdout",
     "output_type": "stream",
     "text": [
      "<Annotations | 12 segments: LEFT (3), REST (6), RIGHT (3)>\n"
     ]
    },
    {
     "name": "stderr",
     "output_type": "stream",
     "text": [
      "C:\\Users\\kseni\\AppData\\Local\\Temp\\ipykernel_9048\\1906261831.py:3: RuntimeWarning: Limited 1 annotation(s) that were expanding outside the data range.\n",
      "  raw.set_annotations(raw_annot)\n"
     ]
    },
    {
     "data": {
      "text/html": [
       "<details open>\n",
       "    <summary><strong>General</strong></summary>\n",
       "    <table class=\"table table-hover table-striped table-sm table-responsive small\">\n",
       "        <tr>\n",
       "            <th>Measurement date</th>\n",
       "            \n",
       "            <td>Unknown</td>\n",
       "            \n",
       "        </tr>\n",
       "        <tr>\n",
       "            <th>Experimenter</th>\n",
       "            \n",
       "            <td>Unknown</td>\n",
       "            \n",
       "        </tr>\n",
       "        <tr>\n",
       "            <th>Participant</th>\n",
       "            \n",
       "            <td>Unknown</td>\n",
       "            \n",
       "        </tr>\n",
       "    </table>\n",
       "    </details>\n",
       "    <details open>\n",
       "        <summary><strong>Channels</strong></summary>\n",
       "        <table class=\"table table-hover table-striped table-sm table-responsive small\">\n",
       "            <tr>\n",
       "                <th>Digitized points</th>\n",
       "                \n",
       "                <td>11 points</td>\n",
       "                \n",
       "            </tr>\n",
       "            <tr>\n",
       "                <th>Good channels</th>\n",
       "                <td>8 EEG</td>\n",
       "            </tr>\n",
       "            <tr>\n",
       "                <th>Bad channels</th>\n",
       "                <td>None</td>\n",
       "            </tr>\n",
       "            <tr>\n",
       "                <th>EOG channels</th>\n",
       "                <td>Not available</td>\n",
       "            </tr>\n",
       "            <tr>\n",
       "                <th>ECG channels</th>\n",
       "                <td>Not available</td>\n",
       "            </tr>\n",
       "        </table>\n",
       "        </details>\n",
       "        <details open>\n",
       "            <summary><strong>Data</strong></summary>\n",
       "            <table class=\"table table-hover table-striped table-sm table-responsive small\">\n",
       "                \n",
       "                <tr>\n",
       "                    <th>Sampling frequency</th>\n",
       "                    <td>250.00 Hz</td>\n",
       "                </tr>\n",
       "                \n",
       "                \n",
       "                <tr>\n",
       "                    <th>Highpass</th>\n",
       "                    <td>0.00 Hz</td>\n",
       "                </tr>\n",
       "                \n",
       "                \n",
       "                <tr>\n",
       "                    <th>Lowpass</th>\n",
       "                    <td>125.00 Hz</td>\n",
       "                </tr>\n",
       "                \n",
       "                \n",
       "                \n",
       "                \n",
       "                <tr>\n",
       "                    <th>Duration</th>\n",
       "                    <td>00:00:24 (HH:MM:SS)</td>\n",
       "                </tr>\n",
       "                \n",
       "            </table>\n",
       "            </details>"
      ],
      "text/plain": [
       "<RawArray | 8 x 6000 (24.0 s), ~390 kB, data loaded>"
      ]
     },
     "execution_count": 86,
     "metadata": {},
     "output_type": "execute_result"
    }
   ],
   "source": [
    "raw_annot = mne.Annotations(onset=onsets, duration=durations, orig_time= None,description=descriptions)\n",
    "print(raw_annot)\n",
    "raw.set_annotations(raw_annot)\n",
    "\n",
    "raw.set_montage('easycap-M1')"
   ]
  },
  {
   "cell_type": "code",
   "execution_count": 52,
   "id": "61ff3a6899bc6625",
   "metadata": {
    "ExecuteTime": {
     "end_time": "2024-06-15T14:17:22.009835Z",
     "start_time": "2024-06-15T14:17:21.994253Z"
    }
   },
   "outputs": [],
   "source": [
    "# raw.save('unicorn_raw.fif')"
   ]
  },
  {
   "cell_type": "code",
   "execution_count": 53,
   "id": "2b2cdfa465685375",
   "metadata": {
    "ExecuteTime": {
     "end_time": "2024-06-15T14:17:27.396619Z",
     "start_time": "2024-06-15T14:17:27.380902Z"
    }
   },
   "outputs": [],
   "source": [
    "# mne.io.read_raw_fif('unicorn_raw.fif')"
   ]
  },
  {
   "cell_type": "code",
   "execution_count": 14,
   "id": "eaaa99026d1077f5",
   "metadata": {
    "ExecuteTime": {
     "end_time": "2024-06-15T14:17:30.283498Z",
     "start_time": "2024-06-15T14:17:30.267843Z"
    }
   },
   "outputs": [
    {
     "name": "stdout",
     "output_type": "stream",
     "text": [
      "Used Annotations descriptions: ['LEFT', 'REST', 'RIGHT']\n"
     ]
    }
   ],
   "source": [
    "raw_events, raw_events_mapping = mne.events_from_annotations(raw)"
   ]
  },
  {
   "cell_type": "code",
   "execution_count": 19,
   "id": "bcb0fd99a4746868",
   "metadata": {
    "ExecuteTime": {
     "end_time": "2024-06-05T13:04:26.847635Z",
     "start_time": "2024-06-05T13:04:26.838087Z"
    }
   },
   "outputs": [],
   "source": [
    "# raw_events"
   ]
  },
  {
   "cell_type": "code",
   "execution_count": 15,
   "id": "6f19201874c8f580",
   "metadata": {
    "ExecuteTime": {
     "end_time": "2024-06-15T14:17:33.285700Z",
     "start_time": "2024-06-15T14:17:33.013875Z"
    }
   },
   "outputs": [],
   "source": [
    "fig = mne.viz.plot_events(\n",
    "    raw_events, sfreq=raw.info[\"sfreq\"], first_samp=raw.first_samp, event_id=raw_events_mapping\n",
    ")"
   ]
  },
  {
   "cell_type": "code",
   "execution_count": 68,
   "id": "738a9930f2fd66f0",
   "metadata": {
    "ExecuteTime": {
     "end_time": "2024-06-03T21:57:26.584795Z",
     "start_time": "2024-06-03T21:57:26.568250Z"
    }
   },
   "outputs": [],
   "source": [
    "# raw.get_data()"
   ]
  },
  {
   "cell_type": "code",
   "execution_count": 16,
   "id": "d404d7ec4fc1d275",
   "metadata": {
    "ExecuteTime": {
     "end_time": "2024-06-15T14:17:36.974319Z",
     "start_time": "2024-06-15T14:17:36.708745Z"
    }
   },
   "outputs": [
    {
     "name": "stdout",
     "output_type": "stream",
     "text": [
      "Effective window size : 8.192 (s)\n",
      "Plotting power spectral density (dB=True).\n"
     ]
    },
    {
     "data": {
      "image/png": "[encoded data removed]",
      "text/plain": [
       "<MNELineFigure size 1000x350 with 1 Axes>"
      ]
     },
     "execution_count": 16,
     "metadata": {},
     "output_type": "execute_result"
    }
   ],
   "source": [
    "spectrum = raw.compute_psd()\n",
    "spectrum.plot(average=True, picks=\"data\", exclude=\"bads\", amplitude=False)"
   ]
  },
  {
   "cell_type": "code",
   "execution_count": 70,
   "id": "121cabb543ac8060",
   "metadata": {
    "ExecuteTime": {
     "end_time": "2024-06-03T21:57:27.231239Z",
     "start_time": "2024-06-03T21:57:27.223234Z"
    }
   },
   "outputs": [],
   "source": [
    "# raw.plot(block=True)"
   ]
  },
  {
   "cell_type": "code",
   "execution_count": 71,
   "id": "2370fd9337d6b6fc",
   "metadata": {
    "ExecuteTime": {
     "end_time": "2024-06-03T21:57:27.247477Z",
     "start_time": "2024-06-03T21:57:27.233410Z"
    }
   },
   "outputs": [],
   "source": [
    "# midline = [\"EEG 002\", \"EEG 012\", \"EEG 030\", \"EEG 048\", \"EEG 058\", \"EEG 060\"]\n",
    "# spectrum.plot(picks=\"all\", exclude=\"bads\", amplitude=False)"
   ]
  },
  {
   "cell_type": "code",
   "execution_count": 17,
   "id": "368a52bab43da0bb",
   "metadata": {
    "ExecuteTime": {
     "end_time": "2024-06-15T14:17:44.338330Z",
     "start_time": "2024-06-15T14:17:43.479886Z"
    }
   },
   "outputs": [
    {
     "data": {
      "image/png": "[encoded data removed]",
      "text/plain": [
       "<Figure size 1000x150 with 10 Axes>"
      ]
     },
     "execution_count": 17,
     "metadata": {},
     "output_type": "execute_result"
    }
   ],
   "source": [
    "spectrum.plot_topomap()"
   ]
  },
  {
   "cell_type": "code",
   "execution_count": 18,
   "id": "a76080d3fdc71814",
   "metadata": {
    "ExecuteTime": {
     "end_time": "2024-06-03T21:57:29.047466Z",
     "start_time": "2024-06-03T21:57:29.031787Z"
    }
   },
   "outputs": [],
   "source": [
    "# spectrum.plot_topo()"
   ]
  },
  {
   "cell_type": "code",
   "execution_count": 74,
   "id": "b9cd30b277478390",
   "metadata": {
    "ExecuteTime": {
     "end_time": "2024-06-03T21:57:29.063723Z",
     "start_time": "2024-06-03T21:57:29.047466Z"
    }
   },
   "outputs": [],
   "source": [
    "# raw.plot_sensors(ch_type=\"eeg\")"
   ]
  },
  {
   "cell_type": "code",
   "execution_count": 75,
   "id": "48da5494474c9040",
   "metadata": {
    "ExecuteTime": {
     "end_time": "2024-06-03T21:57:29.078119Z",
     "start_time": "2024-06-03T21:57:29.063723Z"
    }
   },
   "outputs": [],
   "source": [
    "# raw.plot_projs_topomap(colorbar=True)"
   ]
  },
  {
   "cell_type": "code",
   "execution_count": 61,
   "id": "b302dfdf75c09a6f",
   "metadata": {
    "ExecuteTime": {
     "end_time": "2024-06-15T14:18:32.777065Z",
     "start_time": "2024-06-15T14:18:32.745817Z"
    }
   },
   "outputs": [
    {
     "name": "stdout",
     "output_type": "stream",
     "text": [
      "Not setting metadata\n",
      "12 matching events found\n",
      "Setting baseline interval to [-0.1, 0.0] s\n",
      "Applying baseline correction (mode: mean)\n",
      "0 projection items activated\n",
      "Using data from preloaded Raw for 12 events and 526 original time points ...\n",
      "1 bad epochs dropped\n"
     ]
    }
   ],
   "source": [
    "epochs = mne.Epochs(raw, raw_events, raw_events_mapping, tmin=-0.1, tmax=2.0,\n",
    "                    baseline=(None, 0), preload=True)"
   ]
  },
  {
   "cell_type": "code",
   "execution_count": 77,
   "id": "8decbfe7a10a17b5",
   "metadata": {
    "ExecuteTime": {
     "end_time": "2024-06-03T21:57:29.130133Z",
     "start_time": "2024-06-03T21:57:29.113774Z"
    }
   },
   "outputs": [],
   "source": [
    "# epochs['LEFT']"
   ]
  },
  {
   "cell_type": "code",
   "execution_count": 62,
   "id": "84f869053cd1f8af",
   "metadata": {
    "ExecuteTime": {
     "end_time": "2024-06-15T14:18:35.099669Z",
     "start_time": "2024-06-15T14:18:35.068413Z"
    }
   },
   "outputs": [],
   "source": [
    "ev_left = epochs['LEFT'].average()\n",
    "ev_right = epochs['RIGHT'].average()"
   ]
  },
  {
   "cell_type": "code",
   "execution_count": 63,
   "id": "a7cf40c4224914d0",
   "metadata": {
    "ExecuteTime": {
     "end_time": "2024-06-15T14:18:37.346788Z",
     "start_time": "2024-06-15T14:18:36.924290Z"
    }
   },
   "outputs": [],
   "source": [
    "f, axs = plt.subplots(1, 2, figsize=(10, 5))\n",
    "_ = f.suptitle('Left / Right Imagery', fontsize=20)\n",
    "_ = ev_left.plot(axes=axs[0], show=True, time_unit='s')\n",
    "_ = ev_right.plot(axes=axs[1], show=False, time_unit='s')\n",
    "\n",
    "plt.show()\n",
    "# plt.tight_layout()"
   ]
  },
  {
   "cell_type": "code",
   "execution_count": 64,
   "id": "8fca25746f688a94",
   "metadata": {
    "ExecuteTime": {
     "end_time": "2024-06-15T14:18:46.497663Z",
     "start_time": "2024-06-15T14:18:46.482038Z"
    }
   },
   "outputs": [],
   "source": [
    "X = epochs.get_data(copy=False)  # Shape: (n_epochs, n_channels, n_times)\n",
    "y = epochs.events[:, 2]  # Shape: (n_epochs,)"
   ]
  },
  {
   "cell_type": "code",
   "execution_count": 67,
   "id": "ba3e300c66aba602",
   "metadata": {
    "ExecuteTime": {
     "end_time": "2024-06-15T14:19:13.344314Z",
     "start_time": "2024-06-15T14:19:13.328689Z"
    }
   },
   "outputs": [],
   "source": [
    "# X[0]"
   ]
  },
  {
   "cell_type": "code",
   "execution_count": 36,
   "id": "89f70b8702954da0",
   "metadata": {
    "ExecuteTime": {
     "end_time": "2024-06-15T13:27:33.023864Z",
     "start_time": "2024-06-15T13:27:33.008209Z"
    }
   },
   "outputs": [
    {
     "data": {
      "text/plain": [
       "array([[[ 157.53365385,  304.28365385,  163.22115385, ...,\n",
       "         -334.90384615, -684.84134615, -338.02884615],\n",
       "        [ 160.68990385,  306.18990385,  163.25240385, ...,\n",
       "         -332.24759615, -681.74759615, -332.24759615],\n",
       "        [ 155.84615385,  302.28365385,  164.28365385, ...,\n",
       "         -356.77884615, -706.71634615, -365.09134615],\n",
       "        ...,\n",
       "        [ 155.37740385,  304.00240385,  165.50240385, ...,\n",
       "         -333.37259615, -684.12259615, -342.24759615],\n",
       "        [  92.45192308,  268.45192308,  179.76442308, ...,\n",
       "         -276.79807692, -621.92307692, -386.17307692],\n",
       "        [ 160.00961538,  306.00961538,  163.50961538, ...,\n",
       "         -332.61538462, -683.86538462, -335.17788462]],\n",
       "\n",
       "       [[ -74.29807692, -411.36057692,  -45.54807692, ...,\n",
       "          -33.11057692,   56.51442308, -122.04807692],\n",
       "        [ -74.77644231, -411.77644231,  -43.58894231, ...,\n",
       "          -28.02644231,   58.78605769, -122.27644231],\n",
       "        [ -74.86298077, -405.30048077,  -45.80048077, ...,\n",
       "          -67.11298077,   22.07451923, -153.61298077],\n",
       "        ...,\n",
       "        [ -68.75      , -406.375     ,  -47.9375    , ...,\n",
       "          -38.        ,   52.5625    , -124.125     ],\n",
       "        [ -17.79326923, -347.16826923,  -95.16826923, ...,\n",
       "         -105.79326923,   19.76923077, -103.66826923],\n",
       "        [ -78.24519231, -409.30769231,  -44.05769231, ...,\n",
       "          -25.87019231,   61.12980769, -119.43269231]],\n",
       "\n",
       "       [[  66.35817308, -387.64182692, -196.45432692, ...,\n",
       "         -132.32932692,   83.23317308,  -24.82932692],\n",
       "        [  63.23076923, -391.33173077, -196.08173077, ...,\n",
       "         -127.20673077,   86.91826923,  -23.45673077],\n",
       "        [  68.        , -382.5       , -194.0625    , ...,\n",
       "         -160.5       ,   53.        ,  -57.625     ],\n",
       "        ...,\n",
       "        [  68.59855769, -383.90144231, -197.40144231, ...,\n",
       "         -136.58894231,   80.09855769,  -25.08894231],\n",
       "        [ 101.41586538, -307.20913462, -216.08413462, ...,\n",
       "         -198.39663462,   33.35336538,  -29.20913462],\n",
       "        [  65.17307692, -391.13942308, -195.20192308, ...,\n",
       "         -126.76442308,   85.23557692,  -28.45192308]],\n",
       "\n",
       "       ...,\n",
       "\n",
       "       [[ 138.46153846, -339.60096154, -298.16346154, ...,\n",
       "         -181.53846154,  159.46153846,  126.39903846],\n",
       "        [ 136.72115385, -343.15384615, -299.34134615, ...,\n",
       "         -180.84134615,  159.72115385,  125.53365385],\n",
       "        [ 135.48076923, -336.95673077, -297.89423077, ...,\n",
       "         -202.20673077,  136.91826923,  107.41826923],\n",
       "        ...,\n",
       "        [ 138.72115385, -336.21634615, -299.77884615, ...,\n",
       "         -187.96634615,  152.90865385,  122.84615385],\n",
       "        [ 153.53605769, -255.02644231, -295.83894231, ...,\n",
       "         -240.02644231,   90.34855769,  107.97355769],\n",
       "        [ 135.9375    , -342.5625    , -299.625     , ...,\n",
       "         -181.5625    ,  157.5625    ,  127.625     ]],\n",
       "\n",
       "       [[ 290.22355769,  250.78605769, -120.65144231, ...,\n",
       "         -494.90144231, -423.52644231,   54.84855769],\n",
       "        [ 292.37259615,  251.06009615, -123.00240385, ...,\n",
       "         -498.18990385, -423.06490385,   57.49759615],\n",
       "        [ 287.19471154,  249.06971154, -118.30528846, ...,\n",
       "         -505.86778846, -437.99278846,   37.19471154],\n",
       "        ...,\n",
       "        [ 287.81730769,  250.19230769, -118.05769231, ...,\n",
       "         -495.30769231, -427.62019231,   47.87980769],\n",
       "        [ 233.54567308,  238.42067308,  -55.32932692, ...,\n",
       "         -404.64182692, -421.07932692,  -12.32932692],\n",
       "        [ 291.99759615,  249.24759615, -124.87740385, ...,\n",
       "         -496.75240385, -419.93990385,   60.43509615]],\n",
       "\n",
       "       [[ 241.85096154,  293.16346154,   42.66346154, ...,\n",
       "         -335.39903846, -515.58653846,  -59.46153846],\n",
       "        [ 244.98798077,  293.98798077,   40.61298077, ...,\n",
       "         -342.82451923, -521.63701923,  -62.01201923],\n",
       "        [ 238.64663462,  291.64663462,   43.52163462, ...,\n",
       "         -352.16586538, -530.72836538,  -78.72836538],\n",
       "        ...,\n",
       "        [ 240.58413462,  293.08413462,   43.52163462, ...,\n",
       "         -338.47836538, -520.85336538,  -68.41586538],\n",
       "        [ 175.05048077,  267.61298077,   80.92548077, ...,\n",
       "         -262.51201923, -480.32451923, -123.01201923],\n",
       "        [ 245.75961538,  294.82211538,   37.75961538, ...,\n",
       "         -347.36538462, -521.61538462,  -59.74038462]]])"
      ]
     },
     "execution_count": 36,
     "metadata": {},
     "output_type": "execute_result"
    }
   ],
   "source": [
    "X"
   ]
  },
  {
   "cell_type": "code",
   "execution_count": 68,
   "id": "5f21ed055d929733",
   "metadata": {
    "ExecuteTime": {
     "end_time": "2024-06-15T14:19:15.822771Z",
     "start_time": "2024-06-15T14:19:15.807193Z"
    }
   },
   "outputs": [
    {
     "data": {
      "text/plain": [
       "(11,)"
      ]
     },
     "execution_count": 68,
     "metadata": {},
     "output_type": "execute_result"
    }
   ],
   "source": [
    "y.shape"
   ]
  },
  {
   "cell_type": "code",
   "execution_count": 63,
   "id": "d5f80c8208ddd44a",
   "metadata": {
    "ExecuteTime": {
     "end_time": "2024-06-04T09:37:30.157741Z",
     "start_time": "2024-06-04T09:37:30.142110Z"
    }
   },
   "outputs": [],
   "source": [
    "# epochs['LEFT'].plot_image()\n",
    "# epochs['RIGHT'].plot_image()"
   ]
  },
  {
   "cell_type": "code",
   "execution_count": 38,
   "id": "cf19f946784d7e56",
   "metadata": {
    "ExecuteTime": {
     "end_time": "2024-06-15T13:27:38.822256Z",
     "start_time": "2024-06-15T13:27:37.873530Z"
    }
   },
   "outputs": [
    {
     "name": "stdout",
     "output_type": "stream",
     "text": [
      "Not setting metadata\n",
      "3 matching events found\n",
      "No baseline correction applied\n",
      "0 projection items activated\n",
      "combining channels using GFP (eeg channels)\n",
      "Not setting metadata\n",
      "3 matching events found\n",
      "No baseline correction applied\n",
      "0 projection items activated\n",
      "combining channels using GFP (eeg channels)\n"
     ]
    },
    {
     "data": {
      "text/plain": [
       "[<Figure size 800x600 with 3 Axes>]"
      ]
     },
     "execution_count": 38,
     "metadata": {},
     "output_type": "execute_result"
    }
   ],
   "source": [
    "mne.viz.plot_epochs_image(epochs['LEFT'],title=\"Left Imagery\",colorbar=True)\n",
    "mne.viz.plot_epochs_image(epochs['RIGHT'],title=\"Right Imagery\",colorbar=True)"
   ]
  },
  {
   "cell_type": "code",
   "execution_count": 39,
   "id": "d0d4ab3b99359fb7",
   "metadata": {
    "ExecuteTime": {
     "end_time": "2024-06-15T13:27:44.621575Z",
     "start_time": "2024-06-15T13:27:44.488375Z"
    }
   },
   "outputs": [
    {
     "data": {
      "text/html": [
       "<style>#sk-container-id-1 {\n",
       "  /* Definition of color scheme common for light and dark mode */\n",
       "  --sklearn-color-text: black;\n",
       "  --sklearn-color-line: gray;\n",
       "  /* Definition of color scheme for unfitted estimators */\n",
       "  --sklearn-color-unfitted-level-0: #fff5e6;\n",
       "  --sklearn-color-unfitted-level-1: #f6e4d2;\n",
       "  --sklearn-color-unfitted-level-2: #ffe0b3;\n",
       "  --sklearn-color-unfitted-level-3: chocolate;\n",
       "  /* Definition of color scheme for fitted estimators */\n",
       "  --sklearn-color-fitted-level-0: #f0f8ff;\n",
       "  --sklearn-color-fitted-level-1: #d4ebff;\n",
       "  --sklearn-color-fitted-level-2: #b3dbfd;\n",
       "  --sklearn-color-fitted-level-3: cornflowerblue;\n",
       "\n",
       "  /* Specific color for light theme */\n",
       "  --sklearn-color-text-on-default-background: var(--sg-text-color, var(--theme-code-foreground, var(--jp-content-font-color1, black)));\n",
       "  --sklearn-color-background: var(--sg-background-color, var(--theme-background, var(--jp-layout-color0, white)));\n",
       "  --sklearn-color-border-box: var(--sg-text-color, var(--theme-code-foreground, var(--jp-content-font-color1, black)));\n",
       "  --sklearn-color-icon: #696969;\n",
       "\n",
       "  @media (prefers-color-scheme: dark) {\n",
       "    /* Redefinition of color scheme for dark theme */\n",
       "    --sklearn-color-text-on-default-background: var(--sg-text-color, var(--theme-code-foreground, var(--jp-content-font-color1, white)));\n",
       "    --sklearn-color-background: var(--sg-background-color, var(--theme-background, var(--jp-layout-color0, #111)));\n",
       "    --sklearn-color-border-box: var(--sg-text-color, var(--theme-code-foreground, var(--jp-content-font-color1, white)));\n",
       "    --sklearn-color-icon: #878787;\n",
       "  }\n",
       "}\n",
       "\n",
       "#sk-container-id-1 {\n",
       "  color: var(--sklearn-color-text);\n",
       "}\n",
       "\n",
       "#sk-container-id-1 pre {\n",
       "  padding: 0;\n",
       "}\n",
       "\n",
       "#sk-container-id-1 input.sk-hidden--visually {\n",
       "  border: 0;\n",
       "  clip: rect(1px 1px 1px 1px);\n",
       "  clip: rect(1px, 1px, 1px, 1px);\n",
       "  height: 1px;\n",
       "  margin: -1px;\n",
       "  overflow: hidden;\n",
       "  padding: 0;\n",
       "  position: absolute;\n",
       "  width: 1px;\n",
       "}\n",
       "\n",
       "#sk-container-id-1 div.sk-dashed-wrapped {\n",
       "  border: 1px dashed var(--sklearn-color-line);\n",
       "  margin: 0 0.4em 0.5em 0.4em;\n",
       "  box-sizing: border-box;\n",
       "  padding-bottom: 0.4em;\n",
       "  background-color: var(--sklearn-color-background);\n",
       "}\n",
       "\n",
       "#sk-container-id-1 div.sk-container {\n",
       "  /* jupyter's `normalize.less` sets `[hidden] { display: none; }`\n",
       "     but bootstrap.min.css set `[hidden] { display: none !important; }`\n",
       "     so we also need the `!important` here to be able to override the\n",
       "     default hidden behavior on the sphinx rendered scikit-learn.org.\n",
       "     See: https://github.com/scikit-learn/scikit-learn/issues/21755 */\n",
       "  display: inline-block !important;\n",
       "  position: relative;\n",
       "}\n",
       "\n",
       "#sk-container-id-1 div.sk-text-repr-fallback {\n",
       "  display: none;\n",
       "}\n",
       "\n",
       "div.sk-parallel-item,\n",
       "div.sk-serial,\n",
       "div.sk-item {\n",
       "  /* draw centered vertical line to link estimators */\n",
       "  background-image: linear-gradient(var(--sklearn-color-text-on-default-background), var(--sklearn-color-text-on-default-background));\n",
       "  background-size: 2px 100%;\n",
       "  background-repeat: no-repeat;\n",
       "  background-position: center center;\n",
       "}\n",
       "\n",
       "/* Parallel-specific style estimator block */\n",
       "\n",
       "#sk-container-id-1 div.sk-parallel-item::after {\n",
       "  content: \"\";\n",
       "  width: 100%;\n",
       "  border-bottom: 2px solid var(--sklearn-color-text-on-default-background);\n",
       "  flex-grow: 1;\n",
       "}\n",
       "\n",
       "#sk-container-id-1 div.sk-parallel {\n",
       "  display: flex;\n",
       "  align-items: stretch;\n",
       "  justify-content: center;\n",
       "  background-color: var(--sklearn-color-background);\n",
       "  position: relative;\n",
       "}\n",
       "\n",
       "#sk-container-id-1 div.sk-parallel-item {\n",
       "  display: flex;\n",
       "  flex-direction: column;\n",
       "}\n",
       "\n",
       "#sk-container-id-1 div.sk-parallel-item:first-child::after {\n",
       "  align-self: flex-end;\n",
       "  width: 50%;\n",
       "}\n",
       "\n",
       "#sk-container-id-1 div.sk-parallel-item:last-child::after {\n",
       "  align-self: flex-start;\n",
       "  width: 50%;\n",
       "}\n",
       "\n",
       "#sk-container-id-1 div.sk-parallel-item:only-child::after {\n",
       "  width: 0;\n",
       "}\n",
       "\n",
       "/* Serial-specific style estimator block */\n",
       "\n",
       "#sk-container-id-1 div.sk-serial {\n",
       "  display: flex;\n",
       "  flex-direction: column;\n",
       "  align-items: center;\n",
       "  background-color: var(--sklearn-color-background);\n",
       "  padding-right: 1em;\n",
       "  padding-left: 1em;\n",
       "}\n",
       "\n",
       "\n",
       "/* Toggleable style: style used for estimator/Pipeline/ColumnTransformer box that is\n",
       "clickable and can be expanded/collapsed.\n",
       "- Pipeline and ColumnTransformer use this feature and define the default style\n",
       "- Estimators will overwrite some part of the style using the `sk-estimator` class\n",
       "*/\n",
       "\n",
       "/* Pipeline and ColumnTransformer style (default) */\n",
       "\n",
       "#sk-container-id-1 div.sk-toggleable {\n",
       "  /* Default theme specific background. It is overwritten whether we have a\n",
       "  specific estimator or a Pipeline/ColumnTransformer */\n",
       "  background-color: var(--sklearn-color-background);\n",
       "}\n",
       "\n",
       "/* Toggleable label */\n",
       "#sk-container-id-1 label.sk-toggleable__label {\n",
       "  cursor: pointer;\n",
       "  display: block;\n",
       "  width: 100%;\n",
       "  margin-bottom: 0;\n",
       "  padding: 0.5em;\n",
       "  box-sizing: border-box;\n",
       "  text-align: center;\n",
       "}\n",
       "\n",
       "#sk-container-id-1 label.sk-toggleable__label-arrow:before {\n",
       "  /* Arrow on the left of the label */\n",
       "  content: \"▸\";\n",
       "  float: left;\n",
       "  margin-right: 0.25em;\n",
       "  color: var(--sklearn-color-icon);\n",
       "}\n",
       "\n",
       "#sk-container-id-1 label.sk-toggleable__label-arrow:hover:before {\n",
       "  color: var(--sklearn-color-text);\n",
       "}\n",
       "\n",
       "/* Toggleable content - dropdown */\n",
       "\n",
       "#sk-container-id-1 div.sk-toggleable__content {\n",
       "  max-height: 0;\n",
       "  max-width: 0;\n",
       "  overflow: hidden;\n",
       "  text-align: left;\n",
       "  /* unfitted */\n",
       "  background-color: var(--sklearn-color-unfitted-level-0);\n",
       "}\n",
       "\n",
       "#sk-container-id-1 div.sk-toggleable__content.fitted {\n",
       "  /* fitted */\n",
       "  background-color: var(--sklearn-color-fitted-level-0);\n",
       "}\n",
       "\n",
       "#sk-container-id-1 div.sk-toggleable__content pre {\n",
       "  margin: 0.2em;\n",
       "  border-radius: 0.25em;\n",
       "  color: var(--sklearn-color-text);\n",
       "  /* unfitted */\n",
       "  background-color: var(--sklearn-color-unfitted-level-0);\n",
       "}\n",
       "\n",
       "#sk-container-id-1 div.sk-toggleable__content.fitted pre {\n",
       "  /* unfitted */\n",
       "  background-color: var(--sklearn-color-fitted-level-0);\n",
       "}\n",
       "\n",
       "#sk-container-id-1 input.sk-toggleable__control:checked~div.sk-toggleable__content {\n",
       "  /* Expand drop-down */\n",
       "  max-height: 200px;\n",
       "  max-width: 100%;\n",
       "  overflow: auto;\n",
       "}\n",
       "\n",
       "#sk-container-id-1 input.sk-toggleable__control:checked~label.sk-toggleable__label-arrow:before {\n",
       "  content: \"▾\";\n",
       "}\n",
       "\n",
       "/* Pipeline/ColumnTransformer-specific style */\n",
       "\n",
       "#sk-container-id-1 div.sk-label input.sk-toggleable__control:checked~label.sk-toggleable__label {\n",
       "  color: var(--sklearn-color-text);\n",
       "  background-color: var(--sklearn-color-unfitted-level-2);\n",
       "}\n",
       "\n",
       "#sk-container-id-1 div.sk-label.fitted input.sk-toggleable__control:checked~label.sk-toggleable__label {\n",
       "  background-color: var(--sklearn-color-fitted-level-2);\n",
       "}\n",
       "\n",
       "/* Estimator-specific style */\n",
       "\n",
       "/* Colorize estimator box */\n",
       "#sk-container-id-1 div.sk-estimator input.sk-toggleable__control:checked~label.sk-toggleable__label {\n",
       "  /* unfitted */\n",
       "  background-color: var(--sklearn-color-unfitted-level-2);\n",
       "}\n",
       "\n",
       "#sk-container-id-1 div.sk-estimator.fitted input.sk-toggleable__control:checked~label.sk-toggleable__label {\n",
       "  /* fitted */\n",
       "  background-color: var(--sklearn-color-fitted-level-2);\n",
       "}\n",
       "\n",
       "#sk-container-id-1 div.sk-label label.sk-toggleable__label,\n",
       "#sk-container-id-1 div.sk-label label {\n",
       "  /* The background is the default theme color */\n",
       "  color: var(--sklearn-color-text-on-default-background);\n",
       "}\n",
       "\n",
       "/* On hover, darken the color of the background */\n",
       "#sk-container-id-1 div.sk-label:hover label.sk-toggleable__label {\n",
       "  color: var(--sklearn-color-text);\n",
       "  background-color: var(--sklearn-color-unfitted-level-2);\n",
       "}\n",
       "\n",
       "/* Label box, darken color on hover, fitted */\n",
       "#sk-container-id-1 div.sk-label.fitted:hover label.sk-toggleable__label.fitted {\n",
       "  color: var(--sklearn-color-text);\n",
       "  background-color: var(--sklearn-color-fitted-level-2);\n",
       "}\n",
       "\n",
       "/* Estimator label */\n",
       "\n",
       "#sk-container-id-1 div.sk-label label {\n",
       "  font-family: monospace;\n",
       "  font-weight: bold;\n",
       "  display: inline-block;\n",
       "  line-height: 1.2em;\n",
       "}\n",
       "\n",
       "#sk-container-id-1 div.sk-label-container {\n",
       "  text-align: center;\n",
       "}\n",
       "\n",
       "/* Estimator-specific */\n",
       "#sk-container-id-1 div.sk-estimator {\n",
       "  font-family: monospace;\n",
       "  border: 1px dotted var(--sklearn-color-border-box);\n",
       "  border-radius: 0.25em;\n",
       "  box-sizing: border-box;\n",
       "  margin-bottom: 0.5em;\n",
       "  /* unfitted */\n",
       "  background-color: var(--sklearn-color-unfitted-level-0);\n",
       "}\n",
       "\n",
       "#sk-container-id-1 div.sk-estimator.fitted {\n",
       "  /* fitted */\n",
       "  background-color: var(--sklearn-color-fitted-level-0);\n",
       "}\n",
       "\n",
       "/* on hover */\n",
       "#sk-container-id-1 div.sk-estimator:hover {\n",
       "  /* unfitted */\n",
       "  background-color: var(--sklearn-color-unfitted-level-2);\n",
       "}\n",
       "\n",
       "#sk-container-id-1 div.sk-estimator.fitted:hover {\n",
       "  /* fitted */\n",
       "  background-color: var(--sklearn-color-fitted-level-2);\n",
       "}\n",
       "\n",
       "/* Specification for estimator info (e.g. \"i\" and \"?\") */\n",
       "\n",
       "/* Common style for \"i\" and \"?\" */\n",
       "\n",
       ".sk-estimator-doc-link,\n",
       "a:link.sk-estimator-doc-link,\n",
       "a:visited.sk-estimator-doc-link {\n",
       "  float: right;\n",
       "  font-size: smaller;\n",
       "  line-height: 1em;\n",
       "  font-family: monospace;\n",
       "  background-color: var(--sklearn-color-background);\n",
       "  border-radius: 1em;\n",
       "  height: 1em;\n",
       "  width: 1em;\n",
       "  text-decoration: none !important;\n",
       "  margin-left: 1ex;\n",
       "  /* unfitted */\n",
       "  border: var(--sklearn-color-unfitted-level-1) 1pt solid;\n",
       "  color: var(--sklearn-color-unfitted-level-1);\n",
       "}\n",
       "\n",
       ".sk-estimator-doc-link.fitted,\n",
       "a:link.sk-estimator-doc-link.fitted,\n",
       "a:visited.sk-estimator-doc-link.fitted {\n",
       "  /* fitted */\n",
       "  border: var(--sklearn-color-fitted-level-1) 1pt solid;\n",
       "  color: var(--sklearn-color-fitted-level-1);\n",
       "}\n",
       "\n",
       "/* On hover */\n",
       "div.sk-estimator:hover .sk-estimator-doc-link:hover,\n",
       ".sk-estimator-doc-link:hover,\n",
       "div.sk-label-container:hover .sk-estimator-doc-link:hover,\n",
       ".sk-estimator-doc-link:hover {\n",
       "  /* unfitted */\n",
       "  background-color: var(--sklearn-color-unfitted-level-3);\n",
       "  color: var(--sklearn-color-background);\n",
       "  text-decoration: none;\n",
       "}\n",
       "\n",
       "div.sk-estimator.fitted:hover .sk-estimator-doc-link.fitted:hover,\n",
       ".sk-estimator-doc-link.fitted:hover,\n",
       "div.sk-label-container:hover .sk-estimator-doc-link.fitted:hover,\n",
       ".sk-estimator-doc-link.fitted:hover {\n",
       "  /* fitted */\n",
       "  background-color: var(--sklearn-color-fitted-level-3);\n",
       "  color: var(--sklearn-color-background);\n",
       "  text-decoration: none;\n",
       "}\n",
       "\n",
       "/* Span, style for the box shown on hovering the info icon */\n",
       ".sk-estimator-doc-link span {\n",
       "  display: none;\n",
       "  z-index: 9999;\n",
       "  position: relative;\n",
       "  font-weight: normal;\n",
       "  right: .2ex;\n",
       "  padding: .5ex;\n",
       "  margin: .5ex;\n",
       "  width: min-content;\n",
       "  min-width: 20ex;\n",
       "  max-width: 50ex;\n",
       "  color: var(--sklearn-color-text);\n",
       "  box-shadow: 2pt 2pt 4pt #999;\n",
       "  /* unfitted */\n",
       "  background: var(--sklearn-color-unfitted-level-0);\n",
       "  border: .5pt solid var(--sklearn-color-unfitted-level-3);\n",
       "}\n",
       "\n",
       ".sk-estimator-doc-link.fitted span {\n",
       "  /* fitted */\n",
       "  background: var(--sklearn-color-fitted-level-0);\n",
       "  border: var(--sklearn-color-fitted-level-3);\n",
       "}\n",
       "\n",
       ".sk-estimator-doc-link:hover span {\n",
       "  display: block;\n",
       "}\n",
       "\n",
       "/* \"?\"-specific style due to the `<a>` HTML tag */\n",
       "\n",
       "#sk-container-id-1 a.estimator_doc_link {\n",
       "  float: right;\n",
       "  font-size: 1rem;\n",
       "  line-height: 1em;\n",
       "  font-family: monospace;\n",
       "  background-color: var(--sklearn-color-background);\n",
       "  border-radius: 1rem;\n",
       "  height: 1rem;\n",
       "  width: 1rem;\n",
       "  text-decoration: none;\n",
       "  /* unfitted */\n",
       "  color: var(--sklearn-color-unfitted-level-1);\n",
       "  border: var(--sklearn-color-unfitted-level-1) 1pt solid;\n",
       "}\n",
       "\n",
       "#sk-container-id-1 a.estimator_doc_link.fitted {\n",
       "  /* fitted */\n",
       "  border: var(--sklearn-color-fitted-level-1) 1pt solid;\n",
       "  color: var(--sklearn-color-fitted-level-1);\n",
       "}\n",
       "\n",
       "/* On hover */\n",
       "#sk-container-id-1 a.estimator_doc_link:hover {\n",
       "  /* unfitted */\n",
       "  background-color: var(--sklearn-color-unfitted-level-3);\n",
       "  color: var(--sklearn-color-background);\n",
       "  text-decoration: none;\n",
       "}\n",
       "\n",
       "#sk-container-id-1 a.estimator_doc_link.fitted:hover {\n",
       "  /* fitted */\n",
       "  background-color: var(--sklearn-color-fitted-level-3);\n",
       "}\n",
       "</style><div id=\"sk-container-id-1\" class=\"sk-top-container\"><div class=\"sk-text-repr-fallback\"><pre>Pipeline(steps=[(&#x27;vectorizer&#x27;,\n",
       "                 &lt;mne.decoding.transformer.Vectorizer object at 0x000001FE15715AB0&gt;),\n",
       "                (&#x27;randomforestclassifier&#x27;, RandomForestClassifier())])</pre><b>In a Jupyter environment, please rerun this cell to show the HTML representation or trust the notebook. <br />On GitHub, the HTML representation is unable to render, please try loading this page with nbviewer.org.</b></div><div class=\"sk-container\" hidden><div class=\"sk-item sk-dashed-wrapped\"><div class=\"sk-label-container\"><div class=\"sk-label fitted sk-toggleable\"><input class=\"sk-toggleable__control sk-hidden--visually\" id=\"sk-estimator-id-1\" type=\"checkbox\" ><label for=\"sk-estimator-id-1\" class=\"sk-toggleable__label fitted sk-toggleable__label-arrow fitted\">&nbsp;&nbsp;Pipeline<a class=\"sk-estimator-doc-link fitted\" rel=\"noreferrer\" target=\"_blank\" href=\"https://scikit-learn.org/1.5/modules/generated/sklearn.pipeline.Pipeline.html\">?<span>Documentation for Pipeline</span></a><span class=\"sk-estimator-doc-link fitted\">i<span>Fitted</span></span></label><div class=\"sk-toggleable__content fitted\"><pre>Pipeline(steps=[(&#x27;vectorizer&#x27;,\n",
       "                 &lt;mne.decoding.transformer.Vectorizer object at 0x000001FE15715AB0&gt;),\n",
       "                (&#x27;randomforestclassifier&#x27;, RandomForestClassifier())])</pre></div> </div></div><div class=\"sk-serial\"><div class=\"sk-item\"><div class=\"sk-estimator fitted sk-toggleable\"><input class=\"sk-toggleable__control sk-hidden--visually\" id=\"sk-estimator-id-2\" type=\"checkbox\" ><label for=\"sk-estimator-id-2\" class=\"sk-toggleable__label fitted sk-toggleable__label-arrow fitted\">Vectorizer</label><div class=\"sk-toggleable__content fitted\"><pre>&lt;mne.decoding.transformer.Vectorizer object at 0x000001FE15715AB0&gt;</pre></div> </div></div><div class=\"sk-item\"><div class=\"sk-estimator fitted sk-toggleable\"><input class=\"sk-toggleable__control sk-hidden--visually\" id=\"sk-estimator-id-3\" type=\"checkbox\" ><label for=\"sk-estimator-id-3\" class=\"sk-toggleable__label fitted sk-toggleable__label-arrow fitted\">&nbsp;RandomForestClassifier<a class=\"sk-estimator-doc-link fitted\" rel=\"noreferrer\" target=\"_blank\" href=\"https://scikit-learn.org/1.5/modules/generated/sklearn.ensemble.RandomForestClassifier.html\">?<span>Documentation for RandomForestClassifier</span></a></label><div class=\"sk-toggleable__content fitted\"><pre>RandomForestClassifier()</pre></div> </div></div></div></div></div></div>"
      ],
      "text/plain": [
       "Pipeline(steps=[('vectorizer',\n",
       "                 <mne.decoding.transformer.Vectorizer object at 0x000001FE15715AB0>),\n",
       "                ('randomforestclassifier', RandomForestClassifier())])"
      ]
     },
     "execution_count": 39,
     "metadata": {},
     "output_type": "execute_result"
    }
   ],
   "source": [
    "# Reshape the data to (n_samples, n_features)\n",
    "X = X.reshape(len(X), -1)\n",
    "\n",
    "# Create and train a classifier\n",
    "clf = make_pipeline(Vectorizer(), RandomForestClassifier(n_estimators=100))\n",
    "clf.fit(X, y)"
   ]
  },
  {
   "cell_type": "code",
   "execution_count": 30,
   "id": "416c64cad30d70c8",
   "metadata": {
    "ExecuteTime": {
     "end_time": "2024-06-05T13:37:54.783340Z",
     "start_time": "2024-06-05T13:37:51.791395Z"
    }
   },
   "outputs": [
    {
     "ename": "NameError",
     "evalue": "name 'clf' is not defined",
     "output_type": "error",
     "traceback": [
      "\u001b[1;31m---------------------------------------------------------------------------\u001b[0m",
      "\u001b[1;31mNameError\u001b[0m                                 Traceback (most recent call last)",
      "Cell \u001b[1;32mIn[30], line 3\u001b[0m\n\u001b[0;32m      1\u001b[0m test_index \u001b[38;5;241m=\u001b[39m \u001b[38;5;241m0\u001b[39m  \u001b[38;5;66;03m# Use the first training data point for prediction\u001b[39;00m\n\u001b[0;32m      2\u001b[0m test_sample \u001b[38;5;241m=\u001b[39m X[test_index]\u001b[38;5;241m.\u001b[39mreshape(\u001b[38;5;241m1\u001b[39m, \u001b[38;5;241m-\u001b[39m\u001b[38;5;241m1\u001b[39m)  \u001b[38;5;66;03m# Reshape to (1, n_features)\u001b[39;00m\n\u001b[1;32m----> 3\u001b[0m predicted_label \u001b[38;5;241m=\u001b[39m \u001b[43mclf\u001b[49m\u001b[38;5;241m.\u001b[39mpredict(test_sample)\n\u001b[0;32m      4\u001b[0m actual_label \u001b[38;5;241m=\u001b[39m y[test_index]\n\u001b[0;32m      5\u001b[0m \u001b[38;5;28mprint\u001b[39m(\u001b[38;5;124mf\u001b[39m\u001b[38;5;124m\"\u001b[39m\u001b[38;5;124mPredicted label: \u001b[39m\u001b[38;5;132;01m{\u001b[39;00mpredicted_label[\u001b[38;5;241m0\u001b[39m]\u001b[38;5;132;01m}\u001b[39;00m\u001b[38;5;124m, Actual label: \u001b[39m\u001b[38;5;132;01m{\u001b[39;00mactual_label\u001b[38;5;132;01m}\u001b[39;00m\u001b[38;5;124m\"\u001b[39m)\n",
      "\u001b[1;31mNameError\u001b[0m: name 'clf' is not defined"
     ]
    }
   ],
   "source": [
    "test_index = 0  # Use the first training data point for prediction\n",
    "test_sample = X[test_index].reshape(1, -1)  # Reshape to (1, n_features)\n",
    "predicted_label = clf.predict(test_sample)\n",
    "actual_label = y[test_index]\n",
    "print(f\"Predicted label: {predicted_label[0]}, Actual label: {actual_label}\")"
   ]
  },
  {
   "cell_type": "code",
   "execution_count": 100,
   "id": "858816cde7e13577",
   "metadata": {
    "ExecuteTime": {
     "end_time": "2024-06-04T20:32:46.201296Z",
     "start_time": "2024-06-04T20:32:46.185672Z"
    }
   },
   "outputs": [],
   "source": [
    "# Save the model as a pickle file\n",
    "with open('classifier_model.pkl', 'wb') as f:\n",
    "    pickle.dump(clf, f)"
   ]
  },
  {
   "cell_type": "code",
   "execution_count": 57,
   "id": "527ea8fc69842458",
   "metadata": {
    "ExecuteTime": {
     "end_time": "2024-06-03T18:22:23.569233Z",
     "start_time": "2024-06-03T18:22:23.553605Z"
    }
   },
   "outputs": [],
   "source": [
    "# -----------------------Evoked-----------------------------------------------------------------------------------------"
   ]
  },
  {
   "cell_type": "code",
   "execution_count": 33,
   "id": "e984b3b2c4bc0d60",
   "metadata": {
    "ExecuteTime": {
     "end_time": "2024-06-03T21:45:44.331970Z",
     "start_time": "2024-06-03T21:45:44.324104Z"
    }
   },
   "outputs": [],
   "source": [
    "# root = mne.datasets.sample.data_path() / \"MEG\" / \"sample\"\n",
    "# evoked_file = root / \"sample_audvis-ave.fif\"\n",
    "# evokeds_list = mne.read_evokeds(\n",
    "#     evoked_file, baseline=(None, 0), proj=True, verbose=False\n",
    "# )\n",
    "# \n",
    "# # Show condition names and baseline intervals\n",
    "# for e in evokeds_list:\n",
    "#     print(f\"Condition: {e.comment}, baseline: {e.baseline}\")\n",
    "#     \n",
    "# conds = (\"aud/left\", \"aud/right\", \"vis/left\", \"vis/right\")\n",
    "# evks = dict(zip(conds, evokeds_list))"
   ]
  },
  {
   "cell_type": "code",
   "execution_count": 35,
   "id": "7a5573559c2cf97d",
   "metadata": {
    "ExecuteTime": {
     "end_time": "2024-06-03T21:45:48.117607Z",
     "start_time": "2024-06-03T21:45:48.095701Z"
    }
   },
   "outputs": [],
   "source": [
    "# evoked_file"
   ]
  },
  {
   "cell_type": "code",
   "execution_count": 34,
   "id": "be9819653d97952e",
   "metadata": {
    "ExecuteTime": {
     "end_time": "2024-06-03T21:45:46.772237Z",
     "start_time": "2024-06-03T21:45:46.760236Z"
    }
   },
   "outputs": [],
   "source": [
    "# evks"
   ]
  },
  {
   "cell_type": "code",
   "execution_count": 36,
   "id": "952e46ae66efcf0f",
   "metadata": {
    "ExecuteTime": {
     "end_time": "2024-06-03T21:46:02.126131Z",
     "start_time": "2024-06-03T21:46:02.115737Z"
    }
   },
   "outputs": [],
   "source": [
    "# ------------------------------------------ Old code for creating epochs directly"
   ]
  },
  {
   "cell_type": "code",
   "execution_count": 37,
   "id": "61e0cadde559c024",
   "metadata": {
    "ExecuteTime": {
     "end_time": "2024-06-03T21:46:06.197648Z",
     "start_time": "2024-06-03T21:46:06.137378Z"
    }
   },
   "outputs": [],
   "source": [
    "# # Perform an as of merge to find the closest earlier and later event_id\n",
    "# df_buffers['prev_event_id'] = pd.merge_asof(df_buffers, df_tasks,\n",
    "#                                             left_on='timestamps', right_on='timestamps',\n",
    "#                                             direction='backward')['event_ids']\n",
    "# \n",
    "# df_buffers['next_event_id'] = pd.merge_asof(df_buffers, df_tasks,\n",
    "#                                             left_on='timestamps', right_on='timestamps',\n",
    "#                                             direction='forward')['event_ids']\n",
    "# \n",
    "# markers = {\n",
    "#     'left_start': [1],\n",
    "#     'left_end': [2],\n",
    "#     'right_start': [3],\n",
    "#     'right_end': [4],\n",
    "#     'rest_start': [99],\n",
    "#     'rest_end': [100],\n",
    "#     'task_start': [-1],\n",
    "#     'task_end': [-2]\n",
    "# }\n",
    "# \n",
    "# def determine_phase(row):\n",
    "#     if row['prev_event_id'] in markers['left_start'] and row['next_event_id'] in markers['left_end']:\n",
    "#         return 'left'\n",
    "#     elif row['prev_event_id'] in markers['right_start'] and row['next_event_id'] in markers['right_end']:\n",
    "#         return 'right'\n",
    "#     elif row['prev_event_id'] in markers['rest_start'] and row['next_event_id'] in markers['rest_end']:\n",
    "#         return 'rest'\n",
    "#     else:\n",
    "#         return 'unknown'\n",
    "# \n",
    "# df_buffers['phase'] = df_buffers.apply(determine_phase, axis=1)\n",
    "# \n",
    "# grouped = df_buffers.groupby(['part_number', 'phase']).size().reset_index(name='count')\n",
    "# \n",
    "# sfreq = config.device_details['sfreq']\n",
    "# buffer_duration = config.epoch_information['duration']\n",
    "# \n",
    "# valid_phases = ['left', 'right', 'rest']\n"
   ]
  },
  {
   "cell_type": "code",
   "execution_count": 38,
   "id": "7ad92a6c20eba889",
   "metadata": {
    "ExecuteTime": {
     "end_time": "2024-06-03T21:46:11.224261Z",
     "start_time": "2024-06-03T21:46:11.213322Z"
    }
   },
   "outputs": [],
   "source": [
    "# df_buffers_filt = df_buffers[df_buffers['phase'].apply(lambda x: any(item in x for item in valid_phases))]"
   ]
  },
  {
   "cell_type": "code",
   "execution_count": 39,
   "id": "77d9a5d85f7ac7f9",
   "metadata": {
    "ExecuteTime": {
     "end_time": "2024-06-03T21:46:13.103591Z",
     "start_time": "2024-06-03T21:46:13.088595Z"
    }
   },
   "outputs": [],
   "source": [
    "# df_buffers_filt.loc[:,'phase_group'] = (df_buffers_filt['phase'] != df_buffers_filt['phase'].shift()).cumsum()"
   ]
  },
  {
   "cell_type": "code",
   "execution_count": 40,
   "id": "166d7c6d36dafea8",
   "metadata": {
    "ExecuteTime": {
     "end_time": "2024-06-03T21:46:15.149191Z",
     "start_time": "2024-06-03T21:46:15.131193Z"
    }
   },
   "outputs": [],
   "source": [
    "# df_phase_map = df_buffers_filt[['phase_group', 'phase']].drop_duplicates()"
   ]
  },
  {
   "cell_type": "code",
   "execution_count": 41,
   "id": "9c04167e5307a13e",
   "metadata": {
    "ExecuteTime": {
     "end_time": "2024-06-03T21:46:17.171830Z",
     "start_time": "2024-06-03T21:46:17.150836Z"
    }
   },
   "outputs": [],
   "source": [
    "# df_buffers_filt"
   ]
  },
  {
   "cell_type": "code",
   "execution_count": 42,
   "id": "4d3c46c506e84e1",
   "metadata": {
    "ExecuteTime": {
     "end_time": "2024-06-03T21:46:19.533406Z",
     "start_time": "2024-06-03T21:46:19.525391Z"
    }
   },
   "outputs": [],
   "source": [
    "# def get_phase_name(phase_group_number):\n",
    "#     # Look up the phase group number in the DataFrame\n",
    "#     phase_name = df_phase_map.loc[df_phase_map['phase_group'] == phase_group_number, 'phase']\n",
    "#     \n",
    "#     # Check if the phase group number exists in the DataFrame\n",
    "#     if not phase_name.empty:\n",
    "#         return phase_name.values[0]\n",
    "#     else:\n",
    "#         return \"Invalid phase group number\""
   ]
  },
  {
   "cell_type": "code",
   "execution_count": 43,
   "id": "7d07f809f42bf4bd",
   "metadata": {
    "ExecuteTime": {
     "end_time": "2024-06-03T21:46:22.704815Z",
     "start_time": "2024-06-03T21:46:22.697838Z"
    }
   },
   "outputs": [],
   "source": [
    "# val_sel_columns = config.device_details['relevant_channels_from_device']\n",
    "# columns_to_select = df_buffers.columns[:val_sel_columns].tolist() + ['part_number', 'timestamps', 'phase', 'phase_group']\n",
    "# df_buffers_filt = df_buffers_filt[columns_to_select]"
   ]
  },
  {
   "cell_type": "code",
   "execution_count": 45,
   "id": "f5f14f1ffbeb7ed6",
   "metadata": {
    "ExecuteTime": {
     "end_time": "2024-06-03T21:46:35.395254Z",
     "start_time": "2024-06-03T21:46:35.383251Z"
    }
   },
   "outputs": [],
   "source": [
    "# rename_dict = {old_name: new_name for old_name, new_name in zip(df_buffers_filt.columns[:val_sel_columns], channel_names)}\n",
    "# df_buffers_renamed = df_buffers_filt.rename(columns=rename_dict)"
   ]
  },
  {
   "cell_type": "code",
   "execution_count": 46,
   "id": "5beb3f7eb0d3f32",
   "metadata": {
    "ExecuteTime": {
     "end_time": "2024-06-03T21:46:37.752372Z",
     "start_time": "2024-06-03T21:46:37.739371Z"
    }
   },
   "outputs": [],
   "source": [
    "# df_buffers_renamed[channel_names] = df_buffers_renamed[channel_names].values * 1e-6"
   ]
  },
  {
   "cell_type": "code",
   "execution_count": 47,
   "id": "3f61d57b591d389f",
   "metadata": {
    "ExecuteTime": {
     "end_time": "2024-06-03T21:46:44.335725Z",
     "start_time": "2024-06-03T21:46:44.320724Z"
    }
   },
   "outputs": [],
   "source": [
    "# df_tasks"
   ]
  },
  {
   "cell_type": "code",
   "execution_count": 48,
   "id": "14957b92fbfcb0ff",
   "metadata": {
    "ExecuteTime": {
     "end_time": "2024-06-03T21:46:52.390471Z",
     "start_time": "2024-06-03T21:46:52.374185Z"
    }
   },
   "outputs": [],
   "source": [
    "# df_buffers_renamed"
   ]
  },
  {
   "cell_type": "code",
   "execution_count": null,
   "id": "248c744831d1460e",
   "metadata": {},
   "outputs": [],
   "source": [
    "# # Creating epochs data\n",
    "# epochs_data = []\n",
    "# events = []\n",
    "# \n",
    "# event_id = {'left': 1, 'right': 2, 'rest': 3}\n",
    "# phases = ['left', 'right', 'rest']"
   ]
  },
  {
   "cell_type": "code",
   "execution_count": null,
   "id": "ea7e7501d7f28b3c",
   "metadata": {},
   "outputs": [],
   "source": [
    "max_shape = 0  # Initialize maximum shape\n",
    "\n",
    "for i, df_phase_group in df_buffers_renamed.groupby('phase_group'):\n",
    "    if get_phase_name(i) not in phases:\n",
    "        continue\n",
    "    data_array = df_phase_group[channel_names].values.T\n",
    "    max_shape = max(max_shape, data_array.shape[1])\n",
    "    epochs_data.append(data_array)\n",
    "    \n",
    "    phase_group = df_phase_group['phase_group'].iloc[0]\n",
    "    phase = df_phase_map[df_phase_map['phase_group'] == phase_group]['phase'].iloc[0]\n",
    "    event = event_id[phase]\n",
    "    \n",
    "    events.append([len(epochs_data) - 1, 0, event])"
   ]
  },
  {
   "cell_type": "code",
   "execution_count": null,
   "id": "3205388cfcf8f3ad",
   "metadata": {},
   "outputs": [],
   "source": [
    "events = np.array(events)"
   ]
  },
  {
   "cell_type": "code",
   "execution_count": null,
   "id": "87168f8986cb2512",
   "metadata": {},
   "outputs": [],
   "source": [
    "events"
   ]
  },
  {
   "cell_type": "code",
   "execution_count": 49,
   "id": "de127a36a7979ab4",
   "metadata": {
    "ExecuteTime": {
     "end_time": "2024-06-03T21:47:15.274474Z",
     "start_time": "2024-06-03T21:47:15.253707Z"
    }
   },
   "outputs": [],
   "source": [
    "# # Pad or truncate each epoch's data to match the maximum shape\n",
    "# for i, data_array in enumerate(epochs_data):\n",
    "#     current_shape = data_array.shape[1]\n",
    "#     if current_shape < max_shape:\n",
    "#         padding = ((0, 0), (0, max_shape - current_shape))\n",
    "#         epochs_data[i] = np.pad(data_array, padding, mode='constant')\n",
    "#     elif current_shape > max_shape:\n",
    "#         epochs_data[i] = data_array[:, :max_shape]\n",
    "# \n",
    "# # Convert epoch_data to numpy array\n",
    "# epochs_data = np.array(epochs_data)\n",
    "# \n",
    "# # Print the shape of epoch_data\n",
    "# print(\"Shape of epoch_data:\", epochs_data.shape)"
   ]
  },
  {
   "cell_type": "code",
   "execution_count": 50,
   "id": "727120b7196332ac",
   "metadata": {
    "ExecuteTime": {
     "end_time": "2024-06-03T21:47:16.773570Z",
     "start_time": "2024-06-03T21:47:16.769150Z"
    }
   },
   "outputs": [],
   "source": [
    "# # Create MNE info structure\n",
    "# info = create_info(ch_names=channel_names, sfreq=config.device_details['sfreq'], ch_types='eeg')\n",
    "# \n",
    "# # Create MNE Epochs object\n",
    "# epochs = EpochsArray(epochs_data, info, events, event_id=event_id, tmin=0)"
   ]
  },
  {
   "cell_type": "code",
   "execution_count": null,
   "id": "d074967184be3a7e",
   "metadata": {},
   "outputs": [],
   "source": []
  },
  {
   "cell_type": "code",
   "execution_count": null,
   "id": "173a0ed6e6f6936b",
   "metadata": {},
   "outputs": [],
   "source": [
    "# X\n",
    "# y\n",
    "\n"
   ]
  }
 ],
 "metadata": {
  "kernelspec": {
   "display_name": "Python 3 (ipykernel)",
   "language": "python",
   "name": "python3"
  },
  "language_info": {
   "codemirror_mode": {
    "name": "ipython",
    "version": 3
   },
   "file_extension": ".py",
   "mimetype": "text/x-python",
   "name": "python",
   "nbconvert_exporter": "python",
   "pygments_lexer": "ipython3",
   "version": "3.11.5"
  }
 },
 "nbformat": 4,
 "nbformat_minor": 5
}
