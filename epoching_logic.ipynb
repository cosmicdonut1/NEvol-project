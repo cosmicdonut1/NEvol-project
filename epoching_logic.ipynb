{
 "cells": [
  {
   "cell_type": "code",
   "id": "initial_id",
   "metadata": {
    "ExecuteTime": {
     "end_time": "2024-06-03T21:57:23.702585Z",
     "start_time": "2024-06-03T21:57:23.691945Z"
    }
   },
   "source": [
    "from utils import load_buffers,load_task_markers\n",
    "import pandas as pd\n",
    "import config\n",
    "import os\n",
    "import numpy as np\n",
    "\n",
    "import mne\n",
    "from mne import create_info\n",
    "from mne.epochs import EpochsArray\n",
    "from mne.decoding import Vectorizer\n",
    "\n",
    "from sklearn.ensemble import RandomForestClassifier\n",
    "from sklearn.pipeline import make_pipeline\n",
    "from matplotlib import pyplot as plt\n",
    "\n",
    "import pickle\n",
    "%matplotlib qt"
   ],
   "outputs": [],
   "execution_count": 53
  },
  {
   "cell_type": "code",
   "id": "e357ba0efaee48e8",
   "metadata": {
    "ExecuteTime": {
     "end_time": "2024-06-03T21:57:24.198668Z",
     "start_time": "2024-06-03T21:57:24.028583Z"
    }
   },
   "source": [
    "# load the task and signal files stored in the disk\n",
    "# Based on the task timestamps, subset the signals and annotate the events\n",
    "# create epoch data that includes the signal and events\n",
    "# use the epoch data to train a classifier\n",
    "# save the classifier model as a pickle file for prediction later\n",
    "\n",
    "# Load the .npz file for task\n",
    "file_path = 'processed_data/motor_imagery/2024-06-03_23-06-48/task_data/task_markers.npz'  # Replace with your file path\n",
    "df_tasks = load_task_markers(file_path)\n",
    "\n",
    "# Load the .npz file for buffer\n",
    "folder_path = 'processed_data/motor_imagery/2024-06-03_23-06-48/signal_data/'\n",
    "df_buffers = load_buffers(folder_path)\n",
    "\n",
    "# print(df_buffers)\n",
    "print(\"Reading signals and markers from signals from disk...\")\n",
    "\n",
    "df_buffers = df_buffers.sort_values('timestamps').reset_index(drop=True)\n",
    "df_tasks = df_tasks.sort_values('timestamps').reset_index(drop=True)"
   ],
   "outputs": [
    {
     "name": "stdout",
     "output_type": "stream",
     "text": [
      "Array names in the .npz file: ['event_ids', 'timestamps']\n",
      "Reading signals and markers from signals from disk...\n"
     ]
    }
   ],
   "execution_count": 54
  },
  {
   "cell_type": "code",
   "id": "aaa77562ff89e29b",
   "metadata": {
    "ExecuteTime": {
     "end_time": "2024-06-03T21:57:24.270382Z",
     "start_time": "2024-06-03T21:57:24.200081Z"
    }
   },
   "source": "df_buffers",
   "outputs": [
    {
     "data": {
      "text/plain": [
       "       buffer_col_0   buffer_col_1   buffer_col_2   buffer_col_3  \\\n",
       "0     185047.421875  168472.609375  171679.468750  187586.125000   \n",
       "1     185042.593750  168478.968750  171678.656250  187579.515625   \n",
       "2     185045.453125  168477.796875  171678.125000  187570.125000   \n",
       "3     185050.546875  168492.640625  171692.609375  187604.375000   \n",
       "4     185033.375000  168471.187500  171674.640625  187585.234375   \n",
       "...             ...            ...            ...            ...   \n",
       "4495  185019.171875  168503.546875  171780.859375  187667.765625   \n",
       "4496  185029.890625  168518.390625  171791.140625  187672.234375   \n",
       "4497  185017.921875  168511.234375  171780.765625  187658.906250   \n",
       "4498  184991.000000  168480.031250  171758.328125  187643.000000   \n",
       "4499  184981.171875  168466.890625  171748.578125  187644.156250   \n",
       "\n",
       "       buffer_col_4   buffer_col_5   buffer_col_6   buffer_col_7  \\\n",
       "0     185141.562500  165442.531250  167154.578125  162210.546875   \n",
       "1     185139.953125  165444.312500  167153.140625  162210.015625   \n",
       "2     185132.718750  165445.296875  167156.640625  162208.312500   \n",
       "3     185147.640625  165463.984375  167182.468750  162232.453125   \n",
       "4     185134.593750  165445.296875  167155.921875  162219.218750   \n",
       "...             ...            ...            ...            ...   \n",
       "4495  185112.500000  165514.765625  167167.812500  162276.984375   \n",
       "4496  185119.484375  165522.546875  167166.734375  162276.718750   \n",
       "4497  185106.250000  165510.734375  167155.203125  162248.640625   \n",
       "4498  185082.906250  165489.906250  167142.234375  162234.156250   \n",
       "4499  185072.812500  165481.687500  167143.484375  162236.296875   \n",
       "\n",
       "      buffer_col_8  buffer_col_9  buffer_col_10  buffer_col_11  buffer_col_12  \\\n",
       "0         0.084229      1.005859       0.079590      -2.044677       0.762939   \n",
       "1         0.084961      1.007080       0.081299      -1.953125       0.762939   \n",
       "2         0.085449      1.006348       0.080566      -1.953125       0.854492   \n",
       "3         0.087646      1.008545       0.078125      -2.014160       0.976562   \n",
       "4         0.089355      1.010498       0.082275      -2.044677       1.037598   \n",
       "...            ...           ...            ...            ...            ...   \n",
       "4495      0.059326      1.008301       0.031494      -1.617432       0.274658   \n",
       "4496      0.060059      1.006592       0.031738      -1.647949       0.305176   \n",
       "4497      0.060303      1.007324       0.030762      -1.708984       0.335693   \n",
       "4498      0.059326      1.010498       0.031738      -1.770019       0.396728   \n",
       "4499      0.058838      1.008545       0.030029      -1.739502       0.427246   \n",
       "\n",
       "      buffer_col_13  buffer_col_14  buffer_col_15  buffer_col_16  \\\n",
       "0          0.152588      73.333336       882555.0            1.0   \n",
       "1          0.152588      73.333336       882556.0            1.0   \n",
       "2          0.152588      73.333336       882557.0            1.0   \n",
       "3          0.183105      73.333336       882558.0            1.0   \n",
       "4          0.305176      73.333336       882559.0            1.0   \n",
       "...             ...            ...            ...            ...   \n",
       "4495       0.610352      73.333336       887050.0            1.0   \n",
       "4496       0.732422      73.333336       887051.0            1.0   \n",
       "4497       0.915527      73.333336       887052.0            1.0   \n",
       "4498       1.037598      73.333336       887053.0            1.0   \n",
       "4499       1.098633      73.333336       887054.0            1.0   \n",
       "\n",
       "         timestamps  part_number  \n",
       "0     798744.985622            1  \n",
       "1     798744.994032            1  \n",
       "2     798745.020288            1  \n",
       "3     798745.037884            1  \n",
       "4     798745.040371            1  \n",
       "...             ...          ...  \n",
       "4495  798762.889745            9  \n",
       "4496  798762.889771            9  \n",
       "4497  798762.889777            9  \n",
       "4498  798762.889781            9  \n",
       "4499  798762.889787            9  \n",
       "\n",
       "[4500 rows x 19 columns]"
      ],
      "text/html": [
       "<div>\n",
       "<style scoped>\n",
       "    .dataframe tbody tr th:only-of-type {\n",
       "        vertical-align: middle;\n",
       "    }\n",
       "\n",
       "    .dataframe tbody tr th {\n",
       "        vertical-align: top;\n",
       "    }\n",
       "\n",
       "    .dataframe thead th {\n",
       "        text-align: right;\n",
       "    }\n",
       "</style>\n",
       "<table border=\"1\" class=\"dataframe\">\n",
       "  <thead>\n",
       "    <tr style=\"text-align: right;\">\n",
       "      <th></th>\n",
       "      <th>buffer_col_0</th>\n",
       "      <th>buffer_col_1</th>\n",
       "      <th>buffer_col_2</th>\n",
       "      <th>buffer_col_3</th>\n",
       "      <th>buffer_col_4</th>\n",
       "      <th>buffer_col_5</th>\n",
       "      <th>buffer_col_6</th>\n",
       "      <th>buffer_col_7</th>\n",
       "      <th>buffer_col_8</th>\n",
       "      <th>buffer_col_9</th>\n",
       "      <th>buffer_col_10</th>\n",
       "      <th>buffer_col_11</th>\n",
       "      <th>buffer_col_12</th>\n",
       "      <th>buffer_col_13</th>\n",
       "      <th>buffer_col_14</th>\n",
       "      <th>buffer_col_15</th>\n",
       "      <th>buffer_col_16</th>\n",
       "      <th>timestamps</th>\n",
       "      <th>part_number</th>\n",
       "    </tr>\n",
       "  </thead>\n",
       "  <tbody>\n",
       "    <tr>\n",
       "      <th>0</th>\n",
       "      <td>185047.421875</td>\n",
       "      <td>168472.609375</td>\n",
       "      <td>171679.468750</td>\n",
       "      <td>187586.125000</td>\n",
       "      <td>185141.562500</td>\n",
       "      <td>165442.531250</td>\n",
       "      <td>167154.578125</td>\n",
       "      <td>162210.546875</td>\n",
       "      <td>0.084229</td>\n",
       "      <td>1.005859</td>\n",
       "      <td>0.079590</td>\n",
       "      <td>-2.044677</td>\n",
       "      <td>0.762939</td>\n",
       "      <td>0.152588</td>\n",
       "      <td>73.333336</td>\n",
       "      <td>882555.0</td>\n",
       "      <td>1.0</td>\n",
       "      <td>798744.985622</td>\n",
       "      <td>1</td>\n",
       "    </tr>\n",
       "    <tr>\n",
       "      <th>1</th>\n",
       "      <td>185042.593750</td>\n",
       "      <td>168478.968750</td>\n",
       "      <td>171678.656250</td>\n",
       "      <td>187579.515625</td>\n",
       "      <td>185139.953125</td>\n",
       "      <td>165444.312500</td>\n",
       "      <td>167153.140625</td>\n",
       "      <td>162210.015625</td>\n",
       "      <td>0.084961</td>\n",
       "      <td>1.007080</td>\n",
       "      <td>0.081299</td>\n",
       "      <td>-1.953125</td>\n",
       "      <td>0.762939</td>\n",
       "      <td>0.152588</td>\n",
       "      <td>73.333336</td>\n",
       "      <td>882556.0</td>\n",
       "      <td>1.0</td>\n",
       "      <td>798744.994032</td>\n",
       "      <td>1</td>\n",
       "    </tr>\n",
       "    <tr>\n",
       "      <th>2</th>\n",
       "      <td>185045.453125</td>\n",
       "      <td>168477.796875</td>\n",
       "      <td>171678.125000</td>\n",
       "      <td>187570.125000</td>\n",
       "      <td>185132.718750</td>\n",
       "      <td>165445.296875</td>\n",
       "      <td>167156.640625</td>\n",
       "      <td>162208.312500</td>\n",
       "      <td>0.085449</td>\n",
       "      <td>1.006348</td>\n",
       "      <td>0.080566</td>\n",
       "      <td>-1.953125</td>\n",
       "      <td>0.854492</td>\n",
       "      <td>0.152588</td>\n",
       "      <td>73.333336</td>\n",
       "      <td>882557.0</td>\n",
       "      <td>1.0</td>\n",
       "      <td>798745.020288</td>\n",
       "      <td>1</td>\n",
       "    </tr>\n",
       "    <tr>\n",
       "      <th>3</th>\n",
       "      <td>185050.546875</td>\n",
       "      <td>168492.640625</td>\n",
       "      <td>171692.609375</td>\n",
       "      <td>187604.375000</td>\n",
       "      <td>185147.640625</td>\n",
       "      <td>165463.984375</td>\n",
       "      <td>167182.468750</td>\n",
       "      <td>162232.453125</td>\n",
       "      <td>0.087646</td>\n",
       "      <td>1.008545</td>\n",
       "      <td>0.078125</td>\n",
       "      <td>-2.014160</td>\n",
       "      <td>0.976562</td>\n",
       "      <td>0.183105</td>\n",
       "      <td>73.333336</td>\n",
       "      <td>882558.0</td>\n",
       "      <td>1.0</td>\n",
       "      <td>798745.037884</td>\n",
       "      <td>1</td>\n",
       "    </tr>\n",
       "    <tr>\n",
       "      <th>4</th>\n",
       "      <td>185033.375000</td>\n",
       "      <td>168471.187500</td>\n",
       "      <td>171674.640625</td>\n",
       "      <td>187585.234375</td>\n",
       "      <td>185134.593750</td>\n",
       "      <td>165445.296875</td>\n",
       "      <td>167155.921875</td>\n",
       "      <td>162219.218750</td>\n",
       "      <td>0.089355</td>\n",
       "      <td>1.010498</td>\n",
       "      <td>0.082275</td>\n",
       "      <td>-2.044677</td>\n",
       "      <td>1.037598</td>\n",
       "      <td>0.305176</td>\n",
       "      <td>73.333336</td>\n",
       "      <td>882559.0</td>\n",
       "      <td>1.0</td>\n",
       "      <td>798745.040371</td>\n",
       "      <td>1</td>\n",
       "    </tr>\n",
       "    <tr>\n",
       "      <th>...</th>\n",
       "      <td>...</td>\n",
       "      <td>...</td>\n",
       "      <td>...</td>\n",
       "      <td>...</td>\n",
       "      <td>...</td>\n",
       "      <td>...</td>\n",
       "      <td>...</td>\n",
       "      <td>...</td>\n",
       "      <td>...</td>\n",
       "      <td>...</td>\n",
       "      <td>...</td>\n",
       "      <td>...</td>\n",
       "      <td>...</td>\n",
       "      <td>...</td>\n",
       "      <td>...</td>\n",
       "      <td>...</td>\n",
       "      <td>...</td>\n",
       "      <td>...</td>\n",
       "      <td>...</td>\n",
       "    </tr>\n",
       "    <tr>\n",
       "      <th>4495</th>\n",
       "      <td>185019.171875</td>\n",
       "      <td>168503.546875</td>\n",
       "      <td>171780.859375</td>\n",
       "      <td>187667.765625</td>\n",
       "      <td>185112.500000</td>\n",
       "      <td>165514.765625</td>\n",
       "      <td>167167.812500</td>\n",
       "      <td>162276.984375</td>\n",
       "      <td>0.059326</td>\n",
       "      <td>1.008301</td>\n",
       "      <td>0.031494</td>\n",
       "      <td>-1.617432</td>\n",
       "      <td>0.274658</td>\n",
       "      <td>0.610352</td>\n",
       "      <td>73.333336</td>\n",
       "      <td>887050.0</td>\n",
       "      <td>1.0</td>\n",
       "      <td>798762.889745</td>\n",
       "      <td>9</td>\n",
       "    </tr>\n",
       "    <tr>\n",
       "      <th>4496</th>\n",
       "      <td>185029.890625</td>\n",
       "      <td>168518.390625</td>\n",
       "      <td>171791.140625</td>\n",
       "      <td>187672.234375</td>\n",
       "      <td>185119.484375</td>\n",
       "      <td>165522.546875</td>\n",
       "      <td>167166.734375</td>\n",
       "      <td>162276.718750</td>\n",
       "      <td>0.060059</td>\n",
       "      <td>1.006592</td>\n",
       "      <td>0.031738</td>\n",
       "      <td>-1.647949</td>\n",
       "      <td>0.305176</td>\n",
       "      <td>0.732422</td>\n",
       "      <td>73.333336</td>\n",
       "      <td>887051.0</td>\n",
       "      <td>1.0</td>\n",
       "      <td>798762.889771</td>\n",
       "      <td>9</td>\n",
       "    </tr>\n",
       "    <tr>\n",
       "      <th>4497</th>\n",
       "      <td>185017.921875</td>\n",
       "      <td>168511.234375</td>\n",
       "      <td>171780.765625</td>\n",
       "      <td>187658.906250</td>\n",
       "      <td>185106.250000</td>\n",
       "      <td>165510.734375</td>\n",
       "      <td>167155.203125</td>\n",
       "      <td>162248.640625</td>\n",
       "      <td>0.060303</td>\n",
       "      <td>1.007324</td>\n",
       "      <td>0.030762</td>\n",
       "      <td>-1.708984</td>\n",
       "      <td>0.335693</td>\n",
       "      <td>0.915527</td>\n",
       "      <td>73.333336</td>\n",
       "      <td>887052.0</td>\n",
       "      <td>1.0</td>\n",
       "      <td>798762.889777</td>\n",
       "      <td>9</td>\n",
       "    </tr>\n",
       "    <tr>\n",
       "      <th>4498</th>\n",
       "      <td>184991.000000</td>\n",
       "      <td>168480.031250</td>\n",
       "      <td>171758.328125</td>\n",
       "      <td>187643.000000</td>\n",
       "      <td>185082.906250</td>\n",
       "      <td>165489.906250</td>\n",
       "      <td>167142.234375</td>\n",
       "      <td>162234.156250</td>\n",
       "      <td>0.059326</td>\n",
       "      <td>1.010498</td>\n",
       "      <td>0.031738</td>\n",
       "      <td>-1.770019</td>\n",
       "      <td>0.396728</td>\n",
       "      <td>1.037598</td>\n",
       "      <td>73.333336</td>\n",
       "      <td>887053.0</td>\n",
       "      <td>1.0</td>\n",
       "      <td>798762.889781</td>\n",
       "      <td>9</td>\n",
       "    </tr>\n",
       "    <tr>\n",
       "      <th>4499</th>\n",
       "      <td>184981.171875</td>\n",
       "      <td>168466.890625</td>\n",
       "      <td>171748.578125</td>\n",
       "      <td>187644.156250</td>\n",
       "      <td>185072.812500</td>\n",
       "      <td>165481.687500</td>\n",
       "      <td>167143.484375</td>\n",
       "      <td>162236.296875</td>\n",
       "      <td>0.058838</td>\n",
       "      <td>1.008545</td>\n",
       "      <td>0.030029</td>\n",
       "      <td>-1.739502</td>\n",
       "      <td>0.427246</td>\n",
       "      <td>1.098633</td>\n",
       "      <td>73.333336</td>\n",
       "      <td>887054.0</td>\n",
       "      <td>1.0</td>\n",
       "      <td>798762.889787</td>\n",
       "      <td>9</td>\n",
       "    </tr>\n",
       "  </tbody>\n",
       "</table>\n",
       "<p>4500 rows × 19 columns</p>\n",
       "</div>"
      ]
     },
     "execution_count": 55,
     "metadata": {},
     "output_type": "execute_result"
    }
   ],
   "execution_count": 55
  },
  {
   "cell_type": "code",
   "id": "f1137cda0ce2f40d",
   "metadata": {
    "ExecuteTime": {
     "end_time": "2024-06-03T21:57:24.307776Z",
     "start_time": "2024-06-03T21:57:24.274614Z"
    }
   },
   "source": [
    "df_buffers_raw = df_buffers.iloc[:,:config.device_details['relevant_channels_from_device']] \n",
    "df_buffers_raw = df_buffers_raw * 1e-6\n",
    "\n",
    "channel_names = config.device_details['channels']\n",
    "df_buffers_raw.columns = channel_names"
   ],
   "outputs": [],
   "execution_count": 56
  },
  {
   "metadata": {
    "ExecuteTime": {
     "end_time": "2024-06-03T21:57:24.332520Z",
     "start_time": "2024-06-03T21:57:24.312542Z"
    }
   },
   "cell_type": "code",
   "source": "# df_buffers_raw",
   "id": "a7f430aefb41f02d",
   "outputs": [],
   "execution_count": 57
  },
  {
   "cell_type": "code",
   "id": "d49f000c245897c7",
   "metadata": {
    "ExecuteTime": {
     "end_time": "2024-06-03T21:57:24.514405Z",
     "start_time": "2024-06-03T21:57:24.343837Z"
    }
   },
   "source": [
    "# df_buffers_raw\n",
    "info = mne.create_info(\n",
    "        ch_names=channel_names,\n",
    "        sfreq=config.device_details['sfreq'],  # Assuming the data is sampled at 1 Hz; adjust as necessary\n",
    "        # change this for different electrode configuration\n",
    "        ch_types=['eeg'] * len(channel_names))\n",
    "\n",
    "raw = mne.io.RawArray(df_buffers_raw[channel_names].values.T, info)\n",
    "raw.info"
   ],
   "outputs": [
    {
     "name": "stdout",
     "output_type": "stream",
     "text": [
      "Creating RawArray with float64 data, n_channels=8, n_times=4500\n",
      "    Range : 0 ... 4499 =      0.000 ...    17.996 secs\n",
      "Ready.\n"
     ]
    },
    {
     "data": {
      "text/plain": [
       "<Info | 7 non-empty values\n",
       " bads: []\n",
       " ch_names: Fz, C3, Cz, C4, Pz, PO7, Oz, PO8\n",
       " chs: 8 EEG\n",
       " custom_ref_applied: False\n",
       " highpass: 0.0 Hz\n",
       " lowpass: 125.0 Hz\n",
       " meas_date: unspecified\n",
       " nchan: 8\n",
       " projs: []\n",
       " sfreq: 250.0 Hz\n",
       ">"
      ],
      "text/html": [
       "<details open>\n",
       "    <summary><strong>General</strong></summary>\n",
       "    <table class=\"table table-hover table-striped table-sm table-responsive small\">\n",
       "        <tr>\n",
       "            <th>Measurement date</th>\n",
       "            \n",
       "            <td>Unknown</td>\n",
       "            \n",
       "        </tr>\n",
       "        <tr>\n",
       "            <th>Experimenter</th>\n",
       "            \n",
       "            <td>Unknown</td>\n",
       "            \n",
       "        </tr>\n",
       "        <tr>\n",
       "            <th>Participant</th>\n",
       "            \n",
       "            <td>Unknown</td>\n",
       "            \n",
       "        </tr>\n",
       "    </table>\n",
       "    </details>\n",
       "    <details open>\n",
       "        <summary><strong>Channels</strong></summary>\n",
       "        <table class=\"table table-hover table-striped table-sm table-responsive small\">\n",
       "            <tr>\n",
       "                <th>Digitized points</th>\n",
       "                \n",
       "                <td>Not available</td>\n",
       "                \n",
       "            </tr>\n",
       "            <tr>\n",
       "                <th>Good channels</th>\n",
       "                <td>8 EEG</td>\n",
       "            </tr>\n",
       "            <tr>\n",
       "                <th>Bad channels</th>\n",
       "                <td>None</td>\n",
       "            </tr>\n",
       "            <tr>\n",
       "                <th>EOG channels</th>\n",
       "                <td>Not available</td>\n",
       "            </tr>\n",
       "            <tr>\n",
       "                <th>ECG channels</th>\n",
       "                <td>Not available</td>\n",
       "            </tr>\n",
       "        </table>\n",
       "        </details>\n",
       "        <details open>\n",
       "            <summary><strong>Data</strong></summary>\n",
       "            <table class=\"table table-hover table-striped table-sm table-responsive small\">\n",
       "                \n",
       "                <tr>\n",
       "                    <th>Sampling frequency</th>\n",
       "                    <td>250.00 Hz</td>\n",
       "                </tr>\n",
       "                \n",
       "                \n",
       "                <tr>\n",
       "                    <th>Highpass</th>\n",
       "                    <td>0.00 Hz</td>\n",
       "                </tr>\n",
       "                \n",
       "                \n",
       "                <tr>\n",
       "                    <th>Lowpass</th>\n",
       "                    <td>125.00 Hz</td>\n",
       "                </tr>\n",
       "                \n",
       "                \n",
       "                \n",
       "                \n",
       "            </table>\n",
       "            </details>"
      ]
     },
     "execution_count": 58,
     "metadata": {},
     "output_type": "execute_result"
    }
   ],
   "execution_count": 58
  },
  {
   "metadata": {
    "ExecuteTime": {
     "end_time": "2024-06-03T21:57:24.546362Z",
     "start_time": "2024-06-03T21:57:24.518916Z"
    }
   },
   "cell_type": "code",
   "source": "# raw.info[]",
   "id": "9724bf7bf8d8a42a",
   "outputs": [],
   "execution_count": 59
  },
  {
   "cell_type": "code",
   "id": "a77e9cfd6b8d963b",
   "metadata": {
    "ExecuteTime": {
     "end_time": "2024-06-03T21:57:24.613091Z",
     "start_time": "2024-06-03T21:57:24.546362Z"
    }
   },
   "source": [
    "df_markers = df_tasks[df_tasks['event_ids'].isin([1,2,3,4,99,100])]\n",
    "\n",
    "markers_map = {\n",
    "            1 :'left_start',\n",
    "            2: 'left_end',\n",
    "            3:'right_start',\n",
    "            4:'right_end',\n",
    "            99:'rest_start',\n",
    "            100:'rest_end'\n",
    "}"
   ],
   "outputs": [],
   "execution_count": 60
  },
  {
   "cell_type": "code",
   "id": "dc56a03a4e5a024a",
   "metadata": {
    "ExecuteTime": {
     "end_time": "2024-06-03T21:57:24.822314Z",
     "start_time": "2024-06-03T21:57:24.794207Z"
    }
   },
   "source": [
    "# Initialize lists for onsets, durations, and descriptions\n",
    "onsets = []\n",
    "durations = []\n",
    "descriptions = []\n",
    "\n",
    "# Create a dictionary to keep track of start times\n",
    "start_times = {}\n",
    "\n",
    "# Iterate over the DataFrame rows\n",
    "for index, row in df_markers.iterrows():\n",
    "    event_id = row['event_ids']\n",
    "    timestamp = row['timestamps']\n",
    "\n",
    "    if event_id in markers_map:\n",
    "        description = markers_map[event_id]\n",
    "\n",
    "        # Check if it is a start event\n",
    "        if 'start' in description:\n",
    "            # Store the start time\n",
    "            start_times[description.split('_')[0]] = timestamp\n",
    "        elif 'end' in description:\n",
    "            # Determine the corresponding start event type\n",
    "            event_type = description.split('_')[0]  # e.g., 'left', 'right', 'rest'\n",
    "            \n",
    "            if event_type in start_times:\n",
    "                start_time = start_times[event_type]\n",
    "                duration = timestamp - start_time\n",
    "                \n",
    "                # Append to lists\n",
    "                onsets.append(start_time)\n",
    "                durations.append(duration)\n",
    "                descriptions.append(event_type.upper())\n",
    "                # Remove the start time to avoid re-use\n",
    "                del start_times[event_type]\n",
    "\n",
    "# Print the results\n",
    "print(\"Onsets:\", onsets)\n",
    "print(\"Durations:\", durations)\n",
    "print(\"Descriptions:\", descriptions)"
   ],
   "outputs": [
    {
     "name": "stdout",
     "output_type": "stream",
     "text": [
      "Onsets: [798748.4617925, 798749.9788523, 798750.9796971, 798752.4966845, 798753.4970169, 798755.0117317, 798756.0121996, 798757.5288155, 798758.5291229, 798760.0436031, 798761.043884, 798762.5606337]\n",
      "Durations: [1.5169757000403479, 1.0008222999749705, 1.5169044999638572, 1.0003105000359938, 1.5146339000202715, 1.0003955999854952, 1.516470600035973, 1.0002831000601873, 1.5143995999824256, 1.0002563999732956, 1.5166347000049427, 1.0003178999759257]\n",
      "Descriptions: ['LEFT', 'REST', 'RIGHT', 'REST', 'LEFT', 'REST', 'RIGHT', 'REST', 'LEFT', 'REST', 'RIGHT', 'REST']\n"
     ]
    }
   ],
   "execution_count": 61
  },
  {
   "metadata": {
    "ExecuteTime": {
     "end_time": "2024-06-03T21:57:25.315447Z",
     "start_time": "2024-06-03T21:57:25.304173Z"
    }
   },
   "cell_type": "code",
   "source": "onsets = onsets - df_buffers['timestamps'][0]",
   "id": "42586597040d0a99",
   "outputs": [],
   "execution_count": 62
  },
  {
   "metadata": {
    "ExecuteTime": {
     "end_time": "2024-06-03T21:57:25.584185Z",
     "start_time": "2024-06-03T21:57:25.559753Z"
    }
   },
   "cell_type": "code",
   "source": "onsets",
   "id": "82c9abba09c4e5a2",
   "outputs": [
    {
     "data": {
      "text/plain": [
       "array([ 3.4761705,  4.9932303,  5.9940751,  7.5110625,  8.5113949,\n",
       "       10.0261097, 11.0265776, 12.5431935, 13.5435009, 15.0579811,\n",
       "       16.058262 , 17.5750117])"
      ]
     },
     "execution_count": 63,
     "metadata": {},
     "output_type": "execute_result"
    }
   ],
   "execution_count": 63
  },
  {
   "cell_type": "code",
   "id": "83394cb2c0ca440f",
   "metadata": {
    "ExecuteTime": {
     "end_time": "2024-06-03T21:57:25.763227Z",
     "start_time": "2024-06-03T21:57:25.706708Z"
    }
   },
   "source": [
    "raw_annot = mne.Annotations(onset=onsets, duration=durations, orig_time= None,description=descriptions)\n",
    "print(raw_annot)\n",
    "raw.set_annotations(raw_annot)\n",
    "\n",
    "raw.set_montage('easycap-M1')"
   ],
   "outputs": [
    {
     "name": "stdout",
     "output_type": "stream",
     "text": [
      "<Annotations | 12 segments: LEFT (3), REST (6), RIGHT (3)>\n"
     ]
    },
    {
     "name": "stderr",
     "output_type": "stream",
     "text": [
      "C:\\Users\\iamth\\AppData\\Local\\Temp\\ipykernel_4732\\3743205479.py:3: RuntimeWarning: Limited 1 annotation(s) that were expanding outside the data range.\n",
      "  raw.set_annotations(raw_annot)\n"
     ]
    },
    {
     "data": {
      "text/plain": [
       "<RawArray | 8 x 4500 (18.0 s), ~299 kB, data loaded>"
      ],
      "text/html": [
       "<details open>\n",
       "    <summary><strong>General</strong></summary>\n",
       "    <table class=\"table table-hover table-striped table-sm table-responsive small\">\n",
       "        <tr>\n",
       "            <th>Measurement date</th>\n",
       "            \n",
       "            <td>Unknown</td>\n",
       "            \n",
       "        </tr>\n",
       "        <tr>\n",
       "            <th>Experimenter</th>\n",
       "            \n",
       "            <td>Unknown</td>\n",
       "            \n",
       "        </tr>\n",
       "        <tr>\n",
       "            <th>Participant</th>\n",
       "            \n",
       "            <td>Unknown</td>\n",
       "            \n",
       "        </tr>\n",
       "    </table>\n",
       "    </details>\n",
       "    <details open>\n",
       "        <summary><strong>Channels</strong></summary>\n",
       "        <table class=\"table table-hover table-striped table-sm table-responsive small\">\n",
       "            <tr>\n",
       "                <th>Digitized points</th>\n",
       "                \n",
       "                <td>11 points</td>\n",
       "                \n",
       "            </tr>\n",
       "            <tr>\n",
       "                <th>Good channels</th>\n",
       "                <td>8 EEG</td>\n",
       "            </tr>\n",
       "            <tr>\n",
       "                <th>Bad channels</th>\n",
       "                <td>None</td>\n",
       "            </tr>\n",
       "            <tr>\n",
       "                <th>EOG channels</th>\n",
       "                <td>Not available</td>\n",
       "            </tr>\n",
       "            <tr>\n",
       "                <th>ECG channels</th>\n",
       "                <td>Not available</td>\n",
       "            </tr>\n",
       "        </table>\n",
       "        </details>\n",
       "        <details open>\n",
       "            <summary><strong>Data</strong></summary>\n",
       "            <table class=\"table table-hover table-striped table-sm table-responsive small\">\n",
       "                \n",
       "                <tr>\n",
       "                    <th>Sampling frequency</th>\n",
       "                    <td>250.00 Hz</td>\n",
       "                </tr>\n",
       "                \n",
       "                \n",
       "                <tr>\n",
       "                    <th>Highpass</th>\n",
       "                    <td>0.00 Hz</td>\n",
       "                </tr>\n",
       "                \n",
       "                \n",
       "                <tr>\n",
       "                    <th>Lowpass</th>\n",
       "                    <td>125.00 Hz</td>\n",
       "                </tr>\n",
       "                \n",
       "                \n",
       "                \n",
       "                \n",
       "                <tr>\n",
       "                    <th>Duration</th>\n",
       "                    <td>00:00:18 (HH:MM:SS)</td>\n",
       "                </tr>\n",
       "                \n",
       "            </table>\n",
       "            </details>"
      ]
     },
     "execution_count": 64,
     "metadata": {},
     "output_type": "execute_result"
    }
   ],
   "execution_count": 64
  },
  {
   "metadata": {
    "ExecuteTime": {
     "end_time": "2024-06-03T21:57:25.875386Z",
     "start_time": "2024-06-03T21:57:25.843218Z"
    }
   },
   "cell_type": "code",
   "source": "raw_events, raw_events_mapping = mne.events_from_annotations(raw)",
   "id": "eaaa99026d1077f5",
   "outputs": [
    {
     "name": "stdout",
     "output_type": "stream",
     "text": [
      "Used Annotations descriptions: ['LEFT', 'REST', 'RIGHT']\n"
     ]
    }
   ],
   "execution_count": 65
  },
  {
   "metadata": {
    "ExecuteTime": {
     "end_time": "2024-06-03T21:57:26.032114Z",
     "start_time": "2024-06-03T21:57:26.015516Z"
    }
   },
   "cell_type": "code",
   "source": "# raw_events",
   "id": "bcb0fd99a4746868",
   "outputs": [],
   "execution_count": 66
  },
  {
   "metadata": {
    "ExecuteTime": {
     "end_time": "2024-06-03T21:57:26.568250Z",
     "start_time": "2024-06-03T21:57:26.135960Z"
    }
   },
   "cell_type": "code",
   "source": [
    "fig = mne.viz.plot_events(\n",
    "    raw_events, sfreq=raw.info[\"sfreq\"], first_samp=raw.first_samp, event_id=raw_events_mapping\n",
    ")"
   ],
   "id": "6f19201874c8f580",
   "outputs": [],
   "execution_count": 67
  },
  {
   "metadata": {
    "ExecuteTime": {
     "end_time": "2024-06-03T21:57:26.584795Z",
     "start_time": "2024-06-03T21:57:26.568250Z"
    }
   },
   "cell_type": "code",
   "source": "# raw.get_data()",
   "id": "738a9930f2fd66f0",
   "outputs": [],
   "execution_count": 68
  },
  {
   "metadata": {
    "ExecuteTime": {
     "end_time": "2024-06-03T21:57:27.094129Z",
     "start_time": "2024-06-03T21:57:26.585454Z"
    }
   },
   "cell_type": "code",
   "source": [
    "spectrum = raw.compute_psd()\n",
    "spectrum.plot(average=True, picks=\"data\", exclude=\"bads\", amplitude=False)"
   ],
   "id": "d404d7ec4fc1d275",
   "outputs": [
    {
     "name": "stdout",
     "output_type": "stream",
     "text": [
      "Effective window size : 8.192 (s)\n",
      "Plotting power spectral density (dB=True).\n"
     ]
    },
    {
     "data": {
      "text/plain": [
       "<MNELineFigure size 1250x437.5 with 1 Axes>"
      ],
      "image/png": "[encoded data removed]"
     },
     "execution_count": 69,
     "metadata": {},
     "output_type": "execute_result"
    }
   ],
   "execution_count": 69
  },
  {
   "cell_type": "code",
   "id": "121cabb543ac8060",
   "metadata": {
    "ExecuteTime": {
     "end_time": "2024-06-03T21:57:27.231239Z",
     "start_time": "2024-06-03T21:57:27.223234Z"
    }
   },
   "source": "# raw.plot(block=True)",
   "outputs": [],
   "execution_count": 70
  },
  {
   "cell_type": "code",
   "id": "2370fd9337d6b6fc",
   "metadata": {
    "ExecuteTime": {
     "end_time": "2024-06-03T21:57:27.247477Z",
     "start_time": "2024-06-03T21:57:27.233410Z"
    }
   },
   "source": [
    "# midline = [\"EEG 002\", \"EEG 012\", \"EEG 030\", \"EEG 048\", \"EEG 058\", \"EEG 060\"]\n",
    "# spectrum.plot(picks=\"all\", exclude=\"bads\", amplitude=False)"
   ],
   "outputs": [],
   "execution_count": 71
  },
  {
   "metadata": {
    "ExecuteTime": {
     "end_time": "2024-06-03T21:57:29.030658Z",
     "start_time": "2024-06-03T21:57:27.247477Z"
    }
   },
   "cell_type": "code",
   "source": "spectrum.plot_topomap()",
   "id": "368a52bab43da0bb",
   "outputs": [
    {
     "data": {
      "text/plain": [
       "<Figure size 1250x187.5 with 10 Axes>"
      ],
      "image/png": "[encoded data removed]"
     },
     "execution_count": 72,
     "metadata": {},
     "output_type": "execute_result"
    }
   ],
   "execution_count": 72
  },
  {
   "metadata": {
    "ExecuteTime": {
     "end_time": "2024-06-03T21:57:29.047466Z",
     "start_time": "2024-06-03T21:57:29.031787Z"
    }
   },
   "cell_type": "code",
   "source": "# spectrum.plot_topo()",
   "id": "a76080d3fdc71814",
   "outputs": [],
   "execution_count": 73
  },
  {
   "metadata": {
    "ExecuteTime": {
     "end_time": "2024-06-03T21:57:29.063723Z",
     "start_time": "2024-06-03T21:57:29.047466Z"
    }
   },
   "cell_type": "code",
   "source": "# raw.plot_sensors(ch_type=\"eeg\")",
   "id": "b9cd30b277478390",
   "outputs": [],
   "execution_count": 74
  },
  {
   "metadata": {
    "ExecuteTime": {
     "end_time": "2024-06-03T21:57:29.078119Z",
     "start_time": "2024-06-03T21:57:29.063723Z"
    }
   },
   "cell_type": "code",
   "source": "# raw.plot_projs_topomap(colorbar=True)",
   "id": "48da5494474c9040",
   "outputs": [],
   "execution_count": 75
  },
  {
   "metadata": {
    "ExecuteTime": {
     "end_time": "2024-06-03T21:57:29.113774Z",
     "start_time": "2024-06-03T21:57:29.079349Z"
    }
   },
   "cell_type": "code",
   "source": [
    "epochs = mne.Epochs(raw, raw_events, raw_events_mapping, tmin=-0.1, tmax=1.5,\n",
    "                    baseline=(None, 0), preload=True)"
   ],
   "id": "b302dfdf75c09a6f",
   "outputs": [
    {
     "name": "stdout",
     "output_type": "stream",
     "text": [
      "Not setting metadata\n",
      "12 matching events found\n",
      "Setting baseline interval to [-0.1, 0.0] s\n",
      "Applying baseline correction (mode: mean)\n",
      "0 projection items activated\n",
      "Using data from preloaded Raw for 12 events and 401 original time points ...\n",
      "1 bad epochs dropped\n"
     ]
    }
   ],
   "execution_count": 76
  },
  {
   "metadata": {
    "ExecuteTime": {
     "end_time": "2024-06-03T21:57:29.130133Z",
     "start_time": "2024-06-03T21:57:29.113774Z"
    }
   },
   "cell_type": "code",
   "source": "# epochs['LEFT']",
   "id": "8decbfe7a10a17b5",
   "outputs": [],
   "execution_count": 77
  },
  {
   "metadata": {
    "ExecuteTime": {
     "end_time": "2024-06-03T21:57:29.160139Z",
     "start_time": "2024-06-03T21:57:29.130383Z"
    }
   },
   "cell_type": "code",
   "source": [
    "ev_left = epochs['LEFT'].average()\n",
    "ev_right = epochs['RIGHT'].average()"
   ],
   "id": "84f869053cd1f8af",
   "outputs": [],
   "execution_count": 78
  },
  {
   "metadata": {
    "ExecuteTime": {
     "end_time": "2024-06-03T21:57:30.660173Z",
     "start_time": "2024-06-03T21:57:29.160627Z"
    }
   },
   "cell_type": "code",
   "source": [
    "f, axs = plt.subplots(1, 2, figsize=(10, 5))\n",
    "_ = f.suptitle('Left / Right Imagery', fontsize=20)\n",
    "_ = ev_left.plot(axes=axs[0], show=True, time_unit='s')\n",
    "_ = ev_right.plot(axes=axs[1], show=False, time_unit='s')\n",
    "\n",
    "plt.show()\n",
    "# plt.tight_layout()"
   ],
   "id": "a7cf40c4224914d0",
   "outputs": [],
   "execution_count": 79
  },
  {
   "metadata": {
    "ExecuteTime": {
     "end_time": "2024-06-03T21:57:30.675101Z",
     "start_time": "2024-06-03T21:57:30.660264Z"
    }
   },
   "cell_type": "code",
   "source": [
    "X = epochs.get_data(copy=False)  # Shape: (n_epochs, n_channels, n_times)\n",
    "y = epochs.events[:, 2]  # Shape: (n_epochs,)"
   ],
   "id": "8fca25746f688a94",
   "outputs": [],
   "execution_count": 80
  },
  {
   "metadata": {
    "ExecuteTime": {
     "end_time": "2024-06-03T21:57:31.241318Z",
     "start_time": "2024-06-03T21:57:30.676068Z"
    }
   },
   "cell_type": "code",
   "source": [
    "epochs['LEFT'].plot_image()\n",
    "epochs['RIGHT'].plot_image()\n",
    "\n",
    "\n"
   ],
   "id": "d5f80c8208ddd44a",
   "outputs": [
    {
     "name": "stdout",
     "output_type": "stream",
     "text": [
      "Not setting metadata\n",
      "3 matching events found\n",
      "No baseline correction applied\n",
      "0 projection items activated\n",
      "combining channels using GFP (eeg channels)\n",
      "Not setting metadata\n",
      "3 matching events found\n",
      "No baseline correction applied\n",
      "0 projection items activated\n",
      "combining channels using GFP (eeg channels)\n"
     ]
    },
    {
     "data": {
      "text/plain": [
       "[<Figure size 800x600 with 3 Axes>]"
      ]
     },
     "execution_count": 81,
     "metadata": {},
     "output_type": "execute_result"
    }
   ],
   "execution_count": 81
  },
  {
   "metadata": {
    "ExecuteTime": {
     "end_time": "2024-06-03T21:57:32.078472Z",
     "start_time": "2024-06-03T21:57:31.241591Z"
    }
   },
   "cell_type": "code",
   "source": [
    "mne.viz.plot_epochs_image(epochs['LEFT'],title=\"Left Imagery\",colorbar=True)\n",
    "mne.viz.plot_epochs_image(epochs['RIGHT'],title=\"Right Imagery\",colorbar=True)"
   ],
   "id": "cf19f946784d7e56",
   "outputs": [
    {
     "name": "stdout",
     "output_type": "stream",
     "text": [
      "Not setting metadata\n",
      "3 matching events found\n",
      "No baseline correction applied\n",
      "0 projection items activated\n",
      "combining channels using GFP (eeg channels)\n",
      "Not setting metadata\n",
      "3 matching events found\n",
      "No baseline correction applied\n",
      "0 projection items activated\n",
      "combining channels using GFP (eeg channels)\n"
     ]
    },
    {
     "data": {
      "text/plain": [
       "[<Figure size 800x600 with 3 Axes>]"
      ]
     },
     "execution_count": 82,
     "metadata": {},
     "output_type": "execute_result"
    }
   ],
   "execution_count": 82
  },
  {
   "metadata": {
    "ExecuteTime": {
     "end_time": "2024-06-03T21:57:32.268986Z",
     "start_time": "2024-06-03T21:57:32.078747Z"
    }
   },
   "cell_type": "code",
   "source": [
    "# Reshape the data to (n_samples, n_features)\n",
    "X = X.reshape(len(X), -1)\n",
    "\n",
    "# Create and train a classifier\n",
    "clf = make_pipeline(Vectorizer(), RandomForestClassifier(n_estimators=100))\n",
    "clf.fit(X, y)"
   ],
   "id": "d0d4ab3b99359fb7",
   "outputs": [
    {
     "data": {
      "text/plain": [
       "Pipeline(steps=[('vectorizer',\n",
       "                 <mne.decoding.transformer.Vectorizer object at 0x00000133010D3F70>),\n",
       "                ('randomforestclassifier', RandomForestClassifier())])"
      ],
      "text/html": [
       "<style>#sk-container-id-1 {\n",
       "  /* Definition of color scheme common for light and dark mode */\n",
       "  --sklearn-color-text: black;\n",
       "  --sklearn-color-line: gray;\n",
       "  /* Definition of color scheme for unfitted estimators */\n",
       "  --sklearn-color-unfitted-level-0: #fff5e6;\n",
       "  --sklearn-color-unfitted-level-1: #f6e4d2;\n",
       "  --sklearn-color-unfitted-level-2: #ffe0b3;\n",
       "  --sklearn-color-unfitted-level-3: chocolate;\n",
       "  /* Definition of color scheme for fitted estimators */\n",
       "  --sklearn-color-fitted-level-0: #f0f8ff;\n",
       "  --sklearn-color-fitted-level-1: #d4ebff;\n",
       "  --sklearn-color-fitted-level-2: #b3dbfd;\n",
       "  --sklearn-color-fitted-level-3: cornflowerblue;\n",
       "\n",
       "  /* Specific color for light theme */\n",
       "  --sklearn-color-text-on-default-background: var(--sg-text-color, var(--theme-code-foreground, var(--jp-content-font-color1, black)));\n",
       "  --sklearn-color-background: var(--sg-background-color, var(--theme-background, var(--jp-layout-color0, white)));\n",
       "  --sklearn-color-border-box: var(--sg-text-color, var(--theme-code-foreground, var(--jp-content-font-color1, black)));\n",
       "  --sklearn-color-icon: #696969;\n",
       "\n",
       "  @media (prefers-color-scheme: dark) {\n",
       "    /* Redefinition of color scheme for dark theme */\n",
       "    --sklearn-color-text-on-default-background: var(--sg-text-color, var(--theme-code-foreground, var(--jp-content-font-color1, white)));\n",
       "    --sklearn-color-background: var(--sg-background-color, var(--theme-background, var(--jp-layout-color0, #111)));\n",
       "    --sklearn-color-border-box: var(--sg-text-color, var(--theme-code-foreground, var(--jp-content-font-color1, white)));\n",
       "    --sklearn-color-icon: #878787;\n",
       "  }\n",
       "}\n",
       "\n",
       "#sk-container-id-1 {\n",
       "  color: var(--sklearn-color-text);\n",
       "}\n",
       "\n",
       "#sk-container-id-1 pre {\n",
       "  padding: 0;\n",
       "}\n",
       "\n",
       "#sk-container-id-1 input.sk-hidden--visually {\n",
       "  border: 0;\n",
       "  clip: rect(1px 1px 1px 1px);\n",
       "  clip: rect(1px, 1px, 1px, 1px);\n",
       "  height: 1px;\n",
       "  margin: -1px;\n",
       "  overflow: hidden;\n",
       "  padding: 0;\n",
       "  position: absolute;\n",
       "  width: 1px;\n",
       "}\n",
       "\n",
       "#sk-container-id-1 div.sk-dashed-wrapped {\n",
       "  border: 1px dashed var(--sklearn-color-line);\n",
       "  margin: 0 0.4em 0.5em 0.4em;\n",
       "  box-sizing: border-box;\n",
       "  padding-bottom: 0.4em;\n",
       "  background-color: var(--sklearn-color-background);\n",
       "}\n",
       "\n",
       "#sk-container-id-1 div.sk-container {\n",
       "  /* jupyter's `normalize.less` sets `[hidden] { display: none; }`\n",
       "     but bootstrap.min.css set `[hidden] { display: none !important; }`\n",
       "     so we also need the `!important` here to be able to override the\n",
       "     default hidden behavior on the sphinx rendered scikit-learn.org.\n",
       "     See: https://github.com/scikit-learn/scikit-learn/issues/21755 */\n",
       "  display: inline-block !important;\n",
       "  position: relative;\n",
       "}\n",
       "\n",
       "#sk-container-id-1 div.sk-text-repr-fallback {\n",
       "  display: none;\n",
       "}\n",
       "\n",
       "div.sk-parallel-item,\n",
       "div.sk-serial,\n",
       "div.sk-item {\n",
       "  /* draw centered vertical line to link estimators */\n",
       "  background-image: linear-gradient(var(--sklearn-color-text-on-default-background), var(--sklearn-color-text-on-default-background));\n",
       "  background-size: 2px 100%;\n",
       "  background-repeat: no-repeat;\n",
       "  background-position: center center;\n",
       "}\n",
       "\n",
       "/* Parallel-specific style estimator block */\n",
       "\n",
       "#sk-container-id-1 div.sk-parallel-item::after {\n",
       "  content: \"\";\n",
       "  width: 100%;\n",
       "  border-bottom: 2px solid var(--sklearn-color-text-on-default-background);\n",
       "  flex-grow: 1;\n",
       "}\n",
       "\n",
       "#sk-container-id-1 div.sk-parallel {\n",
       "  display: flex;\n",
       "  align-items: stretch;\n",
       "  justify-content: center;\n",
       "  background-color: var(--sklearn-color-background);\n",
       "  position: relative;\n",
       "}\n",
       "\n",
       "#sk-container-id-1 div.sk-parallel-item {\n",
       "  display: flex;\n",
       "  flex-direction: column;\n",
       "}\n",
       "\n",
       "#sk-container-id-1 div.sk-parallel-item:first-child::after {\n",
       "  align-self: flex-end;\n",
       "  width: 50%;\n",
       "}\n",
       "\n",
       "#sk-container-id-1 div.sk-parallel-item:last-child::after {\n",
       "  align-self: flex-start;\n",
       "  width: 50%;\n",
       "}\n",
       "\n",
       "#sk-container-id-1 div.sk-parallel-item:only-child::after {\n",
       "  width: 0;\n",
       "}\n",
       "\n",
       "/* Serial-specific style estimator block */\n",
       "\n",
       "#sk-container-id-1 div.sk-serial {\n",
       "  display: flex;\n",
       "  flex-direction: column;\n",
       "  align-items: center;\n",
       "  background-color: var(--sklearn-color-background);\n",
       "  padding-right: 1em;\n",
       "  padding-left: 1em;\n",
       "}\n",
       "\n",
       "\n",
       "/* Toggleable style: style used for estimator/Pipeline/ColumnTransformer box that is\n",
       "clickable and can be expanded/collapsed.\n",
       "- Pipeline and ColumnTransformer use this feature and define the default style\n",
       "- Estimators will overwrite some part of the style using the `sk-estimator` class\n",
       "*/\n",
       "\n",
       "/* Pipeline and ColumnTransformer style (default) */\n",
       "\n",
       "#sk-container-id-1 div.sk-toggleable {\n",
       "  /* Default theme specific background. It is overwritten whether we have a\n",
       "  specific estimator or a Pipeline/ColumnTransformer */\n",
       "  background-color: var(--sklearn-color-background);\n",
       "}\n",
       "\n",
       "/* Toggleable label */\n",
       "#sk-container-id-1 label.sk-toggleable__label {\n",
       "  cursor: pointer;\n",
       "  display: block;\n",
       "  width: 100%;\n",
       "  margin-bottom: 0;\n",
       "  padding: 0.5em;\n",
       "  box-sizing: border-box;\n",
       "  text-align: center;\n",
       "}\n",
       "\n",
       "#sk-container-id-1 label.sk-toggleable__label-arrow:before {\n",
       "  /* Arrow on the left of the label */\n",
       "  content: \"▸\";\n",
       "  float: left;\n",
       "  margin-right: 0.25em;\n",
       "  color: var(--sklearn-color-icon);\n",
       "}\n",
       "\n",
       "#sk-container-id-1 label.sk-toggleable__label-arrow:hover:before {\n",
       "  color: var(--sklearn-color-text);\n",
       "}\n",
       "\n",
       "/* Toggleable content - dropdown */\n",
       "\n",
       "#sk-container-id-1 div.sk-toggleable__content {\n",
       "  max-height: 0;\n",
       "  max-width: 0;\n",
       "  overflow: hidden;\n",
       "  text-align: left;\n",
       "  /* unfitted */\n",
       "  background-color: var(--sklearn-color-unfitted-level-0);\n",
       "}\n",
       "\n",
       "#sk-container-id-1 div.sk-toggleable__content.fitted {\n",
       "  /* fitted */\n",
       "  background-color: var(--sklearn-color-fitted-level-0);\n",
       "}\n",
       "\n",
       "#sk-container-id-1 div.sk-toggleable__content pre {\n",
       "  margin: 0.2em;\n",
       "  border-radius: 0.25em;\n",
       "  color: var(--sklearn-color-text);\n",
       "  /* unfitted */\n",
       "  background-color: var(--sklearn-color-unfitted-level-0);\n",
       "}\n",
       "\n",
       "#sk-container-id-1 div.sk-toggleable__content.fitted pre {\n",
       "  /* unfitted */\n",
       "  background-color: var(--sklearn-color-fitted-level-0);\n",
       "}\n",
       "\n",
       "#sk-container-id-1 input.sk-toggleable__control:checked~div.sk-toggleable__content {\n",
       "  /* Expand drop-down */\n",
       "  max-height: 200px;\n",
       "  max-width: 100%;\n",
       "  overflow: auto;\n",
       "}\n",
       "\n",
       "#sk-container-id-1 input.sk-toggleable__control:checked~label.sk-toggleable__label-arrow:before {\n",
       "  content: \"▾\";\n",
       "}\n",
       "\n",
       "/* Pipeline/ColumnTransformer-specific style */\n",
       "\n",
       "#sk-container-id-1 div.sk-label input.sk-toggleable__control:checked~label.sk-toggleable__label {\n",
       "  color: var(--sklearn-color-text);\n",
       "  background-color: var(--sklearn-color-unfitted-level-2);\n",
       "}\n",
       "\n",
       "#sk-container-id-1 div.sk-label.fitted input.sk-toggleable__control:checked~label.sk-toggleable__label {\n",
       "  background-color: var(--sklearn-color-fitted-level-2);\n",
       "}\n",
       "\n",
       "/* Estimator-specific style */\n",
       "\n",
       "/* Colorize estimator box */\n",
       "#sk-container-id-1 div.sk-estimator input.sk-toggleable__control:checked~label.sk-toggleable__label {\n",
       "  /* unfitted */\n",
       "  background-color: var(--sklearn-color-unfitted-level-2);\n",
       "}\n",
       "\n",
       "#sk-container-id-1 div.sk-estimator.fitted input.sk-toggleable__control:checked~label.sk-toggleable__label {\n",
       "  /* fitted */\n",
       "  background-color: var(--sklearn-color-fitted-level-2);\n",
       "}\n",
       "\n",
       "#sk-container-id-1 div.sk-label label.sk-toggleable__label,\n",
       "#sk-container-id-1 div.sk-label label {\n",
       "  /* The background is the default theme color */\n",
       "  color: var(--sklearn-color-text-on-default-background);\n",
       "}\n",
       "\n",
       "/* On hover, darken the color of the background */\n",
       "#sk-container-id-1 div.sk-label:hover label.sk-toggleable__label {\n",
       "  color: var(--sklearn-color-text);\n",
       "  background-color: var(--sklearn-color-unfitted-level-2);\n",
       "}\n",
       "\n",
       "/* Label box, darken color on hover, fitted */\n",
       "#sk-container-id-1 div.sk-label.fitted:hover label.sk-toggleable__label.fitted {\n",
       "  color: var(--sklearn-color-text);\n",
       "  background-color: var(--sklearn-color-fitted-level-2);\n",
       "}\n",
       "\n",
       "/* Estimator label */\n",
       "\n",
       "#sk-container-id-1 div.sk-label label {\n",
       "  font-family: monospace;\n",
       "  font-weight: bold;\n",
       "  display: inline-block;\n",
       "  line-height: 1.2em;\n",
       "}\n",
       "\n",
       "#sk-container-id-1 div.sk-label-container {\n",
       "  text-align: center;\n",
       "}\n",
       "\n",
       "/* Estimator-specific */\n",
       "#sk-container-id-1 div.sk-estimator {\n",
       "  font-family: monospace;\n",
       "  border: 1px dotted var(--sklearn-color-border-box);\n",
       "  border-radius: 0.25em;\n",
       "  box-sizing: border-box;\n",
       "  margin-bottom: 0.5em;\n",
       "  /* unfitted */\n",
       "  background-color: var(--sklearn-color-unfitted-level-0);\n",
       "}\n",
       "\n",
       "#sk-container-id-1 div.sk-estimator.fitted {\n",
       "  /* fitted */\n",
       "  background-color: var(--sklearn-color-fitted-level-0);\n",
       "}\n",
       "\n",
       "/* on hover */\n",
       "#sk-container-id-1 div.sk-estimator:hover {\n",
       "  /* unfitted */\n",
       "  background-color: var(--sklearn-color-unfitted-level-2);\n",
       "}\n",
       "\n",
       "#sk-container-id-1 div.sk-estimator.fitted:hover {\n",
       "  /* fitted */\n",
       "  background-color: var(--sklearn-color-fitted-level-2);\n",
       "}\n",
       "\n",
       "/* Specification for estimator info (e.g. \"i\" and \"?\") */\n",
       "\n",
       "/* Common style for \"i\" and \"?\" */\n",
       "\n",
       ".sk-estimator-doc-link,\n",
       "a:link.sk-estimator-doc-link,\n",
       "a:visited.sk-estimator-doc-link {\n",
       "  float: right;\n",
       "  font-size: smaller;\n",
       "  line-height: 1em;\n",
       "  font-family: monospace;\n",
       "  background-color: var(--sklearn-color-background);\n",
       "  border-radius: 1em;\n",
       "  height: 1em;\n",
       "  width: 1em;\n",
       "  text-decoration: none !important;\n",
       "  margin-left: 1ex;\n",
       "  /* unfitted */\n",
       "  border: var(--sklearn-color-unfitted-level-1) 1pt solid;\n",
       "  color: var(--sklearn-color-unfitted-level-1);\n",
       "}\n",
       "\n",
       ".sk-estimator-doc-link.fitted,\n",
       "a:link.sk-estimator-doc-link.fitted,\n",
       "a:visited.sk-estimator-doc-link.fitted {\n",
       "  /* fitted */\n",
       "  border: var(--sklearn-color-fitted-level-1) 1pt solid;\n",
       "  color: var(--sklearn-color-fitted-level-1);\n",
       "}\n",
       "\n",
       "/* On hover */\n",
       "div.sk-estimator:hover .sk-estimator-doc-link:hover,\n",
       ".sk-estimator-doc-link:hover,\n",
       "div.sk-label-container:hover .sk-estimator-doc-link:hover,\n",
       ".sk-estimator-doc-link:hover {\n",
       "  /* unfitted */\n",
       "  background-color: var(--sklearn-color-unfitted-level-3);\n",
       "  color: var(--sklearn-color-background);\n",
       "  text-decoration: none;\n",
       "}\n",
       "\n",
       "div.sk-estimator.fitted:hover .sk-estimator-doc-link.fitted:hover,\n",
       ".sk-estimator-doc-link.fitted:hover,\n",
       "div.sk-label-container:hover .sk-estimator-doc-link.fitted:hover,\n",
       ".sk-estimator-doc-link.fitted:hover {\n",
       "  /* fitted */\n",
       "  background-color: var(--sklearn-color-fitted-level-3);\n",
       "  color: var(--sklearn-color-background);\n",
       "  text-decoration: none;\n",
       "}\n",
       "\n",
       "/* Span, style for the box shown on hovering the info icon */\n",
       ".sk-estimator-doc-link span {\n",
       "  display: none;\n",
       "  z-index: 9999;\n",
       "  position: relative;\n",
       "  font-weight: normal;\n",
       "  right: .2ex;\n",
       "  padding: .5ex;\n",
       "  margin: .5ex;\n",
       "  width: min-content;\n",
       "  min-width: 20ex;\n",
       "  max-width: 50ex;\n",
       "  color: var(--sklearn-color-text);\n",
       "  box-shadow: 2pt 2pt 4pt #999;\n",
       "  /* unfitted */\n",
       "  background: var(--sklearn-color-unfitted-level-0);\n",
       "  border: .5pt solid var(--sklearn-color-unfitted-level-3);\n",
       "}\n",
       "\n",
       ".sk-estimator-doc-link.fitted span {\n",
       "  /* fitted */\n",
       "  background: var(--sklearn-color-fitted-level-0);\n",
       "  border: var(--sklearn-color-fitted-level-3);\n",
       "}\n",
       "\n",
       ".sk-estimator-doc-link:hover span {\n",
       "  display: block;\n",
       "}\n",
       "\n",
       "/* \"?\"-specific style due to the `<a>` HTML tag */\n",
       "\n",
       "#sk-container-id-1 a.estimator_doc_link {\n",
       "  float: right;\n",
       "  font-size: 1rem;\n",
       "  line-height: 1em;\n",
       "  font-family: monospace;\n",
       "  background-color: var(--sklearn-color-background);\n",
       "  border-radius: 1rem;\n",
       "  height: 1rem;\n",
       "  width: 1rem;\n",
       "  text-decoration: none;\n",
       "  /* unfitted */\n",
       "  color: var(--sklearn-color-unfitted-level-1);\n",
       "  border: var(--sklearn-color-unfitted-level-1) 1pt solid;\n",
       "}\n",
       "\n",
       "#sk-container-id-1 a.estimator_doc_link.fitted {\n",
       "  /* fitted */\n",
       "  border: var(--sklearn-color-fitted-level-1) 1pt solid;\n",
       "  color: var(--sklearn-color-fitted-level-1);\n",
       "}\n",
       "\n",
       "/* On hover */\n",
       "#sk-container-id-1 a.estimator_doc_link:hover {\n",
       "  /* unfitted */\n",
       "  background-color: var(--sklearn-color-unfitted-level-3);\n",
       "  color: var(--sklearn-color-background);\n",
       "  text-decoration: none;\n",
       "}\n",
       "\n",
       "#sk-container-id-1 a.estimator_doc_link.fitted:hover {\n",
       "  /* fitted */\n",
       "  background-color: var(--sklearn-color-fitted-level-3);\n",
       "}\n",
       "</style><div id=\"sk-container-id-1\" class=\"sk-top-container\"><div class=\"sk-text-repr-fallback\"><pre>Pipeline(steps=[(&#x27;vectorizer&#x27;,\n",
       "                 &lt;mne.decoding.transformer.Vectorizer object at 0x00000133010D3F70&gt;),\n",
       "                (&#x27;randomforestclassifier&#x27;, RandomForestClassifier())])</pre><b>In a Jupyter environment, please rerun this cell to show the HTML representation or trust the notebook. <br />On GitHub, the HTML representation is unable to render, please try loading this page with nbviewer.org.</b></div><div class=\"sk-container\" hidden><div class=\"sk-item sk-dashed-wrapped\"><div class=\"sk-label-container\"><div class=\"sk-label fitted sk-toggleable\"><input class=\"sk-toggleable__control sk-hidden--visually\" id=\"sk-estimator-id-1\" type=\"checkbox\" ><label for=\"sk-estimator-id-1\" class=\"sk-toggleable__label fitted sk-toggleable__label-arrow fitted\">&nbsp;&nbsp;Pipeline<a class=\"sk-estimator-doc-link fitted\" rel=\"noreferrer\" target=\"_blank\" href=\"https://scikit-learn.org/1.5/modules/generated/sklearn.pipeline.Pipeline.html\">?<span>Documentation for Pipeline</span></a><span class=\"sk-estimator-doc-link fitted\">i<span>Fitted</span></span></label><div class=\"sk-toggleable__content fitted\"><pre>Pipeline(steps=[(&#x27;vectorizer&#x27;,\n",
       "                 &lt;mne.decoding.transformer.Vectorizer object at 0x00000133010D3F70&gt;),\n",
       "                (&#x27;randomforestclassifier&#x27;, RandomForestClassifier())])</pre></div> </div></div><div class=\"sk-serial\"><div class=\"sk-item\"><div class=\"sk-estimator fitted sk-toggleable\"><input class=\"sk-toggleable__control sk-hidden--visually\" id=\"sk-estimator-id-2\" type=\"checkbox\" ><label for=\"sk-estimator-id-2\" class=\"sk-toggleable__label fitted sk-toggleable__label-arrow fitted\">Vectorizer</label><div class=\"sk-toggleable__content fitted\"><pre>&lt;mne.decoding.transformer.Vectorizer object at 0x00000133010D3F70&gt;</pre></div> </div></div><div class=\"sk-item\"><div class=\"sk-estimator fitted sk-toggleable\"><input class=\"sk-toggleable__control sk-hidden--visually\" id=\"sk-estimator-id-3\" type=\"checkbox\" ><label for=\"sk-estimator-id-3\" class=\"sk-toggleable__label fitted sk-toggleable__label-arrow fitted\">&nbsp;RandomForestClassifier<a class=\"sk-estimator-doc-link fitted\" rel=\"noreferrer\" target=\"_blank\" href=\"https://scikit-learn.org/1.5/modules/generated/sklearn.ensemble.RandomForestClassifier.html\">?<span>Documentation for RandomForestClassifier</span></a></label><div class=\"sk-toggleable__content fitted\"><pre>RandomForestClassifier()</pre></div> </div></div></div></div></div></div>"
      ]
     },
     "execution_count": 83,
     "metadata": {},
     "output_type": "execute_result"
    }
   ],
   "execution_count": 83
  },
  {
   "metadata": {
    "ExecuteTime": {
     "end_time": "2024-06-03T21:57:32.292434Z",
     "start_time": "2024-06-03T21:57:32.269429Z"
    }
   },
   "cell_type": "code",
   "source": [
    "test_index = 0  # Use the first training data point for prediction\n",
    "test_sample = X[test_index].reshape(1, -1)  # Reshape to (1, n_features)\n",
    "predicted_label = clf.predict(test_sample)\n",
    "actual_label = y[test_index]\n",
    "print(f\"Predicted label: {predicted_label[0]}, Actual label: {actual_label}\")"
   ],
   "id": "416c64cad30d70c8",
   "outputs": [
    {
     "name": "stdout",
     "output_type": "stream",
     "text": [
      "Predicted label: 1, Actual label: 1\n"
     ]
    }
   ],
   "execution_count": 84
  },
  {
   "metadata": {
    "ExecuteTime": {
     "end_time": "2024-06-03T21:57:50.235615Z",
     "start_time": "2024-06-03T21:57:50.206033Z"
    }
   },
   "cell_type": "code",
   "source": [
    "# Save the model as a pickle file\n",
    "with open('classifier_model.pkl', 'wb') as f:\n",
    "    pickle.dump(clf, f)"
   ],
   "id": "858816cde7e13577",
   "outputs": [],
   "execution_count": 85
  },
  {
   "metadata": {
    "ExecuteTime": {
     "end_time": "2024-06-03T18:22:23.569233Z",
     "start_time": "2024-06-03T18:22:23.553605Z"
    }
   },
   "cell_type": "code",
   "source": "# -----------------------Evoked-----------------------------------------------------------------------------------------",
   "id": "527ea8fc69842458",
   "outputs": [],
   "execution_count": 57
  },
  {
   "metadata": {
    "ExecuteTime": {
     "end_time": "2024-06-03T21:45:44.331970Z",
     "start_time": "2024-06-03T21:45:44.324104Z"
    }
   },
   "cell_type": "code",
   "source": [
    "# root = mne.datasets.sample.data_path() / \"MEG\" / \"sample\"\n",
    "# evoked_file = root / \"sample_audvis-ave.fif\"\n",
    "# evokeds_list = mne.read_evokeds(\n",
    "#     evoked_file, baseline=(None, 0), proj=True, verbose=False\n",
    "# )\n",
    "# \n",
    "# # Show condition names and baseline intervals\n",
    "# for e in evokeds_list:\n",
    "#     print(f\"Condition: {e.comment}, baseline: {e.baseline}\")\n",
    "#     \n",
    "# conds = (\"aud/left\", \"aud/right\", \"vis/left\", \"vis/right\")\n",
    "# evks = dict(zip(conds, evokeds_list))"
   ],
   "id": "e984b3b2c4bc0d60",
   "outputs": [],
   "execution_count": 33
  },
  {
   "metadata": {
    "ExecuteTime": {
     "end_time": "2024-06-03T21:45:48.117607Z",
     "start_time": "2024-06-03T21:45:48.095701Z"
    }
   },
   "cell_type": "code",
   "source": "# evoked_file",
   "id": "7a5573559c2cf97d",
   "outputs": [],
   "execution_count": 35
  },
  {
   "metadata": {
    "ExecuteTime": {
     "end_time": "2024-06-03T21:45:46.772237Z",
     "start_time": "2024-06-03T21:45:46.760236Z"
    }
   },
   "cell_type": "code",
   "source": "# evks",
   "id": "be9819653d97952e",
   "outputs": [],
   "execution_count": 34
  },
  {
   "cell_type": "code",
   "id": "952e46ae66efcf0f",
   "metadata": {
    "ExecuteTime": {
     "end_time": "2024-06-03T21:46:02.126131Z",
     "start_time": "2024-06-03T21:46:02.115737Z"
    }
   },
   "source": "# ------------------------------------------ Old code for creating epochs directly",
   "outputs": [],
   "execution_count": 36
  },
  {
   "cell_type": "code",
   "id": "61e0cadde559c024",
   "metadata": {
    "ExecuteTime": {
     "end_time": "2024-06-03T21:46:06.197648Z",
     "start_time": "2024-06-03T21:46:06.137378Z"
    }
   },
   "source": [
    "# # Perform an as of merge to find the closest earlier and later event_id\n",
    "# df_buffers['prev_event_id'] = pd.merge_asof(df_buffers, df_tasks,\n",
    "#                                             left_on='timestamps', right_on='timestamps',\n",
    "#                                             direction='backward')['event_ids']\n",
    "# \n",
    "# df_buffers['next_event_id'] = pd.merge_asof(df_buffers, df_tasks,\n",
    "#                                             left_on='timestamps', right_on='timestamps',\n",
    "#                                             direction='forward')['event_ids']\n",
    "# \n",
    "# markers = {\n",
    "#     'left_start': [1],\n",
    "#     'left_end': [2],\n",
    "#     'right_start': [3],\n",
    "#     'right_end': [4],\n",
    "#     'rest_start': [99],\n",
    "#     'rest_end': [100],\n",
    "#     'task_start': [-1],\n",
    "#     'task_end': [-2]\n",
    "# }\n",
    "# \n",
    "# def determine_phase(row):\n",
    "#     if row['prev_event_id'] in markers['left_start'] and row['next_event_id'] in markers['left_end']:\n",
    "#         return 'left'\n",
    "#     elif row['prev_event_id'] in markers['right_start'] and row['next_event_id'] in markers['right_end']:\n",
    "#         return 'right'\n",
    "#     elif row['prev_event_id'] in markers['rest_start'] and row['next_event_id'] in markers['rest_end']:\n",
    "#         return 'rest'\n",
    "#     else:\n",
    "#         return 'unknown'\n",
    "# \n",
    "# df_buffers['phase'] = df_buffers.apply(determine_phase, axis=1)\n",
    "# \n",
    "# grouped = df_buffers.groupby(['part_number', 'phase']).size().reset_index(name='count')\n",
    "# \n",
    "# sfreq = config.device_details['sfreq']\n",
    "# buffer_duration = config.epoch_information['duration']\n",
    "# \n",
    "# valid_phases = ['left', 'right', 'rest']\n"
   ],
   "outputs": [],
   "execution_count": 37
  },
  {
   "cell_type": "code",
   "id": "7ad92a6c20eba889",
   "metadata": {
    "ExecuteTime": {
     "end_time": "2024-06-03T21:46:11.224261Z",
     "start_time": "2024-06-03T21:46:11.213322Z"
    }
   },
   "source": "# df_buffers_filt = df_buffers[df_buffers['phase'].apply(lambda x: any(item in x for item in valid_phases))]",
   "outputs": [],
   "execution_count": 38
  },
  {
   "cell_type": "code",
   "id": "77d9a5d85f7ac7f9",
   "metadata": {
    "ExecuteTime": {
     "end_time": "2024-06-03T21:46:13.103591Z",
     "start_time": "2024-06-03T21:46:13.088595Z"
    }
   },
   "source": "# df_buffers_filt.loc[:,'phase_group'] = (df_buffers_filt['phase'] != df_buffers_filt['phase'].shift()).cumsum()",
   "outputs": [],
   "execution_count": 39
  },
  {
   "cell_type": "code",
   "id": "166d7c6d36dafea8",
   "metadata": {
    "ExecuteTime": {
     "end_time": "2024-06-03T21:46:15.149191Z",
     "start_time": "2024-06-03T21:46:15.131193Z"
    }
   },
   "source": "# df_phase_map = df_buffers_filt[['phase_group', 'phase']].drop_duplicates()",
   "outputs": [],
   "execution_count": 40
  },
  {
   "cell_type": "code",
   "id": "9c04167e5307a13e",
   "metadata": {
    "ExecuteTime": {
     "end_time": "2024-06-03T21:46:17.171830Z",
     "start_time": "2024-06-03T21:46:17.150836Z"
    }
   },
   "source": "# df_buffers_filt",
   "outputs": [],
   "execution_count": 41
  },
  {
   "cell_type": "code",
   "id": "4d3c46c506e84e1",
   "metadata": {
    "ExecuteTime": {
     "end_time": "2024-06-03T21:46:19.533406Z",
     "start_time": "2024-06-03T21:46:19.525391Z"
    }
   },
   "source": [
    "# def get_phase_name(phase_group_number):\n",
    "#     # Look up the phase group number in the DataFrame\n",
    "#     phase_name = df_phase_map.loc[df_phase_map['phase_group'] == phase_group_number, 'phase']\n",
    "#     \n",
    "#     # Check if the phase group number exists in the DataFrame\n",
    "#     if not phase_name.empty:\n",
    "#         return phase_name.values[0]\n",
    "#     else:\n",
    "#         return \"Invalid phase group number\""
   ],
   "outputs": [],
   "execution_count": 42
  },
  {
   "cell_type": "code",
   "id": "7d07f809f42bf4bd",
   "metadata": {
    "ExecuteTime": {
     "end_time": "2024-06-03T21:46:22.704815Z",
     "start_time": "2024-06-03T21:46:22.697838Z"
    }
   },
   "source": [
    "# val_sel_columns = config.device_details['relevant_channels_from_device']\n",
    "# columns_to_select = df_buffers.columns[:val_sel_columns].tolist() + ['part_number', 'timestamps', 'phase', 'phase_group']\n",
    "# df_buffers_filt = df_buffers_filt[columns_to_select]"
   ],
   "outputs": [],
   "execution_count": 43
  },
  {
   "cell_type": "code",
   "id": "f5f14f1ffbeb7ed6",
   "metadata": {
    "ExecuteTime": {
     "end_time": "2024-06-03T21:46:35.395254Z",
     "start_time": "2024-06-03T21:46:35.383251Z"
    }
   },
   "source": [
    "# rename_dict = {old_name: new_name for old_name, new_name in zip(df_buffers_filt.columns[:val_sel_columns], channel_names)}\n",
    "# df_buffers_renamed = df_buffers_filt.rename(columns=rename_dict)"
   ],
   "outputs": [],
   "execution_count": 45
  },
  {
   "cell_type": "code",
   "id": "5beb3f7eb0d3f32",
   "metadata": {
    "ExecuteTime": {
     "end_time": "2024-06-03T21:46:37.752372Z",
     "start_time": "2024-06-03T21:46:37.739371Z"
    }
   },
   "source": "# df_buffers_renamed[channel_names] = df_buffers_renamed[channel_names].values * 1e-6",
   "outputs": [],
   "execution_count": 46
  },
  {
   "cell_type": "code",
   "id": "3f61d57b591d389f",
   "metadata": {
    "ExecuteTime": {
     "end_time": "2024-06-03T21:46:44.335725Z",
     "start_time": "2024-06-03T21:46:44.320724Z"
    }
   },
   "source": "# df_tasks",
   "outputs": [],
   "execution_count": 47
  },
  {
   "cell_type": "code",
   "id": "14957b92fbfcb0ff",
   "metadata": {
    "ExecuteTime": {
     "end_time": "2024-06-03T21:46:52.390471Z",
     "start_time": "2024-06-03T21:46:52.374185Z"
    }
   },
   "source": "# df_buffers_renamed",
   "outputs": [],
   "execution_count": 48
  },
  {
   "cell_type": "code",
   "execution_count": null,
   "id": "248c744831d1460e",
   "metadata": {},
   "outputs": [],
   "source": [
    "# # Creating epochs data\n",
    "# epochs_data = []\n",
    "# events = []\n",
    "# \n",
    "# event_id = {'left': 1, 'right': 2, 'rest': 3}\n",
    "# phases = ['left', 'right', 'rest']"
   ]
  },
  {
   "cell_type": "code",
   "execution_count": null,
   "id": "ea7e7501d7f28b3c",
   "metadata": {},
   "outputs": [],
   "source": [
    "max_shape = 0  # Initialize maximum shape\n",
    "\n",
    "for i, df_phase_group in df_buffers_renamed.groupby('phase_group'):\n",
    "    if get_phase_name(i) not in phases:\n",
    "        continue\n",
    "    data_array = df_phase_group[channel_names].values.T\n",
    "    max_shape = max(max_shape, data_array.shape[1])\n",
    "    epochs_data.append(data_array)\n",
    "    \n",
    "    phase_group = df_phase_group['phase_group'].iloc[0]\n",
    "    phase = df_phase_map[df_phase_map['phase_group'] == phase_group]['phase'].iloc[0]\n",
    "    event = event_id[phase]\n",
    "    \n",
    "    events.append([len(epochs_data) - 1, 0, event])"
   ]
  },
  {
   "cell_type": "code",
   "execution_count": null,
   "id": "3205388cfcf8f3ad",
   "metadata": {},
   "outputs": [],
   "source": [
    "events = np.array(events)"
   ]
  },
  {
   "cell_type": "code",
   "execution_count": null,
   "id": "87168f8986cb2512",
   "metadata": {},
   "outputs": [],
   "source": [
    "events"
   ]
  },
  {
   "cell_type": "code",
   "id": "de127a36a7979ab4",
   "metadata": {
    "ExecuteTime": {
     "end_time": "2024-06-03T21:47:15.274474Z",
     "start_time": "2024-06-03T21:47:15.253707Z"
    }
   },
   "source": [
    "# # Pad or truncate each epoch's data to match the maximum shape\n",
    "# for i, data_array in enumerate(epochs_data):\n",
    "#     current_shape = data_array.shape[1]\n",
    "#     if current_shape < max_shape:\n",
    "#         padding = ((0, 0), (0, max_shape - current_shape))\n",
    "#         epochs_data[i] = np.pad(data_array, padding, mode='constant')\n",
    "#     elif current_shape > max_shape:\n",
    "#         epochs_data[i] = data_array[:, :max_shape]\n",
    "# \n",
    "# # Convert epoch_data to numpy array\n",
    "# epochs_data = np.array(epochs_data)\n",
    "# \n",
    "# # Print the shape of epoch_data\n",
    "# print(\"Shape of epoch_data:\", epochs_data.shape)"
   ],
   "outputs": [],
   "execution_count": 49
  },
  {
   "cell_type": "code",
   "id": "727120b7196332ac",
   "metadata": {
    "ExecuteTime": {
     "end_time": "2024-06-03T21:47:16.773570Z",
     "start_time": "2024-06-03T21:47:16.769150Z"
    }
   },
   "source": [
    "# # Create MNE info structure\n",
    "# info = create_info(ch_names=channel_names, sfreq=config.device_details['sfreq'], ch_types='eeg')\n",
    "# \n",
    "# # Create MNE Epochs object\n",
    "# epochs = EpochsArray(epochs_data, info, events, event_id=event_id, tmin=0)"
   ],
   "outputs": [],
   "execution_count": 50
  },
  {
   "metadata": {},
   "cell_type": "code",
   "outputs": [],
   "execution_count": null,
   "source": "",
   "id": "d074967184be3a7e"
  },
  {
   "cell_type": "code",
   "execution_count": null,
   "id": "173a0ed6e6f6936b",
   "metadata": {},
   "outputs": [],
   "source": [
    "# X\n",
    "# y\n",
    "\n"
   ]
  }
 ],
 "metadata": {
  "kernelspec": {
   "display_name": "Python 3 (ipykernel)",
   "language": "python",
   "name": "python3"
  },
  "language_info": {
   "codemirror_mode": {
    "name": "ipython",
    "version": 3
   },
   "file_extension": ".py",
   "mimetype": "text/x-python",
   "name": "python",
   "nbconvert_exporter": "python",
   "pygments_lexer": "ipython3",
   "version": "3.10.9"
  }
 },
 "nbformat": 4,
 "nbformat_minor": 5
}
