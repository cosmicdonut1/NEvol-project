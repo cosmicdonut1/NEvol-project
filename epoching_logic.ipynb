{
 "cells": [
  {
   "cell_type": "code",
   "id": "initial_id",
   "metadata": {
    "ExecuteTime": {
     "end_time": "2024-06-15T12:45:33.945026Z",
     "start_time": "2024-06-15T12:45:31.258403Z"
    }
   },
   "source": [
    "from utils import load_buffers,load_task_markers\n",
    "import pandas as pd\n",
    "import config\n",
    "import os\n",
    "import numpy as np\n",
    "\n",
    "import mne\n",
    "from mne import create_info\n",
    "from mne.epochs import EpochsArray\n",
    "from mne.decoding import Vectorizer\n",
    "\n",
    "from sklearn.ensemble import RandomForestClassifier\n",
    "from sklearn.pipeline import make_pipeline\n",
    "from matplotlib import pyplot as plt\n",
    "\n",
    "import pickle\n",
    "%matplotlib qt"
   ],
   "outputs": [],
   "execution_count": 2
  },
  {
   "metadata": {
    "ExecuteTime": {
     "end_time": "2024-06-15T12:45:33.960407Z",
     "start_time": "2024-06-15T12:45:33.949018Z"
    }
   },
   "cell_type": "code",
   "source": [
    "# def collate_data(main_folder):\n",
    "#     all_task_data = []\n",
    "#     all_signal_data = []\n",
    "#     session_number = 1\n",
    "#     \n",
    "#     for sub_dir in os.listdir(main_folder):\n",
    "#         sub_dir_path = os.path.join(main_folder, sub_dir)\n",
    "#         if os.path.isdir(sub_dir_path):\n",
    "#             task_data_path = os.path.join(sub_dir_path, 'task_data', 'task_markers.npz')\n",
    "#             signal_data_folder = os.path.join(sub_dir_path, 'signal_data')\n",
    "#             \n",
    "#             if os.path.exists(task_data_path) and os.path.exists(signal_data_folder):\n",
    "#                 df_tasks = load_task_markers(task_data_path)\n",
    "#                 df_buffers = load_buffers(signal_data_folder)\n",
    "#                 \n",
    "#                 # Add session_number column\n",
    "#                 df_tasks['session_number'] = session_number\n",
    "#                 df_buffers['session_number'] = session_number\n",
    "#                 \n",
    "#                 all_task_data.append(df_tasks)\n",
    "#                 all_signal_data.append(df_buffers)\n",
    "#                 \n",
    "#                 session_number += 1\n",
    "#     \n",
    "#     if all_task_data:\n",
    "#         combined_tasks = pd.concat(all_task_data, ignore_index=True)\n",
    "#         combined_tasks = combined_tasks.sort_values('timestamps').reset_index(drop=True)\n",
    "#     else:\n",
    "#         combined_tasks = pd.DataFrame()\n",
    "#     \n",
    "#     if all_signal_data:\n",
    "#         combined_buffers = pd.concat(all_signal_data, ignore_index=True)\n",
    "#         combined_buffers = combined_buffers.sort_values('timestamps').reset_index(drop=True)\n",
    "#     else:\n",
    "#         combined_buffers = pd.DataFrame()\n",
    "#     \n",
    "#     return combined_tasks, combined_buffers"
   ],
   "id": "1f86b0cd2a3766c7",
   "outputs": [],
   "execution_count": 3
  },
  {
   "metadata": {
    "ExecuteTime": {
     "end_time": "2024-06-15T12:45:33.975698Z",
     "start_time": "2024-06-15T12:45:33.961561Z"
    }
   },
   "cell_type": "code",
   "source": [
    "# # Define the main folder path\n",
    "# main_folder_path = 'processed_data/motor_imagery/'\n",
    "# \n",
    "# # Collate the data\n",
    "# df_tasks, df_buffers = collate_data(main_folder_path)"
   ],
   "id": "c267fd8158bdd7a2",
   "outputs": [],
   "execution_count": 4
  },
  {
   "metadata": {
    "ExecuteTime": {
     "end_time": "2024-06-15T12:45:33.991030Z",
     "start_time": "2024-06-15T12:45:33.978678Z"
    }
   },
   "cell_type": "code",
   "source": "# df_buffers",
   "id": "e619d6fc8023276f",
   "outputs": [],
   "execution_count": 5
  },
  {
   "cell_type": "code",
   "id": "e357ba0efaee48e8",
   "metadata": {
    "ExecuteTime": {
     "end_time": "2024-06-15T12:45:34.021812Z",
     "start_time": "2024-06-15T12:45:33.993346Z"
    }
   },
   "source": [
    "# load the task and signal files stored in the disk\n",
    "# Based on the task timestamps, subset the signals and annotate the events\n",
    "# create epoch data that includes the signal and events\n",
    "# use the epoch data to train a classifier\n",
    "# save the classifier model as a pickle file for prediction later\n",
    "\n",
    "# Load the .npz file for task\n",
    "file_path = 'processed_data/motor_imagery/2024-06-15_14-30-34/task_data/task_markers.npz'  # Replace with your file path\n",
    "df_tasks = load_task_markers(file_path)\n",
    "\n",
    "# Load the .npz file for buffer\n",
    "folder_path = 'processed_data/motor_imagery/2024-06-15_14-30-34/signal_data/'\n",
    "df_buffers = load_buffers(folder_path)\n",
    "\n",
    "# print(df_buffers)\n",
    "print(\"Reading signals and markers from signals from disk...\")\n",
    "\n",
    "df_buffers = df_buffers.sort_values('timestamps').reset_index(drop=True)\n",
    "df_tasks = df_tasks.sort_values('timestamps').reset_index(drop=True)"
   ],
   "outputs": [
    {
     "name": "stdout",
     "output_type": "stream",
     "text": [
      "Array names in the .npz file: ['event_ids', 'timestamps']\n",
      "Reading signals and markers from signals from disk...\n"
     ]
    }
   ],
   "execution_count": 6
  },
  {
   "cell_type": "code",
   "id": "aaa77562ff89e29b",
   "metadata": {
    "ExecuteTime": {
     "end_time": "2024-06-15T12:45:34.037024Z",
     "start_time": "2024-06-15T12:45:34.024199Z"
    }
   },
   "source": "# df_buffers.describe()",
   "outputs": [],
   "execution_count": 7
  },
  {
   "cell_type": "code",
   "id": "f1137cda0ce2f40d",
   "metadata": {
    "ExecuteTime": {
     "end_time": "2024-06-15T12:45:34.052969Z",
     "start_time": "2024-06-15T12:45:34.039028Z"
    }
   },
   "source": [
    "df_buffers_raw = df_buffers.iloc[:,:config.device_details['relevant_channels_from_device']] \n",
    "# df_buffers_raw = df_buffers_raw * 1e-6\n",
    "\n",
    "channel_names = config.device_details['channels']\n",
    "df_buffers_raw.columns = channel_names"
   ],
   "outputs": [],
   "execution_count": 8
  },
  {
   "metadata": {
    "ExecuteTime": {
     "end_time": "2024-06-15T12:45:34.068919Z",
     "start_time": "2024-06-15T12:45:34.054946Z"
    }
   },
   "cell_type": "code",
   "source": "# df_buffers_raw",
   "id": "a7f430aefb41f02d",
   "outputs": [],
   "execution_count": 9
  },
  {
   "cell_type": "code",
   "id": "d49f000c245897c7",
   "metadata": {
    "ExecuteTime": {
     "end_time": "2024-06-15T12:45:34.161861Z",
     "start_time": "2024-06-15T12:45:34.071080Z"
    }
   },
   "source": [
    "# df_buffers_raw\n",
    "info = mne.create_info(\n",
    "        ch_names=channel_names,\n",
    "        sfreq=config.device_details['sfreq'],  # Assuming the data is sampled at 1 Hz; adjust as necessary\n",
    "        # change this for different electrode configuration\n",
    "        ch_types=['eeg'] * len(channel_names))\n",
    "\n",
    "raw = mne.io.RawArray(df_buffers_raw[channel_names].values.T, info)\n",
    "raw.info"
   ],
   "outputs": [
    {
     "name": "stdout",
     "output_type": "stream",
     "text": [
      "Creating RawArray with float64 data, n_channels=8, n_times=4500\n",
      "    Range : 0 ... 4499 =      0.000 ...    17.996 secs\n",
      "Ready.\n"
     ]
    },
    {
     "data": {
      "text/plain": [
       "<Info | 7 non-empty values\n",
       " bads: []\n",
       " ch_names: Fz, C3, Cz, C4, Pz, PO7, Oz, PO8\n",
       " chs: 8 EEG\n",
       " custom_ref_applied: False\n",
       " highpass: 0.0 Hz\n",
       " lowpass: 125.0 Hz\n",
       " meas_date: unspecified\n",
       " nchan: 8\n",
       " projs: []\n",
       " sfreq: 250.0 Hz\n",
       ">"
      ],
      "text/html": [
       "<details open>\n",
       "    <summary><strong>General</strong></summary>\n",
       "    <table class=\"table table-hover table-striped table-sm table-responsive small\">\n",
       "        <tr>\n",
       "            <th>Measurement date</th>\n",
       "            \n",
       "            <td>Unknown</td>\n",
       "            \n",
       "        </tr>\n",
       "        <tr>\n",
       "            <th>Experimenter</th>\n",
       "            \n",
       "            <td>Unknown</td>\n",
       "            \n",
       "        </tr>\n",
       "        <tr>\n",
       "            <th>Participant</th>\n",
       "            \n",
       "            <td>Unknown</td>\n",
       "            \n",
       "        </tr>\n",
       "    </table>\n",
       "    </details>\n",
       "    <details open>\n",
       "        <summary><strong>Channels</strong></summary>\n",
       "        <table class=\"table table-hover table-striped table-sm table-responsive small\">\n",
       "            <tr>\n",
       "                <th>Digitized points</th>\n",
       "                \n",
       "                <td>Not available</td>\n",
       "                \n",
       "            </tr>\n",
       "            <tr>\n",
       "                <th>Good channels</th>\n",
       "                <td>8 EEG</td>\n",
       "            </tr>\n",
       "            <tr>\n",
       "                <th>Bad channels</th>\n",
       "                <td>None</td>\n",
       "            </tr>\n",
       "            <tr>\n",
       "                <th>EOG channels</th>\n",
       "                <td>Not available</td>\n",
       "            </tr>\n",
       "            <tr>\n",
       "                <th>ECG channels</th>\n",
       "                <td>Not available</td>\n",
       "            </tr>\n",
       "        </table>\n",
       "        </details>\n",
       "        <details open>\n",
       "            <summary><strong>Data</strong></summary>\n",
       "            <table class=\"table table-hover table-striped table-sm table-responsive small\">\n",
       "                \n",
       "                <tr>\n",
       "                    <th>Sampling frequency</th>\n",
       "                    <td>250.00 Hz</td>\n",
       "                </tr>\n",
       "                \n",
       "                \n",
       "                <tr>\n",
       "                    <th>Highpass</th>\n",
       "                    <td>0.00 Hz</td>\n",
       "                </tr>\n",
       "                \n",
       "                \n",
       "                <tr>\n",
       "                    <th>Lowpass</th>\n",
       "                    <td>125.00 Hz</td>\n",
       "                </tr>\n",
       "                \n",
       "                \n",
       "                \n",
       "                \n",
       "            </table>\n",
       "            </details>"
      ]
     },
     "execution_count": 10,
     "metadata": {},
     "output_type": "execute_result"
    }
   ],
   "execution_count": 10
  },
  {
   "metadata": {
    "ExecuteTime": {
     "end_time": "2024-06-15T12:55:00.407404Z",
     "start_time": "2024-06-15T12:55:00.344819Z"
    }
   },
   "cell_type": "code",
   "source": [
    "df = pd.DataFrame(raw.get_data().T)\n",
    "df.to_csv(\"unicorn_sample\", index=False)"
   ],
   "id": "846115b86243dee5",
   "outputs": [],
   "execution_count": 26
  },
  {
   "metadata": {
    "ExecuteTime": {
     "end_time": "2024-06-15T12:45:34.193400Z",
     "start_time": "2024-06-15T12:45:34.179668Z"
    }
   },
   "cell_type": "code",
   "source": "# raw.info[]",
   "id": "9724bf7bf8d8a42a",
   "outputs": [],
   "execution_count": 11
  },
  {
   "cell_type": "code",
   "id": "a77e9cfd6b8d963b",
   "metadata": {
    "ExecuteTime": {
     "end_time": "2024-06-15T12:45:34.208529Z",
     "start_time": "2024-06-15T12:45:34.195401Z"
    }
   },
   "source": [
    "df_markers = df_tasks[df_tasks['event_ids'].isin([1,2,3,4,99,100])]\n",
    "\n",
    "markers_map = {\n",
    "            1 :'left_start',\n",
    "            2: 'left_end',\n",
    "            3:'right_start',\n",
    "            4:'right_end',\n",
    "            99:'rest_start',\n",
    "            100:'rest_end'\n",
    "}"
   ],
   "outputs": [],
   "execution_count": 12
  },
  {
   "cell_type": "code",
   "id": "dc56a03a4e5a024a",
   "metadata": {
    "ExecuteTime": {
     "end_time": "2024-06-15T12:45:34.224138Z",
     "start_time": "2024-06-15T12:45:34.209528Z"
    }
   },
   "source": [
    "# Initialize lists for onsets, durations, and descriptions\n",
    "onsets = []\n",
    "durations = []\n",
    "descriptions = []\n",
    "\n",
    "# Create a dictionary to keep track of start times\n",
    "start_times = {}\n",
    "\n",
    "# Iterate over the DataFrame rows\n",
    "for index, row in df_markers.iterrows():\n",
    "    event_id = row['event_ids']\n",
    "    timestamp = row['timestamps']\n",
    "\n",
    "    if event_id in markers_map:\n",
    "        description = markers_map[event_id]\n",
    "\n",
    "        # Check if it is a start event\n",
    "        if 'start' in description:\n",
    "            # Store the start time\n",
    "            start_times[description.split('_')[0]] = timestamp\n",
    "        elif 'end' in description:\n",
    "            # Determine the corresponding start event type\n",
    "            event_type = description.split('_')[0]  # e.g., 'left', 'right', 'rest'\n",
    "            \n",
    "            if event_type in start_times:\n",
    "                start_time = start_times[event_type]\n",
    "                duration = timestamp - start_time\n",
    "                \n",
    "                # Append to lists\n",
    "                onsets.append(start_time)\n",
    "                durations.append(duration)\n",
    "                descriptions.append(event_type.upper())\n",
    "                # Remove the start time to avoid re-use\n",
    "                del start_times[event_type]\n",
    "\n",
    "# Print the results\n",
    "print(\"Onsets:\", onsets)\n",
    "print(\"Durations:\", durations)\n",
    "print(\"Descriptions:\", descriptions)"
   ],
   "outputs": [
    {
     "name": "stdout",
     "output_type": "stream",
     "text": [
      "Onsets: [168762.4440554, 168763.953997, 168764.9544988, 168766.4692759, 168767.4697606, 168768.9886886, 168769.9897843, 168771.5011534, 168772.5017235, 168774.0173105, 168775.0178167, 168776.5354233]\n",
      "Durations: [1.5098081000032835, 1.0004895000020042, 1.5146895999787375, 1.0004541000234894, 1.5188402999774553, 1.0010550000006333, 1.5112194999819621, 1.0005458999949042, 1.5155144000018481, 1.0004835999861825, 1.517496199987363, 1.0002925000153482]\n",
      "Descriptions: ['LEFT', 'REST', 'RIGHT', 'REST', 'LEFT', 'REST', 'RIGHT', 'REST', 'LEFT', 'REST', 'RIGHT', 'REST']\n"
     ]
    }
   ],
   "execution_count": 13
  },
  {
   "metadata": {
    "ExecuteTime": {
     "end_time": "2024-06-15T12:45:34.239307Z",
     "start_time": "2024-06-15T12:45:34.225138Z"
    }
   },
   "cell_type": "code",
   "source": "onsets = onsets - df_buffers['timestamps'][0]",
   "id": "42586597040d0a99",
   "outputs": [],
   "execution_count": 14
  },
  {
   "metadata": {
    "ExecuteTime": {
     "end_time": "2024-06-15T12:45:34.254436Z",
     "start_time": "2024-06-15T12:45:34.240435Z"
    }
   },
   "cell_type": "code",
   "source": "# onsets",
   "id": "82c9abba09c4e5a2",
   "outputs": [],
   "execution_count": 15
  },
  {
   "cell_type": "code",
   "id": "83394cb2c0ca440f",
   "metadata": {
    "ExecuteTime": {
     "end_time": "2024-06-15T12:45:34.285437Z",
     "start_time": "2024-06-15T12:45:34.257436Z"
    }
   },
   "source": [
    "raw_annot = mne.Annotations(onset=onsets, duration=durations, orig_time= None,description=descriptions)\n",
    "print(raw_annot)\n",
    "raw.set_annotations(raw_annot)\n",
    "\n",
    "raw.set_montage('easycap-M1')"
   ],
   "outputs": [
    {
     "name": "stdout",
     "output_type": "stream",
     "text": [
      "<Annotations | 12 segments: LEFT (3), REST (6), RIGHT (3)>\n"
     ]
    },
    {
     "name": "stderr",
     "output_type": "stream",
     "text": [
      "C:\\Users\\iamth\\AppData\\Local\\Temp\\ipykernel_16640\\3743205479.py:3: RuntimeWarning: Limited 1 annotation(s) that were expanding outside the data range.\n",
      "  raw.set_annotations(raw_annot)\n"
     ]
    },
    {
     "data": {
      "text/plain": [
       "<RawArray | 8 x 4500 (18.0 s), ~299 kB, data loaded>"
      ],
      "text/html": [
       "<details open>\n",
       "    <summary><strong>General</strong></summary>\n",
       "    <table class=\"table table-hover table-striped table-sm table-responsive small\">\n",
       "        <tr>\n",
       "            <th>Measurement date</th>\n",
       "            \n",
       "            <td>Unknown</td>\n",
       "            \n",
       "        </tr>\n",
       "        <tr>\n",
       "            <th>Experimenter</th>\n",
       "            \n",
       "            <td>Unknown</td>\n",
       "            \n",
       "        </tr>\n",
       "        <tr>\n",
       "            <th>Participant</th>\n",
       "            \n",
       "            <td>Unknown</td>\n",
       "            \n",
       "        </tr>\n",
       "    </table>\n",
       "    </details>\n",
       "    <details open>\n",
       "        <summary><strong>Channels</strong></summary>\n",
       "        <table class=\"table table-hover table-striped table-sm table-responsive small\">\n",
       "            <tr>\n",
       "                <th>Digitized points</th>\n",
       "                \n",
       "                <td>11 points</td>\n",
       "                \n",
       "            </tr>\n",
       "            <tr>\n",
       "                <th>Good channels</th>\n",
       "                <td>8 EEG</td>\n",
       "            </tr>\n",
       "            <tr>\n",
       "                <th>Bad channels</th>\n",
       "                <td>None</td>\n",
       "            </tr>\n",
       "            <tr>\n",
       "                <th>EOG channels</th>\n",
       "                <td>Not available</td>\n",
       "            </tr>\n",
       "            <tr>\n",
       "                <th>ECG channels</th>\n",
       "                <td>Not available</td>\n",
       "            </tr>\n",
       "        </table>\n",
       "        </details>\n",
       "        <details open>\n",
       "            <summary><strong>Data</strong></summary>\n",
       "            <table class=\"table table-hover table-striped table-sm table-responsive small\">\n",
       "                \n",
       "                <tr>\n",
       "                    <th>Sampling frequency</th>\n",
       "                    <td>250.00 Hz</td>\n",
       "                </tr>\n",
       "                \n",
       "                \n",
       "                <tr>\n",
       "                    <th>Highpass</th>\n",
       "                    <td>0.00 Hz</td>\n",
       "                </tr>\n",
       "                \n",
       "                \n",
       "                <tr>\n",
       "                    <th>Lowpass</th>\n",
       "                    <td>125.00 Hz</td>\n",
       "                </tr>\n",
       "                \n",
       "                \n",
       "                \n",
       "                \n",
       "                <tr>\n",
       "                    <th>Duration</th>\n",
       "                    <td>00:00:18 (HH:MM:SS)</td>\n",
       "                </tr>\n",
       "                \n",
       "            </table>\n",
       "            </details>"
      ]
     },
     "execution_count": 16,
     "metadata": {},
     "output_type": "execute_result"
    }
   ],
   "execution_count": 16
  },
  {
   "metadata": {
    "ExecuteTime": {
     "end_time": "2024-06-15T12:47:42.902131Z",
     "start_time": "2024-06-15T12:47:42.833535Z"
    }
   },
   "cell_type": "code",
   "source": "raw.save('unicorn_raw.fif')",
   "id": "61ff3a6899bc6625",
   "outputs": [
    {
     "name": "stdout",
     "output_type": "stream",
     "text": [
      "Writing C:\\Users\\iamth\\Desktop\\Obsidian Sync\\NEvol-project\\unicorn_raw.fif\n",
      "Closing C:\\Users\\iamth\\Desktop\\Obsidian Sync\\NEvol-project\\unicorn_raw.fif\n",
      "[done]\n"
     ]
    }
   ],
   "execution_count": 19
  },
  {
   "metadata": {
    "ExecuteTime": {
     "end_time": "2024-06-15T12:50:32.709194Z",
     "start_time": "2024-06-15T12:50:32.598888Z"
    }
   },
   "cell_type": "code",
   "source": "mne.io.read_raw_fif('unicorn_raw.fif')",
   "id": "2b2cdfa465685375",
   "outputs": [
    {
     "name": "stdout",
     "output_type": "stream",
     "text": [
      "Opening raw data file unicorn_raw.fif...\n",
      "    Range : 0 ... 4499 =      0.000 ...    17.996 secs\n",
      "Ready.\n"
     ]
    },
    {
     "data": {
      "text/plain": [
       "<Raw | unicorn_raw.fif, 8 x 4500 (18.0 s), ~19 kB, data not loaded>"
      ],
      "text/html": [
       "<details open>\n",
       "    <summary><strong>General</strong></summary>\n",
       "    <table class=\"table table-hover table-striped table-sm table-responsive small\">\n",
       "        <tr>\n",
       "            <th>Measurement date</th>\n",
       "            \n",
       "            <td>Unknown</td>\n",
       "            \n",
       "        </tr>\n",
       "        <tr>\n",
       "            <th>Experimenter</th>\n",
       "            \n",
       "            <td>Unknown</td>\n",
       "            \n",
       "        </tr>\n",
       "        <tr>\n",
       "            <th>Participant</th>\n",
       "            \n",
       "            <td>Unknown</td>\n",
       "            \n",
       "        </tr>\n",
       "    </table>\n",
       "    </details>\n",
       "    <details open>\n",
       "        <summary><strong>Channels</strong></summary>\n",
       "        <table class=\"table table-hover table-striped table-sm table-responsive small\">\n",
       "            <tr>\n",
       "                <th>Digitized points</th>\n",
       "                \n",
       "                <td>11 points</td>\n",
       "                \n",
       "            </tr>\n",
       "            <tr>\n",
       "                <th>Good channels</th>\n",
       "                <td>8 EEG</td>\n",
       "            </tr>\n",
       "            <tr>\n",
       "                <th>Bad channels</th>\n",
       "                <td>None</td>\n",
       "            </tr>\n",
       "            <tr>\n",
       "                <th>EOG channels</th>\n",
       "                <td>Not available</td>\n",
       "            </tr>\n",
       "            <tr>\n",
       "                <th>ECG channels</th>\n",
       "                <td>Not available</td>\n",
       "            </tr>\n",
       "        </table>\n",
       "        </details>\n",
       "        <details open>\n",
       "            <summary><strong>Data</strong></summary>\n",
       "            <table class=\"table table-hover table-striped table-sm table-responsive small\">\n",
       "                \n",
       "                <tr>\n",
       "                    <th>Sampling frequency</th>\n",
       "                    <td>250.00 Hz</td>\n",
       "                </tr>\n",
       "                \n",
       "                \n",
       "                <tr>\n",
       "                    <th>Highpass</th>\n",
       "                    <td>0.00 Hz</td>\n",
       "                </tr>\n",
       "                \n",
       "                \n",
       "                <tr>\n",
       "                    <th>Lowpass</th>\n",
       "                    <td>125.00 Hz</td>\n",
       "                </tr>\n",
       "                \n",
       "                \n",
       "                \n",
       "                <tr>\n",
       "                    <th>Filenames</th>\n",
       "                    <td>unicorn_raw.fif</td>\n",
       "                </tr>\n",
       "                \n",
       "                \n",
       "                <tr>\n",
       "                    <th>Duration</th>\n",
       "                    <td>00:00:18 (HH:MM:SS)</td>\n",
       "                </tr>\n",
       "                \n",
       "            </table>\n",
       "            </details>"
      ]
     },
     "execution_count": 20,
     "metadata": {},
     "output_type": "execute_result"
    }
   ],
   "execution_count": 20
  },
  {
   "metadata": {
    "ExecuteTime": {
     "end_time": "2024-06-05T13:04:24.629638Z",
     "start_time": "2024-06-05T13:04:24.503099Z"
    }
   },
   "cell_type": "code",
   "source": "raw_events, raw_events_mapping = mne.events_from_annotations(raw)",
   "id": "eaaa99026d1077f5",
   "outputs": [
    {
     "name": "stdout",
     "output_type": "stream",
     "text": [
      "Used Annotations descriptions: ['LEFT', 'REST', 'RIGHT']\n"
     ]
    }
   ],
   "execution_count": 18
  },
  {
   "metadata": {
    "ExecuteTime": {
     "end_time": "2024-06-05T13:04:26.847635Z",
     "start_time": "2024-06-05T13:04:26.838087Z"
    }
   },
   "cell_type": "code",
   "source": "# raw_events",
   "id": "bcb0fd99a4746868",
   "outputs": [],
   "execution_count": 19
  },
  {
   "metadata": {
    "ExecuteTime": {
     "end_time": "2024-06-05T13:04:31.925057Z",
     "start_time": "2024-06-05T13:04:29.286742Z"
    }
   },
   "cell_type": "code",
   "source": [
    "fig = mne.viz.plot_events(\n",
    "    raw_events, sfreq=raw.info[\"sfreq\"], first_samp=raw.first_samp, event_id=raw_events_mapping\n",
    ")"
   ],
   "id": "6f19201874c8f580",
   "outputs": [],
   "execution_count": 20
  },
  {
   "metadata": {
    "ExecuteTime": {
     "end_time": "2024-06-03T21:57:26.584795Z",
     "start_time": "2024-06-03T21:57:26.568250Z"
    }
   },
   "cell_type": "code",
   "source": "# raw.get_data()",
   "id": "738a9930f2fd66f0",
   "outputs": [],
   "execution_count": 68
  },
  {
   "metadata": {
    "ExecuteTime": {
     "end_time": "2024-06-05T13:04:34.676915Z",
     "start_time": "2024-06-05T13:04:32.349910Z"
    }
   },
   "cell_type": "code",
   "source": [
    "spectrum = raw.compute_psd()\n",
    "spectrum.plot(average=True, picks=\"data\", exclude=\"bads\", amplitude=False)"
   ],
   "id": "d404d7ec4fc1d275",
   "outputs": [
    {
     "name": "stdout",
     "output_type": "stream",
     "text": [
      "Effective window size : 8.192 (s)\n",
      "Plotting power spectral density (dB=True).\n"
     ]
    },
    {
     "data": {
      "text/plain": [
       "<MNELineFigure size 1250x437.5 with 1 Axes>"
      ],
      "image/png": "[encoded data removed]"
     },
     "execution_count": 21,
     "metadata": {},
     "output_type": "execute_result"
    }
   ],
   "execution_count": 21
  },
  {
   "cell_type": "code",
   "id": "121cabb543ac8060",
   "metadata": {
    "ExecuteTime": {
     "end_time": "2024-06-03T21:57:27.231239Z",
     "start_time": "2024-06-03T21:57:27.223234Z"
    }
   },
   "source": "# raw.plot(block=True)",
   "outputs": [],
   "execution_count": 70
  },
  {
   "cell_type": "code",
   "id": "2370fd9337d6b6fc",
   "metadata": {
    "ExecuteTime": {
     "end_time": "2024-06-03T21:57:27.247477Z",
     "start_time": "2024-06-03T21:57:27.233410Z"
    }
   },
   "source": [
    "# midline = [\"EEG 002\", \"EEG 012\", \"EEG 030\", \"EEG 048\", \"EEG 058\", \"EEG 060\"]\n",
    "# spectrum.plot(picks=\"all\", exclude=\"bads\", amplitude=False)"
   ],
   "outputs": [],
   "execution_count": 71
  },
  {
   "metadata": {
    "ExecuteTime": {
     "end_time": "2024-06-04T20:32:17.506311Z",
     "start_time": "2024-06-04T20:32:16.422498Z"
    }
   },
   "cell_type": "code",
   "source": "spectrum.plot_topomap()",
   "id": "368a52bab43da0bb",
   "outputs": [
    {
     "data": {
      "text/plain": [
       "<Figure size 1250x187.5 with 10 Axes>"
      ],
      "image/png": "[encoded data removed]"
     },
     "execution_count": 92,
     "metadata": {},
     "output_type": "execute_result"
    }
   ],
   "execution_count": 92
  },
  {
   "metadata": {
    "ExecuteTime": {
     "end_time": "2024-06-03T21:57:29.047466Z",
     "start_time": "2024-06-03T21:57:29.031787Z"
    }
   },
   "cell_type": "code",
   "source": "# spectrum.plot_topo()",
   "id": "a76080d3fdc71814",
   "outputs": [],
   "execution_count": 73
  },
  {
   "metadata": {
    "ExecuteTime": {
     "end_time": "2024-06-03T21:57:29.063723Z",
     "start_time": "2024-06-03T21:57:29.047466Z"
    }
   },
   "cell_type": "code",
   "source": "# raw.plot_sensors(ch_type=\"eeg\")",
   "id": "b9cd30b277478390",
   "outputs": [],
   "execution_count": 74
  },
  {
   "metadata": {
    "ExecuteTime": {
     "end_time": "2024-06-03T21:57:29.078119Z",
     "start_time": "2024-06-03T21:57:29.063723Z"
    }
   },
   "cell_type": "code",
   "source": "# raw.plot_projs_topomap(colorbar=True)",
   "id": "48da5494474c9040",
   "outputs": [],
   "execution_count": 75
  },
  {
   "metadata": {
    "ExecuteTime": {
     "end_time": "2024-06-05T13:04:38.603472Z",
     "start_time": "2024-06-05T13:04:38.453153Z"
    }
   },
   "cell_type": "code",
   "source": [
    "epochs = mne.Epochs(raw, raw_events, raw_events_mapping, tmin=-0.1, tmax=1.5,\n",
    "                    baseline=(None, 0), preload=True)"
   ],
   "id": "b302dfdf75c09a6f",
   "outputs": [
    {
     "name": "stdout",
     "output_type": "stream",
     "text": [
      "Not setting metadata\n",
      "12 matching events found\n",
      "Setting baseline interval to [-0.1, 0.0] s\n",
      "Applying baseline correction (mode: mean)\n",
      "0 projection items activated\n",
      "Using data from preloaded Raw for 12 events and 401 original time points ...\n",
      "1 bad epochs dropped\n"
     ]
    }
   ],
   "execution_count": 22
  },
  {
   "metadata": {
    "ExecuteTime": {
     "end_time": "2024-06-03T21:57:29.130133Z",
     "start_time": "2024-06-03T21:57:29.113774Z"
    }
   },
   "cell_type": "code",
   "source": "# epochs['LEFT']",
   "id": "8decbfe7a10a17b5",
   "outputs": [],
   "execution_count": 77
  },
  {
   "metadata": {
    "ExecuteTime": {
     "end_time": "2024-06-05T13:04:41.335922Z",
     "start_time": "2024-06-05T13:04:41.306126Z"
    }
   },
   "cell_type": "code",
   "source": [
    "ev_left = epochs['LEFT'].average()\n",
    "ev_right = epochs['RIGHT'].average()"
   ],
   "id": "84f869053cd1f8af",
   "outputs": [],
   "execution_count": 23
  },
  {
   "metadata": {
    "ExecuteTime": {
     "end_time": "2024-06-05T13:36:17.029102Z",
     "start_time": "2024-06-05T13:36:14.076234Z"
    }
   },
   "cell_type": "code",
   "source": [
    "f, axs = plt.subplots(1, 2, figsize=(10, 5))\n",
    "_ = f.suptitle('Left / Right Imagery', fontsize=20)\n",
    "_ = ev_left.plot(axes=axs[0], show=True, time_unit='s')\n",
    "_ = ev_right.plot(axes=axs[1], show=False, time_unit='s')\n",
    "\n",
    "plt.show()\n",
    "# plt.tight_layout()"
   ],
   "id": "a7cf40c4224914d0",
   "outputs": [],
   "execution_count": 29
  },
  {
   "metadata": {
    "ExecuteTime": {
     "end_time": "2024-06-05T13:04:44.282779Z",
     "start_time": "2024-06-05T13:04:44.272260Z"
    }
   },
   "cell_type": "code",
   "source": [
    "X = epochs.get_data(copy=False)  # Shape: (n_epochs, n_channels, n_times)\n",
    "y = epochs.events[:, 2]  # Shape: (n_epochs,)"
   ],
   "id": "8fca25746f688a94",
   "outputs": [],
   "execution_count": 24
  },
  {
   "metadata": {
    "ExecuteTime": {
     "end_time": "2024-06-05T13:35:13.788841Z",
     "start_time": "2024-06-05T13:35:13.767737Z"
    }
   },
   "cell_type": "code",
   "source": "X[0]",
   "id": "ba3e300c66aba602",
   "outputs": [
    {
     "data": {
      "text/plain": [
       "array([[-6.01209435e-05,  5.71139198e-05,  1.13373197e-04, ...,\n",
       "         6.16288123e-05, -6.73628869e-05, -1.29165621e-04],\n",
       "       [-7.08975361e-05, -4.00303486e-05,  5.79579327e-05, ...,\n",
       "         6.18954327e-05,  5.27743389e-05, -2.72686298e-05],\n",
       "       [ 1.31017127e-05,  2.07013221e-05, -2.15877404e-05, ...,\n",
       "        -3.78377404e-05, -3.42615685e-05, -4.19906851e-06],\n",
       "       ...,\n",
       "       [ 2.93373648e-05,  6.22603666e-06, -3.14360727e-05, ...,\n",
       "        -4.66352915e-05,  3.92330228e-06,  3.85912710e-05],\n",
       "       [ 3.12780762e-05,  1.20550537e-04,  3.99055176e-05, ...,\n",
       "        -9.64819336e-06, -1.32448486e-04, -5.99172363e-05],\n",
       "       [ 6.48903245e-06,  4.10437200e-05,  8.56715745e-06, ...,\n",
       "        -3.97336238e-05, -7.04914363e-05, -3.57101863e-05]])"
      ]
     },
     "execution_count": 28,
     "metadata": {},
     "output_type": "execute_result"
    }
   ],
   "execution_count": 28
  },
  {
   "metadata": {},
   "cell_type": "code",
   "outputs": [],
   "execution_count": null,
   "source": "X",
   "id": "89f70b8702954da0"
  },
  {
   "metadata": {
    "ExecuteTime": {
     "end_time": "2024-06-05T13:05:03.874326Z",
     "start_time": "2024-06-05T13:05:03.861445Z"
    }
   },
   "cell_type": "code",
   "source": "y.shape",
   "id": "5f21ed055d929733",
   "outputs": [
    {
     "data": {
      "text/plain": [
       "(11,)"
      ]
     },
     "execution_count": 26,
     "metadata": {},
     "output_type": "execute_result"
    }
   ],
   "execution_count": 26
  },
  {
   "metadata": {
    "ExecuteTime": {
     "end_time": "2024-06-04T09:37:30.157741Z",
     "start_time": "2024-06-04T09:37:30.142110Z"
    }
   },
   "cell_type": "code",
   "source": [
    "# epochs['LEFT'].plot_image()\n",
    "# epochs['RIGHT'].plot_image()"
   ],
   "id": "d5f80c8208ddd44a",
   "outputs": [],
   "execution_count": 63
  },
  {
   "metadata": {
    "ExecuteTime": {
     "end_time": "2024-06-04T20:32:33.940061Z",
     "start_time": "2024-06-04T20:32:33.595455Z"
    }
   },
   "cell_type": "code",
   "source": [
    "mne.viz.plot_epochs_image(epochs['LEFT'],title=\"Left Imagery\",colorbar=True)\n",
    "mne.viz.plot_epochs_image(epochs['RIGHT'],title=\"Right Imagery\",colorbar=True)"
   ],
   "id": "cf19f946784d7e56",
   "outputs": [
    {
     "name": "stdout",
     "output_type": "stream",
     "text": [
      "Not setting metadata\n",
      "3 matching events found\n",
      "No baseline correction applied\n",
      "0 projection items activated\n",
      "combining channels using GFP (eeg channels)\n",
      "Not setting metadata\n",
      "3 matching events found\n",
      "No baseline correction applied\n",
      "0 projection items activated\n",
      "combining channels using GFP (eeg channels)\n"
     ]
    },
    {
     "data": {
      "text/plain": [
       "[<Figure size 800x600 with 3 Axes>]"
      ]
     },
     "execution_count": 97,
     "metadata": {},
     "output_type": "execute_result"
    }
   ],
   "execution_count": 97
  },
  {
   "metadata": {
    "ExecuteTime": {
     "end_time": "2024-06-04T20:32:43.086394Z",
     "start_time": "2024-06-04T20:32:42.943502Z"
    }
   },
   "cell_type": "code",
   "source": [
    "# Reshape the data to (n_samples, n_features)\n",
    "X = X.reshape(len(X), -1)\n",
    "\n",
    "# Create and train a classifier\n",
    "clf = make_pipeline(Vectorizer(), RandomForestClassifier(n_estimators=100))\n",
    "clf.fit(X, y)"
   ],
   "id": "d0d4ab3b99359fb7",
   "outputs": [
    {
     "data": {
      "text/plain": [
       "Pipeline(steps=[('vectorizer',\n",
       "                 <mne.decoding.transformer.Vectorizer object at 0x0000023CD1B83BB0>),\n",
       "                ('randomforestclassifier', RandomForestClassifier())])"
      ],
      "text/html": [
       "<style>#sk-container-id-2 {\n",
       "  /* Definition of color scheme common for light and dark mode */\n",
       "  --sklearn-color-text: black;\n",
       "  --sklearn-color-line: gray;\n",
       "  /* Definition of color scheme for unfitted estimators */\n",
       "  --sklearn-color-unfitted-level-0: #fff5e6;\n",
       "  --sklearn-color-unfitted-level-1: #f6e4d2;\n",
       "  --sklearn-color-unfitted-level-2: #ffe0b3;\n",
       "  --sklearn-color-unfitted-level-3: chocolate;\n",
       "  /* Definition of color scheme for fitted estimators */\n",
       "  --sklearn-color-fitted-level-0: #f0f8ff;\n",
       "  --sklearn-color-fitted-level-1: #d4ebff;\n",
       "  --sklearn-color-fitted-level-2: #b3dbfd;\n",
       "  --sklearn-color-fitted-level-3: cornflowerblue;\n",
       "\n",
       "  /* Specific color for light theme */\n",
       "  --sklearn-color-text-on-default-background: var(--sg-text-color, var(--theme-code-foreground, var(--jp-content-font-color1, black)));\n",
       "  --sklearn-color-background: var(--sg-background-color, var(--theme-background, var(--jp-layout-color0, white)));\n",
       "  --sklearn-color-border-box: var(--sg-text-color, var(--theme-code-foreground, var(--jp-content-font-color1, black)));\n",
       "  --sklearn-color-icon: #696969;\n",
       "\n",
       "  @media (prefers-color-scheme: dark) {\n",
       "    /* Redefinition of color scheme for dark theme */\n",
       "    --sklearn-color-text-on-default-background: var(--sg-text-color, var(--theme-code-foreground, var(--jp-content-font-color1, white)));\n",
       "    --sklearn-color-background: var(--sg-background-color, var(--theme-background, var(--jp-layout-color0, #111)));\n",
       "    --sklearn-color-border-box: var(--sg-text-color, var(--theme-code-foreground, var(--jp-content-font-color1, white)));\n",
       "    --sklearn-color-icon: #878787;\n",
       "  }\n",
       "}\n",
       "\n",
       "#sk-container-id-2 {\n",
       "  color: var(--sklearn-color-text);\n",
       "}\n",
       "\n",
       "#sk-container-id-2 pre {\n",
       "  padding: 0;\n",
       "}\n",
       "\n",
       "#sk-container-id-2 input.sk-hidden--visually {\n",
       "  border: 0;\n",
       "  clip: rect(1px 1px 1px 1px);\n",
       "  clip: rect(1px, 1px, 1px, 1px);\n",
       "  height: 1px;\n",
       "  margin: -1px;\n",
       "  overflow: hidden;\n",
       "  padding: 0;\n",
       "  position: absolute;\n",
       "  width: 1px;\n",
       "}\n",
       "\n",
       "#sk-container-id-2 div.sk-dashed-wrapped {\n",
       "  border: 1px dashed var(--sklearn-color-line);\n",
       "  margin: 0 0.4em 0.5em 0.4em;\n",
       "  box-sizing: border-box;\n",
       "  padding-bottom: 0.4em;\n",
       "  background-color: var(--sklearn-color-background);\n",
       "}\n",
       "\n",
       "#sk-container-id-2 div.sk-container {\n",
       "  /* jupyter's `normalize.less` sets `[hidden] { display: none; }`\n",
       "     but bootstrap.min.css set `[hidden] { display: none !important; }`\n",
       "     so we also need the `!important` here to be able to override the\n",
       "     default hidden behavior on the sphinx rendered scikit-learn.org.\n",
       "     See: https://github.com/scikit-learn/scikit-learn/issues/21755 */\n",
       "  display: inline-block !important;\n",
       "  position: relative;\n",
       "}\n",
       "\n",
       "#sk-container-id-2 div.sk-text-repr-fallback {\n",
       "  display: none;\n",
       "}\n",
       "\n",
       "div.sk-parallel-item,\n",
       "div.sk-serial,\n",
       "div.sk-item {\n",
       "  /* draw centered vertical line to link estimators */\n",
       "  background-image: linear-gradient(var(--sklearn-color-text-on-default-background), var(--sklearn-color-text-on-default-background));\n",
       "  background-size: 2px 100%;\n",
       "  background-repeat: no-repeat;\n",
       "  background-position: center center;\n",
       "}\n",
       "\n",
       "/* Parallel-specific style estimator block */\n",
       "\n",
       "#sk-container-id-2 div.sk-parallel-item::after {\n",
       "  content: \"\";\n",
       "  width: 100%;\n",
       "  border-bottom: 2px solid var(--sklearn-color-text-on-default-background);\n",
       "  flex-grow: 1;\n",
       "}\n",
       "\n",
       "#sk-container-id-2 div.sk-parallel {\n",
       "  display: flex;\n",
       "  align-items: stretch;\n",
       "  justify-content: center;\n",
       "  background-color: var(--sklearn-color-background);\n",
       "  position: relative;\n",
       "}\n",
       "\n",
       "#sk-container-id-2 div.sk-parallel-item {\n",
       "  display: flex;\n",
       "  flex-direction: column;\n",
       "}\n",
       "\n",
       "#sk-container-id-2 div.sk-parallel-item:first-child::after {\n",
       "  align-self: flex-end;\n",
       "  width: 50%;\n",
       "}\n",
       "\n",
       "#sk-container-id-2 div.sk-parallel-item:last-child::after {\n",
       "  align-self: flex-start;\n",
       "  width: 50%;\n",
       "}\n",
       "\n",
       "#sk-container-id-2 div.sk-parallel-item:only-child::after {\n",
       "  width: 0;\n",
       "}\n",
       "\n",
       "/* Serial-specific style estimator block */\n",
       "\n",
       "#sk-container-id-2 div.sk-serial {\n",
       "  display: flex;\n",
       "  flex-direction: column;\n",
       "  align-items: center;\n",
       "  background-color: var(--sklearn-color-background);\n",
       "  padding-right: 1em;\n",
       "  padding-left: 1em;\n",
       "}\n",
       "\n",
       "\n",
       "/* Toggleable style: style used for estimator/Pipeline/ColumnTransformer box that is\n",
       "clickable and can be expanded/collapsed.\n",
       "- Pipeline and ColumnTransformer use this feature and define the default style\n",
       "- Estimators will overwrite some part of the style using the `sk-estimator` class\n",
       "*/\n",
       "\n",
       "/* Pipeline and ColumnTransformer style (default) */\n",
       "\n",
       "#sk-container-id-2 div.sk-toggleable {\n",
       "  /* Default theme specific background. It is overwritten whether we have a\n",
       "  specific estimator or a Pipeline/ColumnTransformer */\n",
       "  background-color: var(--sklearn-color-background);\n",
       "}\n",
       "\n",
       "/* Toggleable label */\n",
       "#sk-container-id-2 label.sk-toggleable__label {\n",
       "  cursor: pointer;\n",
       "  display: block;\n",
       "  width: 100%;\n",
       "  margin-bottom: 0;\n",
       "  padding: 0.5em;\n",
       "  box-sizing: border-box;\n",
       "  text-align: center;\n",
       "}\n",
       "\n",
       "#sk-container-id-2 label.sk-toggleable__label-arrow:before {\n",
       "  /* Arrow on the left of the label */\n",
       "  content: \"▸\";\n",
       "  float: left;\n",
       "  margin-right: 0.25em;\n",
       "  color: var(--sklearn-color-icon);\n",
       "}\n",
       "\n",
       "#sk-container-id-2 label.sk-toggleable__label-arrow:hover:before {\n",
       "  color: var(--sklearn-color-text);\n",
       "}\n",
       "\n",
       "/* Toggleable content - dropdown */\n",
       "\n",
       "#sk-container-id-2 div.sk-toggleable__content {\n",
       "  max-height: 0;\n",
       "  max-width: 0;\n",
       "  overflow: hidden;\n",
       "  text-align: left;\n",
       "  /* unfitted */\n",
       "  background-color: var(--sklearn-color-unfitted-level-0);\n",
       "}\n",
       "\n",
       "#sk-container-id-2 div.sk-toggleable__content.fitted {\n",
       "  /* fitted */\n",
       "  background-color: var(--sklearn-color-fitted-level-0);\n",
       "}\n",
       "\n",
       "#sk-container-id-2 div.sk-toggleable__content pre {\n",
       "  margin: 0.2em;\n",
       "  border-radius: 0.25em;\n",
       "  color: var(--sklearn-color-text);\n",
       "  /* unfitted */\n",
       "  background-color: var(--sklearn-color-unfitted-level-0);\n",
       "}\n",
       "\n",
       "#sk-container-id-2 div.sk-toggleable__content.fitted pre {\n",
       "  /* unfitted */\n",
       "  background-color: var(--sklearn-color-fitted-level-0);\n",
       "}\n",
       "\n",
       "#sk-container-id-2 input.sk-toggleable__control:checked~div.sk-toggleable__content {\n",
       "  /* Expand drop-down */\n",
       "  max-height: 200px;\n",
       "  max-width: 100%;\n",
       "  overflow: auto;\n",
       "}\n",
       "\n",
       "#sk-container-id-2 input.sk-toggleable__control:checked~label.sk-toggleable__label-arrow:before {\n",
       "  content: \"▾\";\n",
       "}\n",
       "\n",
       "/* Pipeline/ColumnTransformer-specific style */\n",
       "\n",
       "#sk-container-id-2 div.sk-label input.sk-toggleable__control:checked~label.sk-toggleable__label {\n",
       "  color: var(--sklearn-color-text);\n",
       "  background-color: var(--sklearn-color-unfitted-level-2);\n",
       "}\n",
       "\n",
       "#sk-container-id-2 div.sk-label.fitted input.sk-toggleable__control:checked~label.sk-toggleable__label {\n",
       "  background-color: var(--sklearn-color-fitted-level-2);\n",
       "}\n",
       "\n",
       "/* Estimator-specific style */\n",
       "\n",
       "/* Colorize estimator box */\n",
       "#sk-container-id-2 div.sk-estimator input.sk-toggleable__control:checked~label.sk-toggleable__label {\n",
       "  /* unfitted */\n",
       "  background-color: var(--sklearn-color-unfitted-level-2);\n",
       "}\n",
       "\n",
       "#sk-container-id-2 div.sk-estimator.fitted input.sk-toggleable__control:checked~label.sk-toggleable__label {\n",
       "  /* fitted */\n",
       "  background-color: var(--sklearn-color-fitted-level-2);\n",
       "}\n",
       "\n",
       "#sk-container-id-2 div.sk-label label.sk-toggleable__label,\n",
       "#sk-container-id-2 div.sk-label label {\n",
       "  /* The background is the default theme color */\n",
       "  color: var(--sklearn-color-text-on-default-background);\n",
       "}\n",
       "\n",
       "/* On hover, darken the color of the background */\n",
       "#sk-container-id-2 div.sk-label:hover label.sk-toggleable__label {\n",
       "  color: var(--sklearn-color-text);\n",
       "  background-color: var(--sklearn-color-unfitted-level-2);\n",
       "}\n",
       "\n",
       "/* Label box, darken color on hover, fitted */\n",
       "#sk-container-id-2 div.sk-label.fitted:hover label.sk-toggleable__label.fitted {\n",
       "  color: var(--sklearn-color-text);\n",
       "  background-color: var(--sklearn-color-fitted-level-2);\n",
       "}\n",
       "\n",
       "/* Estimator label */\n",
       "\n",
       "#sk-container-id-2 div.sk-label label {\n",
       "  font-family: monospace;\n",
       "  font-weight: bold;\n",
       "  display: inline-block;\n",
       "  line-height: 1.2em;\n",
       "}\n",
       "\n",
       "#sk-container-id-2 div.sk-label-container {\n",
       "  text-align: center;\n",
       "}\n",
       "\n",
       "/* Estimator-specific */\n",
       "#sk-container-id-2 div.sk-estimator {\n",
       "  font-family: monospace;\n",
       "  border: 1px dotted var(--sklearn-color-border-box);\n",
       "  border-radius: 0.25em;\n",
       "  box-sizing: border-box;\n",
       "  margin-bottom: 0.5em;\n",
       "  /* unfitted */\n",
       "  background-color: var(--sklearn-color-unfitted-level-0);\n",
       "}\n",
       "\n",
       "#sk-container-id-2 div.sk-estimator.fitted {\n",
       "  /* fitted */\n",
       "  background-color: var(--sklearn-color-fitted-level-0);\n",
       "}\n",
       "\n",
       "/* on hover */\n",
       "#sk-container-id-2 div.sk-estimator:hover {\n",
       "  /* unfitted */\n",
       "  background-color: var(--sklearn-color-unfitted-level-2);\n",
       "}\n",
       "\n",
       "#sk-container-id-2 div.sk-estimator.fitted:hover {\n",
       "  /* fitted */\n",
       "  background-color: var(--sklearn-color-fitted-level-2);\n",
       "}\n",
       "\n",
       "/* Specification for estimator info (e.g. \"i\" and \"?\") */\n",
       "\n",
       "/* Common style for \"i\" and \"?\" */\n",
       "\n",
       ".sk-estimator-doc-link,\n",
       "a:link.sk-estimator-doc-link,\n",
       "a:visited.sk-estimator-doc-link {\n",
       "  float: right;\n",
       "  font-size: smaller;\n",
       "  line-height: 1em;\n",
       "  font-family: monospace;\n",
       "  background-color: var(--sklearn-color-background);\n",
       "  border-radius: 1em;\n",
       "  height: 1em;\n",
       "  width: 1em;\n",
       "  text-decoration: none !important;\n",
       "  margin-left: 1ex;\n",
       "  /* unfitted */\n",
       "  border: var(--sklearn-color-unfitted-level-1) 1pt solid;\n",
       "  color: var(--sklearn-color-unfitted-level-1);\n",
       "}\n",
       "\n",
       ".sk-estimator-doc-link.fitted,\n",
       "a:link.sk-estimator-doc-link.fitted,\n",
       "a:visited.sk-estimator-doc-link.fitted {\n",
       "  /* fitted */\n",
       "  border: var(--sklearn-color-fitted-level-1) 1pt solid;\n",
       "  color: var(--sklearn-color-fitted-level-1);\n",
       "}\n",
       "\n",
       "/* On hover */\n",
       "div.sk-estimator:hover .sk-estimator-doc-link:hover,\n",
       ".sk-estimator-doc-link:hover,\n",
       "div.sk-label-container:hover .sk-estimator-doc-link:hover,\n",
       ".sk-estimator-doc-link:hover {\n",
       "  /* unfitted */\n",
       "  background-color: var(--sklearn-color-unfitted-level-3);\n",
       "  color: var(--sklearn-color-background);\n",
       "  text-decoration: none;\n",
       "}\n",
       "\n",
       "div.sk-estimator.fitted:hover .sk-estimator-doc-link.fitted:hover,\n",
       ".sk-estimator-doc-link.fitted:hover,\n",
       "div.sk-label-container:hover .sk-estimator-doc-link.fitted:hover,\n",
       ".sk-estimator-doc-link.fitted:hover {\n",
       "  /* fitted */\n",
       "  background-color: var(--sklearn-color-fitted-level-3);\n",
       "  color: var(--sklearn-color-background);\n",
       "  text-decoration: none;\n",
       "}\n",
       "\n",
       "/* Span, style for the box shown on hovering the info icon */\n",
       ".sk-estimator-doc-link span {\n",
       "  display: none;\n",
       "  z-index: 9999;\n",
       "  position: relative;\n",
       "  font-weight: normal;\n",
       "  right: .2ex;\n",
       "  padding: .5ex;\n",
       "  margin: .5ex;\n",
       "  width: min-content;\n",
       "  min-width: 20ex;\n",
       "  max-width: 50ex;\n",
       "  color: var(--sklearn-color-text);\n",
       "  box-shadow: 2pt 2pt 4pt #999;\n",
       "  /* unfitted */\n",
       "  background: var(--sklearn-color-unfitted-level-0);\n",
       "  border: .5pt solid var(--sklearn-color-unfitted-level-3);\n",
       "}\n",
       "\n",
       ".sk-estimator-doc-link.fitted span {\n",
       "  /* fitted */\n",
       "  background: var(--sklearn-color-fitted-level-0);\n",
       "  border: var(--sklearn-color-fitted-level-3);\n",
       "}\n",
       "\n",
       ".sk-estimator-doc-link:hover span {\n",
       "  display: block;\n",
       "}\n",
       "\n",
       "/* \"?\"-specific style due to the `<a>` HTML tag */\n",
       "\n",
       "#sk-container-id-2 a.estimator_doc_link {\n",
       "  float: right;\n",
       "  font-size: 1rem;\n",
       "  line-height: 1em;\n",
       "  font-family: monospace;\n",
       "  background-color: var(--sklearn-color-background);\n",
       "  border-radius: 1rem;\n",
       "  height: 1rem;\n",
       "  width: 1rem;\n",
       "  text-decoration: none;\n",
       "  /* unfitted */\n",
       "  color: var(--sklearn-color-unfitted-level-1);\n",
       "  border: var(--sklearn-color-unfitted-level-1) 1pt solid;\n",
       "}\n",
       "\n",
       "#sk-container-id-2 a.estimator_doc_link.fitted {\n",
       "  /* fitted */\n",
       "  border: var(--sklearn-color-fitted-level-1) 1pt solid;\n",
       "  color: var(--sklearn-color-fitted-level-1);\n",
       "}\n",
       "\n",
       "/* On hover */\n",
       "#sk-container-id-2 a.estimator_doc_link:hover {\n",
       "  /* unfitted */\n",
       "  background-color: var(--sklearn-color-unfitted-level-3);\n",
       "  color: var(--sklearn-color-background);\n",
       "  text-decoration: none;\n",
       "}\n",
       "\n",
       "#sk-container-id-2 a.estimator_doc_link.fitted:hover {\n",
       "  /* fitted */\n",
       "  background-color: var(--sklearn-color-fitted-level-3);\n",
       "}\n",
       "</style><div id=\"sk-container-id-2\" class=\"sk-top-container\"><div class=\"sk-text-repr-fallback\"><pre>Pipeline(steps=[(&#x27;vectorizer&#x27;,\n",
       "                 &lt;mne.decoding.transformer.Vectorizer object at 0x0000023CD1B83BB0&gt;),\n",
       "                (&#x27;randomforestclassifier&#x27;, RandomForestClassifier())])</pre><b>In a Jupyter environment, please rerun this cell to show the HTML representation or trust the notebook. <br />On GitHub, the HTML representation is unable to render, please try loading this page with nbviewer.org.</b></div><div class=\"sk-container\" hidden><div class=\"sk-item sk-dashed-wrapped\"><div class=\"sk-label-container\"><div class=\"sk-label fitted sk-toggleable\"><input class=\"sk-toggleable__control sk-hidden--visually\" id=\"sk-estimator-id-4\" type=\"checkbox\" ><label for=\"sk-estimator-id-4\" class=\"sk-toggleable__label fitted sk-toggleable__label-arrow fitted\">&nbsp;&nbsp;Pipeline<a class=\"sk-estimator-doc-link fitted\" rel=\"noreferrer\" target=\"_blank\" href=\"https://scikit-learn.org/1.5/modules/generated/sklearn.pipeline.Pipeline.html\">?<span>Documentation for Pipeline</span></a><span class=\"sk-estimator-doc-link fitted\">i<span>Fitted</span></span></label><div class=\"sk-toggleable__content fitted\"><pre>Pipeline(steps=[(&#x27;vectorizer&#x27;,\n",
       "                 &lt;mne.decoding.transformer.Vectorizer object at 0x0000023CD1B83BB0&gt;),\n",
       "                (&#x27;randomforestclassifier&#x27;, RandomForestClassifier())])</pre></div> </div></div><div class=\"sk-serial\"><div class=\"sk-item\"><div class=\"sk-estimator fitted sk-toggleable\"><input class=\"sk-toggleable__control sk-hidden--visually\" id=\"sk-estimator-id-5\" type=\"checkbox\" ><label for=\"sk-estimator-id-5\" class=\"sk-toggleable__label fitted sk-toggleable__label-arrow fitted\">Vectorizer</label><div class=\"sk-toggleable__content fitted\"><pre>&lt;mne.decoding.transformer.Vectorizer object at 0x0000023CD1B83BB0&gt;</pre></div> </div></div><div class=\"sk-item\"><div class=\"sk-estimator fitted sk-toggleable\"><input class=\"sk-toggleable__control sk-hidden--visually\" id=\"sk-estimator-id-6\" type=\"checkbox\" ><label for=\"sk-estimator-id-6\" class=\"sk-toggleable__label fitted sk-toggleable__label-arrow fitted\">&nbsp;RandomForestClassifier<a class=\"sk-estimator-doc-link fitted\" rel=\"noreferrer\" target=\"_blank\" href=\"https://scikit-learn.org/1.5/modules/generated/sklearn.ensemble.RandomForestClassifier.html\">?<span>Documentation for RandomForestClassifier</span></a></label><div class=\"sk-toggleable__content fitted\"><pre>RandomForestClassifier()</pre></div> </div></div></div></div></div></div>"
      ]
     },
     "execution_count": 98,
     "metadata": {},
     "output_type": "execute_result"
    }
   ],
   "execution_count": 98
  },
  {
   "metadata": {
    "ExecuteTime": {
     "end_time": "2024-06-05T13:37:54.783340Z",
     "start_time": "2024-06-05T13:37:51.791395Z"
    }
   },
   "cell_type": "code",
   "source": [
    "test_index = 0  # Use the first training data point for prediction\n",
    "test_sample = X[test_index].reshape(1, -1)  # Reshape to (1, n_features)\n",
    "predicted_label = clf.predict(test_sample)\n",
    "actual_label = y[test_index]\n",
    "print(f\"Predicted label: {predicted_label[0]}, Actual label: {actual_label}\")"
   ],
   "id": "416c64cad30d70c8",
   "outputs": [
    {
     "ename": "NameError",
     "evalue": "name 'clf' is not defined",
     "output_type": "error",
     "traceback": [
      "\u001B[1;31m---------------------------------------------------------------------------\u001B[0m",
      "\u001B[1;31mNameError\u001B[0m                                 Traceback (most recent call last)",
      "Cell \u001B[1;32mIn[30], line 3\u001B[0m\n\u001B[0;32m      1\u001B[0m test_index \u001B[38;5;241m=\u001B[39m \u001B[38;5;241m0\u001B[39m  \u001B[38;5;66;03m# Use the first training data point for prediction\u001B[39;00m\n\u001B[0;32m      2\u001B[0m test_sample \u001B[38;5;241m=\u001B[39m X[test_index]\u001B[38;5;241m.\u001B[39mreshape(\u001B[38;5;241m1\u001B[39m, \u001B[38;5;241m-\u001B[39m\u001B[38;5;241m1\u001B[39m)  \u001B[38;5;66;03m# Reshape to (1, n_features)\u001B[39;00m\n\u001B[1;32m----> 3\u001B[0m predicted_label \u001B[38;5;241m=\u001B[39m \u001B[43mclf\u001B[49m\u001B[38;5;241m.\u001B[39mpredict(test_sample)\n\u001B[0;32m      4\u001B[0m actual_label \u001B[38;5;241m=\u001B[39m y[test_index]\n\u001B[0;32m      5\u001B[0m \u001B[38;5;28mprint\u001B[39m(\u001B[38;5;124mf\u001B[39m\u001B[38;5;124m\"\u001B[39m\u001B[38;5;124mPredicted label: \u001B[39m\u001B[38;5;132;01m{\u001B[39;00mpredicted_label[\u001B[38;5;241m0\u001B[39m]\u001B[38;5;132;01m}\u001B[39;00m\u001B[38;5;124m, Actual label: \u001B[39m\u001B[38;5;132;01m{\u001B[39;00mactual_label\u001B[38;5;132;01m}\u001B[39;00m\u001B[38;5;124m\"\u001B[39m)\n",
      "\u001B[1;31mNameError\u001B[0m: name 'clf' is not defined"
     ]
    }
   ],
   "execution_count": 30
  },
  {
   "metadata": {
    "ExecuteTime": {
     "end_time": "2024-06-04T20:32:46.201296Z",
     "start_time": "2024-06-04T20:32:46.185672Z"
    }
   },
   "cell_type": "code",
   "source": [
    "# Save the model as a pickle file\n",
    "with open('classifier_model.pkl', 'wb') as f:\n",
    "    pickle.dump(clf, f)"
   ],
   "id": "858816cde7e13577",
   "outputs": [],
   "execution_count": 100
  },
  {
   "metadata": {
    "ExecuteTime": {
     "end_time": "2024-06-03T18:22:23.569233Z",
     "start_time": "2024-06-03T18:22:23.553605Z"
    }
   },
   "cell_type": "code",
   "source": "# -----------------------Evoked-----------------------------------------------------------------------------------------",
   "id": "527ea8fc69842458",
   "outputs": [],
   "execution_count": 57
  },
  {
   "metadata": {
    "ExecuteTime": {
     "end_time": "2024-06-03T21:45:44.331970Z",
     "start_time": "2024-06-03T21:45:44.324104Z"
    }
   },
   "cell_type": "code",
   "source": [
    "# root = mne.datasets.sample.data_path() / \"MEG\" / \"sample\"\n",
    "# evoked_file = root / \"sample_audvis-ave.fif\"\n",
    "# evokeds_list = mne.read_evokeds(\n",
    "#     evoked_file, baseline=(None, 0), proj=True, verbose=False\n",
    "# )\n",
    "# \n",
    "# # Show condition names and baseline intervals\n",
    "# for e in evokeds_list:\n",
    "#     print(f\"Condition: {e.comment}, baseline: {e.baseline}\")\n",
    "#     \n",
    "# conds = (\"aud/left\", \"aud/right\", \"vis/left\", \"vis/right\")\n",
    "# evks = dict(zip(conds, evokeds_list))"
   ],
   "id": "e984b3b2c4bc0d60",
   "outputs": [],
   "execution_count": 33
  },
  {
   "metadata": {
    "ExecuteTime": {
     "end_time": "2024-06-03T21:45:48.117607Z",
     "start_time": "2024-06-03T21:45:48.095701Z"
    }
   },
   "cell_type": "code",
   "source": "# evoked_file",
   "id": "7a5573559c2cf97d",
   "outputs": [],
   "execution_count": 35
  },
  {
   "metadata": {
    "ExecuteTime": {
     "end_time": "2024-06-03T21:45:46.772237Z",
     "start_time": "2024-06-03T21:45:46.760236Z"
    }
   },
   "cell_type": "code",
   "source": "# evks",
   "id": "be9819653d97952e",
   "outputs": [],
   "execution_count": 34
  },
  {
   "cell_type": "code",
   "id": "952e46ae66efcf0f",
   "metadata": {
    "ExecuteTime": {
     "end_time": "2024-06-03T21:46:02.126131Z",
     "start_time": "2024-06-03T21:46:02.115737Z"
    }
   },
   "source": "# ------------------------------------------ Old code for creating epochs directly",
   "outputs": [],
   "execution_count": 36
  },
  {
   "cell_type": "code",
   "id": "61e0cadde559c024",
   "metadata": {
    "ExecuteTime": {
     "end_time": "2024-06-03T21:46:06.197648Z",
     "start_time": "2024-06-03T21:46:06.137378Z"
    }
   },
   "source": [
    "# # Perform an as of merge to find the closest earlier and later event_id\n",
    "# df_buffers['prev_event_id'] = pd.merge_asof(df_buffers, df_tasks,\n",
    "#                                             left_on='timestamps', right_on='timestamps',\n",
    "#                                             direction='backward')['event_ids']\n",
    "# \n",
    "# df_buffers['next_event_id'] = pd.merge_asof(df_buffers, df_tasks,\n",
    "#                                             left_on='timestamps', right_on='timestamps',\n",
    "#                                             direction='forward')['event_ids']\n",
    "# \n",
    "# markers = {\n",
    "#     'left_start': [1],\n",
    "#     'left_end': [2],\n",
    "#     'right_start': [3],\n",
    "#     'right_end': [4],\n",
    "#     'rest_start': [99],\n",
    "#     'rest_end': [100],\n",
    "#     'task_start': [-1],\n",
    "#     'task_end': [-2]\n",
    "# }\n",
    "# \n",
    "# def determine_phase(row):\n",
    "#     if row['prev_event_id'] in markers['left_start'] and row['next_event_id'] in markers['left_end']:\n",
    "#         return 'left'\n",
    "#     elif row['prev_event_id'] in markers['right_start'] and row['next_event_id'] in markers['right_end']:\n",
    "#         return 'right'\n",
    "#     elif row['prev_event_id'] in markers['rest_start'] and row['next_event_id'] in markers['rest_end']:\n",
    "#         return 'rest'\n",
    "#     else:\n",
    "#         return 'unknown'\n",
    "# \n",
    "# df_buffers['phase'] = df_buffers.apply(determine_phase, axis=1)\n",
    "# \n",
    "# grouped = df_buffers.groupby(['part_number', 'phase']).size().reset_index(name='count')\n",
    "# \n",
    "# sfreq = config.device_details['sfreq']\n",
    "# buffer_duration = config.epoch_information['duration']\n",
    "# \n",
    "# valid_phases = ['left', 'right', 'rest']\n"
   ],
   "outputs": [],
   "execution_count": 37
  },
  {
   "cell_type": "code",
   "id": "7ad92a6c20eba889",
   "metadata": {
    "ExecuteTime": {
     "end_time": "2024-06-03T21:46:11.224261Z",
     "start_time": "2024-06-03T21:46:11.213322Z"
    }
   },
   "source": "# df_buffers_filt = df_buffers[df_buffers['phase'].apply(lambda x: any(item in x for item in valid_phases))]",
   "outputs": [],
   "execution_count": 38
  },
  {
   "cell_type": "code",
   "id": "77d9a5d85f7ac7f9",
   "metadata": {
    "ExecuteTime": {
     "end_time": "2024-06-03T21:46:13.103591Z",
     "start_time": "2024-06-03T21:46:13.088595Z"
    }
   },
   "source": "# df_buffers_filt.loc[:,'phase_group'] = (df_buffers_filt['phase'] != df_buffers_filt['phase'].shift()).cumsum()",
   "outputs": [],
   "execution_count": 39
  },
  {
   "cell_type": "code",
   "id": "166d7c6d36dafea8",
   "metadata": {
    "ExecuteTime": {
     "end_time": "2024-06-03T21:46:15.149191Z",
     "start_time": "2024-06-03T21:46:15.131193Z"
    }
   },
   "source": "# df_phase_map = df_buffers_filt[['phase_group', 'phase']].drop_duplicates()",
   "outputs": [],
   "execution_count": 40
  },
  {
   "cell_type": "code",
   "id": "9c04167e5307a13e",
   "metadata": {
    "ExecuteTime": {
     "end_time": "2024-06-03T21:46:17.171830Z",
     "start_time": "2024-06-03T21:46:17.150836Z"
    }
   },
   "source": "# df_buffers_filt",
   "outputs": [],
   "execution_count": 41
  },
  {
   "cell_type": "code",
   "id": "4d3c46c506e84e1",
   "metadata": {
    "ExecuteTime": {
     "end_time": "2024-06-03T21:46:19.533406Z",
     "start_time": "2024-06-03T21:46:19.525391Z"
    }
   },
   "source": [
    "# def get_phase_name(phase_group_number):\n",
    "#     # Look up the phase group number in the DataFrame\n",
    "#     phase_name = df_phase_map.loc[df_phase_map['phase_group'] == phase_group_number, 'phase']\n",
    "#     \n",
    "#     # Check if the phase group number exists in the DataFrame\n",
    "#     if not phase_name.empty:\n",
    "#         return phase_name.values[0]\n",
    "#     else:\n",
    "#         return \"Invalid phase group number\""
   ],
   "outputs": [],
   "execution_count": 42
  },
  {
   "cell_type": "code",
   "id": "7d07f809f42bf4bd",
   "metadata": {
    "ExecuteTime": {
     "end_time": "2024-06-03T21:46:22.704815Z",
     "start_time": "2024-06-03T21:46:22.697838Z"
    }
   },
   "source": [
    "# val_sel_columns = config.device_details['relevant_channels_from_device']\n",
    "# columns_to_select = df_buffers.columns[:val_sel_columns].tolist() + ['part_number', 'timestamps', 'phase', 'phase_group']\n",
    "# df_buffers_filt = df_buffers_filt[columns_to_select]"
   ],
   "outputs": [],
   "execution_count": 43
  },
  {
   "cell_type": "code",
   "id": "f5f14f1ffbeb7ed6",
   "metadata": {
    "ExecuteTime": {
     "end_time": "2024-06-03T21:46:35.395254Z",
     "start_time": "2024-06-03T21:46:35.383251Z"
    }
   },
   "source": [
    "# rename_dict = {old_name: new_name for old_name, new_name in zip(df_buffers_filt.columns[:val_sel_columns], channel_names)}\n",
    "# df_buffers_renamed = df_buffers_filt.rename(columns=rename_dict)"
   ],
   "outputs": [],
   "execution_count": 45
  },
  {
   "cell_type": "code",
   "id": "5beb3f7eb0d3f32",
   "metadata": {
    "ExecuteTime": {
     "end_time": "2024-06-03T21:46:37.752372Z",
     "start_time": "2024-06-03T21:46:37.739371Z"
    }
   },
   "source": "# df_buffers_renamed[channel_names] = df_buffers_renamed[channel_names].values * 1e-6",
   "outputs": [],
   "execution_count": 46
  },
  {
   "cell_type": "code",
   "id": "3f61d57b591d389f",
   "metadata": {
    "ExecuteTime": {
     "end_time": "2024-06-03T21:46:44.335725Z",
     "start_time": "2024-06-03T21:46:44.320724Z"
    }
   },
   "source": "# df_tasks",
   "outputs": [],
   "execution_count": 47
  },
  {
   "cell_type": "code",
   "id": "14957b92fbfcb0ff",
   "metadata": {
    "ExecuteTime": {
     "end_time": "2024-06-03T21:46:52.390471Z",
     "start_time": "2024-06-03T21:46:52.374185Z"
    }
   },
   "source": "# df_buffers_renamed",
   "outputs": [],
   "execution_count": 48
  },
  {
   "cell_type": "code",
   "execution_count": null,
   "id": "248c744831d1460e",
   "metadata": {},
   "outputs": [],
   "source": [
    "# # Creating epochs data\n",
    "# epochs_data = []\n",
    "# events = []\n",
    "# \n",
    "# event_id = {'left': 1, 'right': 2, 'rest': 3}\n",
    "# phases = ['left', 'right', 'rest']"
   ]
  },
  {
   "cell_type": "code",
   "execution_count": null,
   "id": "ea7e7501d7f28b3c",
   "metadata": {},
   "outputs": [],
   "source": [
    "max_shape = 0  # Initialize maximum shape\n",
    "\n",
    "for i, df_phase_group in df_buffers_renamed.groupby('phase_group'):\n",
    "    if get_phase_name(i) not in phases:\n",
    "        continue\n",
    "    data_array = df_phase_group[channel_names].values.T\n",
    "    max_shape = max(max_shape, data_array.shape[1])\n",
    "    epochs_data.append(data_array)\n",
    "    \n",
    "    phase_group = df_phase_group['phase_group'].iloc[0]\n",
    "    phase = df_phase_map[df_phase_map['phase_group'] == phase_group]['phase'].iloc[0]\n",
    "    event = event_id[phase]\n",
    "    \n",
    "    events.append([len(epochs_data) - 1, 0, event])"
   ]
  },
  {
   "cell_type": "code",
   "execution_count": null,
   "id": "3205388cfcf8f3ad",
   "metadata": {},
   "outputs": [],
   "source": [
    "events = np.array(events)"
   ]
  },
  {
   "cell_type": "code",
   "execution_count": null,
   "id": "87168f8986cb2512",
   "metadata": {},
   "outputs": [],
   "source": [
    "events"
   ]
  },
  {
   "cell_type": "code",
   "id": "de127a36a7979ab4",
   "metadata": {
    "ExecuteTime": {
     "end_time": "2024-06-03T21:47:15.274474Z",
     "start_time": "2024-06-03T21:47:15.253707Z"
    }
   },
   "source": [
    "# # Pad or truncate each epoch's data to match the maximum shape\n",
    "# for i, data_array in enumerate(epochs_data):\n",
    "#     current_shape = data_array.shape[1]\n",
    "#     if current_shape < max_shape:\n",
    "#         padding = ((0, 0), (0, max_shape - current_shape))\n",
    "#         epochs_data[i] = np.pad(data_array, padding, mode='constant')\n",
    "#     elif current_shape > max_shape:\n",
    "#         epochs_data[i] = data_array[:, :max_shape]\n",
    "# \n",
    "# # Convert epoch_data to numpy array\n",
    "# epochs_data = np.array(epochs_data)\n",
    "# \n",
    "# # Print the shape of epoch_data\n",
    "# print(\"Shape of epoch_data:\", epochs_data.shape)"
   ],
   "outputs": [],
   "execution_count": 49
  },
  {
   "cell_type": "code",
   "id": "727120b7196332ac",
   "metadata": {
    "ExecuteTime": {
     "end_time": "2024-06-03T21:47:16.773570Z",
     "start_time": "2024-06-03T21:47:16.769150Z"
    }
   },
   "source": [
    "# # Create MNE info structure\n",
    "# info = create_info(ch_names=channel_names, sfreq=config.device_details['sfreq'], ch_types='eeg')\n",
    "# \n",
    "# # Create MNE Epochs object\n",
    "# epochs = EpochsArray(epochs_data, info, events, event_id=event_id, tmin=0)"
   ],
   "outputs": [],
   "execution_count": 50
  },
  {
   "metadata": {},
   "cell_type": "code",
   "outputs": [],
   "execution_count": null,
   "source": "",
   "id": "d074967184be3a7e"
  },
  {
   "cell_type": "code",
   "execution_count": null,
   "id": "173a0ed6e6f6936b",
   "metadata": {},
   "outputs": [],
   "source": [
    "# X\n",
    "# y\n",
    "\n"
   ]
  }
 ],
 "metadata": {
  "kernelspec": {
   "display_name": "Python 3 (ipykernel)",
   "language": "python",
   "name": "python3"
  },
  "language_info": {
   "codemirror_mode": {
    "name": "ipython",
    "version": 3
   },
   "file_extension": ".py",
   "mimetype": "text/x-python",
   "name": "python",
   "nbconvert_exporter": "python",
   "pygments_lexer": "ipython3",
   "version": "3.10.9"
  }
 },
 "nbformat": 4,
 "nbformat_minor": 5
}
